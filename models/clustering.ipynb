{
  "nbformat": 4,
  "nbformat_minor": 0,
  "metadata": {
    "colab": {
      "name": "clustering.ipynb",
      "provenance": [],
      "collapsed_sections": [],
      "mount_file_id": "https://github.com/arashk1990/covid19mobility/blob/main/models/clustering.ipynb",
      "authorship_tag": "ABX9TyP9JRown1QmAiEJr0ABhFho"
    },
    "kernelspec": {
      "name": "python3",
      "display_name": "Python 3"
    },
    "language_info": {
      "name": "python"
    }
  },
  "cells": [
    {
      "cell_type": "code",
      "execution_count": 2,
      "metadata": {
        "id": "WrfjwOkBgiLv",
        "outputId": "6b68d598-a580-487d-9b30-b29cc6d3c6c0",
        "colab": {
          "base_uri": "https://localhost:8080/"
        }
      },
      "outputs": [
        {
          "output_type": "stream",
          "name": "stdout",
          "text": [
            "Looking in indexes: https://pypi.org/simple, https://us-python.pkg.dev/colab-wheels/public/simple/\n",
            "Collecting kneed\n",
            "  Downloading kneed-0.8.1-py2.py3-none-any.whl (10 kB)\n",
            "Requirement already satisfied: scipy>=1.0.0 in /usr/local/lib/python3.7/dist-packages (from kneed) (1.7.3)\n",
            "Requirement already satisfied: numpy>=1.14.2 in /usr/local/lib/python3.7/dist-packages (from kneed) (1.21.6)\n",
            "Installing collected packages: kneed\n",
            "Successfully installed kneed-0.8.1\n"
          ]
        }
      ],
      "source": [
        "!pip install kneed\n",
        "import pandas as pd\n",
        "import sklearn\n",
        "import numpy as np\n",
        "from sklearn.cluster import KMeans\n",
        "from sklearn.preprocessing import MinMaxScaler\n",
        "from sklearn.decomposition import PCA\n",
        "from sklearn.metrics import silhouette_score\n",
        "#from yellowbrick.cluster import SilhouetteVisualizer\n",
        "import matplotlib.pyplot as plt\n",
        "from kneed import KneeLocator\n",
        "import scipy.stats as stats\n"
      ]
    },
    {
      "cell_type": "code",
      "source": [
        "NTS_dummy = pd.read_csv('/content/drive/MyDrive/socio_pred/UKDA-5340-tab/NTS_v2.csv')\n",
        "NTS_dummy.shape"
      ],
      "metadata": {
        "colab": {
          "base_uri": "https://localhost:8080/"
        },
        "id": "O4amB0NH8pdi",
        "outputId": "0195e43e-24e1-4749-990d-389eadb4e633"
      },
      "execution_count": 3,
      "outputs": [
        {
          "output_type": "execute_result",
          "data": {
            "text/plain": [
              "(2445, 137)"
            ]
          },
          "metadata": {},
          "execution_count": 3
        }
      ]
    },
    {
      "cell_type": "code",
      "source": [
        "# replace NA with zero\n",
        "#na occurs for std of users with one trip, or count of users with no weekend trip\n",
        "NTS_dummy = NTS_dummy.fillna(0)"
      ],
      "metadata": {
        "id": "cvB65xJc60ba"
      },
      "execution_count": 4,
      "outputs": []
    },
    {
      "cell_type": "code",
      "source": [
        "mobility = NTS_dummy.iloc[:,38:]\n",
        "socio = NTS_dummy.drop(columns = ['IndividualID','SurveyYear']).iloc[:,0:36]"
      ],
      "metadata": {
        "id": "6KCdH3-wnPw7"
      },
      "execution_count": 5,
      "outputs": []
    },
    {
      "cell_type": "code",
      "source": [
        "socio_cols = {'age' : socio.columns[0:6],\n",
        "'sex' : socio.columns[6:8],\n",
        "'marital' : socio.columns[8:10],\n",
        "'income': socio.columns[10:13],\n",
        "'work': socio.columns[13:16],\n",
        "'hhincome': socio.columns[16:19],\n",
        "'hh_struc': socio.columns[19:25],\n",
        "'hh_work': socio.columns[25:28],\n",
        "'hh_socialclass': socio.columns[28:34],\n",
        "'urban_rural': socio.columns[34:36]}"
      ],
      "metadata": {
        "id": "UMeNnwUCQSmw"
      },
      "execution_count": 6,
      "outputs": []
    },
    {
      "cell_type": "markdown",
      "source": [
        "## K-means Clustering"
      ],
      "metadata": {
        "id": "iAvqXFaFnCXE"
      }
    },
    {
      "cell_type": "code",
      "source": [
        "#normalize\n",
        "x = mobility\n",
        "scaler = MinMaxScaler()\n",
        "x = scaler.fit_transform(x)\n",
        "#pca\n",
        "#keep 85% of variance explained by selected components\n",
        "pca = PCA(n_components=0.85)\n",
        "principalComponents = pca.fit_transform(x)\n",
        "pca.n_components_\n",
        "#11 components are selected"
      ],
      "metadata": {
        "colab": {
          "base_uri": "https://localhost:8080/"
        },
        "id": "SXLCOQ0lnBdA",
        "outputId": "eb6f0af5-5174-4d28-f5bf-29fddda53c7b"
      },
      "execution_count": 7,
      "outputs": [
        {
          "output_type": "execute_result",
          "data": {
            "text/plain": [
              "10"
            ]
          },
          "metadata": {},
          "execution_count": 7
        }
      ]
    },
    {
      "cell_type": "code",
      "source": [
        "# number of clusters\n",
        " \n",
        "def elbow(pcs):\n",
        "\n",
        "  kmeans_kwargs = {\n",
        "      \"init\": \"random\",\n",
        "      \"n_init\": 10,\n",
        "      \"max_iter\": 300,\n",
        "      \"random_state\": 42,\n",
        "  }\n",
        "\n",
        "  # A list holds the SSE values for each k\n",
        "  sse = []\n",
        "  #fig, ax = plt.subplots(10, 2, figsize=(15,16))\n",
        "\n",
        "  max_cluster = min(20,pcs.shape[0])\n",
        "  for k in range(2, max_cluster):\n",
        "      kmeans = KMeans(n_clusters=k, **kmeans_kwargs)\n",
        "      kmeans.fit(pcs)\n",
        "      cluster_labels = kmeans.fit_predict(pcs)\n",
        "      silhouette_avg = silhouette_score(pcs, cluster_labels)\n",
        "      print(\n",
        "        \"For n_clusters =\",\n",
        "        k,\n",
        "        \"The average silhouette_score is :\",\n",
        "        silhouette_avg,\n",
        "    )\n",
        "      sse.append(kmeans.inertia_)\n",
        "      # q, mod = divmod(k, 2)\n",
        "      # '''\n",
        "      # Create SilhouetteVisualizer instance with KMeans instance\n",
        "      # Fit the visualizer\n",
        "      # '''\n",
        "      # visualizer = SilhouetteVisualizer(kmeans, colors='yellowbrick', ax=ax[q-1][mod])\n",
        "      # visualizer.fit(features)\n",
        "\n",
        "  plt.style.use(\"fivethirtyeight\")\n",
        "  plt.plot(range(2, max_cluster), sse)\n",
        "  plt.xticks(range(2, max_cluster,5))\n",
        "  plt.xlabel(\"Number of Clusters\")\n",
        "  plt.ylabel(\"SSE\")\n",
        "  plt.show()\n",
        "\n",
        "  kl = KneeLocator(\n",
        "    range(2, max_cluster), sse, curve=\"convex\", direction=\"decreasing\"\n",
        "  )\n",
        "  print('Number of clusters is:',  kl.elbow)\n",
        "  return \n",
        "\n",
        "elbow(principalComponents)"
      ],
      "metadata": {
        "colab": {
          "base_uri": "https://localhost:8080/",
          "height": 634
        },
        "id": "Qcv9PMhYpfkA",
        "outputId": "67d744bc-5018-4e0c-e36a-d97e6402c964"
      },
      "execution_count": 9,
      "outputs": [
        {
          "output_type": "stream",
          "name": "stdout",
          "text": [
            "For n_clusters = 2 The average silhouette_score is : 0.20917449418433\n",
            "For n_clusters = 3 The average silhouette_score is : 0.21355966538604942\n",
            "For n_clusters = 4 The average silhouette_score is : 0.17468546620891723\n",
            "For n_clusters = 5 The average silhouette_score is : 0.16692001350256278\n",
            "For n_clusters = 6 The average silhouette_score is : 0.16507830897619977\n",
            "For n_clusters = 7 The average silhouette_score is : 0.16921417254442642\n",
            "For n_clusters = 8 The average silhouette_score is : 0.17270198149699223\n",
            "For n_clusters = 9 The average silhouette_score is : 0.16305839032478828\n",
            "For n_clusters = 10 The average silhouette_score is : 0.16784789680626452\n",
            "For n_clusters = 11 The average silhouette_score is : 0.16782829565915588\n",
            "For n_clusters = 12 The average silhouette_score is : 0.17103453349914247\n",
            "For n_clusters = 13 The average silhouette_score is : 0.16599178508348078\n",
            "For n_clusters = 14 The average silhouette_score is : 0.16374571131288063\n",
            "For n_clusters = 15 The average silhouette_score is : 0.15975320815305097\n",
            "For n_clusters = 16 The average silhouette_score is : 0.15815508786794463\n",
            "For n_clusters = 17 The average silhouette_score is : 0.16254646715260224\n",
            "For n_clusters = 18 The average silhouette_score is : 0.16230086805909155\n",
            "For n_clusters = 19 The average silhouette_score is : 0.16576046447816772\n"
          ]
        },
        {
          "output_type": "display_data",
          "data": {
            "text/plain": [
              "<Figure size 432x288 with 1 Axes>"
            ],
            "image/png": "[encoded data removed]"
          },
          "metadata": {}
        },
        {
          "output_type": "stream",
          "name": "stdout",
          "text": [
            "Number of clusters is: 8\n"
          ]
        }
      ]
    },
    {
      "cell_type": "code",
      "source": [
        "#kmeans function\n",
        "def kplot(pcs,k):\n",
        "\n",
        "  kmeans_kwargs = {\n",
        "    \"init\": \"random\",\n",
        "    \"n_init\": 10,\n",
        "    \"max_iter\": 300,\n",
        "    \"random_state\": 42,\n",
        "  }\n",
        "\n",
        "  kmeans = KMeans(n_clusters=k, **kmeans_kwargs)\n",
        "  kmeans.fit(pcs)\n",
        "  cluster_labels = kmeans.fit_predict(pcs)\n",
        "  df = pd.DataFrame(pcs)\n",
        "  df['label'] = kmeans.labels_\n",
        "  \n",
        "  return df"
      ],
      "metadata": {
        "id": "5YeFRZDQhJ8J"
      },
      "execution_count": 10,
      "outputs": []
    },
    {
      "cell_type": "code",
      "source": [
        "pc_df = kplot(principalComponents,8)"
      ],
      "metadata": {
        "id": "ziNbzhtc3aTt"
      },
      "execution_count": 11,
      "outputs": []
    },
    {
      "cell_type": "code",
      "source": [
        "pc_df.groupby('label').size()"
      ],
      "metadata": {
        "colab": {
          "base_uri": "https://localhost:8080/"
        },
        "id": "PelFODyDrtJI",
        "outputId": "5ed0e0e4-ee0a-4605-dc93-81d7914b8100"
      },
      "execution_count": 12,
      "outputs": [
        {
          "output_type": "execute_result",
          "data": {
            "text/plain": [
              "label\n",
              "0    501\n",
              "1    278\n",
              "2    283\n",
              "3    579\n",
              "4    374\n",
              "5    236\n",
              "6     99\n",
              "7     95\n",
              "dtype: int64"
            ]
          },
          "metadata": {},
          "execution_count": 12
        }
      ]
    },
    {
      "cell_type": "code",
      "source": [
        "socio['label'] = pc_df['label']"
      ],
      "metadata": {
        "id": "HBb-EAqL1UhS"
      },
      "execution_count": 13,
      "outputs": []
    },
    {
      "cell_type": "markdown",
      "source": [
        "## Statistical Test for clusters\n"
      ],
      "metadata": {
        "id": "MwVOHpACVP0N"
      }
    },
    {
      "cell_type": "code",
      "source": [
        "def chi2stat(df,var):\n",
        "  df = df.groupby('label').sum()[var]\n",
        "  #for chi2 test, min freq should be at least 5\n",
        "  var2 = (df>4).all()[(df>4).all()==True].index \n",
        "  \n",
        "  chi2 = stats.chi2_contingency(df[var2])\n",
        "  if len(var2)<2:\n",
        "    print('Not enough data')\n",
        "  print('P_value: ',chi2[1])\n",
        "  return\n"
      ],
      "metadata": {
        "id": "fgwPr9Atf3Rr"
      },
      "execution_count": 14,
      "outputs": []
    },
    {
      "cell_type": "code",
      "source": [
        "vars = socio_cols.keys()\n",
        "\n",
        "for v in vars:\n",
        "  print(v)\n",
        "  chi2stat(socio,socio_cols[v])\n",
        "  print('-----')\n",
        "  "
      ],
      "metadata": {
        "colab": {
          "base_uri": "https://localhost:8080/"
        },
        "id": "Qtm3FJdylO3f",
        "outputId": "9fc1e8fa-791c-49da-bc72-ca10fc2655f5"
      },
      "execution_count": 15,
      "outputs": [
        {
          "output_type": "stream",
          "name": "stdout",
          "text": [
            "age\n",
            "P_value:  1.0287766489807455e-36\n",
            "-----\n",
            "sex\n",
            "P_value:  1.279439514885214e-13\n",
            "-----\n",
            "marital\n",
            "P_value:  0.0008835886289511929\n",
            "-----\n",
            "income\n",
            "P_value:  5.195037571929372e-29\n",
            "-----\n",
            "work\n",
            "P_value:  3.619376169834287e-66\n",
            "-----\n",
            "hhincome\n",
            "P_value:  3.2089046116000462e-27\n",
            "-----\n",
            "hh_struc\n",
            "P_value:  5.346355693551822e-12\n",
            "-----\n",
            "hh_work\n",
            "P_value:  7.216282350223503e-42\n",
            "-----\n",
            "hh_socialclass\n",
            "P_value:  1.1816241713696507e-41\n",
            "-----\n",
            "urban_rural\n",
            "P_value:  0.007761321264146574\n",
            "-----\n"
          ]
        }
      ]
    },
    {
      "cell_type": "markdown",
      "source": [
        "All sociodemographic variables are significantly different among clusters"
      ],
      "metadata": {
        "id": "EWthUGZ41oG2"
      }
    },
    {
      "cell_type": "markdown",
      "source": [
        "# COMPARE Sociodemographics among clusters"
      ],
      "metadata": {
        "id": "eTl2-v1M5C8S"
      }
    },
    {
      "cell_type": "code",
      "source": [
        "#AGE\n",
        "# convert dummy to mean of band\n",
        "tmp_df = pd.DataFrame()\n",
        "tmp_df['age_band'] = socio[socio_cols['age']].idxmax(axis=1)\n",
        "\n",
        "age_dict = {'Age_B04ID_4':\t18.5, \n",
        "'Age_B04ID_5':\t25,\n",
        "'Age_B04ID_6':\t35,\n",
        "'Age_B04ID_7':\t45,\n",
        "'Age_B04ID_8':\t55,\n",
        "'Age_B04ID_9':\t65}\n",
        "for n in age_dict.keys():\n",
        "  socio.loc[tmp_df[\"age_band\"] == n, \"AGE\"] = age_dict[n]\n",
        "\n"
      ],
      "metadata": {
        "id": "vkTXJ9qmBoMA"
      },
      "execution_count": 67,
      "outputs": []
    },
    {
      "cell_type": "code",
      "source": [
        "socio[['AGE','label']].groupby('label').mean()"
      ],
      "metadata": {
        "id": "pp_9taDR8QmV",
        "outputId": "cb19b09d-ded4-4610-b351-12b3c4934b8b",
        "colab": {
          "base_uri": "https://localhost:8080/",
          "height": 332
        }
      },
      "execution_count": 83,
      "outputs": [
        {
          "output_type": "execute_result",
          "data": {
            "text/plain": [
              "             AGE\n",
              "label           \n",
              "0      55.173653\n",
              "1      45.266187\n",
              "2      51.339223\n",
              "3      46.219344\n",
              "4      49.895722\n",
              "5      53.264831\n",
              "6      51.065657\n",
              "7      45.110526"
            ],
            "text/html": [
              "\n",
              "  <div id=\"df-587d6b41-981c-456a-b8ef-b37d8aa0bba2\">\n",
              "    <div class=\"colab-df-container\">\n",
              "      <div>\n",
              "<style scoped>\n",
              "    .dataframe tbody tr th:only-of-type {\n",
              "        vertical-align: middle;\n",
              "    }\n",
              "\n",
              "    .dataframe tbody tr th {\n",
              "        vertical-align: top;\n",
              "    }\n",
              "\n",
              "    .dataframe thead th {\n",
              "        text-align: right;\n",
              "    }\n",
              "</style>\n",
              "<table border=\"1\" class=\"dataframe\">\n",
              "  <thead>\n",
              "    <tr style=\"text-align: right;\">\n",
              "      <th></th>\n",
              "      <th>AGE</th>\n",
              "    </tr>\n",
              "    <tr>\n",
              "      <th>label</th>\n",
              "      <th></th>\n",
              "    </tr>\n",
              "  </thead>\n",
              "  <tbody>\n",
              "    <tr>\n",
              "      <th>0</th>\n",
              "      <td>55.173653</td>\n",
              "    </tr>\n",
              "    <tr>\n",
              "      <th>1</th>\n",
              "      <td>45.266187</td>\n",
              "    </tr>\n",
              "    <tr>\n",
              "      <th>2</th>\n",
              "      <td>51.339223</td>\n",
              "    </tr>\n",
              "    <tr>\n",
              "      <th>3</th>\n",
              "      <td>46.219344</td>\n",
              "    </tr>\n",
              "    <tr>\n",
              "      <th>4</th>\n",
              "      <td>49.895722</td>\n",
              "    </tr>\n",
              "    <tr>\n",
              "      <th>5</th>\n",
              "      <td>53.264831</td>\n",
              "    </tr>\n",
              "    <tr>\n",
              "      <th>6</th>\n",
              "      <td>51.065657</td>\n",
              "    </tr>\n",
              "    <tr>\n",
              "      <th>7</th>\n",
              "      <td>45.110526</td>\n",
              "    </tr>\n",
              "  </tbody>\n",
              "</table>\n",
              "</div>\n",
              "      <button class=\"colab-df-convert\" onclick=\"convertToInteractive('df-587d6b41-981c-456a-b8ef-b37d8aa0bba2')\"\n",
              "              title=\"Convert this dataframe to an interactive table.\"\n",
              "              style=\"display:none;\">\n",
              "        \n",
              "  <svg xmlns=\"http://www.w3.org/2000/svg\" height=\"24px\"viewBox=\"0 0 24 24\"\n",
              "       width=\"24px\">\n",
              "    <path d=\"M0 0h24v24H0V0z\" fill=\"none\"/>\n",
              "    <path d=\"M18.56 5.44l.94 2.06.94-2.06 2.06-.94-2.06-.94-.94-2.06-.94 2.06-2.06.94zm-11 1L8.5 8.5l.94-2.06 2.06-.94-2.06-.94L8.5 2.5l-.94 2.06-2.06.94zm10 10l.94 2.06.94-2.06 2.06-.94-2.06-.94-.94-2.06-.94 2.06-2.06.94z\"/><path d=\"M17.41 7.96l-1.37-1.37c-.4-.4-.92-.59-1.43-.59-.52 0-1.04.2-1.43.59L10.3 9.45l-7.72 7.72c-.78.78-.78 2.05 0 2.83L4 21.41c.39.39.9.59 1.41.59.51 0 1.02-.2 1.41-.59l7.78-7.78 2.81-2.81c.8-.78.8-2.07 0-2.86zM5.41 20L4 18.59l7.72-7.72 1.47 1.35L5.41 20z\"/>\n",
              "  </svg>\n",
              "      </button>\n",
              "      \n",
              "  <style>\n",
              "    .colab-df-container {\n",
              "      display:flex;\n",
              "      flex-wrap:wrap;\n",
              "      gap: 12px;\n",
              "    }\n",
              "\n",
              "    .colab-df-convert {\n",
              "      background-color: #E8F0FE;\n",
              "      border: none;\n",
              "      border-radius: 50%;\n",
              "      cursor: pointer;\n",
              "      display: none;\n",
              "      fill: #1967D2;\n",
              "      height: 32px;\n",
              "      padding: 0 0 0 0;\n",
              "      width: 32px;\n",
              "    }\n",
              "\n",
              "    .colab-df-convert:hover {\n",
              "      background-color: #E2EBFA;\n",
              "      box-shadow: 0px 1px 2px rgba(60, 64, 67, 0.3), 0px 1px 3px 1px rgba(60, 64, 67, 0.15);\n",
              "      fill: #174EA6;\n",
              "    }\n",
              "\n",
              "    [theme=dark] .colab-df-convert {\n",
              "      background-color: #3B4455;\n",
              "      fill: #D2E3FC;\n",
              "    }\n",
              "\n",
              "    [theme=dark] .colab-df-convert:hover {\n",
              "      background-color: #434B5C;\n",
              "      box-shadow: 0px 1px 3px 1px rgba(0, 0, 0, 0.15);\n",
              "      filter: drop-shadow(0px 1px 2px rgba(0, 0, 0, 0.3));\n",
              "      fill: #FFFFFF;\n",
              "    }\n",
              "  </style>\n",
              "\n",
              "      <script>\n",
              "        const buttonEl =\n",
              "          document.querySelector('#df-587d6b41-981c-456a-b8ef-b37d8aa0bba2 button.colab-df-convert');\n",
              "        buttonEl.style.display =\n",
              "          google.colab.kernel.accessAllowed ? 'block' : 'none';\n",
              "\n",
              "        async function convertToInteractive(key) {\n",
              "          const element = document.querySelector('#df-587d6b41-981c-456a-b8ef-b37d8aa0bba2');\n",
              "          const dataTable =\n",
              "            await google.colab.kernel.invokeFunction('convertToInteractive',\n",
              "                                                     [key], {});\n",
              "          if (!dataTable) return;\n",
              "\n",
              "          const docLinkHtml = 'Like what you see? Visit the ' +\n",
              "            '<a target=\"_blank\" href=https://colab.research.google.com/notebooks/data_table.ipynb>data table notebook</a>'\n",
              "            + ' to learn more about interactive tables.';\n",
              "          element.innerHTML = '';\n",
              "          dataTable['output_type'] = 'display_data';\n",
              "          await google.colab.output.renderOutput(dataTable, element);\n",
              "          const docLink = document.createElement('div');\n",
              "          docLink.innerHTML = docLinkHtml;\n",
              "          element.appendChild(docLink);\n",
              "        }\n",
              "      </script>\n",
              "    </div>\n",
              "  </div>\n",
              "  "
            ]
          },
          "metadata": {},
          "execution_count": 83
        }
      ]
    },
    {
      "cell_type": "code",
      "source": [
        "a = socio[['AGE','label']].groupby('label').mean()\n",
        "fig = plt.figure()\n",
        "ax = fig.add_axes([0,0,1,1])\n",
        "labels = a.index\n",
        "var = a.AGE\n",
        "ax.bar(labels,var)\n",
        "ax.set_title('average age per mobility label')\n",
        "plt.show()"
      ],
      "metadata": {
        "id": "4JouDonULjLC",
        "outputId": "569b6849-51d6-47f2-c3ed-a107ecbc36eb",
        "colab": {
          "base_uri": "https://localhost:8080/",
          "height": 357
        }
      },
      "execution_count": 87,
      "outputs": [
        {
          "output_type": "display_data",
          "data": {
            "text/plain": [
              "<Figure size 432x288 with 1 Axes>"
            ],
            "image/png": "[encoded data removed]"
          },
          "metadata": {}
        }
      ]
    },
    {
      "cell_type": "code",
      "source": [
        "socio[['AGE','label']].groupby('label').median()"
      ],
      "metadata": {
        "id": "3z5ifXecFH2V",
        "outputId": "b9dbe17b-5a64-4d82-a625-9211c02ea080",
        "colab": {
          "base_uri": "https://localhost:8080/",
          "height": 332
        }
      },
      "execution_count": 76,
      "outputs": [
        {
          "output_type": "execute_result",
          "data": {
            "text/plain": [
              "        AGE\n",
              "label      \n",
              "0      65.0\n",
              "1      45.0\n",
              "2      55.0\n",
              "3      45.0\n",
              "4      55.0\n",
              "5      55.0\n",
              "6      55.0\n",
              "7      45.0"
            ],
            "text/html": [
              "\n",
              "  <div id=\"df-362202b5-abbc-405c-a6f5-999f1acc2851\">\n",
              "    <div class=\"colab-df-container\">\n",
              "      <div>\n",
              "<style scoped>\n",
              "    .dataframe tbody tr th:only-of-type {\n",
              "        vertical-align: middle;\n",
              "    }\n",
              "\n",
              "    .dataframe tbody tr th {\n",
              "        vertical-align: top;\n",
              "    }\n",
              "\n",
              "    .dataframe thead th {\n",
              "        text-align: right;\n",
              "    }\n",
              "</style>\n",
              "<table border=\"1\" class=\"dataframe\">\n",
              "  <thead>\n",
              "    <tr style=\"text-align: right;\">\n",
              "      <th></th>\n",
              "      <th>AGE</th>\n",
              "    </tr>\n",
              "    <tr>\n",
              "      <th>label</th>\n",
              "      <th></th>\n",
              "    </tr>\n",
              "  </thead>\n",
              "  <tbody>\n",
              "    <tr>\n",
              "      <th>0</th>\n",
              "      <td>65.0</td>\n",
              "    </tr>\n",
              "    <tr>\n",
              "      <th>1</th>\n",
              "      <td>45.0</td>\n",
              "    </tr>\n",
              "    <tr>\n",
              "      <th>2</th>\n",
              "      <td>55.0</td>\n",
              "    </tr>\n",
              "    <tr>\n",
              "      <th>3</th>\n",
              "      <td>45.0</td>\n",
              "    </tr>\n",
              "    <tr>\n",
              "      <th>4</th>\n",
              "      <td>55.0</td>\n",
              "    </tr>\n",
              "    <tr>\n",
              "      <th>5</th>\n",
              "      <td>55.0</td>\n",
              "    </tr>\n",
              "    <tr>\n",
              "      <th>6</th>\n",
              "      <td>55.0</td>\n",
              "    </tr>\n",
              "    <tr>\n",
              "      <th>7</th>\n",
              "      <td>45.0</td>\n",
              "    </tr>\n",
              "  </tbody>\n",
              "</table>\n",
              "</div>\n",
              "      <button class=\"colab-df-convert\" onclick=\"convertToInteractive('df-362202b5-abbc-405c-a6f5-999f1acc2851')\"\n",
              "              title=\"Convert this dataframe to an interactive table.\"\n",
              "              style=\"display:none;\">\n",
              "        \n",
              "  <svg xmlns=\"http://www.w3.org/2000/svg\" height=\"24px\"viewBox=\"0 0 24 24\"\n",
              "       width=\"24px\">\n",
              "    <path d=\"M0 0h24v24H0V0z\" fill=\"none\"/>\n",
              "    <path d=\"M18.56 5.44l.94 2.06.94-2.06 2.06-.94-2.06-.94-.94-2.06-.94 2.06-2.06.94zm-11 1L8.5 8.5l.94-2.06 2.06-.94-2.06-.94L8.5 2.5l-.94 2.06-2.06.94zm10 10l.94 2.06.94-2.06 2.06-.94-2.06-.94-.94-2.06-.94 2.06-2.06.94z\"/><path d=\"M17.41 7.96l-1.37-1.37c-.4-.4-.92-.59-1.43-.59-.52 0-1.04.2-1.43.59L10.3 9.45l-7.72 7.72c-.78.78-.78 2.05 0 2.83L4 21.41c.39.39.9.59 1.41.59.51 0 1.02-.2 1.41-.59l7.78-7.78 2.81-2.81c.8-.78.8-2.07 0-2.86zM5.41 20L4 18.59l7.72-7.72 1.47 1.35L5.41 20z\"/>\n",
              "  </svg>\n",
              "      </button>\n",
              "      \n",
              "  <style>\n",
              "    .colab-df-container {\n",
              "      display:flex;\n",
              "      flex-wrap:wrap;\n",
              "      gap: 12px;\n",
              "    }\n",
              "\n",
              "    .colab-df-convert {\n",
              "      background-color: #E8F0FE;\n",
              "      border: none;\n",
              "      border-radius: 50%;\n",
              "      cursor: pointer;\n",
              "      display: none;\n",
              "      fill: #1967D2;\n",
              "      height: 32px;\n",
              "      padding: 0 0 0 0;\n",
              "      width: 32px;\n",
              "    }\n",
              "\n",
              "    .colab-df-convert:hover {\n",
              "      background-color: #E2EBFA;\n",
              "      box-shadow: 0px 1px 2px rgba(60, 64, 67, 0.3), 0px 1px 3px 1px rgba(60, 64, 67, 0.15);\n",
              "      fill: #174EA6;\n",
              "    }\n",
              "\n",
              "    [theme=dark] .colab-df-convert {\n",
              "      background-color: #3B4455;\n",
              "      fill: #D2E3FC;\n",
              "    }\n",
              "\n",
              "    [theme=dark] .colab-df-convert:hover {\n",
              "      background-color: #434B5C;\n",
              "      box-shadow: 0px 1px 3px 1px rgba(0, 0, 0, 0.15);\n",
              "      filter: drop-shadow(0px 1px 2px rgba(0, 0, 0, 0.3));\n",
              "      fill: #FFFFFF;\n",
              "    }\n",
              "  </style>\n",
              "\n",
              "      <script>\n",
              "        const buttonEl =\n",
              "          document.querySelector('#df-362202b5-abbc-405c-a6f5-999f1acc2851 button.colab-df-convert');\n",
              "        buttonEl.style.display =\n",
              "          google.colab.kernel.accessAllowed ? 'block' : 'none';\n",
              "\n",
              "        async function convertToInteractive(key) {\n",
              "          const element = document.querySelector('#df-362202b5-abbc-405c-a6f5-999f1acc2851');\n",
              "          const dataTable =\n",
              "            await google.colab.kernel.invokeFunction('convertToInteractive',\n",
              "                                                     [key], {});\n",
              "          if (!dataTable) return;\n",
              "\n",
              "          const docLinkHtml = 'Like what you see? Visit the ' +\n",
              "            '<a target=\"_blank\" href=https://colab.research.google.com/notebooks/data_table.ipynb>data table notebook</a>'\n",
              "            + ' to learn more about interactive tables.';\n",
              "          element.innerHTML = '';\n",
              "          dataTable['output_type'] = 'display_data';\n",
              "          await google.colab.output.renderOutput(dataTable, element);\n",
              "          const docLink = document.createElement('div');\n",
              "          docLink.innerHTML = docLinkHtml;\n",
              "          element.appendChild(docLink);\n",
              "        }\n",
              "      </script>\n",
              "    </div>\n",
              "  </div>\n",
              "  "
            ]
          },
          "metadata": {},
          "execution_count": 76
        }
      ]
    },
    {
      "cell_type": "code",
      "source": [
        "a = socio[['AGE','label']].groupby('label').median()\n",
        "fig = plt.figure()\n",
        "ax = fig.add_axes([0,0,1,1])\n",
        "labels = a.index\n",
        "var = a.AGE\n",
        "ax.bar(labels,var)\n",
        "ax.set_title('median age per mobility label')\n",
        "plt.show()"
      ],
      "metadata": {
        "id": "Jp_UKNxpMEB5",
        "outputId": "5246b015-af0c-45df-e277-71cb64234168",
        "colab": {
          "base_uri": "https://localhost:8080/",
          "height": 357
        }
      },
      "execution_count": 88,
      "outputs": [
        {
          "output_type": "display_data",
          "data": {
            "text/plain": [
              "<Figure size 432x288 with 1 Axes>"
            ],
            "image/png": "[encoded data removed]"
          },
          "metadata": {}
        }
      ]
    },
    {
      "cell_type": "code",
      "source": [
        "#income\n",
        "# convert dummy to mean of band\n",
        "tmp_df = pd.DataFrame()\n",
        "tmp_df['income_band'] = socio[socio_cols['income']].idxmax(axis=1)\n",
        "\n",
        "income_dict = {'IndIncome2002_B02ID_1':\t12.5, \n",
        "'IndIncome2002_B02ID_2':\t37.5,\n",
        "'IndIncome2002_B02ID_3':\t62.5}\n",
        "for n in income_dict.keys():\n",
        "  socio.loc[tmp_df[\"income_band\"] == n, \"INCOME\"] = income_dict[n]\n",
        "\n",
        "socio[['INCOME','label']].groupby('label').mean()\n"
      ],
      "metadata": {
        "id": "zaU0LSeq5CLs",
        "outputId": "0d89a282-90b8-4825-f346-da0537e6be5e",
        "colab": {
          "base_uri": "https://localhost:8080/",
          "height": 332
        }
      },
      "execution_count": 93,
      "outputs": [
        {
          "output_type": "execute_result",
          "data": {
            "text/plain": [
              "          INCOME\n",
              "label           \n",
              "0      21.382236\n",
              "1      28.956835\n",
              "2      21.510601\n",
              "3      28.432642\n",
              "4      31.751337\n",
              "5      22.139831\n",
              "6      26.641414\n",
              "7      37.500000"
            ],
            "text/html": [
              "\n",
              "  <div id=\"df-57a86020-7c72-4e4e-8dec-0043b69715aa\">\n",
              "    <div class=\"colab-df-container\">\n",
              "      <div>\n",
              "<style scoped>\n",
              "    .dataframe tbody tr th:only-of-type {\n",
              "        vertical-align: middle;\n",
              "    }\n",
              "\n",
              "    .dataframe tbody tr th {\n",
              "        vertical-align: top;\n",
              "    }\n",
              "\n",
              "    .dataframe thead th {\n",
              "        text-align: right;\n",
              "    }\n",
              "</style>\n",
              "<table border=\"1\" class=\"dataframe\">\n",
              "  <thead>\n",
              "    <tr style=\"text-align: right;\">\n",
              "      <th></th>\n",
              "      <th>INCOME</th>\n",
              "    </tr>\n",
              "    <tr>\n",
              "      <th>label</th>\n",
              "      <th></th>\n",
              "    </tr>\n",
              "  </thead>\n",
              "  <tbody>\n",
              "    <tr>\n",
              "      <th>0</th>\n",
              "      <td>21.382236</td>\n",
              "    </tr>\n",
              "    <tr>\n",
              "      <th>1</th>\n",
              "      <td>28.956835</td>\n",
              "    </tr>\n",
              "    <tr>\n",
              "      <th>2</th>\n",
              "      <td>21.510601</td>\n",
              "    </tr>\n",
              "    <tr>\n",
              "      <th>3</th>\n",
              "      <td>28.432642</td>\n",
              "    </tr>\n",
              "    <tr>\n",
              "      <th>4</th>\n",
              "      <td>31.751337</td>\n",
              "    </tr>\n",
              "    <tr>\n",
              "      <th>5</th>\n",
              "      <td>22.139831</td>\n",
              "    </tr>\n",
              "    <tr>\n",
              "      <th>6</th>\n",
              "      <td>26.641414</td>\n",
              "    </tr>\n",
              "    <tr>\n",
              "      <th>7</th>\n",
              "      <td>37.500000</td>\n",
              "    </tr>\n",
              "  </tbody>\n",
              "</table>\n",
              "</div>\n",
              "      <button class=\"colab-df-convert\" onclick=\"convertToInteractive('df-57a86020-7c72-4e4e-8dec-0043b69715aa')\"\n",
              "              title=\"Convert this dataframe to an interactive table.\"\n",
              "              style=\"display:none;\">\n",
              "        \n",
              "  <svg xmlns=\"http://www.w3.org/2000/svg\" height=\"24px\"viewBox=\"0 0 24 24\"\n",
              "       width=\"24px\">\n",
              "    <path d=\"M0 0h24v24H0V0z\" fill=\"none\"/>\n",
              "    <path d=\"M18.56 5.44l.94 2.06.94-2.06 2.06-.94-2.06-.94-.94-2.06-.94 2.06-2.06.94zm-11 1L8.5 8.5l.94-2.06 2.06-.94-2.06-.94L8.5 2.5l-.94 2.06-2.06.94zm10 10l.94 2.06.94-2.06 2.06-.94-2.06-.94-.94-2.06-.94 2.06-2.06.94z\"/><path d=\"M17.41 7.96l-1.37-1.37c-.4-.4-.92-.59-1.43-.59-.52 0-1.04.2-1.43.59L10.3 9.45l-7.72 7.72c-.78.78-.78 2.05 0 2.83L4 21.41c.39.39.9.59 1.41.59.51 0 1.02-.2 1.41-.59l7.78-7.78 2.81-2.81c.8-.78.8-2.07 0-2.86zM5.41 20L4 18.59l7.72-7.72 1.47 1.35L5.41 20z\"/>\n",
              "  </svg>\n",
              "      </button>\n",
              "      \n",
              "  <style>\n",
              "    .colab-df-container {\n",
              "      display:flex;\n",
              "      flex-wrap:wrap;\n",
              "      gap: 12px;\n",
              "    }\n",
              "\n",
              "    .colab-df-convert {\n",
              "      background-color: #E8F0FE;\n",
              "      border: none;\n",
              "      border-radius: 50%;\n",
              "      cursor: pointer;\n",
              "      display: none;\n",
              "      fill: #1967D2;\n",
              "      height: 32px;\n",
              "      padding: 0 0 0 0;\n",
              "      width: 32px;\n",
              "    }\n",
              "\n",
              "    .colab-df-convert:hover {\n",
              "      background-color: #E2EBFA;\n",
              "      box-shadow: 0px 1px 2px rgba(60, 64, 67, 0.3), 0px 1px 3px 1px rgba(60, 64, 67, 0.15);\n",
              "      fill: #174EA6;\n",
              "    }\n",
              "\n",
              "    [theme=dark] .colab-df-convert {\n",
              "      background-color: #3B4455;\n",
              "      fill: #D2E3FC;\n",
              "    }\n",
              "\n",
              "    [theme=dark] .colab-df-convert:hover {\n",
              "      background-color: #434B5C;\n",
              "      box-shadow: 0px 1px 3px 1px rgba(0, 0, 0, 0.15);\n",
              "      filter: drop-shadow(0px 1px 2px rgba(0, 0, 0, 0.3));\n",
              "      fill: #FFFFFF;\n",
              "    }\n",
              "  </style>\n",
              "\n",
              "      <script>\n",
              "        const buttonEl =\n",
              "          document.querySelector('#df-57a86020-7c72-4e4e-8dec-0043b69715aa button.colab-df-convert');\n",
              "        buttonEl.style.display =\n",
              "          google.colab.kernel.accessAllowed ? 'block' : 'none';\n",
              "\n",
              "        async function convertToInteractive(key) {\n",
              "          const element = document.querySelector('#df-57a86020-7c72-4e4e-8dec-0043b69715aa');\n",
              "          const dataTable =\n",
              "            await google.colab.kernel.invokeFunction('convertToInteractive',\n",
              "                                                     [key], {});\n",
              "          if (!dataTable) return;\n",
              "\n",
              "          const docLinkHtml = 'Like what you see? Visit the ' +\n",
              "            '<a target=\"_blank\" href=https://colab.research.google.com/notebooks/data_table.ipynb>data table notebook</a>'\n",
              "            + ' to learn more about interactive tables.';\n",
              "          element.innerHTML = '';\n",
              "          dataTable['output_type'] = 'display_data';\n",
              "          await google.colab.output.renderOutput(dataTable, element);\n",
              "          const docLink = document.createElement('div');\n",
              "          docLink.innerHTML = docLinkHtml;\n",
              "          element.appendChild(docLink);\n",
              "        }\n",
              "      </script>\n",
              "    </div>\n",
              "  </div>\n",
              "  "
            ]
          },
          "metadata": {},
          "execution_count": 93
        }
      ]
    },
    {
      "cell_type": "code",
      "source": [
        "a = socio[['INCOME','label']].groupby('label').mean()\n",
        "fig = plt.figure()\n",
        "ax = fig.add_axes([0,0,1,1])\n",
        "labels = a.index\n",
        "var = a.INCOME\n",
        "ax.bar(labels,var)\n",
        "ax.set_title('average income per mobility label')\n",
        "plt.show()"
      ],
      "metadata": {
        "id": "5MSGykSRRHDw",
        "outputId": "ef81ce7a-7193-46e9-f155-2a3766cc3e1c",
        "colab": {
          "base_uri": "https://localhost:8080/",
          "height": 357
        }
      },
      "execution_count": 95,
      "outputs": [
        {
          "output_type": "display_data",
          "data": {
            "text/plain": [
              "<Figure size 432x288 with 1 Axes>"
            ],
            "image/png": "[encoded data removed]"
          },
          "metadata": {}
        }
      ]
    },
    {
      "cell_type": "code",
      "source": [
        "socio[['INCOME','label']].groupby('label').median()\n"
      ],
      "metadata": {
        "id": "QdXvI7aOQxrn",
        "outputId": "b858bd96-a197-44a4-c062-66edc7f69f5f",
        "colab": {
          "base_uri": "https://localhost:8080/",
          "height": 332
        }
      },
      "execution_count": 94,
      "outputs": [
        {
          "output_type": "execute_result",
          "data": {
            "text/plain": [
              "       INCOME\n",
              "label        \n",
              "0        12.5\n",
              "1        37.5\n",
              "2        12.5\n",
              "3        12.5\n",
              "4        37.5\n",
              "5        12.5\n",
              "6        12.5\n",
              "7        37.5"
            ],
            "text/html": [
              "\n",
              "  <div id=\"df-939eb4d8-9db6-49ae-8819-d0a0474602c7\">\n",
              "    <div class=\"colab-df-container\">\n",
              "      <div>\n",
              "<style scoped>\n",
              "    .dataframe tbody tr th:only-of-type {\n",
              "        vertical-align: middle;\n",
              "    }\n",
              "\n",
              "    .dataframe tbody tr th {\n",
              "        vertical-align: top;\n",
              "    }\n",
              "\n",
              "    .dataframe thead th {\n",
              "        text-align: right;\n",
              "    }\n",
              "</style>\n",
              "<table border=\"1\" class=\"dataframe\">\n",
              "  <thead>\n",
              "    <tr style=\"text-align: right;\">\n",
              "      <th></th>\n",
              "      <th>INCOME</th>\n",
              "    </tr>\n",
              "    <tr>\n",
              "      <th>label</th>\n",
              "      <th></th>\n",
              "    </tr>\n",
              "  </thead>\n",
              "  <tbody>\n",
              "    <tr>\n",
              "      <th>0</th>\n",
              "      <td>12.5</td>\n",
              "    </tr>\n",
              "    <tr>\n",
              "      <th>1</th>\n",
              "      <td>37.5</td>\n",
              "    </tr>\n",
              "    <tr>\n",
              "      <th>2</th>\n",
              "      <td>12.5</td>\n",
              "    </tr>\n",
              "    <tr>\n",
              "      <th>3</th>\n",
              "      <td>12.5</td>\n",
              "    </tr>\n",
              "    <tr>\n",
              "      <th>4</th>\n",
              "      <td>37.5</td>\n",
              "    </tr>\n",
              "    <tr>\n",
              "      <th>5</th>\n",
              "      <td>12.5</td>\n",
              "    </tr>\n",
              "    <tr>\n",
              "      <th>6</th>\n",
              "      <td>12.5</td>\n",
              "    </tr>\n",
              "    <tr>\n",
              "      <th>7</th>\n",
              "      <td>37.5</td>\n",
              "    </tr>\n",
              "  </tbody>\n",
              "</table>\n",
              "</div>\n",
              "      <button class=\"colab-df-convert\" onclick=\"convertToInteractive('df-939eb4d8-9db6-49ae-8819-d0a0474602c7')\"\n",
              "              title=\"Convert this dataframe to an interactive table.\"\n",
              "              style=\"display:none;\">\n",
              "        \n",
              "  <svg xmlns=\"http://www.w3.org/2000/svg\" height=\"24px\"viewBox=\"0 0 24 24\"\n",
              "       width=\"24px\">\n",
              "    <path d=\"M0 0h24v24H0V0z\" fill=\"none\"/>\n",
              "    <path d=\"M18.56 5.44l.94 2.06.94-2.06 2.06-.94-2.06-.94-.94-2.06-.94 2.06-2.06.94zm-11 1L8.5 8.5l.94-2.06 2.06-.94-2.06-.94L8.5 2.5l-.94 2.06-2.06.94zm10 10l.94 2.06.94-2.06 2.06-.94-2.06-.94-.94-2.06-.94 2.06-2.06.94z\"/><path d=\"M17.41 7.96l-1.37-1.37c-.4-.4-.92-.59-1.43-.59-.52 0-1.04.2-1.43.59L10.3 9.45l-7.72 7.72c-.78.78-.78 2.05 0 2.83L4 21.41c.39.39.9.59 1.41.59.51 0 1.02-.2 1.41-.59l7.78-7.78 2.81-2.81c.8-.78.8-2.07 0-2.86zM5.41 20L4 18.59l7.72-7.72 1.47 1.35L5.41 20z\"/>\n",
              "  </svg>\n",
              "      </button>\n",
              "      \n",
              "  <style>\n",
              "    .colab-df-container {\n",
              "      display:flex;\n",
              "      flex-wrap:wrap;\n",
              "      gap: 12px;\n",
              "    }\n",
              "\n",
              "    .colab-df-convert {\n",
              "      background-color: #E8F0FE;\n",
              "      border: none;\n",
              "      border-radius: 50%;\n",
              "      cursor: pointer;\n",
              "      display: none;\n",
              "      fill: #1967D2;\n",
              "      height: 32px;\n",
              "      padding: 0 0 0 0;\n",
              "      width: 32px;\n",
              "    }\n",
              "\n",
              "    .colab-df-convert:hover {\n",
              "      background-color: #E2EBFA;\n",
              "      box-shadow: 0px 1px 2px rgba(60, 64, 67, 0.3), 0px 1px 3px 1px rgba(60, 64, 67, 0.15);\n",
              "      fill: #174EA6;\n",
              "    }\n",
              "\n",
              "    [theme=dark] .colab-df-convert {\n",
              "      background-color: #3B4455;\n",
              "      fill: #D2E3FC;\n",
              "    }\n",
              "\n",
              "    [theme=dark] .colab-df-convert:hover {\n",
              "      background-color: #434B5C;\n",
              "      box-shadow: 0px 1px 3px 1px rgba(0, 0, 0, 0.15);\n",
              "      filter: drop-shadow(0px 1px 2px rgba(0, 0, 0, 0.3));\n",
              "      fill: #FFFFFF;\n",
              "    }\n",
              "  </style>\n",
              "\n",
              "      <script>\n",
              "        const buttonEl =\n",
              "          document.querySelector('#df-939eb4d8-9db6-49ae-8819-d0a0474602c7 button.colab-df-convert');\n",
              "        buttonEl.style.display =\n",
              "          google.colab.kernel.accessAllowed ? 'block' : 'none';\n",
              "\n",
              "        async function convertToInteractive(key) {\n",
              "          const element = document.querySelector('#df-939eb4d8-9db6-49ae-8819-d0a0474602c7');\n",
              "          const dataTable =\n",
              "            await google.colab.kernel.invokeFunction('convertToInteractive',\n",
              "                                                     [key], {});\n",
              "          if (!dataTable) return;\n",
              "\n",
              "          const docLinkHtml = 'Like what you see? Visit the ' +\n",
              "            '<a target=\"_blank\" href=https://colab.research.google.com/notebooks/data_table.ipynb>data table notebook</a>'\n",
              "            + ' to learn more about interactive tables.';\n",
              "          element.innerHTML = '';\n",
              "          dataTable['output_type'] = 'display_data';\n",
              "          await google.colab.output.renderOutput(dataTable, element);\n",
              "          const docLink = document.createElement('div');\n",
              "          docLink.innerHTML = docLinkHtml;\n",
              "          element.appendChild(docLink);\n",
              "        }\n",
              "      </script>\n",
              "    </div>\n",
              "  </div>\n",
              "  "
            ]
          },
          "metadata": {},
          "execution_count": 94
        }
      ]
    },
    {
      "cell_type": "code",
      "source": [
        "a = socio[['INCOME','label']].groupby('label').mean()\n",
        "fig = plt.figure()\n",
        "ax = fig.add_axes([0,0,1,1])\n",
        "labels = a.index\n",
        "var = a.INCOME\n",
        "ax.bar(labels,var)\n",
        "ax.set_title('median income per mobility label')\n",
        "plt.show()"
      ],
      "metadata": {
        "id": "7gTL8xBERW70",
        "outputId": "9bbbf52b-c3a6-4e15-b25b-247da2ba9197",
        "colab": {
          "base_uri": "https://localhost:8080/",
          "height": 357
        }
      },
      "execution_count": 96,
      "outputs": [
        {
          "output_type": "display_data",
          "data": {
            "text/plain": [
              "<Figure size 432x288 with 1 Axes>"
            ],
            "image/png": "[encoded data removed]"
          },
          "metadata": {}
        }
      ]
    },
    {
      "cell_type": "code",
      "source": [
        "def mrg(var):\n",
        "  lst = list(socio_cols[var])\n",
        "  lst.append('label')\n",
        "  return socio[lst].groupby('label').sum()"
      ],
      "metadata": {
        "id": "jkr3WxeSaU98"
      },
      "execution_count": 123,
      "outputs": []
    },
    {
      "cell_type": "code",
      "source": [
        "#GENDER\n",
        "pops = mrg('sex').sum(axis=1)\n",
        "perc = mrg('sex')['Sex_B01ID_1']/pops*100\n",
        "fig = plt.figure()\n",
        "ax = fig.add_axes([0,0,1,1])\n",
        "labels = perc.index\n",
        "var = perc\n",
        "ax.bar(labels,var)\n",
        "ax.set_title('MALE % per mobility label')\n",
        "plt.show()"
      ],
      "metadata": {
        "id": "wY3oOh9qVjb2",
        "outputId": "8d940a9e-cdb9-43e5-9654-290e73820298",
        "colab": {
          "base_uri": "https://localhost:8080/",
          "height": 357
        }
      },
      "execution_count": 124,
      "outputs": [
        {
          "output_type": "display_data",
          "data": {
            "text/plain": [
              "<Figure size 432x288 with 1 Axes>"
            ],
            "image/png": "[encoded data removed]"
          },
          "metadata": {}
        }
      ]
    },
    {
      "cell_type": "code",
      "source": [
        "#marital\n",
        "pops = mrg('marital').sum(axis=1)\n",
        "perc = mrg('marital')['married']/pops*100\n",
        "fig = plt.figure()\n",
        "ax = fig.add_axes([0,0,1,1])\n",
        "labels = perc.index\n",
        "var = perc\n",
        "ax.bar(labels,var)\n",
        "ax.set_title('Married % per mobility label')\n",
        "plt.show()"
      ],
      "metadata": {
        "id": "6Svt0_7ybBBn",
        "outputId": "64ee2c84-03b6-47e5-bf32-c59ccfc35e62",
        "colab": {
          "base_uri": "https://localhost:8080/",
          "height": 357
        }
      },
      "execution_count": 126,
      "outputs": [
        {
          "output_type": "display_data",
          "data": {
            "text/plain": [
              "<Figure size 432x288 with 1 Axes>"
            ],
            "image/png": "[encoded data removed]"
          },
          "metadata": {}
        }
      ]
    },
    {
      "cell_type": "code",
      "source": [
        "#urban rural\n",
        "pops = mrg('urban_rural').sum(axis=1)\n",
        "perc = mrg('urban_rural')['Settlement2011EW_B03ID_1']/pops*100\n",
        "fig = plt.figure()\n",
        "ax = fig.add_axes([0,0,1,1])\n",
        "labels = perc.index\n",
        "var = perc\n",
        "ax.bar(labels,var)\n",
        "ax.set_title('Urban % per mobility label')\n",
        "plt.show()"
      ],
      "metadata": {
        "id": "7fJCfZs8lmlA",
        "outputId": "9596844b-0699-4269-ea37-5b4aa4e15e37",
        "colab": {
          "base_uri": "https://localhost:8080/",
          "height": 357
        }
      },
      "execution_count": 138,
      "outputs": [
        {
          "output_type": "display_data",
          "data": {
            "text/plain": [
              "<Figure size 432x288 with 1 Axes>"
            ],
            "image/png": "[encoded data removed]"
          },
          "metadata": {}
        }
      ]
    },
    {
      "cell_type": "code",
      "source": [
        "#work\n",
        "pops = mrg('work').sum(axis=1)\n",
        "full = mrg('work')['fulltime']/pops*100\n",
        "part = mrg('work')['parttime']/pops*100\n",
        "nowork = mrg('work')['not_working']/pops*100\n",
        "\n",
        "fig = plt.figure()\n",
        "ax = fig.add_axes([0,0,1,1])\n",
        "labels = full.index\n",
        "\n",
        "\n",
        "ax.bar(labels, full, color='b')\n",
        "ax.bar(labels, part,bottom=full, color='g')\n",
        "ax.bar(labels, nowork,bottom=part+full, color='r')\n",
        "\n",
        "ax.set_ylabel('%')\n",
        "ax.set_title('Employment status')\n",
        "ax.legend(labels=['FULL TIME%', 'PART TIME %', 'NOT WORKING'])\n",
        "plt.show()"
      ],
      "metadata": {
        "id": "hcxTzGWxbRis",
        "outputId": "4de87dfa-ebd5-4bb1-fd50-1633d133e00e",
        "colab": {
          "base_uri": "https://localhost:8080/",
          "height": 357
        }
      },
      "execution_count": 136,
      "outputs": [
        {
          "output_type": "display_data",
          "data": {
            "text/plain": [
              "<Figure size 432x288 with 1 Axes>"
            ],
            "image/png": "[encoded data removed]"
          },
          "metadata": {}
        }
      ]
    },
    {
      "cell_type": "code",
      "source": [
        "#household structure\n",
        "pops = mrg('hh_struc').sum(axis=1)\n",
        "single = mrg('hh_struc')['HHoldStruct_B02ID_1']/pops*100\n",
        "two_adult = mrg('hh_struc')['HHoldStruct_B02ID_2']/pops*100\n",
        "three_adult = mrg('hh_struc')['HHoldStruct_B02ID_3']/pops*100\n",
        "single_parent_child = mrg('hh_struc')['HHoldStruct_B02ID_4']/pops*100\n",
        "two_parents_child = mrg('hh_struc')['HHoldStruct_B02ID_5']/pops*100\n",
        "three_adults_child = mrg('hh_struc')['HHoldStruct_B02ID_6']/pops*100\n",
        "\n",
        "fig = plt.figure()\n",
        "ax = fig.add_axes([0,0,1,1])\n",
        "labels = full.index\n",
        "\n",
        "\n",
        "ax.bar(labels, single, color='b')\n",
        "ax.bar(labels, two_adult,bottom=single, color='g')\n",
        "ax.bar(labels, three_adult,bottom=two_adult+single, color='r')\n",
        "ax.bar(labels, single_parent_child,bottom=two_adult+single+three_adult, color='orange')\n",
        "ax.bar(labels, two_parents_child,bottom=two_adult+single+three_adult+\\\n",
        "       single_parent_child, color='cyan')\n",
        "ax.bar(labels, three_adults_child,bottom=two_adult+single+\\\n",
        "       three_adult+single_parent_child+two_parents_child, color='y')\n",
        "\n",
        "ax.set_ylabel('%')\n",
        "ax.set_title('Employment status')\n",
        "\n",
        "ax.legend(labels=['Single adult%', '2 adults %', '3 adults or more',\\\n",
        "                  'Single parent family','2 adults, 1 child or more',\\\n",
        "                  '3 adults or more, 1 child or more'],loc=(1.04, 0))\n",
        "plt.show()"
      ],
      "metadata": {
        "id": "HWGplZlclFuJ",
        "outputId": "932d5c3a-9d29-49b0-dc91-4f773bf96b53",
        "colab": {
          "base_uri": "https://localhost:8080/",
          "height": 357
        }
      },
      "execution_count": 146,
      "outputs": [
        {
          "output_type": "display_data",
          "data": {
            "text/plain": [
              "<Figure size 432x288 with 1 Axes>"
            ],
            "image/png": "[encoded data removed]"
          },
          "metadata": {}
        }
      ]
    },
    {
      "cell_type": "code",
      "source": [
        "#social class \n",
        "pops = mrg('hh_socialclass').sum(axis=1)\n",
        "single = mrg('hh_socialclass')['HRPSEGWorkStat_B01ID_1']/pops*100\n",
        "two_adult = mrg('hh_socialclass')['HRPSEGWorkStat_B01ID_2']/pops*100\n",
        "three_adult = mrg('hh_socialclass')['HRPSEGWorkStat_B01ID_3']/pops*100\n",
        "single_parent_child = mrg('hh_socialclass')['HRPSEGWorkStat_B01ID_4']/pops*100\n",
        "two_parents_child = mrg('hh_socialclass')['HRPSEGWorkStat_B01ID_5']/pops*100\n",
        "three_adults_child = mrg('hh_socialclass')['HRPSEGWorkStat_B01ID_6']/pops*100\n",
        "\n",
        "fig = plt.figure()\n",
        "ax = fig.add_axes([0,0,1,1])\n",
        "labels = full.index\n",
        "\n",
        "\n",
        "ax.bar(labels, single, color='b')\n",
        "ax.bar(labels, two_adult,bottom=single, color='g')\n",
        "ax.bar(labels, three_adult,bottom=two_adult+single, color='r')\n",
        "ax.bar(labels, single_parent_child,bottom=two_adult+single+three_adult, color='orange')\n",
        "ax.bar(labels, two_parents_child,bottom=two_adult+single+three_adult+\\\n",
        "       single_parent_child, color='cyan')\n",
        "ax.bar(labels, three_adults_child,bottom=two_adult+single+\\\n",
        "       three_adult+single_parent_child+two_parents_child, color='y')\n",
        "\n",
        "ax.set_ylabel('%')\n",
        "ax.set_title('Socio Economic Group')\n",
        "\n",
        "ax.legend(labels=['Professional / managerial%', 'Clerical %', 'Skilled manual',\\\n",
        "                  'Other manual and other / missing SEGs','Retired / permanently sick',\\\n",
        "                  'Other economically inactive'],loc=(1.04, 0))\n",
        "plt.show()"
      ],
      "metadata": {
        "id": "OagMxHIMbFk_",
        "outputId": "8cb71ff7-b1ad-414e-fa90-6f5f792c180d",
        "colab": {
          "base_uri": "https://localhost:8080/",
          "height": 357
        }
      },
      "execution_count": 149,
      "outputs": [
        {
          "output_type": "display_data",
          "data": {
            "text/plain": [
              "<Figure size 432x288 with 1 Axes>"
            ],
            "image/png": "[encoded data removed]"
          },
          "metadata": {}
        }
      ]
    },
    {
      "cell_type": "code",
      "source": [
        "socio.columns"
      ],
      "metadata": {
        "id": "E4QEAn7tQqQS",
        "outputId": "f3f38aa0-77e8-44ea-b9e0-bfbf3e85904d",
        "colab": {
          "base_uri": "https://localhost:8080/"
        }
      },
      "execution_count": 150,
      "outputs": [
        {
          "output_type": "execute_result",
          "data": {
            "text/plain": [
              "Index(['Age_B04ID_4', 'Age_B04ID_5', 'Age_B04ID_6', 'Age_B04ID_7',\n",
              "       'Age_B04ID_8', 'Age_B04ID_9', 'Sex_B01ID_1', 'Sex_B01ID_2', 'married',\n",
              "       'not_married', 'IndIncome2002_B02ID_1', 'IndIncome2002_B02ID_2',\n",
              "       'IndIncome2002_B02ID_3', 'fulltime', 'parttime', 'not_working',\n",
              "       'HHIncome2002_B02ID_1', 'HHIncome2002_B02ID_2', 'HHIncome2002_B02ID_3',\n",
              "       'HHoldStruct_B02ID_1', 'HHoldStruct_B02ID_2', 'HHoldStruct_B02ID_3',\n",
              "       'HHoldStruct_B02ID_4', 'HHoldStruct_B02ID_5', 'HHoldStruct_B02ID_6',\n",
              "       'hh_fulltime', 'hh_parttime', 'hh_not_working',\n",
              "       'HRPSEGWorkStat_B01ID_1', 'HRPSEGWorkStat_B01ID_2',\n",
              "       'HRPSEGWorkStat_B01ID_3', 'HRPSEGWorkStat_B01ID_4',\n",
              "       'HRPSEGWorkStat_B01ID_5', 'HRPSEGWorkStat_B01ID_6',\n",
              "       'Settlement2011EW_B03ID_1', 'Settlement2011EW_B03ID_2', 'label', 'AGE',\n",
              "       'INCOME'],\n",
              "      dtype='object')"
            ]
          },
          "metadata": {},
          "execution_count": 150
        }
      ]
    },
    {
      "cell_type": "code",
      "source": [
        "#mobility.corr().style.background_gradient(cmap='coolwarm')"
      ],
      "metadata": {
        "id": "eoNrncUmlXo8"
      },
      "execution_count": null,
      "outputs": []
    }
  ]
}