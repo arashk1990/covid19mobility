{
  "nbformat": 4,
  "nbformat_minor": 0,
  "metadata": {
    "colab": {
      "name": "survey.ipynb",
      "provenance": [],
      "collapsed_sections": [],
      "mount_file_id": "1kv-DaWpueFkWui7i0F0YU8sQXnRyDW-a",
      "authorship_tag": "ABX9TyMEjaPvVweR+vRxdq4qXYfa"
    },
    "kernelspec": {
      "name": "python3",
      "display_name": "Python 3"
    },
    "language_info": {
      "name": "python"
    }
  },
  "cells": [
    {
      "cell_type": "code",
      "execution_count": 3,
      "metadata": {
        "id": "wmfCrPaD2PNy"
      },
      "outputs": [],
      "source": [
        "import pandas as pd"
      ]
    },
    {
      "cell_type": "code",
      "source": [
        "def read_tab(var):\n",
        "  dir = f'/content/drive/MyDrive/socio_pred/UKDA-5340-tab/tab/{var}_eul_2002-2020.tab'\n",
        "  df = pd.read_csv(dir,sep='\\t')\n",
        "  #select surveys after 2018\n",
        "  if 'SurveyYear' in df.columns:\n",
        "    df = df[df['SurveyYear']>2018]\n",
        "  return df"
      ],
      "metadata": {
        "id": "ZH4ceBL02k_P"
      },
      "execution_count": 1,
      "outputs": []
    },
    {
      "cell_type": "code",
      "source": [
        "#indev = read_tab('indev')\n",
        "#stage = read_tab('stage')"
      ],
      "metadata": {
        "id": "zCPty9i28dgN"
      },
      "execution_count": null,
      "outputs": []
    },
    {
      "cell_type": "code",
      "source": [
        "#select the relevant vars\n",
        "#PSU\n",
        "psu = read_tab('psu')\n",
        "psu = psu[['PSUID','SurveyYear','PSUStatsReg_B01ID']]"
      ],
      "metadata": {
        "id": "XMBWbDVexCA2"
      },
      "execution_count": 4,
      "outputs": []
    },
    {
      "cell_type": "code",
      "source": [
        "#Trip\n",
        "trip = read_tab('trip')\n",
        "\n",
        "cols_trip = ['TripID','DayID','IndividualID','HouseholdID','PSUID',\\\n",
        "             'SeriesCall_B01ID','ShortWalkTrip_B01ID','NumStages_B01ID',\\\n",
        "             'MainMode_B04ID','TripPurpose_B04ID','TripStart_B01ID',\\\n",
        "             'TripStart_B02ID','TripEnd_B01ID','TripEnd_B02ID',\\\n",
        "             'TripDisIncSW_B01ID','TripDisExSW_B01ID','TripTotalTime_B01ID',\\\n",
        "             'TripTravTime_B01ID','TripOrigGOR_B02ID','TripDestGOR_B02ID']\n",
        "\n",
        "trip = trip[cols_trip]  \n",
        "trip.shape"
      ],
      "metadata": {
        "colab": {
          "base_uri": "https://localhost:8080/"
        },
        "id": "Oc1U5GumMcq1",
        "outputId": "f7573c26-8900-4215-e10d-81ec70d9c01f"
      },
      "execution_count": 5,
      "outputs": [
        {
          "output_type": "stream",
          "name": "stderr",
          "text": [
            "/usr/local/lib/python3.7/dist-packages/ipykernel_launcher.py:2: DtypeWarning: Columns (37,40,43,45,46) have mixed types.Specify dtype option on import or set low_memory=False.\n",
            "  \n"
          ]
        },
        {
          "output_type": "execute_result",
          "data": {
            "text/plain": [
              "(277460, 20)"
            ]
          },
          "metadata": {},
          "execution_count": 5
        }
      ]
    },
    {
      "cell_type": "code",
      "source": [
        "#filter trips\n",
        "# no shortwalk trips \n",
        "trip = trip[trip['ShortWalkTrip_B01ID']==2]"
      ],
      "metadata": {
        "id": "r2KN8EhuNlYb"
      },
      "execution_count": 6,
      "outputs": []
    },
    {
      "cell_type": "code",
      "source": [
        "#Household\n",
        "household = read_tab('household')\n",
        "\n",
        "cols_houshold = ['HouseholdID','PSUID','TWSDay','TWSMonth','TWSYear',\\\n",
        "                 'TWSMonth_B01ID','TWSWeekday_B01ID','TWEMonth_B01ID',\\\n",
        "                 'TWEWeekday_B01ID','HHIncome2002_B02ID','Ten1_B02ID',\\\n",
        "                 'HHoldGOR_B02ID','HHoldStruct_B02ID','HRPWorkStat_B02ID',\\\n",
        "                 'HRPEmpStat_B01ID','HRPSEGWorkStat_B01ID','HHoldEmploy_B01ID',\n",
        "                 'WalkBus_B01ID','WalkRail_B01ID','BusRail_B01ID','Settlement2011EW_B03ID',\\\n",
        "                 'HHoldOAClass2011_B03ID','HHIncQDS2020Eng_B01ID','HHIncQIS2020Eng_B01ID']\n",
        "household = household[cols_houshold]\n",
        "household.shape"
      ],
      "metadata": {
        "colab": {
          "base_uri": "https://localhost:8080/"
        },
        "id": "rVgRMGWR7KGD",
        "outputId": "d358dcfe-d9c2-4741-81fa-6bcb8cad2ed4"
      },
      "execution_count": 7,
      "outputs": [
        {
          "output_type": "stream",
          "name": "stderr",
          "text": [
            "/usr/local/lib/python3.7/dist-packages/ipykernel_launcher.py:2: DtypeWarning: Columns (17,34,35,36,37,39,44,49,50,89) have mixed types.Specify dtype option on import or set low_memory=False.\n",
            "  \n"
          ]
        },
        {
          "output_type": "execute_result",
          "data": {
            "text/plain": [
              "(9839, 24)"
            ]
          },
          "metadata": {},
          "execution_count": 7
        }
      ]
    },
    {
      "cell_type": "code",
      "source": [
        "# household filters:\n",
        "# exclude 'DEAD' rows\n",
        "household = household[household['TWSMonth_B01ID']>0]\n",
        "#Nov, Dec 2019, Jan and Feb 2020\n",
        "household=household[((household['TWSMonth_B01ID'] <3) & (household['TWSYear']==2020))\\\n",
        "          | ((household['TWSMonth_B01ID'] >10) & (household['TWSYear']==2019))]\n",
        "\n",
        "household.shape"
      ],
      "metadata": {
        "colab": {
          "base_uri": "https://localhost:8080/"
        },
        "id": "sA2Mu7-n5jqC",
        "outputId": "552f8df6-91b3-4d44-e855-3656371de7e0"
      },
      "execution_count": 8,
      "outputs": [
        {
          "output_type": "execute_result",
          "data": {
            "text/plain": [
              "(2192, 24)"
            ]
          },
          "metadata": {},
          "execution_count": 8
        }
      ]
    },
    {
      "cell_type": "code",
      "source": [
        "#trip filter\n",
        "# is from selected hh \n",
        "trip = trip[trip['HouseholdID'].isin(household['HouseholdID'])]\n",
        "trip.shape\n",
        "\n",
        "#filter hou"
      ],
      "metadata": {
        "colab": {
          "base_uri": "https://localhost:8080/"
        },
        "id": "87JMY7ZoTmkN",
        "outputId": "88e6d6d3-c1fb-462c-dc59-acdece8c5dec"
      },
      "execution_count": 9,
      "outputs": [
        {
          "output_type": "execute_result",
          "data": {
            "text/plain": [
              "(66252, 20)"
            ]
          },
          "metadata": {},
          "execution_count": 9
        }
      ]
    },
    {
      "cell_type": "code",
      "source": [
        "#Individual\n",
        "individual = read_tab('individual')\n",
        "\n",
        "cols_ind = ['IndividualID','HouseholdID','PSUID','VehicleID','Age_B04ID',\n",
        " 'Sex_B01ID','MarStat_B01ID','EthGroupTS_B02ID','EdAttn3_B01ID',\n",
        " 'CarAccess_B01ID','DrivLic_B02ID','IndIncome2002_B02ID',\\\n",
        " 'WkPlace_B01ID','EcoStat_B02ID','SC_B01ID','OftHome_B01ID','BusOut_B01ID',\\\n",
        " 'Educ_B01ID','WkMuch_B01ID','OwnPhone_B01ID']\n",
        "individual = individual[cols_ind]\n",
        "\n",
        "individual.shape"
      ],
      "metadata": {
        "colab": {
          "base_uri": "https://localhost:8080/"
        },
        "id": "N3qZLOHf8GV-",
        "outputId": "50bb6ab8-c4e4-4af9-8973-ac54cf64691b"
      },
      "execution_count": 10,
      "outputs": [
        {
          "output_type": "stream",
          "name": "stderr",
          "text": [
            "/usr/local/lib/python3.7/dist-packages/ipykernel_launcher.py:2: DtypeWarning: Columns (57) have mixed types.Specify dtype option on import or set low_memory=False.\n",
            "  \n"
          ]
        },
        {
          "output_type": "execute_result",
          "data": {
            "text/plain": [
              "(22767, 20)"
            ]
          },
          "metadata": {},
          "execution_count": 10
        }
      ]
    },
    {
      "cell_type": "code",
      "source": [
        "#individual filters\n",
        "# is from selected hh \n",
        "individual = individual[individual['HouseholdID'].isin(household['HouseholdID'])]\n",
        "individual.shape"
      ],
      "metadata": {
        "colab": {
          "base_uri": "https://localhost:8080/"
        },
        "id": "fpAFM0NEE5yD",
        "outputId": "4adde27c-082b-4eef-b395-001844dcb0b5"
      },
      "execution_count": 11,
      "outputs": [
        {
          "output_type": "execute_result",
          "data": {
            "text/plain": [
              "(5240, 20)"
            ]
          },
          "metadata": {},
          "execution_count": 11
        }
      ]
    },
    {
      "cell_type": "code",
      "source": [
        "#Vehicle\n",
        "vehicle = read_tab('vehicle')\n",
        "\n",
        "cols_veh = ['VehicleID','HouseholdID'\t,'PSUID'\t,'IndividualID','VehNo',\\\n",
        "            'VehAvail_B01ID','VehComMile_B01ID','VehBusMile_B01ID',\\\n",
        "             'VehPriMile_B01ID']\n",
        "vehicle = vehicle[cols_veh]\n",
        "\n",
        "# is from selected hh \n",
        "\n",
        "vehicle = vehicle[vehicle['HouseholdID'].isin(household['HouseholdID'])]\n",
        "\n",
        "#Day\n",
        "day = read_tab('day')\n",
        "\n",
        "cols_day = ['DayID','IndividualID','HouseholdID','PSUID','TravelWeekDay_B01ID',\\\n",
        "            'TravelWeekDay_B02ID','TravelWeekDay_B03ID','TravelDayType_B01ID']\n",
        "day = day[cols_day]\n",
        "# is from selected hh \n",
        "day = day[day['HouseholdID'].isin(household['HouseholdID'])]\n",
        "day.shape"
      ],
      "metadata": {
        "id": "rja4D7_hHMC_",
        "colab": {
          "base_uri": "https://localhost:8080/"
        },
        "outputId": "820bbee9-15a6-45e5-da7e-b90c818f0898"
      },
      "execution_count": 12,
      "outputs": [
        {
          "output_type": "execute_result",
          "data": {
            "text/plain": [
              "(32949, 8)"
            ]
          },
          "metadata": {},
          "execution_count": 12
        }
      ]
    },
    {
      "cell_type": "code",
      "source": [
        "#merge with day \n",
        "trip_day = trip.merge(day, left_on='DayID', right_on='DayID', how='inner',suffixes=('', '_y'))\n",
        "\n",
        "trip_day.drop(trip_day.filter(regex='_y$').columns, axis=1, inplace=True)\n",
        "\n",
        "#merge with individual\n",
        "trip_day_ind = trip_day.merge(individual, left_on='IndividualID', right_on='IndividualID', how='inner',suffixes=('', '_y'))\n",
        "\n",
        "trip_day_ind.drop(trip_day_ind.filter(regex='_y$').columns, axis=1, inplace=True)\n",
        "#merge with hh\n",
        "trip_day_ind_hh = trip_day_ind.merge(household, left_on='HouseholdID', right_on='HouseholdID', how='inner',suffixes=('', '_y'))\n",
        "\n",
        "trip_day_ind_hh.drop(trip_day_ind_hh.filter(regex='_y$').columns, axis=1, inplace=True)\n",
        "#merge with PSU\n",
        "trip_day_ind_hh_psu = trip_day_ind_hh.merge(psu, left_on='PSUID', right_on='PSUID', how='inner',suffixes=('', '_y'))\n",
        "\n",
        "trip_day_ind_hh_psu.drop(trip_day_ind_hh_psu.filter(regex='_y$').columns, axis=1, inplace=True)\n",
        "#merge with vehicle\n",
        "all_tabs = trip_day_ind_hh_psu.merge(vehicle, left_on='VehicleID', right_on='VehicleID', how='inner',suffixes=('', '_y'))\n",
        "\n",
        "all_tabs.drop(all_tabs.filter(regex='_y$').columns, axis=1, inplace=True)\n",
        "\n",
        "#drop irrelivant columns\n",
        "#to keep things simple, only some of the vars are kept\n",
        "all_tabs.drop(columns=['DayID','ShortWalkTrip_B01ID','HouseholdID','PSUID',\\\n",
        "                       'SeriesCall_B01ID','MainMode_B04ID','TripPurpose_B04ID',\\\n",
        "                       'TripStart_B02ID','TripEnd_B02ID','TripOrigGOR_B02ID',\\\n",
        "                       'TripDestGOR_B02ID','TravelWeekDay_B02ID','TravelDayType_B01ID',\\\n",
        "                       'VehicleID','TWEWeekday_B01ID','TWSDay', 'TWSMonth',\\\n",
        "                       'TWSYear','TWSWeekday_B01ID','HHoldGOR_B02ID',\n",
        "                       'WalkBus_B01ID', 'WalkRail_B01ID','BusRail_B01ID',\\\n",
        "                       'VehNo', 'VehComMile_B01ID','VehBusMile_B01ID',\\\n",
        "                       'VehPriMile_B01ID','NumStages_B01ID'],inplace=True)"
      ],
      "metadata": {
        "id": "VQSfXMd7QQ-l"
      },
      "execution_count": 13,
      "outputs": []
    },
    {
      "cell_type": "code",
      "source": [
        "all_tabs.columns"
      ],
      "metadata": {
        "colab": {
          "base_uri": "https://localhost:8080/"
        },
        "id": "TrAM-H9isM79",
        "outputId": "59a555c2-403e-41e8-e0f9-be93ead1918d"
      },
      "execution_count": 16,
      "outputs": [
        {
          "output_type": "execute_result",
          "data": {
            "text/plain": [
              "Index(['TripID', 'IndividualID', 'TripStart_B01ID', 'TripEnd_B01ID',\n",
              "       'TripDisIncSW_B01ID', 'TripDisExSW_B01ID', 'TripTotalTime_B01ID',\n",
              "       'TripTravTime_B01ID', 'TravelWeekDay_B01ID', 'TravelWeekDay_B03ID',\n",
              "       'Age_B04ID', 'Sex_B01ID', 'MarStat_B01ID', 'EthGroupTS_B02ID',\n",
              "       'EdAttn3_B01ID', 'CarAccess_B01ID', 'DrivLic_B02ID',\n",
              "       'IndIncome2002_B02ID', 'WkPlace_B01ID', 'EcoStat_B02ID', 'SC_B01ID',\n",
              "       'OftHome_B01ID', 'BusOut_B01ID', 'Educ_B01ID', 'WkMuch_B01ID',\n",
              "       'OwnPhone_B01ID', 'TWSMonth_B01ID', 'TWEMonth_B01ID',\n",
              "       'HHIncome2002_B02ID', 'Ten1_B02ID', 'HHoldStruct_B02ID',\n",
              "       'HRPWorkStat_B02ID', 'HRPEmpStat_B01ID', 'HRPSEGWorkStat_B01ID',\n",
              "       'HHoldEmploy_B01ID', 'Settlement2011EW_B03ID', 'HHoldOAClass2011_B03ID',\n",
              "       'HHIncQDS2020Eng_B01ID', 'HHIncQIS2020Eng_B01ID', 'SurveyYear',\n",
              "       'PSUStatsReg_B01ID', 'VehAvail_B01ID'],\n",
              "      dtype='object')"
            ]
          },
          "metadata": {},
          "execution_count": 16
        }
      ]
    },
    {
      "cell_type": "markdown",
      "source": [
        "Dealing with Missing values"
      ],
      "metadata": {
        "id": "oNrQVqW21OgU"
      }
    },
    {
      "cell_type": "code",
      "source": [
        "#columns with negative values(missing in NTS data)\n",
        "missing_cols = all_tabs[all_tabs<=0].any()[all_tabs[all_tabs<=0].any()==True].index\n",
        "missing_cols"
      ],
      "metadata": {
        "colab": {
          "base_uri": "https://localhost:8080/"
        },
        "id": "f2sLXgWlxcX8",
        "outputId": "2e7002f8-8d97-4662-9815-cf5d0fce75dd"
      },
      "execution_count": 17,
      "outputs": [
        {
          "output_type": "execute_result",
          "data": {
            "text/plain": [
              "Index(['TripStart_B01ID', 'TripEnd_B01ID', 'EdAttn3_B01ID', 'WkPlace_B01ID',\n",
              "       'EcoStat_B02ID', 'SC_B01ID', 'OftHome_B01ID', 'BusOut_B01ID',\n",
              "       'Educ_B01ID', 'WkMuch_B01ID', 'OwnPhone_B01ID', 'Ten1_B02ID',\n",
              "       'HHoldStruct_B02ID', 'HRPWorkStat_B02ID', 'HRPEmpStat_B01ID',\n",
              "       'HHoldOAClass2011_B03ID', 'HHIncQDS2020Eng_B01ID',\n",
              "       'HHIncQIS2020Eng_B01ID'],\n",
              "      dtype='object')"
            ]
          },
          "metadata": {},
          "execution_count": 17
        }
      ]
    },
    {
      "cell_type": "code",
      "source": [
        "for c in missing_cols:\n",
        "  print(all_tabs[c].value_counts())"
      ],
      "metadata": {
        "colab": {
          "base_uri": "https://localhost:8080/"
        },
        "id": "1QIu_jHj2io0",
        "outputId": "49e7522d-349f-4722-be45-63816fc9b5d7"
      },
      "execution_count": 18,
      "outputs": [
        {
          "output_type": "stream",
          "name": "stdout",
          "text": [
            " 16    3873\n",
            " 9     3804\n",
            " 17    3644\n",
            " 18    3470\n",
            " 12    3421\n",
            " 13    3328\n",
            " 11    3295\n",
            " 15    3224\n",
            " 14    2863\n",
            " 10    2744\n",
            " 19    2568\n",
            " 8     2476\n",
            " 20    1740\n",
            " 21    1043\n",
            " 7      935\n",
            " 22     766\n",
            "-8      674\n",
            " 23     561\n",
            " 6      358\n",
            " 24     327\n",
            " 5       96\n",
            " 1       80\n",
            " 2       37\n",
            " 3       24\n",
            " 4       12\n",
            "Name: TripStart_B01ID, dtype: int64\n",
            " 9     3937\n",
            " 16    3846\n",
            " 18    3546\n",
            " 13    3364\n",
            " 17    3358\n",
            " 12    3320\n",
            " 11    3266\n",
            " 15    3117\n",
            " 19    2989\n",
            " 10    2965\n",
            " 14    2896\n",
            " 20    2214\n",
            " 8     1709\n",
            " 21    1210\n",
            " 22     819\n",
            "-8      747\n",
            " 23     614\n",
            " 7      573\n",
            " 24     398\n",
            " 6      215\n",
            " 1      125\n",
            " 2       50\n",
            " 5       48\n",
            " 3       19\n",
            " 4       18\n",
            "Name: TripEnd_B01ID, dtype: int64\n",
            "-9    45363\n",
            "Name: EdAttn3_B01ID, dtype: int64\n",
            " 1    22676\n",
            "-9    13808\n",
            " 3     4881\n",
            " 2     2262\n",
            " 4     1724\n",
            "-8       12\n",
            "Name: WkPlace_B01ID, dtype: int64\n",
            " 1    23868\n",
            " 4    11026\n",
            " 2     7687\n",
            " 6     2169\n",
            " 5      407\n",
            " 3      201\n",
            "-9        5\n",
            "Name: EcoStat_B02ID, dtype: int64\n",
            " 2    18729\n",
            " 3     8426\n",
            " 4     6516\n",
            " 5     5494\n",
            " 1     3262\n",
            "-8     1117\n",
            "-9     1050\n",
            " 6      710\n",
            " 7       59\n",
            "Name: SC_B01ID, dtype: int64\n",
            " 7    21506\n",
            "-9    15544\n",
            " 2     2836\n",
            " 4     1620\n",
            " 1     1193\n",
            " 5      944\n",
            " 6      853\n",
            " 3      804\n",
            "-8       63\n",
            "Name: OftHome_B01ID, dtype: int64\n",
            "-9    43720\n",
            " 2     1501\n",
            " 1      142\n",
            "Name: BusOut_B01ID, dtype: int64\n",
            "-10    45363\n",
            "Name: Educ_B01ID, dtype: int64\n",
            "-9    39899\n",
            " 3     3335\n",
            " 2     1462\n",
            " 1      667\n",
            "Name: WkMuch_B01ID, dtype: int64\n",
            "-10    45363\n",
            "Name: OwnPhone_B01ID, dtype: int64\n",
            " 1    37796\n",
            " 2     7434\n",
            " 3      112\n",
            "-8       21\n",
            "Name: Ten1_B02ID, dtype: int64\n",
            " 2    16255\n",
            " 5    10861\n",
            " 3     7682\n",
            " 1     4629\n",
            " 6     4250\n",
            " 4     1102\n",
            "-8      584\n",
            "Name: HHoldStruct_B02ID, dtype: int64\n",
            " 1    25446\n",
            " 3    11602\n",
            " 2     6136\n",
            " 4     2174\n",
            "-9        5\n",
            "Name: HRPWorkStat_B02ID, dtype: int64\n",
            " 3    33190\n",
            " 1     6468\n",
            " 2     4835\n",
            " 4      794\n",
            "-8       76\n",
            "Name: HRPEmpStat_B01ID, dtype: int64\n",
            "-10    45363\n",
            "Name: HHoldOAClass2011_B03ID, dtype: int64\n",
            "-10    30601\n",
            " 5      3513\n",
            " 4      3156\n",
            " 3      3063\n",
            " 2      2872\n",
            " 1      2158\n",
            "Name: HHIncQDS2020Eng_B01ID, dtype: int64\n",
            "-10    30601\n",
            " 5      3513\n",
            " 4      3156\n",
            " 3      3063\n",
            " 2      2872\n",
            " 1      2158\n",
            "Name: HHIncQIS2020Eng_B01ID, dtype: int64\n"
          ]
        }
      ]
    },
    {
      "cell_type": "code",
      "source": [
        "#vars with many missing data\n",
        "miss_all = ['EdAttn3_B01ID','WkPlace_B01ID','OftHome_B01ID','BusOut_B01ID',\\\n",
        "            'Educ_B01ID','WkMuch_B01ID','HHoldOAClass2011_B03ID',\n",
        "            'HHIncQDS2020Eng_B01ID','HHIncQIS2020Eng_B01ID','OwnPhone_B01ID']\n",
        "\n",
        "all_tabs.drop(columns=miss_all,inplace=True)\n",
        "#vars with few missing data\n",
        "miss_few = ['TripStart_B01ID','TripEnd_B01ID','EcoStat_B02ID','SC_B01ID','Ten1_B02ID',\\\n",
        "            'HHoldStruct_B02ID',\n",
        "            'HRPWorkStat_B02ID','HRPEmpStat_B01ID']\n",
        "for c in miss_few:\n",
        "  all_tabs = all_tabs[all_tabs[c]>0]\n",
        "\n",
        "#remaining after deleting missing values\n",
        "all_tabs.shape\n"
      ],
      "metadata": {
        "colab": {
          "base_uri": "https://localhost:8080/"
        },
        "id": "_btDPTy72956",
        "outputId": "3950ce28-06e3-4a57-9b14-eaaf13ba6348"
      },
      "execution_count": 19,
      "outputs": [
        {
          "output_type": "execute_result",
          "data": {
            "text/plain": [
              "(41839, 32)"
            ]
          },
          "metadata": {},
          "execution_count": 19
        }
      ]
    },
    {
      "cell_type": "markdown",
      "source": [
        "Dealing with categorical vars"
      ],
      "metadata": {
        "id": "ZfUN6IFy91zn"
      }
    },
    {
      "cell_type": "code",
      "source": [
        "noncat_cols = ['TripID', 'IndividualID','SurveyYear']\n",
        "all_tabs_dummy = all_tabs \n",
        "for c in all_tabs.columns:\n",
        "  if c not in noncat_cols:\n",
        "    c_dummy = pd.get_dummies(all_tabs[c],prefix=c)\n",
        "    all_tabs_dummy = pd.concat([all_tabs_dummy,c_dummy], axis=1)\n",
        "    all_tabs_dummy.drop(columns = c,inplace=True)\n"
      ],
      "metadata": {
        "id": "clofuo8V91EB"
      },
      "execution_count": 20,
      "outputs": []
    },
    {
      "cell_type": "code",
      "source": [
        "#aggregate columns\n",
        "all_tabs_dummy.columns"
      ],
      "metadata": {
        "colab": {
          "base_uri": "https://localhost:8080/"
        },
        "id": "kz_gMHxfc5nD",
        "outputId": "0c0d1bdd-82bc-4584-9376-0abf29e99960"
      },
      "execution_count": 21,
      "outputs": [
        {
          "output_type": "execute_result",
          "data": {
            "text/plain": [
              "Index(['TripID', 'IndividualID', 'SurveyYear', 'TripStart_B01ID_1',\n",
              "       'TripStart_B01ID_2', 'TripStart_B01ID_3', 'TripStart_B01ID_4',\n",
              "       'TripStart_B01ID_5', 'TripStart_B01ID_6', 'TripStart_B01ID_7',\n",
              "       ...\n",
              "       'PSUStatsReg_B01ID_6', 'PSUStatsReg_B01ID_7', 'PSUStatsReg_B01ID_8',\n",
              "       'PSUStatsReg_B01ID_9', 'PSUStatsReg_B01ID_10', 'PSUStatsReg_B01ID_11',\n",
              "       'PSUStatsReg_B01ID_12', 'PSUStatsReg_B01ID_13', 'VehAvail_B01ID_1',\n",
              "       'VehAvail_B01ID_2'],\n",
              "      dtype='object', length=211)"
            ]
          },
          "metadata": {},
          "execution_count": 21
        }
      ]
    },
    {
      "cell_type": "code",
      "source": [
        "# definitions based on britannica\n",
        "# Night         9 pm to 4 am\n",
        "all_tabs_dummy['start_night'] = all_tabs_dummy.iloc[:,3:7].sum(axis=1)+\\\n",
        "all_tabs_dummy.iloc[:,24:27].sum(axis=1)\n",
        "#Evening     5 pm to 9 pm\n",
        "all_tabs_dummy['start_evening'] = all_tabs_dummy.iloc[:,20:24].sum(axis=1)\n",
        "#Afternoon     12 pm to 5 pm\n",
        "all_tabs_dummy['start_afternoon'] = all_tabs_dummy.iloc[:,15:20].sum(axis=1)\n",
        "#Morning     4 am to 12 pm\n",
        "all_tabs_dummy['start_morning'] = all_tabs_dummy.iloc[:,7:15].sum(axis=1)\n",
        "\n",
        "#trip ends\n",
        "# Night         9 pm to 4 am\n",
        "all_tabs_dummy['end_night'] = all_tabs_dummy.iloc[:,27:31].sum(axis=1)+\\\n",
        "all_tabs_dummy.iloc[:,48:51].sum(axis=1)\n",
        "#Evening     5 pm to 9 pm\n",
        "all_tabs_dummy['end_evening'] = all_tabs_dummy.iloc[:,44:48].sum(axis=1)\n",
        "#Afternoon     12 pm to 5 pm\n",
        "all_tabs_dummy['end_afternoon'] = all_tabs_dummy.iloc[:,39:44].sum(axis=1)\n",
        "#Morning     4 am to 12 pm\n",
        "all_tabs_dummy['end_morning'] = all_tabs_dummy.iloc[:,31:39].sum(axis=1)\n"
      ],
      "metadata": {
        "id": "Wv_I2gezejFi"
      },
      "execution_count": 23,
      "outputs": []
    },
    {
      "cell_type": "code",
      "source": [
        "#replace bands with band average\n",
        "#TripDisIncSW\n",
        "tmp_df = pd.DataFrame()\n",
        "tmp_df['dist_band'] = all_tabs_dummy.iloc[:,51:63].idxmax(axis=1)\n",
        "\n",
        "distInc = {'TripDisIncSW_B01ID_1':\t0.5, #miles\n",
        "'TripDisIncSW_B01ID_2':\t1.5,\n",
        "'TripDisIncSW_B01ID_3':\t2.5,\n",
        "'TripDisIncSW_B01ID_4':\t4,\n",
        "'TripDisIncSW_B01ID_5':\t7.5,\n",
        "'TripDisIncSW_B01ID_6':\t12.5,\n",
        "'TripDisIncSW_B01ID_7':\t20,\n",
        "'TripDisIncSW_B01ID_8':\t30,\n",
        "'TripDisIncSW_B01ID_9':\t42.5,\n",
        "'TripDisIncSW_B01ID_10':\t75,\n",
        "'TripDisIncSW_B01ID_11':\t150,\n",
        "'TripDisIncSW_B01ID_12':\t250}\n",
        "for n in distInc.keys():\n",
        "  all_tabs_dummy.loc[tmp_df[\"dist_band\"] == n, \"distance\"] = distInc[n]\n",
        "#replace bands with band average\n",
        "#TripDisExSW_B01ID\n",
        "\n",
        "tmp_df = pd.DataFrame()\n",
        "tmp_df['dist_band'] = all_tabs_dummy.iloc[:,63:75].idxmax(axis=1)\n",
        "\n",
        "distEx = {'TripDisExSW_B01ID_1':\t0.5, #miles\n",
        "'TripDisExSW_B01ID_2':\t1.5,\n",
        "'TripDisExSW_B01ID_3':\t2.5,\n",
        "'TripDisExSW_B01ID_4':\t4,\n",
        "'TripDisExSW_B01ID_5':\t7.5,\n",
        "'TripDisExSW_B01ID_6':\t12.5,\n",
        "'TripDisExSW_B01ID_7':\t20,\n",
        "'TripDisExSW_B01ID_8':\t30,\n",
        "'TripDisExSW_B01ID_9':\t42.5,\n",
        "'TripDisExSW_B01ID_10':\t75,\n",
        "'TripDisExSW_B01ID_11':\t150,\n",
        "'TripDisExSW_B01ID_12':\t250}\n",
        "for n in distEx.keys():\n",
        "  all_tabs_dummy.loc[tmp_df[\"dist_band\"] == n, \"distance_ex\"] = distEx[n]"
      ],
      "metadata": {
        "id": "EDII1Eb5-SWp"
      },
      "execution_count": 24,
      "outputs": []
    },
    {
      "cell_type": "code",
      "source": [
        "# merge total trip time\n",
        "# short         less than 15 minutes\n",
        "all_tabs_dummy['time_short'] = all_tabs_dummy.iloc[:,75:78].sum(axis=1)\n",
        "# mid     15 min to 1 hr\n",
        "all_tabs_dummy['time_mid'] = all_tabs_dummy.iloc[:,78:81].sum(axis=1)\n",
        "#long     more than 1 hr\n",
        "all_tabs_dummy['time_long'] = all_tabs_dummy.iloc[:,81:89].sum(axis=1)\n",
        "\n",
        "# merge total travel time\n",
        "# short         less than 15 minutes\n",
        "all_tabs_dummy['travel_short'] = all_tabs_dummy.iloc[:,89:92].sum(axis=1)\n",
        "# mid     15 min to 1 hr\n",
        "all_tabs_dummy['travel_mid'] = all_tabs_dummy.iloc[:,92:95].sum(axis=1)\n",
        "#long     more than 1 hr\n",
        "all_tabs_dummy['travel_long'] = all_tabs_dummy.iloc[:,95:103].sum(axis=1)"
      ],
      "metadata": {
        "id": "YMRgaSy6GWkL"
      },
      "execution_count": 26,
      "outputs": []
    },
    {
      "cell_type": "code",
      "source": [
        "ind_gp = all_tabs_dummy.groupby('IndividualID')\n",
        "ind_gp_weekday = all_tabs_dummy[all_tabs_dummy['TravelWeekDay_B03ID_1']==1]\\\n",
        ".groupby('IndividualID')\n",
        "\n",
        "individual_tab = pd.DataFrame()\n",
        "individual_tab ['Individual ID'] = ind_gp.size().index\n",
        "individual_tab ['Total Number of Trips'] = ind_gp.size().values\n",
        "#total sum\n",
        "mobility_sum_1 = pd.DataFrame(ind_gp.sum().iloc[:,109:110]).reset_index() #weekday\n",
        "mobility_sum_1.rename(columns = {'TravelWeekDay_B03ID_1':'Count_Weekday_Trips'},\\\n",
        "                                 inplace = True)\n",
        "\n",
        "mobility_sum_2 = pd.DataFrame(ind_gp.sum().iloc[:,210:]).reset_index()\n",
        "mobility_sum_2.rename(columns = {'start_night':'Count_start_night',\\\n",
        "                                 'start_evening':'Count_start_evening',\\\n",
        "                                 'start_afternoon':'Count_start_afternoon',\\\n",
        "                                 'start_morning':'Count_start_morning',\\\n",
        "                                 'end_night':'Count_end_night',\\\n",
        "                                 'end_evening':'Count_end_evening',\\\n",
        "                                 'end_afternoon':'Count_end_afternoon',\\\n",
        "                                 'end_morning':'Count_end_morning',\\\n",
        "                                 'distance':'Total_Distance',\\\n",
        "                                 'distance_ex':'Total_Distance_ex',\\\n",
        "                                 'time_short':'Count_time_short',\\\n",
        "                                 'time_mid':'Count_time_mid',\\\n",
        "                                 'time_long':'Count_time_long',\\\n",
        "                                 'travel_short':'Count_travel_short',\\\n",
        "                                 'travel_mid':'Count_travel_mid',\\\n",
        "                                 'travel_long':'Count_travel_long'},\\\n",
        "                                 inplace = True)\n",
        "\n",
        "#weekday sum:\n",
        "mobility_sum_3 = pd.DataFrame(ind_gp_weekday.sum().iloc[:,210:]).reset_index()\n",
        "mobility_sum_3.rename(columns = {'start_night':'Count_start_night_wk',\\\n",
        "                                 'start_evening':'Count_start_evening_wk',\\\n",
        "                                 'start_afternoon':'Count_start_afternoon_wk',\\\n",
        "                                 'start_morning':'Count_start_morning_wk',\\\n",
        "                                 'end_night':'Count_end_night_wk',\\\n",
        "                                 'end_evening':'Count_end_evening_wk',\\\n",
        "                                 'end_afternoon':'Count_end_afternoon_wk',\\\n",
        "                                 'end_morning':'Count_end_morning_wk',\\\n",
        "                                 'distance':'Total_Distance_wk',\\\n",
        "                                 'distance_ex':'Total_Distance_ex_wk',\\\n",
        "                                 'time_short':'Count_time_short_wk',\\\n",
        "                                 'time_mid':'Count_time_mid_wk',\\\n",
        "                                 'time_long':'Count_time_long_wk',\\\n",
        "                                 'travel_short':'Count_travel_short_wk',\\\n",
        "                                 'travel_mid':'Count_travel_mid_wk',\\\n",
        "                                 'travel_long':'Count_travel_long_wk'},\\\n",
        "                                 inplace = True)\n",
        "\n",
        "#total mean\n",
        "mobility_mean_1 = pd.DataFrame(ind_gp.mean().iloc[:,109:110]).reset_index() #weekday\n",
        "mobility_mean_1.rename(columns = {'TravelWeekDay_B03ID_1':'%_Weekday_Trips'},\\\n",
        "                                 inplace = True)\n",
        "mobility_mean_2 = pd.DataFrame(ind_gp.mean().iloc[:,210:]).reset_index()\n",
        "mobility_mean_2.rename(columns = {'start_night':'%_start_night',\\\n",
        "                                 'start_evening':'%_start_evening',\\\n",
        "                                 'start_afternoon':'%_start_afternoon',\\\n",
        "                                 'start_morning':'%_start_morning',\\\n",
        "                                 'end_night':'%_end_night',\\\n",
        "                                 'end_evening':'%_end_evening',\\\n",
        "                                 'end_afternoon':'%_end_afternoon',\\\n",
        "                                 'end_morning':'%_end_morning',\\\n",
        "                                 'distance':'avg_Distance',\\\n",
        "                                 'distance_ex':'avg_Distance_ex',\\\n",
        "                                 'time_short':'%_time_short',\\\n",
        "                                 'time_mid':'%_time_mid',\\\n",
        "                                 'time_long':'%_time_long',\\\n",
        "                                 'travel_short':'%_travel_short',\\\n",
        "                                 'travel_mid':'%_travel_mid',\\\n",
        "                                 'travel_long':'%_travel_long'},\\\n",
        "                                 inplace = True)\n",
        "#weekday mean:\n",
        "mobility_mean_3 = pd.DataFrame(ind_gp_weekday.mean().iloc[:,210:]).reset_index()\n",
        "mobility_mean_3.rename(columns = {'start_night':'%_start_night_wk',\\\n",
        "                                 'start_evening':'%_start_evening_wk',\\\n",
        "                                 'start_afternoon':'%_start_afternoon_wk',\\\n",
        "                                 'start_morning':'%_start_morning_wk',\\\n",
        "                                 'end_night':'%_end_night_wk',\\\n",
        "                                 'end_evening':'%_end_evening_wk',\\\n",
        "                                 'end_afternoon':'%_end_afternoon_wk',\\\n",
        "                                 'end_morning':'%_end_morning_wk',\\\n",
        "                                 'distance':'avg_Distance_wk',\\\n",
        "                                 'distance_ex':'avg_Distance_ex_wk',\\\n",
        "                                 'time_short':'%_time_short_wk',\\\n",
        "                                 'time_mid':'%_time_mid_wk',\\\n",
        "                                 'time_long':'%_time_long_wk',\\\n",
        "                                 'travel_short':'%_travel_short_wk',\\\n",
        "                                 'travel_mid':'%_travel_mid_wk',\\\n",
        "                                 'travel_long':'%_travel_long_wk'},\\\n",
        "                                 inplace = True)\n",
        "\n",
        "#total std\n",
        "mobility_std_2 = pd.DataFrame(ind_gp.std().iloc[:,210:]).reset_index()\n",
        "mobility_std_2.rename(columns = {'start_night':'std_start_night',\\\n",
        "                                 'start_evening':'std_start_evening',\\\n",
        "                                 'start_afternoon':'std_start_afternoon',\\\n",
        "                                 'start_morning':'std_start_morning',\\\n",
        "                                 'end_night':'std_end_night',\\\n",
        "                                 'end_evening':'std_end_evening',\\\n",
        "                                 'end_afternoon':'std_end_afternoon',\\\n",
        "                                 'end_morning':'std_end_morning',\\\n",
        "                                 'distance':'std_Distance',\\\n",
        "                                 'distance_ex':'std_Distance_ex',\\\n",
        "                                 'time_short':'std_time_short',\\\n",
        "                                 'time_mid':'std_time_mid',\\\n",
        "                                 'time_long':'std_time_long',\\\n",
        "                                 'travel_short':'std_travel_short',\\\n",
        "                                 'travel_mid':'std_travel_mid',\\\n",
        "                                 'travel_long':'std_travel_long'},\\\n",
        "                                 inplace = True)\n",
        "#weekday std:\n",
        "mobility_std_3 = pd.DataFrame(ind_gp_weekday.std().iloc[:,210:]).reset_index()\n",
        "\n",
        "mobility_std_3.rename(columns = {'start_night':'std_start_night_wk',\\\n",
        "                                 'start_evening':'std_start_evening_wk',\\\n",
        "                                 'start_afternoon':'std_start_afternoon_wk',\\\n",
        "                                 'start_morning':'std_start_morning_wk',\\\n",
        "                                 'end_night':'std_end_night_wk',\\\n",
        "                                 'end_evening':'std_end_evening_wk',\\\n",
        "                                 'end_afternoon':'std_end_afternoon_wk',\\\n",
        "                                 'end_morning':'std_end_morning_wk',\\\n",
        "                                 'distance':'std_Distance_wk',\\\n",
        "                                 'distance_ex':'std_Distance_ex_wk',\\\n",
        "                                 'time_short':'std_time_short_wk',\\\n",
        "                                 'time_mid':'std_time_mid_wk',\\\n",
        "                                 'time_long':'std_time_long_wk',\\\n",
        "                                 'travel_short':'std_travel_short_wk',\\\n",
        "                                 'travel_mid':'std_travel_mid_wk',\\\n",
        "                                 'travel_long':'std_travel_long_wk'},\\\n",
        "                                 inplace = True)\n",
        "\n",
        "\n",
        "\n"
      ],
      "metadata": {
        "id": "Sgky-BZhMlTz"
      },
      "execution_count": 152,
      "outputs": []
    },
    {
      "cell_type": "code",
      "source": [
        "mobility_sum_2.columns"
      ],
      "metadata": {
        "colab": {
          "base_uri": "https://localhost:8080/"
        },
        "id": "SvmlCu43x_0O",
        "outputId": "20fd530f-bcc0-4d81-814a-738bda107aac"
      },
      "execution_count": 133,
      "outputs": [
        {
          "output_type": "execute_result",
          "data": {
            "text/plain": [
              "Index(['IndividualID', 'Count_start_night', 'Count_start_evening',\n",
              "       'Count_start_afternoon', 'Count_start_morning', 'Count_end_night',\n",
              "       'Count_end_evening', 'Count_end_afternoon', 'Count_end_morning',\n",
              "       'Total_Distance', 'Total_Distance_ex', 'Count_time_short',\n",
              "       'Count_time_mid', 'Count_time_long', 'Count_travel_short',\n",
              "       'Count_travel_mid', 'Count_travel_long'],\n",
              "      dtype='object')"
            ]
          },
          "metadata": {},
          "execution_count": 133
        }
      ]
    },
    {
      "cell_type": "code",
      "source": [
        "mobility_sum_1.columns"
      ],
      "metadata": {
        "colab": {
          "base_uri": "https://localhost:8080/"
        },
        "id": "oXKq9morvCvv",
        "outputId": "6d4b0a48-7ac5-4462-d866-266701768435"
      },
      "execution_count": 135,
      "outputs": [
        {
          "output_type": "execute_result",
          "data": {
            "text/plain": [
              "Index(['IndividualID', 'Count_Weekday_Trips'], dtype='object')"
            ]
          },
          "metadata": {},
          "execution_count": 135
        }
      ]
    },
    {
      "cell_type": "code",
      "source": [
        "from functools import reduce\n",
        "dfs = [mobility_sum_1, mobility_sum_2, mobility_sum_3,\\\n",
        "       mobility_mean_1, mobility_mean_2, mobility_mean_3,\\\n",
        "       mobility_std_2, mobility_std_3]\n",
        "\n",
        "mobility = reduce(lambda  left,right: pd.merge(left,right,left_on='IndividualID',\\\n",
        "                                          right_on='IndividualID',how='left'),dfs)\n",
        "\n"
      ],
      "metadata": {
        "id": "d_MPa2LqgX1N"
      },
      "execution_count": 156,
      "outputs": []
    },
    {
      "cell_type": "code",
      "source": [
        "socio = ind_gp.mean().iloc[:,111:210].reset_index()"
      ],
      "metadata": {
        "id": "b8ryP0q12Ahn"
      },
      "execution_count": 171,
      "outputs": []
    },
    {
      "cell_type": "code",
      "source": [
        "NTS_dummy = pd.merge(socio,mobility,left_on='IndividualID',right_on='IndividualID',\\\n",
        "                     how='inner')"
      ],
      "metadata": {
        "id": "uGDIMp4-1_GT"
      },
      "execution_count": 177,
      "outputs": []
    },
    {
      "cell_type": "code",
      "source": [
        "NTS_dummy.to_csv('/content/drive/MyDrive/socio_pred/UKDA-5340-tab/NTS_dummy.csv',\\\n",
        "                 index=False)\n"
      ],
      "metadata": {
        "id": "20Y50SVcrCfx"
      },
      "execution_count": 178,
      "outputs": []
    }
  ]
}