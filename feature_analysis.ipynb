{
  "nbformat": 4,
  "nbformat_minor": 0,
  "metadata": {
    "colab": {
      "name": "feature_analysis.ipynb",
      "provenance": [],
      "collapsed_sections": [],
      "mount_file_id": "1Kj9lZG100VUBX21Ux7H1r4y2MGpu4tgV",
      "authorship_tag": "ABX9TyMW+QRoupcOWLsbr5Zz9xNQ",
      "include_colab_link": true
    },
    "kernelspec": {
      "name": "python3",
      "display_name": "Python 3"
    },
    "language_info": {
      "name": "python"
    }
  },
  "cells": [
    {
      "cell_type": "markdown",
      "metadata": {
        "id": "view-in-github",
        "colab_type": "text"
      },
      "source": [
        "<a href=\"https://colab.research.google.com/github/arashk1990/covid19mobility/blob/main/feature_analysis.ipynb\" target=\"_parent\"><img src=\"https://colab.research.google.com/assets/colab-badge.svg\" alt=\"Open In Colab\"/></a>"
      ]
    },
    {
      "cell_type": "code",
      "execution_count": 3,
      "metadata": {
        "id": "s_vi2oKAvuxI"
      },
      "outputs": [],
      "source": [
        "import pandas as pd\n",
        "import sklearn\n",
        "import matplotlib.pyplot as plt\n",
        "from sklearn.cluster import KMeans\n",
        "import numpy as np\n",
        "from matplotlib.ticker import PercentFormatter\n",
        "NTS_dummy = pd.read_csv('/content/drive/MyDrive/socio_pred/UKDA-5340-tab/NTS_dummy.csv')"
      ]
    },
    {
      "cell_type": "code",
      "source": [
        "NTS_dummy.head()"
      ],
      "metadata": {
        "colab": {
          "base_uri": "https://localhost:8080/",
          "height": 352
        },
        "id": "tDmACZ3fv47z",
        "outputId": "74d08050-0c9a-4c15-c0b5-b6c91f22a19d"
      },
      "execution_count": 2,
      "outputs": [
        {
          "output_type": "execute_result",
          "data": {
            "text/plain": [
              "   IndividualID  Total Number of Trips  SurveyYear  Age_B04ID_4  Age_B04ID_5  \\\n",
              "0    2019011363                     16      2019.0          0.0          0.0   \n",
              "1    2019011428                     18      2019.0          0.0          0.0   \n",
              "2    2019011564                     23      2019.0          0.0          0.0   \n",
              "3    2019011569                     15      2019.0          0.0          1.0   \n",
              "4    2019011570                     13      2019.0          0.0          0.0   \n",
              "\n",
              "   Age_B04ID_6  Age_B04ID_7  Age_B04ID_8  Age_B04ID_9  Sex_B01ID_1  ...  \\\n",
              "0          1.0          0.0          0.0          0.0          0.0  ...   \n",
              "1          0.0          0.0          0.0          1.0          0.0  ...   \n",
              "2          1.0          0.0          0.0          0.0          1.0  ...   \n",
              "3          0.0          0.0          0.0          0.0          0.0  ...   \n",
              "4          1.0          0.0          0.0          0.0          1.0  ...   \n",
              "\n",
              "   std_end_afternoon_wk  std_end_morning_wk  std_Distance_wk  \\\n",
              "0              0.288675            0.522233         0.000000   \n",
              "1              0.518875            0.506370         0.375534   \n",
              "2              0.500000            0.447214         5.543389   \n",
              "3              0.000000            0.468807        12.806946   \n",
              "4              0.000000            0.514929        35.543401   \n",
              "\n",
              "   std_Distance_ex_wk  std_time_short_wk  std_time_mid_wk  std_time_long_wk  \\\n",
              "0            0.000000           0.452267         0.452267          0.000000   \n",
              "1            0.375534           0.000000         0.000000          0.000000   \n",
              "2            5.543389           0.500000         0.516398          0.341565   \n",
              "3           12.806946           0.497245         0.000000          0.497245   \n",
              "4           35.543401           0.492366         0.389249          0.522233   \n",
              "\n",
              "   std_travel_short_wk  std_travel_mid_wk  std_travel_long_wk  \n",
              "0             0.452267           0.452267            0.000000  \n",
              "1             0.000000           0.000000            0.000000  \n",
              "2             0.500000           0.516398            0.341565  \n",
              "3             0.497245           0.267261            0.513553  \n",
              "4             0.492366           0.389249            0.522233  \n",
              "\n",
              "[5 rows x 200 columns]"
            ],
            "text/html": [
              "\n",
              "  <div id=\"df-a36d112d-008a-4de8-8a8f-38d5f47d5065\">\n",
              "    <div class=\"colab-df-container\">\n",
              "      <div>\n",
              "<style scoped>\n",
              "    .dataframe tbody tr th:only-of-type {\n",
              "        vertical-align: middle;\n",
              "    }\n",
              "\n",
              "    .dataframe tbody tr th {\n",
              "        vertical-align: top;\n",
              "    }\n",
              "\n",
              "    .dataframe thead th {\n",
              "        text-align: right;\n",
              "    }\n",
              "</style>\n",
              "<table border=\"1\" class=\"dataframe\">\n",
              "  <thead>\n",
              "    <tr style=\"text-align: right;\">\n",
              "      <th></th>\n",
              "      <th>IndividualID</th>\n",
              "      <th>Total Number of Trips</th>\n",
              "      <th>SurveyYear</th>\n",
              "      <th>Age_B04ID_4</th>\n",
              "      <th>Age_B04ID_5</th>\n",
              "      <th>Age_B04ID_6</th>\n",
              "      <th>Age_B04ID_7</th>\n",
              "      <th>Age_B04ID_8</th>\n",
              "      <th>Age_B04ID_9</th>\n",
              "      <th>Sex_B01ID_1</th>\n",
              "      <th>...</th>\n",
              "      <th>std_end_afternoon_wk</th>\n",
              "      <th>std_end_morning_wk</th>\n",
              "      <th>std_Distance_wk</th>\n",
              "      <th>std_Distance_ex_wk</th>\n",
              "      <th>std_time_short_wk</th>\n",
              "      <th>std_time_mid_wk</th>\n",
              "      <th>std_time_long_wk</th>\n",
              "      <th>std_travel_short_wk</th>\n",
              "      <th>std_travel_mid_wk</th>\n",
              "      <th>std_travel_long_wk</th>\n",
              "    </tr>\n",
              "  </thead>\n",
              "  <tbody>\n",
              "    <tr>\n",
              "      <th>0</th>\n",
              "      <td>2019011363</td>\n",
              "      <td>16</td>\n",
              "      <td>2019.0</td>\n",
              "      <td>0.0</td>\n",
              "      <td>0.0</td>\n",
              "      <td>1.0</td>\n",
              "      <td>0.0</td>\n",
              "      <td>0.0</td>\n",
              "      <td>0.0</td>\n",
              "      <td>0.0</td>\n",
              "      <td>...</td>\n",
              "      <td>0.288675</td>\n",
              "      <td>0.522233</td>\n",
              "      <td>0.000000</td>\n",
              "      <td>0.000000</td>\n",
              "      <td>0.452267</td>\n",
              "      <td>0.452267</td>\n",
              "      <td>0.000000</td>\n",
              "      <td>0.452267</td>\n",
              "      <td>0.452267</td>\n",
              "      <td>0.000000</td>\n",
              "    </tr>\n",
              "    <tr>\n",
              "      <th>1</th>\n",
              "      <td>2019011428</td>\n",
              "      <td>18</td>\n",
              "      <td>2019.0</td>\n",
              "      <td>0.0</td>\n",
              "      <td>0.0</td>\n",
              "      <td>0.0</td>\n",
              "      <td>0.0</td>\n",
              "      <td>0.0</td>\n",
              "      <td>1.0</td>\n",
              "      <td>0.0</td>\n",
              "      <td>...</td>\n",
              "      <td>0.518875</td>\n",
              "      <td>0.506370</td>\n",
              "      <td>0.375534</td>\n",
              "      <td>0.375534</td>\n",
              "      <td>0.000000</td>\n",
              "      <td>0.000000</td>\n",
              "      <td>0.000000</td>\n",
              "      <td>0.000000</td>\n",
              "      <td>0.000000</td>\n",
              "      <td>0.000000</td>\n",
              "    </tr>\n",
              "    <tr>\n",
              "      <th>2</th>\n",
              "      <td>2019011564</td>\n",
              "      <td>23</td>\n",
              "      <td>2019.0</td>\n",
              "      <td>0.0</td>\n",
              "      <td>0.0</td>\n",
              "      <td>1.0</td>\n",
              "      <td>0.0</td>\n",
              "      <td>0.0</td>\n",
              "      <td>0.0</td>\n",
              "      <td>1.0</td>\n",
              "      <td>...</td>\n",
              "      <td>0.500000</td>\n",
              "      <td>0.447214</td>\n",
              "      <td>5.543389</td>\n",
              "      <td>5.543389</td>\n",
              "      <td>0.500000</td>\n",
              "      <td>0.516398</td>\n",
              "      <td>0.341565</td>\n",
              "      <td>0.500000</td>\n",
              "      <td>0.516398</td>\n",
              "      <td>0.341565</td>\n",
              "    </tr>\n",
              "    <tr>\n",
              "      <th>3</th>\n",
              "      <td>2019011569</td>\n",
              "      <td>15</td>\n",
              "      <td>2019.0</td>\n",
              "      <td>0.0</td>\n",
              "      <td>1.0</td>\n",
              "      <td>0.0</td>\n",
              "      <td>0.0</td>\n",
              "      <td>0.0</td>\n",
              "      <td>0.0</td>\n",
              "      <td>0.0</td>\n",
              "      <td>...</td>\n",
              "      <td>0.000000</td>\n",
              "      <td>0.468807</td>\n",
              "      <td>12.806946</td>\n",
              "      <td>12.806946</td>\n",
              "      <td>0.497245</td>\n",
              "      <td>0.000000</td>\n",
              "      <td>0.497245</td>\n",
              "      <td>0.497245</td>\n",
              "      <td>0.267261</td>\n",
              "      <td>0.513553</td>\n",
              "    </tr>\n",
              "    <tr>\n",
              "      <th>4</th>\n",
              "      <td>2019011570</td>\n",
              "      <td>13</td>\n",
              "      <td>2019.0</td>\n",
              "      <td>0.0</td>\n",
              "      <td>0.0</td>\n",
              "      <td>1.0</td>\n",
              "      <td>0.0</td>\n",
              "      <td>0.0</td>\n",
              "      <td>0.0</td>\n",
              "      <td>1.0</td>\n",
              "      <td>...</td>\n",
              "      <td>0.000000</td>\n",
              "      <td>0.514929</td>\n",
              "      <td>35.543401</td>\n",
              "      <td>35.543401</td>\n",
              "      <td>0.492366</td>\n",
              "      <td>0.389249</td>\n",
              "      <td>0.522233</td>\n",
              "      <td>0.492366</td>\n",
              "      <td>0.389249</td>\n",
              "      <td>0.522233</td>\n",
              "    </tr>\n",
              "  </tbody>\n",
              "</table>\n",
              "<p>5 rows × 200 columns</p>\n",
              "</div>\n",
              "      <button class=\"colab-df-convert\" onclick=\"convertToInteractive('df-a36d112d-008a-4de8-8a8f-38d5f47d5065')\"\n",
              "              title=\"Convert this dataframe to an interactive table.\"\n",
              "              style=\"display:none;\">\n",
              "        \n",
              "  <svg xmlns=\"http://www.w3.org/2000/svg\" height=\"24px\"viewBox=\"0 0 24 24\"\n",
              "       width=\"24px\">\n",
              "    <path d=\"M0 0h24v24H0V0z\" fill=\"none\"/>\n",
              "    <path d=\"M18.56 5.44l.94 2.06.94-2.06 2.06-.94-2.06-.94-.94-2.06-.94 2.06-2.06.94zm-11 1L8.5 8.5l.94-2.06 2.06-.94-2.06-.94L8.5 2.5l-.94 2.06-2.06.94zm10 10l.94 2.06.94-2.06 2.06-.94-2.06-.94-.94-2.06-.94 2.06-2.06.94z\"/><path d=\"M17.41 7.96l-1.37-1.37c-.4-.4-.92-.59-1.43-.59-.52 0-1.04.2-1.43.59L10.3 9.45l-7.72 7.72c-.78.78-.78 2.05 0 2.83L4 21.41c.39.39.9.59 1.41.59.51 0 1.02-.2 1.41-.59l7.78-7.78 2.81-2.81c.8-.78.8-2.07 0-2.86zM5.41 20L4 18.59l7.72-7.72 1.47 1.35L5.41 20z\"/>\n",
              "  </svg>\n",
              "      </button>\n",
              "      \n",
              "  <style>\n",
              "    .colab-df-container {\n",
              "      display:flex;\n",
              "      flex-wrap:wrap;\n",
              "      gap: 12px;\n",
              "    }\n",
              "\n",
              "    .colab-df-convert {\n",
              "      background-color: #E8F0FE;\n",
              "      border: none;\n",
              "      border-radius: 50%;\n",
              "      cursor: pointer;\n",
              "      display: none;\n",
              "      fill: #1967D2;\n",
              "      height: 32px;\n",
              "      padding: 0 0 0 0;\n",
              "      width: 32px;\n",
              "    }\n",
              "\n",
              "    .colab-df-convert:hover {\n",
              "      background-color: #E2EBFA;\n",
              "      box-shadow: 0px 1px 2px rgba(60, 64, 67, 0.3), 0px 1px 3px 1px rgba(60, 64, 67, 0.15);\n",
              "      fill: #174EA6;\n",
              "    }\n",
              "\n",
              "    [theme=dark] .colab-df-convert {\n",
              "      background-color: #3B4455;\n",
              "      fill: #D2E3FC;\n",
              "    }\n",
              "\n",
              "    [theme=dark] .colab-df-convert:hover {\n",
              "      background-color: #434B5C;\n",
              "      box-shadow: 0px 1px 3px 1px rgba(0, 0, 0, 0.15);\n",
              "      filter: drop-shadow(0px 1px 2px rgba(0, 0, 0, 0.3));\n",
              "      fill: #FFFFFF;\n",
              "    }\n",
              "  </style>\n",
              "\n",
              "      <script>\n",
              "        const buttonEl =\n",
              "          document.querySelector('#df-a36d112d-008a-4de8-8a8f-38d5f47d5065 button.colab-df-convert');\n",
              "        buttonEl.style.display =\n",
              "          google.colab.kernel.accessAllowed ? 'block' : 'none';\n",
              "\n",
              "        async function convertToInteractive(key) {\n",
              "          const element = document.querySelector('#df-a36d112d-008a-4de8-8a8f-38d5f47d5065');\n",
              "          const dataTable =\n",
              "            await google.colab.kernel.invokeFunction('convertToInteractive',\n",
              "                                                     [key], {});\n",
              "          if (!dataTable) return;\n",
              "\n",
              "          const docLinkHtml = 'Like what you see? Visit the ' +\n",
              "            '<a target=\"_blank\" href=https://colab.research.google.com/notebooks/data_table.ipynb>data table notebook</a>'\n",
              "            + ' to learn more about interactive tables.';\n",
              "          element.innerHTML = '';\n",
              "          dataTable['output_type'] = 'display_data';\n",
              "          await google.colab.output.renderOutput(dataTable, element);\n",
              "          const docLink = document.createElement('div');\n",
              "          docLink.innerHTML = docLinkHtml;\n",
              "          element.appendChild(docLink);\n",
              "        }\n",
              "      </script>\n",
              "    </div>\n",
              "  </div>\n",
              "  "
            ]
          },
          "metadata": {},
          "execution_count": 2
        }
      ]
    },
    {
      "cell_type": "code",
      "source": [
        "mobility = pd.concat([NTS_dummy.iloc[:,102:],NTS_dummy.iloc[:,1:2]],axis=1)\n",
        "socio = NTS_dummy.iloc[:,3:102]"
      ],
      "metadata": {
        "id": "TGz_mYQhyvCC"
      },
      "execution_count": 4,
      "outputs": []
    },
    {
      "cell_type": "markdown",
      "source": [
        "Merge Sociodemographic Columns "
      ],
      "metadata": {
        "id": "zws_UsGagqHu"
      }
    },
    {
      "cell_type": "code",
      "source": [
        "\n",
        "# Sociodemographic columns:\n",
        "socio_cols = {'age' : socio.columns[0:6],\n",
        "'sex' : socio.columns[6:8],\n",
        "'marital' : socio.columns[8:13],\n",
        "'ethincity': socio.columns[13:15],\n",
        "'caraccess': socio.columns[15:19],\n",
        "'license': socio.columns[19:20],\n",
        "'income': socio.columns[20:23],\n",
        "'work': socio.columns[23:29],\n",
        "'socialclass': socio.columns[29:36],\n",
        "'hhincome': socio.columns[45:48],\n",
        "'tenancy': socio.columns[48:51],\n",
        "'hh_struc': socio.columns[51:57],\n",
        "'hh_work': socio.columns[57:61],\n",
        "'hh_emp': socio.columns[61:65],\n",
        "'hh_socialclass': socio.columns[65:71],\n",
        "'urban_rural': socio.columns[82:84],\n",
        "'car': socio.columns[97:99]}"
      ],
      "metadata": {
        "id": "bXvM0VT3yvHQ"
      },
      "execution_count": null,
      "outputs": []
    },
    {
      "cell_type": "code",
      "source": [
        "#age: under 21 is a small proportion\n",
        "socio[socio_cols['age']].sum()"
      ],
      "metadata": {
        "colab": {
          "base_uri": "https://localhost:8080/"
        },
        "id": "bR5GzxLEy21D",
        "outputId": "99d35bdd-6af4-4f35-a101-5be279e474e7"
      },
      "execution_count": null,
      "outputs": [
        {
          "output_type": "execute_result",
          "data": {
            "text/plain": [
              "Age_B04ID_4     41.0\n",
              "Age_B04ID_5    221.0\n",
              "Age_B04ID_6    421.0\n",
              "Age_B04ID_7    416.0\n",
              "Age_B04ID_8    514.0\n",
              "Age_B04ID_9    832.0\n",
              "dtype: float64"
            ]
          },
          "metadata": {},
          "execution_count": 31
        }
      ]
    },
    {
      "cell_type": "code",
      "source": [
        "# Merge marital: married vs. not married(single/divorced/seperated,etc):\n",
        "socio['married'] = socio[socio_cols['marital'][0]]\n",
        "socio['not_married'] = socio[socio_cols['marital'][1:5]].sum(axis=1)\n"
      ],
      "metadata": {
        "id": "HniTGMzcy7d1"
      },
      "execution_count": null,
      "outputs": []
    },
    {
      "cell_type": "code",
      "source": [
        "#ethnicity is imbalanced\n",
        "socio[socio_cols['ethincity']].sum()"
      ],
      "metadata": {
        "colab": {
          "base_uri": "https://localhost:8080/"
        },
        "id": "OxayEEdwzGYM",
        "outputId": "cd910505-2097-4562-dccb-5235532957fe"
      },
      "execution_count": null,
      "outputs": [
        {
          "output_type": "execute_result",
          "data": {
            "text/plain": [
              "EthGroupTS_B02ID_1    2278.0\n",
              "EthGroupTS_B02ID_2     167.0\n",
              "dtype: float64"
            ]
          },
          "metadata": {},
          "execution_count": 33
        }
      ]
    },
    {
      "cell_type": "code",
      "source": [
        "#Most people have car acess, and are main drivier\n",
        "socio[socio_cols['caraccess']].sum()\n"
      ],
      "metadata": {
        "colab": {
          "base_uri": "https://localhost:8080/"
        },
        "id": "ro-lC2HyzIfe",
        "outputId": "dfe85ad9-ab57-4b2b-fc76-3b25fe99f4f8"
      },
      "execution_count": null,
      "outputs": [
        {
          "output_type": "execute_result",
          "data": {
            "text/plain": [
              "CarAccess_B01ID_1      79.0\n",
              "CarAccess_B01ID_2    2052.0\n",
              "CarAccess_B01ID_3     313.0\n",
              "CarAccess_B01ID_5       1.0\n",
              "dtype: float64"
            ]
          },
          "metadata": {},
          "execution_count": 34
        }
      ]
    },
    {
      "cell_type": "code",
      "source": [
        "#Every one has license\n",
        "socio[socio_cols['license']].sum()"
      ],
      "metadata": {
        "colab": {
          "base_uri": "https://localhost:8080/"
        },
        "id": "tn1IS0tFzNqQ",
        "outputId": "3da2e285-ed65-4fe4-d847-f57e92f9e08f"
      },
      "execution_count": null,
      "outputs": [
        {
          "output_type": "execute_result",
          "data": {
            "text/plain": [
              "DrivLic_B02ID_1    2445.0\n",
              "dtype: float64"
            ]
          },
          "metadata": {},
          "execution_count": 35
        }
      ]
    },
    {
      "cell_type": "code",
      "source": [
        "#Mostly from lower income \n",
        "socio[socio_cols['income']].sum()"
      ],
      "metadata": {
        "colab": {
          "base_uri": "https://localhost:8080/"
        },
        "id": "bJ7rVv8-zOpq",
        "outputId": "dd5f45c4-c73f-4074-bbc7-265ed778e1ad"
      },
      "execution_count": null,
      "outputs": [
        {
          "output_type": "execute_result",
          "data": {
            "text/plain": [
              "IndIncome2002_B02ID_1    1392.0\n",
              "IndIncome2002_B02ID_2     744.0\n",
              "IndIncome2002_B02ID_3     309.0\n",
              "dtype: float64"
            ]
          },
          "metadata": {},
          "execution_count": 36
        }
      ]
    },
    {
      "cell_type": "code",
      "source": [
        "#Unemployed and students are rare. Mostly either fulltime or retired/disabled\n",
        "socio[socio_cols['work']].sum()"
      ],
      "metadata": {
        "colab": {
          "base_uri": "https://localhost:8080/"
        },
        "id": "DvqNsybdzRpK",
        "outputId": "a43bf3ca-8d53-4c39-8bf8-9f57b76e0d11"
      },
      "execution_count": null,
      "outputs": [
        {
          "output_type": "execute_result",
          "data": {
            "text/plain": [
              "EcoStat_B02ID_1    1325.0\n",
              "EcoStat_B02ID_2     367.0\n",
              "EcoStat_B02ID_3      12.0\n",
              "EcoStat_B02ID_4     646.0\n",
              "EcoStat_B02ID_5      10.0\n",
              "EcoStat_B02ID_6      85.0\n",
              "dtype: float64"
            ]
          },
          "metadata": {},
          "execution_count": 37
        }
      ]
    },
    {
      "cell_type": "code",
      "source": [
        "# Merge work: employed/parttime/notworking\n",
        "socio['fulltime'] = socio[socio_cols['work'][0]]\n",
        "socio['parttime'] = socio[socio_cols['work'][1]]\n",
        "socio['not_working'] = socio[socio_cols['work'][2:6]].sum(axis=1)\n"
      ],
      "metadata": {
        "id": "qZG5APdQ45nE"
      },
      "execution_count": null,
      "outputs": []
    },
    {
      "cell_type": "code",
      "source": [
        "#Mostly professoonal/technical\n",
        "socio[socio_cols['socialclass']].sum()"
      ],
      "metadata": {
        "colab": {
          "base_uri": "https://localhost:8080/"
        },
        "id": "GmB1kR6Hzgw_",
        "outputId": "2cb77455-c5dc-49df-c465-c9233e0dbf59"
      },
      "execution_count": null,
      "outputs": [
        {
          "output_type": "execute_result",
          "data": {
            "text/plain": [
              "SC_B01ID_1     183.0\n",
              "SC_B01ID_2    1016.0\n",
              "SC_B01ID_3     482.0\n",
              "SC_B01ID_4     416.0\n",
              "SC_B01ID_5     298.0\n",
              "SC_B01ID_6      45.0\n",
              "SC_B01ID_7       5.0\n",
              "dtype: float64"
            ]
          },
          "metadata": {},
          "execution_count": 39
        }
      ]
    },
    {
      "cell_type": "code",
      "source": [
        "#Unlike individual income, mostly from higher income hh\n",
        "socio[socio_cols['hhincome']].sum()"
      ],
      "metadata": {
        "colab": {
          "base_uri": "https://localhost:8080/"
        },
        "id": "uuCH6Z6fz9hq",
        "outputId": "fc37c266-a843-4b49-dc75-70b9677cff79"
      },
      "execution_count": null,
      "outputs": [
        {
          "output_type": "execute_result",
          "data": {
            "text/plain": [
              "HHIncome2002_B02ID_1     568.0\n",
              "HHIncome2002_B02ID_2     720.0\n",
              "HHIncome2002_B02ID_3    1157.0\n",
              "dtype: float64"
            ]
          },
          "metadata": {},
          "execution_count": 40
        }
      ]
    },
    {
      "cell_type": "code",
      "source": [
        "#Imbalanced, mostly owners\n",
        "socio[socio_cols['tenancy']].sum()"
      ],
      "metadata": {
        "colab": {
          "base_uri": "https://localhost:8080/"
        },
        "id": "o7GiQkgp0KMV",
        "outputId": "28304c4f-08d5-40bb-f1e1-7b6e0c1490b3"
      },
      "execution_count": null,
      "outputs": [
        {
          "output_type": "execute_result",
          "data": {
            "text/plain": [
              "Ten1_B02ID_1    2026.0\n",
              "Ten1_B02ID_2     413.0\n",
              "Ten1_B02ID_3       6.0\n",
              "dtype: float64"
            ]
          },
          "metadata": {},
          "execution_count": 41
        }
      ]
    },
    {
      "cell_type": "code",
      "source": [
        "#not many single parents\n",
        "socio[socio_cols['hh_struc']].sum()"
      ],
      "metadata": {
        "colab": {
          "base_uri": "https://localhost:8080/"
        },
        "id": "yNSkX1X_0URX",
        "outputId": "c7fa831e-85cf-486a-be3f-3e773fefeb10"
      },
      "execution_count": null,
      "outputs": [
        {
          "output_type": "execute_result",
          "data": {
            "text/plain": [
              "HHoldStruct_B02ID_1    281.0\n",
              "HHoldStruct_B02ID_2    982.0\n",
              "HHoldStruct_B02ID_3    405.0\n",
              "HHoldStruct_B02ID_4     45.0\n",
              "HHoldStruct_B02ID_5    539.0\n",
              "HHoldStruct_B02ID_6    193.0\n",
              "dtype: float64"
            ]
          },
          "metadata": {},
          "execution_count": 42
        }
      ]
    },
    {
      "cell_type": "code",
      "source": [
        "#fairly distributed, not many from unemployed hh\n",
        "socio[socio_cols['hh_work']].sum()"
      ],
      "metadata": {
        "colab": {
          "base_uri": "https://localhost:8080/"
        },
        "id": "BudMlcX_00WR",
        "outputId": "567e22cc-2dfc-46e8-8612-4638f35ed67c"
      },
      "execution_count": null,
      "outputs": [
        {
          "output_type": "execute_result",
          "data": {
            "text/plain": [
              "HRPWorkStat_B02ID_1    1365.0\n",
              "HRPWorkStat_B02ID_2     311.0\n",
              "HRPWorkStat_B02ID_3     673.0\n",
              "HRPWorkStat_B02ID_4      96.0\n",
              "dtype: float64"
            ]
          },
          "metadata": {},
          "execution_count": 43
        }
      ]
    },
    {
      "cell_type": "code",
      "source": [
        "# Merge hh work: employed/parttime/notworking\n",
        "socio['hh_fulltime'] = socio[socio_cols['hh_work'][0]]\n",
        "socio['hh_parttime'] = socio[socio_cols['hh_work'][1]]\n",
        "socio['hh_not_working'] = socio[socio_cols['hh_work'][2:4]].sum(axis=1)\n"
      ],
      "metadata": {
        "id": "2QwLsjii7SJ5"
      },
      "execution_count": null,
      "outputs": []
    },
    {
      "cell_type": "code",
      "source": [
        "#mostly in other category\n",
        "socio[socio_cols['hh_emp']].sum()"
      ],
      "metadata": {
        "colab": {
          "base_uri": "https://localhost:8080/"
        },
        "id": "c-edcokj1BDG",
        "outputId": "a0efda8c-be2f-4c1f-ec46-bfe65cc11930"
      },
      "execution_count": null,
      "outputs": [
        {
          "output_type": "execute_result",
          "data": {
            "text/plain": [
              "HRPEmpStat_B01ID_1     380.0\n",
              "HRPEmpStat_B01ID_2     265.0\n",
              "HRPEmpStat_B01ID_3    1784.0\n",
              "HRPEmpStat_B01ID_4      16.0\n",
              "dtype: float64"
            ]
          },
          "metadata": {},
          "execution_count": 45
        }
      ]
    },
    {
      "cell_type": "code",
      "source": [
        "#mostly in other category\n",
        "socio[socio_cols['hh_socialclass']].sum()"
      ],
      "metadata": {
        "colab": {
          "base_uri": "https://localhost:8080/"
        },
        "id": "rByRI5Gt2OF5",
        "outputId": "597e99f7-31aa-4a64-9bbd-e2cc3a6fb8c2"
      },
      "execution_count": null,
      "outputs": [
        {
          "output_type": "execute_result",
          "data": {
            "text/plain": [
              "HRPSEGWorkStat_B01ID_1    471.0\n",
              "HRPSEGWorkStat_B01ID_2    663.0\n",
              "HRPSEGWorkStat_B01ID_3    367.0\n",
              "HRPSEGWorkStat_B01ID_4    192.0\n",
              "HRPSEGWorkStat_B01ID_5    673.0\n",
              "HRPSEGWorkStat_B01ID_6     79.0\n",
              "dtype: float64"
            ]
          },
          "metadata": {},
          "execution_count": 46
        }
      ]
    },
    {
      "cell_type": "code",
      "source": [
        "#mostly urban\n",
        "socio[socio_cols['urban_rural']].sum()"
      ],
      "metadata": {
        "colab": {
          "base_uri": "https://localhost:8080/"
        },
        "id": "ROqfPR123kx1",
        "outputId": "aee53c63-0995-4486-fd3a-9eef3413a3da"
      },
      "execution_count": null,
      "outputs": [
        {
          "output_type": "execute_result",
          "data": {
            "text/plain": [
              "Settlement2011EW_B03ID_1    1814.0\n",
              "Settlement2011EW_B03ID_2     631.0\n",
              "dtype: float64"
            ]
          },
          "metadata": {},
          "execution_count": 47
        }
      ]
    },
    {
      "cell_type": "code",
      "source": [
        "#almost every one has vehcile available to them\n",
        "socio[socio_cols['car']].sum()"
      ],
      "metadata": {
        "colab": {
          "base_uri": "https://localhost:8080/"
        },
        "id": "TbBnwykH3qCs",
        "outputId": "e6ecd756-354b-4aae-ac37-31c9f279b6dd"
      },
      "execution_count": null,
      "outputs": [
        {
          "output_type": "execute_result",
          "data": {
            "text/plain": [
              "VehAvail_B01ID_1    2432.0\n",
              "VehAvail_B01ID_2      13.0\n",
              "dtype: float64"
            ]
          },
          "metadata": {},
          "execution_count": 48
        }
      ]
    },
    {
      "cell_type": "code",
      "source": [
        "# vars to keep \n",
        "socio_cols_2 = {'age' : socio.columns[0:6],\n",
        "'sex' : socio.columns[6:8],\n",
        "'marital' : socio.columns[99:101],\n",
        "'income': socio.columns[20:23],\n",
        "'work': socio.columns[101:104],\n",
        "'hhincome': socio.columns[45:48],\n",
        "'hh_struc': socio.columns[51:57],\n",
        "'hh_work': socio.columns[104:107],\n",
        "'hh_socialclass': socio.columns[65:71],\n",
        "'urban_rural': socio.columns[82:84]}\n",
        "socio_2 = pd.DataFrame()\n",
        "for k in socio_cols_2.keys():\n",
        "  socio_2[socio_cols_2[k]]= socio[socio_cols_2[k]]\n",
        "tmp = pd.concat([NTS_dummy[['IndividualID','SurveyYear']],socio_2],axis=1)\n",
        "nts_v2 = pd.concat([tmp,mobility],axis=1)\n",
        "\n",
        "#save file\n",
        "nts_v2.to_csv('/content/drive/MyDrive/socio_pred/UKDA-5340-tab/NTS_v2.csv',\\\n",
        "                 index=False)"
      ],
      "metadata": {
        "id": "k-aUjQGwz5AH"
      },
      "execution_count": null,
      "outputs": []
    },
    {
      "cell_type": "markdown",
      "source": [
        "Analyze mobility features"
      ],
      "metadata": {
        "id": "pbTGvNWfgyhX"
      }
    },
    {
      "cell_type": "code",
      "source": [
        "mobility.head()"
      ],
      "metadata": {
        "id": "d1HvG2P1RTFr",
        "colab": {
          "base_uri": "https://localhost:8080/",
          "height": 352
        },
        "outputId": "ecf112c5-52a6-4b66-f5a3-613ffe0781e7"
      },
      "execution_count": 5,
      "outputs": [
        {
          "output_type": "execute_result",
          "data": {
            "text/plain": [
              "   Count_Weekday_Trips  Count_start_night  Count_start_evening  \\\n",
              "0                   12                  0                    6   \n",
              "1                   13                  0                    0   \n",
              "2                   16                  4                    4   \n",
              "3                   14                  2                    4   \n",
              "4                   12                  1                    5   \n",
              "\n",
              "   Count_start_afternoon  Count_start_morning  Count_end_night  \\\n",
              "0                      2                    8                0   \n",
              "1                     11                    7                0   \n",
              "2                      8                    7                4   \n",
              "3                      5                    4                2   \n",
              "4                      0                    7                1   \n",
              "\n",
              "   Count_end_evening  Count_end_afternoon  Count_end_morning  Total_Distance  \\\n",
              "0                  6                    2                  8            40.0   \n",
              "1                  1                   11                  6            35.0   \n",
              "2                  4                    9                  6           240.0   \n",
              "3                  9                    0                  4           292.5   \n",
              "4                  5                    0                  7           520.0   \n",
              "\n",
              "   ...  std_end_morning_wk  std_Distance_wk  std_Distance_ex_wk  \\\n",
              "0  ...            0.522233         0.000000            0.000000   \n",
              "1  ...            0.506370         0.375534            0.375534   \n",
              "2  ...            0.447214         5.543389            5.543389   \n",
              "3  ...            0.468807        12.806946           12.806946   \n",
              "4  ...            0.514929        35.543401           35.543401   \n",
              "\n",
              "   std_time_short_wk  std_time_mid_wk  std_time_long_wk  std_travel_short_wk  \\\n",
              "0           0.452267         0.452267          0.000000             0.452267   \n",
              "1           0.000000         0.000000          0.000000             0.000000   \n",
              "2           0.500000         0.516398          0.341565             0.500000   \n",
              "3           0.497245         0.000000          0.497245             0.497245   \n",
              "4           0.492366         0.389249          0.522233             0.492366   \n",
              "\n",
              "   std_travel_mid_wk  std_travel_long_wk  Total Number of Trips  \n",
              "0           0.452267            0.000000                     16  \n",
              "1           0.000000            0.000000                     18  \n",
              "2           0.516398            0.341565                     23  \n",
              "3           0.267261            0.513553                     15  \n",
              "4           0.389249            0.522233                     13  \n",
              "\n",
              "[5 rows x 99 columns]"
            ],
            "text/html": [
              "\n",
              "  <div id=\"df-cc74594a-a6e4-47b8-9da3-75a882e09375\">\n",
              "    <div class=\"colab-df-container\">\n",
              "      <div>\n",
              "<style scoped>\n",
              "    .dataframe tbody tr th:only-of-type {\n",
              "        vertical-align: middle;\n",
              "    }\n",
              "\n",
              "    .dataframe tbody tr th {\n",
              "        vertical-align: top;\n",
              "    }\n",
              "\n",
              "    .dataframe thead th {\n",
              "        text-align: right;\n",
              "    }\n",
              "</style>\n",
              "<table border=\"1\" class=\"dataframe\">\n",
              "  <thead>\n",
              "    <tr style=\"text-align: right;\">\n",
              "      <th></th>\n",
              "      <th>Count_Weekday_Trips</th>\n",
              "      <th>Count_start_night</th>\n",
              "      <th>Count_start_evening</th>\n",
              "      <th>Count_start_afternoon</th>\n",
              "      <th>Count_start_morning</th>\n",
              "      <th>Count_end_night</th>\n",
              "      <th>Count_end_evening</th>\n",
              "      <th>Count_end_afternoon</th>\n",
              "      <th>Count_end_morning</th>\n",
              "      <th>Total_Distance</th>\n",
              "      <th>...</th>\n",
              "      <th>std_end_morning_wk</th>\n",
              "      <th>std_Distance_wk</th>\n",
              "      <th>std_Distance_ex_wk</th>\n",
              "      <th>std_time_short_wk</th>\n",
              "      <th>std_time_mid_wk</th>\n",
              "      <th>std_time_long_wk</th>\n",
              "      <th>std_travel_short_wk</th>\n",
              "      <th>std_travel_mid_wk</th>\n",
              "      <th>std_travel_long_wk</th>\n",
              "      <th>Total Number of Trips</th>\n",
              "    </tr>\n",
              "  </thead>\n",
              "  <tbody>\n",
              "    <tr>\n",
              "      <th>0</th>\n",
              "      <td>12</td>\n",
              "      <td>0</td>\n",
              "      <td>6</td>\n",
              "      <td>2</td>\n",
              "      <td>8</td>\n",
              "      <td>0</td>\n",
              "      <td>6</td>\n",
              "      <td>2</td>\n",
              "      <td>8</td>\n",
              "      <td>40.0</td>\n",
              "      <td>...</td>\n",
              "      <td>0.522233</td>\n",
              "      <td>0.000000</td>\n",
              "      <td>0.000000</td>\n",
              "      <td>0.452267</td>\n",
              "      <td>0.452267</td>\n",
              "      <td>0.000000</td>\n",
              "      <td>0.452267</td>\n",
              "      <td>0.452267</td>\n",
              "      <td>0.000000</td>\n",
              "      <td>16</td>\n",
              "    </tr>\n",
              "    <tr>\n",
              "      <th>1</th>\n",
              "      <td>13</td>\n",
              "      <td>0</td>\n",
              "      <td>0</td>\n",
              "      <td>11</td>\n",
              "      <td>7</td>\n",
              "      <td>0</td>\n",
              "      <td>1</td>\n",
              "      <td>11</td>\n",
              "      <td>6</td>\n",
              "      <td>35.0</td>\n",
              "      <td>...</td>\n",
              "      <td>0.506370</td>\n",
              "      <td>0.375534</td>\n",
              "      <td>0.375534</td>\n",
              "      <td>0.000000</td>\n",
              "      <td>0.000000</td>\n",
              "      <td>0.000000</td>\n",
              "      <td>0.000000</td>\n",
              "      <td>0.000000</td>\n",
              "      <td>0.000000</td>\n",
              "      <td>18</td>\n",
              "    </tr>\n",
              "    <tr>\n",
              "      <th>2</th>\n",
              "      <td>16</td>\n",
              "      <td>4</td>\n",
              "      <td>4</td>\n",
              "      <td>8</td>\n",
              "      <td>7</td>\n",
              "      <td>4</td>\n",
              "      <td>4</td>\n",
              "      <td>9</td>\n",
              "      <td>6</td>\n",
              "      <td>240.0</td>\n",
              "      <td>...</td>\n",
              "      <td>0.447214</td>\n",
              "      <td>5.543389</td>\n",
              "      <td>5.543389</td>\n",
              "      <td>0.500000</td>\n",
              "      <td>0.516398</td>\n",
              "      <td>0.341565</td>\n",
              "      <td>0.500000</td>\n",
              "      <td>0.516398</td>\n",
              "      <td>0.341565</td>\n",
              "      <td>23</td>\n",
              "    </tr>\n",
              "    <tr>\n",
              "      <th>3</th>\n",
              "      <td>14</td>\n",
              "      <td>2</td>\n",
              "      <td>4</td>\n",
              "      <td>5</td>\n",
              "      <td>4</td>\n",
              "      <td>2</td>\n",
              "      <td>9</td>\n",
              "      <td>0</td>\n",
              "      <td>4</td>\n",
              "      <td>292.5</td>\n",
              "      <td>...</td>\n",
              "      <td>0.468807</td>\n",
              "      <td>12.806946</td>\n",
              "      <td>12.806946</td>\n",
              "      <td>0.497245</td>\n",
              "      <td>0.000000</td>\n",
              "      <td>0.497245</td>\n",
              "      <td>0.497245</td>\n",
              "      <td>0.267261</td>\n",
              "      <td>0.513553</td>\n",
              "      <td>15</td>\n",
              "    </tr>\n",
              "    <tr>\n",
              "      <th>4</th>\n",
              "      <td>12</td>\n",
              "      <td>1</td>\n",
              "      <td>5</td>\n",
              "      <td>0</td>\n",
              "      <td>7</td>\n",
              "      <td>1</td>\n",
              "      <td>5</td>\n",
              "      <td>0</td>\n",
              "      <td>7</td>\n",
              "      <td>520.0</td>\n",
              "      <td>...</td>\n",
              "      <td>0.514929</td>\n",
              "      <td>35.543401</td>\n",
              "      <td>35.543401</td>\n",
              "      <td>0.492366</td>\n",
              "      <td>0.389249</td>\n",
              "      <td>0.522233</td>\n",
              "      <td>0.492366</td>\n",
              "      <td>0.389249</td>\n",
              "      <td>0.522233</td>\n",
              "      <td>13</td>\n",
              "    </tr>\n",
              "  </tbody>\n",
              "</table>\n",
              "<p>5 rows × 99 columns</p>\n",
              "</div>\n",
              "      <button class=\"colab-df-convert\" onclick=\"convertToInteractive('df-cc74594a-a6e4-47b8-9da3-75a882e09375')\"\n",
              "              title=\"Convert this dataframe to an interactive table.\"\n",
              "              style=\"display:none;\">\n",
              "        \n",
              "  <svg xmlns=\"http://www.w3.org/2000/svg\" height=\"24px\"viewBox=\"0 0 24 24\"\n",
              "       width=\"24px\">\n",
              "    <path d=\"M0 0h24v24H0V0z\" fill=\"none\"/>\n",
              "    <path d=\"M18.56 5.44l.94 2.06.94-2.06 2.06-.94-2.06-.94-.94-2.06-.94 2.06-2.06.94zm-11 1L8.5 8.5l.94-2.06 2.06-.94-2.06-.94L8.5 2.5l-.94 2.06-2.06.94zm10 10l.94 2.06.94-2.06 2.06-.94-2.06-.94-.94-2.06-.94 2.06-2.06.94z\"/><path d=\"M17.41 7.96l-1.37-1.37c-.4-.4-.92-.59-1.43-.59-.52 0-1.04.2-1.43.59L10.3 9.45l-7.72 7.72c-.78.78-.78 2.05 0 2.83L4 21.41c.39.39.9.59 1.41.59.51 0 1.02-.2 1.41-.59l7.78-7.78 2.81-2.81c.8-.78.8-2.07 0-2.86zM5.41 20L4 18.59l7.72-7.72 1.47 1.35L5.41 20z\"/>\n",
              "  </svg>\n",
              "      </button>\n",
              "      \n",
              "  <style>\n",
              "    .colab-df-container {\n",
              "      display:flex;\n",
              "      flex-wrap:wrap;\n",
              "      gap: 12px;\n",
              "    }\n",
              "\n",
              "    .colab-df-convert {\n",
              "      background-color: #E8F0FE;\n",
              "      border: none;\n",
              "      border-radius: 50%;\n",
              "      cursor: pointer;\n",
              "      display: none;\n",
              "      fill: #1967D2;\n",
              "      height: 32px;\n",
              "      padding: 0 0 0 0;\n",
              "      width: 32px;\n",
              "    }\n",
              "\n",
              "    .colab-df-convert:hover {\n",
              "      background-color: #E2EBFA;\n",
              "      box-shadow: 0px 1px 2px rgba(60, 64, 67, 0.3), 0px 1px 3px 1px rgba(60, 64, 67, 0.15);\n",
              "      fill: #174EA6;\n",
              "    }\n",
              "\n",
              "    [theme=dark] .colab-df-convert {\n",
              "      background-color: #3B4455;\n",
              "      fill: #D2E3FC;\n",
              "    }\n",
              "\n",
              "    [theme=dark] .colab-df-convert:hover {\n",
              "      background-color: #434B5C;\n",
              "      box-shadow: 0px 1px 3px 1px rgba(0, 0, 0, 0.15);\n",
              "      filter: drop-shadow(0px 1px 2px rgba(0, 0, 0, 0.3));\n",
              "      fill: #FFFFFF;\n",
              "    }\n",
              "  </style>\n",
              "\n",
              "      <script>\n",
              "        const buttonEl =\n",
              "          document.querySelector('#df-cc74594a-a6e4-47b8-9da3-75a882e09375 button.colab-df-convert');\n",
              "        buttonEl.style.display =\n",
              "          google.colab.kernel.accessAllowed ? 'block' : 'none';\n",
              "\n",
              "        async function convertToInteractive(key) {\n",
              "          const element = document.querySelector('#df-cc74594a-a6e4-47b8-9da3-75a882e09375');\n",
              "          const dataTable =\n",
              "            await google.colab.kernel.invokeFunction('convertToInteractive',\n",
              "                                                     [key], {});\n",
              "          if (!dataTable) return;\n",
              "\n",
              "          const docLinkHtml = 'Like what you see? Visit the ' +\n",
              "            '<a target=\"_blank\" href=https://colab.research.google.com/notebooks/data_table.ipynb>data table notebook</a>'\n",
              "            + ' to learn more about interactive tables.';\n",
              "          element.innerHTML = '';\n",
              "          dataTable['output_type'] = 'display_data';\n",
              "          await google.colab.output.renderOutput(dataTable, element);\n",
              "          const docLink = document.createElement('div');\n",
              "          docLink.innerHTML = docLinkHtml;\n",
              "          element.appendChild(docLink);\n",
              "        }\n",
              "      </script>\n",
              "    </div>\n",
              "  </div>\n",
              "  "
            ]
          },
          "metadata": {},
          "execution_count": 5
        }
      ]
    },
    {
      "cell_type": "markdown",
      "source": [
        "# General stats of the sample"
      ],
      "metadata": {
        "id": "4_VypmOMinb2"
      }
    },
    {
      "cell_type": "code",
      "source": [
        "#population\n",
        "pop = mobility.shape[0]\n",
        "print('Number of Individuals: ', pop)"
      ],
      "metadata": {
        "colab": {
          "base_uri": "https://localhost:8080/"
        },
        "id": "s4TqacD8hJHU",
        "outputId": "f626639d-087e-4f5c-bfd7-82c97259d236"
      },
      "execution_count": 19,
      "outputs": [
        {
          "output_type": "stream",
          "name": "stdout",
          "text": [
            "Number of Individuals:  2445\n"
          ]
        }
      ]
    },
    {
      "cell_type": "code",
      "source": [
        "#Urban vs Rural\n",
        "x = [\"Urban\", \"Rural\"]\n",
        "y = round(socio[socio.columns[82:84]].sum()/pop*100,2)\n",
        "plt.barh(x, y)\n",
        " \n",
        "for index, value in enumerate(y):\n",
        "    plt.text(value, index,str(value)+'%')\n",
        " \n",
        "plt.show()"
      ],
      "metadata": {
        "colab": {
          "base_uri": "https://localhost:8080/",
          "height": 265
        },
        "id": "JyUkP-McpRKG",
        "outputId": "315cc981-81a0-410b-e89b-113182f6dbc7"
      },
      "execution_count": 52,
      "outputs": [
        {
          "output_type": "display_data",
          "data": {
            "text/plain": [
              "<Figure size 432x288 with 1 Axes>"
            ],
            "image/png": "[encoded data removed]"
          },
          "metadata": {
            "needs_background": "light"
          }
        }
      ]
    },
    {
      "cell_type": "code",
      "source": [
        "#Metropolitan area\n",
        "x = ['Northern, Metropolitan',\n",
        "'Northern, Non-metropolitan',\n",
        "'Yorkshire / Humberside, Metropolitan',\n",
        "'Yorkshire / Humberside, Non-metropolitan',\n",
        "'East Midlands',\n",
        "'East Anglia',\n",
        "'South East (excluding London Boroughs)',\n",
        "'London Boroughs',\n",
        "'South West',\n",
        "'West Midlands, Metropolitan',\n",
        "'West Midlands, Non-metropolitan',\n",
        "'North West, Metropolitan',\n",
        "'North West, Non-metropolitan']\n",
        "y = round(socio.iloc[:,84:97].sum()/pop*100,2)\n",
        "plt.barh(x, y)\n",
        "\n",
        "for index, value in enumerate(y):\n",
        "    plt.text(value, index,str(value)+'%')\n",
        " \n",
        "plt.show()"
      ],
      "metadata": {
        "colab": {
          "base_uri": "https://localhost:8080/",
          "height": 265
        },
        "id": "1PKyHvEirjV7",
        "outputId": "969642be-fe6e-4397-cd71-df9b9235fb30"
      },
      "execution_count": 71,
      "outputs": [
        {
          "output_type": "display_data",
          "data": {
            "text/plain": [
              "<Figure size 432x288 with 1 Axes>"
            ],
            "image/png": "[encoded data removed]"
          },
          "metadata": {
            "needs_background": "light"
          }
        }
      ]
    },
    {
      "cell_type": "markdown",
      "source": [
        "## General Mobility Stats"
      ],
      "metadata": {
        "id": "fJKGi1W8zltZ"
      }
    },
    {
      "cell_type": "code",
      "source": [
        "#Total trips\n",
        "total_trips = mobility['Total Number of Trips'].sum()\n",
        "total_trips_weekday = mobility['Count_Weekday_Trips'].sum()\n",
        "\n",
        "avg_trips_7day = mobility['Total Number of Trips'].mean() \n",
        "avg_trips_weekdays  = mobility['Count_Weekday_Trips'].mean()\n",
        "\n",
        "avg_trips_1day  = mobility['Total Number of Trips'].mean()/7\n",
        "avg_trips_1day_weekday  = mobility['Count_Weekday_Trips'].mean()/5\n",
        "\n",
        "print(\n",
        "    'Total number of trips of all individuals (whole week): ', total_trips,\n",
        "    '\\nTotal number of trips of all individuals (weekdays): ',total_trips_weekday,\n",
        "    '\\nAverage number of trips per person (whole week): ',avg_trips_7day,\n",
        "    '\\nAverage number of trips per person (weekdays): ', avg_trips_weekdays,\n",
        "    '\\nAverage trips per person daily (inc weekends): ',avg_trips_1day,\n",
        "    '\\nAverage trips per person daily (exc weekends): ', avg_trips_1day_weekday\n",
        ")"
      ],
      "metadata": {
        "colab": {
          "base_uri": "https://localhost:8080/"
        },
        "id": "hMeNY6UYi-bW",
        "outputId": "73bb5092-97e8-4303-c165-230f42f907d3"
      },
      "execution_count": 12,
      "outputs": [
        {
          "output_type": "stream",
          "name": "stdout",
          "text": [
            "Total number of trips of all individuals (whole week):  41839 \n",
            "Total number of trips of all individuals (weekdays):  31569 \n",
            "Average number of trips per person (whole week):  17.1120654396728 \n",
            "Average number of trips per person (weekdays):  12.911656441717792 \n",
            "Average trips per person daily (inc weekends):  2.4445807770961143 \n",
            "Average trips per person daily (exc weekends):  2.5823312883435583\n"
          ]
        }
      ]
    },
    {
      "cell_type": "code",
      "source": [
        "#time of the day stats\n",
        "\n",
        "#trip start\n",
        "# morning: 4 am to 12 pm\n",
        "# afternoon: 12: 5 p.m\n",
        "#evening: 5 pm to 9\n",
        "#night: 9 p.m to 4 a.m.\n",
        "x = ['Count_start_night','Count_start_evening', 'Count_start_afternoon',\t'Count_start_morning']\n",
        "\n",
        "y = round(mobility.iloc[:,1:5].sum()/total_trips*100,2)\n",
        "plt.barh(x, y)\n",
        "\n",
        "for index, value in enumerate(y):\n",
        "    plt.text(value, index,str(value)+'%')\n",
        " \n",
        "plt.show()"
      ],
      "metadata": {
        "colab": {
          "base_uri": "https://localhost:8080/",
          "height": 265
        },
        "id": "CFAUExc8zdR7",
        "outputId": "bee433d4-fdc3-463d-83cc-b0d183b0fe1e"
      },
      "execution_count": 13,
      "outputs": [
        {
          "output_type": "display_data",
          "data": {
            "text/plain": [
              "<Figure size 432x288 with 1 Axes>"
            ],
            "image/png": "[encoded data removed]"
          },
          "metadata": {
            "needs_background": "light"
          }
        }
      ]
    },
    {
      "cell_type": "code",
      "source": [
        "#trip end\n",
        "\n",
        "x = ['Count_end_night','Count_end_evening', 'Count_end_afternoon',\t'Count_end_morning']\n",
        "\n",
        "y = round(mobility.iloc[:,5:9].sum()/total_trips*100,2)\n",
        "plt.barh(x, y)\n",
        "\n",
        "for index, value in enumerate(y):\n",
        "    plt.text(value, index,str(value)+'%')\n",
        " \n",
        "plt.show()"
      ],
      "metadata": {
        "colab": {
          "base_uri": "https://localhost:8080/",
          "height": 265
        },
        "id": "qz7ORkkZvR09",
        "outputId": "10182e84-baa0-4b24-fada-a1f67fca5a01"
      },
      "execution_count": 15,
      "outputs": [
        {
          "output_type": "display_data",
          "data": {
            "text/plain": [
              "<Figure size 432x288 with 1 Axes>"
            ],
            "image/png": "[encoded data removed]"
          },
          "metadata": {
            "needs_background": "light"
          }
        }
      ]
    },
    {
      "cell_type": "code",
      "source": [
        "# distance \n",
        "#average per trip per individual\n",
        "plt.hist(mobility['avg_Distance'], weights=np.ones(len(mobility['avg_Distance']))\\\n",
        "         / len(mobility['avg_Distance']),bins=32)\n",
        "#each bin: 2 miles\n",
        "#including short walks, excluding will yeild similar histogram\n",
        "plt.xlabel('Average distance per trip (miles)')\n",
        "plt.ylabel('Percentage of individuals')\n",
        "plt.gca().yaxis.set_major_formatter(PercentFormatter(1))\n",
        "plt.show()\n"
      ],
      "metadata": {
        "colab": {
          "base_uri": "https://localhost:8080/",
          "height": 279
        },
        "id": "bqIZHl450T1d",
        "outputId": "f47d6e88-f041-4416-b1f7-234ed61d1ef0"
      },
      "execution_count": 52,
      "outputs": [
        {
          "output_type": "display_data",
          "data": {
            "text/plain": [
              "<Figure size 432x288 with 1 Axes>"
            ],
            "image/png": "[encoded data removed]"
          },
          "metadata": {
            "needs_background": "light"
          }
        }
      ]
    },
    {
      "cell_type": "code",
      "source": [
        "# distance \n",
        "#total per individual\n",
        "plt.hist(mobility['Total_Distance'], weights=np.ones(len(mobility['Total_Distance']))\\\n",
        "         / len(mobility['Total_Distance']),bins=35)\n",
        "#each bin: 40 miles\n",
        "#including short walks, excluding will yeild similar histogram\n",
        "plt.xlabel('Total distance over whole week (miles)')\n",
        "plt.ylabel('Percentage of individuals')\n",
        "plt.gca().yaxis.set_major_formatter(PercentFormatter(1))\n",
        "plt.show()\n",
        "\n",
        "\n"
      ],
      "metadata": {
        "colab": {
          "base_uri": "https://localhost:8080/",
          "height": 279
        },
        "id": "bUPVuvXH189c",
        "outputId": "94081847-6d74-4513-874c-4442b0b1c091"
      },
      "execution_count": 97,
      "outputs": [
        {
          "output_type": "display_data",
          "data": {
            "text/plain": [
              "<Figure size 432x288 with 1 Axes>"
            ],
            "image/png": "[encoded data removed]"
          },
          "metadata": {
            "needs_background": "light"
          }
        }
      ]
    },
    {
      "cell_type": "code",
      "source": [
        "# distance \n",
        "#weekend vs weekday\n",
        "x = ['Whole week trips','Weekdays trips']\n",
        "\n",
        "y = [round(mobility['Total_Distance'].sum()/total_trips,2),round(mobility['Total_Distance_wk'].sum()/total_trips_weekday,2)]\n",
        "plt.barh(x, y)\n",
        "\n",
        "for index, value in enumerate(y):\n",
        "    plt.text(value, index,str(value))\n",
        "plt.xlabel('Average distance per trip')\n",
        "\n",
        "plt.show()\n"
      ],
      "metadata": {
        "colab": {
          "base_uri": "https://localhost:8080/",
          "height": 279
        },
        "id": "GwMy5QnwwZU4",
        "outputId": "1c361669-1b8c-43e1-cf4a-22368f6acd60"
      },
      "execution_count": 96,
      "outputs": [
        {
          "output_type": "display_data",
          "data": {
            "text/plain": [
              "<Figure size 432x288 with 1 Axes>"
            ],
            "image/png": "[encoded data removed]"
          },
          "metadata": {
            "needs_background": "light"
          }
        }
      ]
    },
    {
      "cell_type": "code",
      "source": [
        "#std of  distance: all week\n",
        "plt.hist(mobility['std_Distance'],weights=np.ones(len(mobility['std_Distance']))\\\n",
        "         / len(mobility['std_Distance']),bins=48)\n",
        "#each bin: 3 miles\n",
        "#including short walks, excluding will yeild similar histogram\n",
        "plt.xlabel('std of trip distance over all trips of an individual')\n",
        "plt.ylabel('Percentage of individuals')\n",
        "plt.gca().yaxis.set_major_formatter(PercentFormatter(1))\n",
        "plt.show()\n",
        "\n",
        "print('Average std of the distance travelled by an individual is: ',\\\n",
        "      mobility['std_Distance'].mean())\n"
      ],
      "metadata": {
        "colab": {
          "base_uri": "https://localhost:8080/",
          "height": 296
        },
        "id": "sDHnhgO0w_92",
        "outputId": "80611452-9161-4e69-ce87-26fc6fe53ec8"
      },
      "execution_count": 105,
      "outputs": [
        {
          "output_type": "display_data",
          "data": {
            "text/plain": [
              "<Figure size 432x288 with 1 Axes>"
            ],
            "image/png": "[encoded data removed]"
          },
          "metadata": {
            "needs_background": "light"
          }
        },
        {
          "output_type": "stream",
          "name": "stdout",
          "text": [
            "Average std of the distance travelled by an individual is:  10.640919274808372\n"
          ]
        }
      ]
    },
    {
      "cell_type": "code",
      "source": [
        "#std of  distance: weekdays\n",
        "plt.hist(mobility['std_Distance_wk'],weights=np.ones(len(mobility['std_Distance_wk']))\\\n",
        "         / len(mobility['std_Distance_wk']),bins=48)\n",
        "#each bin: 3 miles\n",
        "#including short walks, excluding will yeild similar histogram\n",
        "plt.xlabel('std of trip distance over weekdays trips of an individual ')\n",
        "plt.ylabel('Percentage of individuals')\n",
        "plt.gca().yaxis.set_major_formatter(PercentFormatter(1))\n",
        "plt.show()\n",
        "\n",
        "print('Average std of the distance travelled by an individual is: ',\\\n",
        "      mobility['std_Distance_wk'].mean())\n",
        "\n",
        "# std over weekday trips are lower"
      ],
      "metadata": {
        "colab": {
          "base_uri": "https://localhost:8080/",
          "height": 296
        },
        "id": "wqLejAz2BHCP",
        "outputId": "5efe78b9-4b28-4d7a-e0c1-31da71a74aee"
      },
      "execution_count": 106,
      "outputs": [
        {
          "output_type": "display_data",
          "data": {
            "text/plain": [
              "<Figure size 432x288 with 1 Axes>"
            ],
            "image/png": "[encoded data removed]"
          },
          "metadata": {
            "needs_background": "light"
          }
        },
        {
          "output_type": "stream",
          "name": "stdout",
          "text": [
            "Average std of the distance travelled by an individual is:  8.612328899483849\n"
          ]
        }
      ]
    },
    {
      "cell_type": "code",
      "source": [
        "#trip time\n",
        "#short: less than 15 min\n",
        "#mid: 15 min to 1hr\n",
        "#long: more than 1 hr\n",
        "x = ['Count_time_short','Count_time_mid', 'Count_time_long']\n",
        "\n",
        "y = round(mobility[['Count_time_short','Count_time_mid','Count_time_long']].sum()\\\n",
        "          /total_trips*100,2)\n",
        "plt.barh(x, y)\n",
        "\n",
        "for index, value in enumerate(y):\n",
        "    plt.text(value, index,str(value)+'%')\n",
        " \n",
        "plt.show()"
      ],
      "metadata": {
        "colab": {
          "base_uri": "https://localhost:8080/",
          "height": 265
        },
        "id": "j6vk0s8cxQ_p",
        "outputId": "e24ebfe7-1750-4cf5-d256-2541d816cdf7"
      },
      "execution_count": 123,
      "outputs": [
        {
          "output_type": "display_data",
          "data": {
            "text/plain": [
              "<Figure size 432x288 with 1 Axes>"
            ],
            "image/png": "[encoded data removed]"
          },
          "metadata": {
            "needs_background": "light"
          }
        }
      ]
    },
    {
      "cell_type": "code",
      "source": [
        "#trip time: weekdays\n",
        "#short: less than 15 min\n",
        "#mid: 15 min to 1hr\n",
        "#long: more than 1 hr\n",
        "x = ['Count_time_short_wk','Count_time_mid_wk', 'Count_time_long_wk']\n",
        "\n",
        "y = round(mobility[['Count_time_short_wk','Count_time_mid_wk','Count_time_long_wk']].sum()\\\n",
        "          /total_trips*100,2)\n",
        "plt.barh(x, y)\n",
        "\n",
        "for index, value in enumerate(y):\n",
        "    plt.text(value, index,str(value)+'%')\n",
        " \n",
        "plt.show()"
      ],
      "metadata": {
        "colab": {
          "base_uri": "https://localhost:8080/",
          "height": 265
        },
        "id": "q1DVqF243-fI",
        "outputId": "87c21916-cb5b-4857-818a-b734d0c4c549"
      },
      "execution_count": 126,
      "outputs": [
        {
          "output_type": "display_data",
          "data": {
            "text/plain": [
              "<Figure size 432x288 with 1 Axes>"
            ],
            "image/png": "[encoded data removed]"
          },
          "metadata": {
            "needs_background": "light"
          }
        }
      ]
    },
    {
      "cell_type": "code",
      "source": [
        "mobility.columns"
      ],
      "metadata": {
        "colab": {
          "base_uri": "https://localhost:8080/"
        },
        "id": "tCz5tS1KFCSP",
        "outputId": "05aa905f-c8eb-4a2f-d3e3-b6487907d24b"
      },
      "execution_count": 128,
      "outputs": [
        {
          "output_type": "execute_result",
          "data": {
            "text/plain": [
              "Index(['Count_Weekday_Trips', 'Count_start_night', 'Count_start_evening',\n",
              "       'Count_start_afternoon', 'Count_start_morning', 'Count_end_night',\n",
              "       'Count_end_evening', 'Count_end_afternoon', 'Count_end_morning',\n",
              "       'Total_Distance', 'Total_Distance_ex', 'Count_time_short',\n",
              "       'Count_time_mid', 'Count_time_long', 'Count_travel_short',\n",
              "       'Count_travel_mid', 'Count_travel_long', 'Count_start_night_wk',\n",
              "       'Count_start_evening_wk', 'Count_start_afternoon_wk',\n",
              "       'Count_start_morning_wk', 'Count_end_night_wk', 'Count_end_evening_wk',\n",
              "       'Count_end_afternoon_wk', 'Count_end_morning_wk', 'Total_Distance_wk',\n",
              "       'Total_Distance_ex_wk', 'Count_time_short_wk', 'Count_time_mid_wk',\n",
              "       'Count_time_long_wk', 'Count_travel_short_wk', 'Count_travel_mid_wk',\n",
              "       'Count_travel_long_wk', '%_Weekday_Trips', '%_start_night',\n",
              "       '%_start_evening', '%_start_afternoon', '%_start_morning',\n",
              "       '%_end_night', '%_end_evening', '%_end_afternoon', '%_end_morning',\n",
              "       'avg_Distance', 'avg_Distance_ex', '%_time_short', '%_time_mid',\n",
              "       '%_time_long', '%_travel_short', '%_travel_mid', '%_travel_long',\n",
              "       '%_start_night_wk', '%_start_evening_wk', '%_start_afternoon_wk',\n",
              "       '%_start_morning_wk', '%_end_night_wk', '%_end_evening_wk',\n",
              "       '%_end_afternoon_wk', '%_end_morning_wk', 'avg_Distance_wk',\n",
              "       'avg_Distance_ex_wk', '%_time_short_wk', '%_time_mid_wk',\n",
              "       '%_time_long_wk', '%_travel_short_wk', '%_travel_mid_wk',\n",
              "       '%_travel_long_wk', 'std_start_night', 'std_start_evening',\n",
              "       'std_start_afternoon', 'std_start_morning', 'std_end_night',\n",
              "       'std_end_evening', 'std_end_afternoon', 'std_end_morning',\n",
              "       'std_Distance', 'std_Distance_ex', 'std_time_short', 'std_time_mid',\n",
              "       'std_time_long', 'std_travel_short', 'std_travel_mid',\n",
              "       'std_travel_long', 'std_start_night_wk', 'std_start_evening_wk',\n",
              "       'std_start_afternoon_wk', 'std_start_morning_wk', 'std_end_night_wk',\n",
              "       'std_end_evening_wk', 'std_end_afternoon_wk', 'std_end_morning_wk',\n",
              "       'std_Distance_wk', 'std_Distance_ex_wk', 'std_time_short_wk',\n",
              "       'std_time_mid_wk', 'std_time_long_wk', 'std_travel_short_wk',\n",
              "       'std_travel_mid_wk', 'std_travel_long_wk', 'Total Number of Trips'],\n",
              "      dtype='object')"
            ]
          },
          "metadata": {},
          "execution_count": 128
        }
      ]
    },
    {
      "cell_type": "code",
      "source": [
        ""
      ],
      "metadata": {
        "id": "QGMIUXV6Dht1"
      },
      "execution_count": null,
      "outputs": []
    }
  ]
}