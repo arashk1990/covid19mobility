{
  "nbformat": 4,
  "nbformat_minor": 0,
  "metadata": {
    "colab": {
      "name": "clustering.ipynb",
      "provenance": [],
      "collapsed_sections": [],
      "mount_file_id": "https://github.com/arashk1990/covid19mobility/blob/main/models/clustering.ipynb",
      "authorship_tag": "ABX9TyPSk8zkGTouKrfYHlrPJrk1"
    },
    "kernelspec": {
      "name": "python3",
      "display_name": "Python 3"
    },
    "language_info": {
      "name": "python"
    }
  },
  "cells": [
    {
      "cell_type": "code",
      "execution_count": 60,
      "metadata": {
        "id": "WrfjwOkBgiLv"
      },
      "outputs": [],
      "source": [
        "#!pip install kneed\n",
        "import pandas as pd\n",
        "import sklearn\n",
        "import numpy as np\n",
        "from sklearn.cluster import KMeans\n",
        "from sklearn.preprocessing import MinMaxScaler\n",
        "from sklearn.decomposition import PCA\n",
        "from sklearn.metrics import silhouette_score\n",
        "#from yellowbrick.cluster import SilhouetteVisualizer\n",
        "import matplotlib.pyplot as plt\n",
        "from kneed import KneeLocator\n",
        "import scipy.stats as stats\n"
      ]
    },
    {
      "cell_type": "code",
      "source": [
        "NTS_dummy = pd.read_csv('/content/drive/MyDrive/socio_pred/UKDA-5340-tab/NTS_v2.csv')\n",
        "NTS_dummy.shape"
      ],
      "metadata": {
        "colab": {
          "base_uri": "https://localhost:8080/"
        },
        "id": "O4amB0NH8pdi",
        "outputId": "c7abbf8f-abb0-44f1-a2a4-04760c8ddbf5"
      },
      "execution_count": 49,
      "outputs": [
        {
          "output_type": "execute_result",
          "data": {
            "text/plain": [
              "(2445, 137)"
            ]
          },
          "metadata": {},
          "execution_count": 49
        }
      ]
    },
    {
      "cell_type": "code",
      "source": [
        "# replace NA with zero\n",
        "#na occurs for std of users with one trip, or count of users with no weekend trip\n",
        "NTS_dummy = NTS_dummy.fillna(0)"
      ],
      "metadata": {
        "id": "cvB65xJc60ba"
      },
      "execution_count": 50,
      "outputs": []
    },
    {
      "cell_type": "code",
      "source": [
        "mobility = NTS_dummy.iloc[:,38:]\n",
        "socio = NTS_dummy.drop(columns = ['IndividualID','SurveyYear']).iloc[:,0:36]"
      ],
      "metadata": {
        "id": "6KCdH3-wnPw7"
      },
      "execution_count": 52,
      "outputs": []
    },
    {
      "cell_type": "code",
      "source": [
        "socio_cols = {'age' : socio.columns[0:6],\n",
        "'sex' : socio.columns[6:8],\n",
        "'marital' : socio.columns[8:10],\n",
        "'income': socio.columns[10:13],\n",
        "'work': socio.columns[13:16],\n",
        "'hhincome': socio.columns[16:19],\n",
        "'hh_struc': socio.columns[19:25],\n",
        "'hh_work': socio.columns[25:28],\n",
        "'hh_socialclass': socio.columns[28:34],\n",
        "'urban_rural': socio.columns[34:36]}"
      ],
      "metadata": {
        "id": "UMeNnwUCQSmw"
      },
      "execution_count": 102,
      "outputs": []
    },
    {
      "cell_type": "markdown",
      "source": [
        "## K-means Clustering"
      ],
      "metadata": {
        "id": "iAvqXFaFnCXE"
      }
    },
    {
      "cell_type": "code",
      "source": [
        "#normalize\n",
        "x = mobility\n",
        "scaler = MinMaxScaler()\n",
        "x = scaler.fit_transform(x)\n",
        "#pca\n",
        "#keep 85% of variance explained by selected components\n",
        "pca = PCA(n_components=0.85)\n",
        "principalComponents = pca.fit_transform(x)\n",
        "pca.n_components_\n",
        "#11 components are selected"
      ],
      "metadata": {
        "id": "SXLCOQ0lnBdA",
        "outputId": "aaf5d0e3-c06d-4a5e-ee08-65daac70aa08",
        "colab": {
          "base_uri": "https://localhost:8080/"
        }
      },
      "execution_count": 95,
      "outputs": [
        {
          "output_type": "execute_result",
          "data": {
            "text/plain": [
              "11"
            ]
          },
          "metadata": {},
          "execution_count": 95
        }
      ]
    },
    {
      "cell_type": "code",
      "source": [
        "# number of clusters\n",
        " \n",
        "def elbow(pcs):\n",
        "\n",
        "  kmeans_kwargs = {\n",
        "      \"init\": \"random\",\n",
        "      \"n_init\": 10,\n",
        "      \"max_iter\": 300,\n",
        "      \"random_state\": 42,\n",
        "  }\n",
        "\n",
        "  # A list holds the SSE values for each k\n",
        "  sse = []\n",
        "  #fig, ax = plt.subplots(10, 2, figsize=(15,16))\n",
        "\n",
        "  max_cluster = min(20,df.shape[0])\n",
        "  for k in range(2, max_cluster):\n",
        "      kmeans = KMeans(n_clusters=k, **kmeans_kwargs)\n",
        "      kmeans.fit(pcs)\n",
        "      cluster_labels = kmeans.fit_predict(pcs)\n",
        "      silhouette_avg = silhouette_score(pcs, cluster_labels)\n",
        "      print(\n",
        "        \"For n_clusters =\",\n",
        "        k,\n",
        "        \"The average silhouette_score is :\",\n",
        "        silhouette_avg,\n",
        "    )\n",
        "      sse.append(kmeans.inertia_)\n",
        "      # q, mod = divmod(k, 2)\n",
        "      # '''\n",
        "      # Create SilhouetteVisualizer instance with KMeans instance\n",
        "      # Fit the visualizer\n",
        "      # '''\n",
        "      # visualizer = SilhouetteVisualizer(kmeans, colors='yellowbrick', ax=ax[q-1][mod])\n",
        "      # visualizer.fit(features)\n",
        "\n",
        "  plt.style.use(\"fivethirtyeight\")\n",
        "  plt.plot(range(2, max_cluster), sse)\n",
        "  plt.xticks(range(2, max_cluster,5))\n",
        "  plt.xlabel(\"Number of Clusters\")\n",
        "  plt.ylabel(\"SSE\")\n",
        "  plt.show()\n",
        "\n",
        "  kl = KneeLocator(\n",
        "    range(2, max_cluster), sse, curve=\"convex\", direction=\"decreasing\"\n",
        "  )\n",
        "  print('Number of clusters is:',  kl.elbow)\n",
        "  return \n",
        "\n",
        "elbow(principalComponents)"
      ],
      "metadata": {
        "id": "Qcv9PMhYpfkA",
        "outputId": "b5a90a66-55fe-4b49-f8c6-14ca3cb59e90",
        "colab": {
          "base_uri": "https://localhost:8080/",
          "height": 718
        }
      },
      "execution_count": 96,
      "outputs": [
        {
          "output_type": "stream",
          "name": "stdout",
          "text": [
            "For n_clusters = 2 The average silhouette_score is : 0.2012534938262388\n",
            "For n_clusters = 3 The average silhouette_score is : 0.20388800922488792\n",
            "For n_clusters = 4 The average silhouette_score is : 0.1664099587907127\n",
            "For n_clusters = 5 The average silhouette_score is : 0.16038689969555875\n",
            "For n_clusters = 6 The average silhouette_score is : 0.1576801177436541\n",
            "For n_clusters = 7 The average silhouette_score is : 0.16094201563606192\n",
            "For n_clusters = 8 The average silhouette_score is : 0.16445753190197696\n",
            "For n_clusters = 9 The average silhouette_score is : 0.15233916960553726\n",
            "For n_clusters = 10 The average silhouette_score is : 0.15893565593148543\n",
            "For n_clusters = 11 The average silhouette_score is : 0.15871451476835371\n",
            "For n_clusters = 12 The average silhouette_score is : 0.15370629962708243\n",
            "For n_clusters = 13 The average silhouette_score is : 0.15675248027921537\n",
            "For n_clusters = 14 The average silhouette_score is : 0.1545609381645003\n",
            "For n_clusters = 15 The average silhouette_score is : 0.15596794616278686\n",
            "For n_clusters = 16 The average silhouette_score is : 0.14831396742994268\n",
            "For n_clusters = 17 The average silhouette_score is : 0.15561955837982644\n",
            "For n_clusters = 18 The average silhouette_score is : 0.15635348298904106\n",
            "For n_clusters = 19 The average silhouette_score is : 0.1552669992318979\n"
          ]
        },
        {
          "output_type": "display_data",
          "data": {
            "text/plain": [
              "<Figure size 576x396 with 1 Axes>"
            ],
            "image/png": "[encoded data removed]"
          },
          "metadata": {}
        },
        {
          "output_type": "stream",
          "name": "stdout",
          "text": [
            "Number of clusters is: 8\n"
          ]
        }
      ]
    },
    {
      "cell_type": "code",
      "source": [
        "#kmeans function\n",
        "def kplot(pcs,k):\n",
        "\n",
        "  kmeans_kwargs = {\n",
        "    \"init\": \"random\",\n",
        "    \"n_init\": 10,\n",
        "    \"max_iter\": 300,\n",
        "    \"random_state\": 42,\n",
        "  }\n",
        "\n",
        "  kmeans = KMeans(n_clusters=k, **kmeans_kwargs)\n",
        "  kmeans.fit(pcs)\n",
        "  cluster_labels = kmeans.fit_predict(pcs)\n",
        "  df = pd.DataFrame(pcs)\n",
        "  df['label'] = kmeans.labels_\n",
        "  \n",
        "  return df"
      ],
      "metadata": {
        "id": "5YeFRZDQhJ8J"
      },
      "execution_count": 97,
      "outputs": []
    },
    {
      "cell_type": "code",
      "source": [
        "pc_df = kplot(principalComponents,8)"
      ],
      "metadata": {
        "id": "ziNbzhtc3aTt"
      },
      "execution_count": 100,
      "outputs": []
    },
    {
      "cell_type": "code",
      "source": [
        "pc_df.groupby('label').size()"
      ],
      "metadata": {
        "colab": {
          "base_uri": "https://localhost:8080/"
        },
        "id": "PelFODyDrtJI",
        "outputId": "74fc2a63-1b49-4109-f9c9-2b828cd4ddd2"
      },
      "execution_count": 101,
      "outputs": [
        {
          "output_type": "execute_result",
          "data": {
            "text/plain": [
              "label\n",
              "0    494\n",
              "1    245\n",
              "2     94\n",
              "3    111\n",
              "4    267\n",
              "5    266\n",
              "6    368\n",
              "7    600\n",
              "dtype: int64"
            ]
          },
          "metadata": {},
          "execution_count": 101
        }
      ]
    },
    {
      "cell_type": "code",
      "source": [
        "socio['label'] = pc_df['label']"
      ],
      "metadata": {
        "id": "HBb-EAqL1UhS"
      },
      "execution_count": 104,
      "outputs": []
    },
    {
      "cell_type": "markdown",
      "source": [
        "## Statistical Test for clusters\n"
      ],
      "metadata": {
        "id": "MwVOHpACVP0N"
      }
    },
    {
      "cell_type": "code",
      "source": [
        "def chi2stat(df,var):\n",
        "  df = df.groupby('label').sum()[var]\n",
        "  #for chi2 test, min freq should be at least 5\n",
        "  var2 = (df>4).all()[(df>4).all()==True].index \n",
        "  \n",
        "  chi2 = stats.chi2_contingency(df[var2])\n",
        "  if len(var2)<2:\n",
        "    print('Not enough data')\n",
        "  print('P_value: ',chi2[1])\n",
        "  return\n"
      ],
      "metadata": {
        "id": "fgwPr9Atf3Rr"
      },
      "execution_count": 106,
      "outputs": []
    },
    {
      "cell_type": "code",
      "source": [
        "vars = socio_cols.keys()\n",
        "\n",
        "for v in vars:\n",
        "  print(v)\n",
        "  chi2stat(socio,socio_cols[v])\n",
        "  print('-----')\n",
        "  "
      ],
      "metadata": {
        "colab": {
          "base_uri": "https://localhost:8080/"
        },
        "id": "Qtm3FJdylO3f",
        "outputId": "4b075046-4071-4470-b34e-d937d2229e40"
      },
      "execution_count": 107,
      "outputs": [
        {
          "output_type": "stream",
          "name": "stdout",
          "text": [
            "age\n",
            "P_value:  6.707624333679453e-41\n",
            "-----\n",
            "sex\n",
            "P_value:  1.4287815812030284e-13\n",
            "-----\n",
            "marital\n",
            "P_value:  0.0004611581068161544\n",
            "-----\n",
            "income\n",
            "P_value:  1.1097609660102015e-30\n",
            "-----\n",
            "work\n",
            "P_value:  8.870883361020928e-73\n",
            "-----\n",
            "hhincome\n",
            "P_value:  2.1880000401390716e-29\n",
            "-----\n",
            "hh_struc\n",
            "P_value:  1.5581408881419442e-12\n",
            "-----\n",
            "hh_work\n",
            "P_value:  1.0140532068590497e-47\n",
            "-----\n",
            "hh_socialclass\n",
            "P_value:  2.986022716419507e-47\n",
            "-----\n",
            "urban_rural\n",
            "P_value:  0.014864434516538605\n",
            "-----\n"
          ]
        }
      ]
    },
    {
      "cell_type": "markdown",
      "source": [
        "All sociodemographic variables are significantly different among clusters"
      ],
      "metadata": {
        "id": "EWthUGZ41oG2"
      }
    },
    {
      "cell_type": "code",
      "source": [
        "#mobility.corr().style.background_gradient(cmap='coolwarm')"
      ],
      "metadata": {
        "id": "eoNrncUmlXo8"
      },
      "execution_count": 39,
      "outputs": []
    }
  ]
}