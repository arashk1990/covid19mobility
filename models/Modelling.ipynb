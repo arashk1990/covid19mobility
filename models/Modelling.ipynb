{
  "nbformat": 4,
  "nbformat_minor": 0,
  "metadata": {
    "colab": {
      "name": "Modelling.ipynb",
      "provenance": [],
      "collapsed_sections": [],
      "mount_file_id": "1GO5iYrX2BcTZmu_yZvJhIEEHzazK_da7",
      "authorship_tag": "ABX9TyO8oJb5PM5BruMsM+Wcd+VB"
    },
    "kernelspec": {
      "name": "python3",
      "display_name": "Python 3"
    },
    "language_info": {
      "name": "python"
    }
  },
  "cells": [
    {
      "cell_type": "code",
      "execution_count": 35,
      "metadata": {
        "id": "I_ib9efO18jN"
      },
      "outputs": [],
      "source": [
        "from sklearn.model_selection import train_test_split\n",
        "import pandas as pd\n",
        "import sklearn\n",
        "import numpy as np\n",
        "from sklearn.preprocessing import LabelEncoder, MinMaxScaler\n",
        "from sklearn.model_selection import cross_val_score,RepeatedStratifiedKFold\n",
        "from sklearn.linear_model import LogisticRegression\n",
        "from sklearn.ensemble import RandomForestClassifier\n",
        "from sklearn.decomposition import PCA\n",
        "from numpy import mean, std"
      ]
    },
    {
      "cell_type": "code",
      "source": [
        "NTS_dummy = pd.read_csv('/content/drive/MyDrive/socio_pred/UKDA-5340-tab/NTS_v2.csv')\n",
        "# replace NA with zero\n",
        "#na occurs for std of users with one trip, or count of users with no weekend trip\n",
        "NTS_dummy = NTS_dummy.fillna(0)\n",
        "\n",
        "mobility = NTS_dummy.iloc[:,38:]\n",
        "socio = NTS_dummy.drop(columns = ['IndividualID','SurveyYear']).iloc[:,0:36]\n",
        "\n",
        "socio_cols = {'age' : socio.columns[0:6],\n",
        "'sex' : socio.columns[6:8],\n",
        "'marital' : socio.columns[8:10],\n",
        "'income': socio.columns[10:13],\n",
        "'work': socio.columns[13:16],\n",
        "'hhincome': socio.columns[16:19],\n",
        "'hh_struc': socio.columns[19:25],\n",
        "'hh_work': socio.columns[25:28],\n",
        "'hh_socialclass': socio.columns[28:34],\n",
        "'urban_rural': socio.columns[34:36]}"
      ],
      "metadata": {
        "id": "5qdBqirM2vBQ"
      },
      "execution_count": 3,
      "outputs": []
    },
    {
      "cell_type": "code",
      "source": [
        "# Train Test split\n",
        "mobility = NTS_dummy.iloc[:,38:]\n",
        "socio = NTS_dummy.drop(columns = ['IndividualID','SurveyYear']).iloc[:,0:36]\n",
        "X_train, X_test, y_all_tr, y_all_ts = train_test_split(mobility, socio, random_state=42)\n",
        "\n"
      ],
      "metadata": {
        "id": "3qRfV4W42DFd"
      },
      "execution_count": 18,
      "outputs": []
    },
    {
      "cell_type": "code",
      "source": [
        "#normalize\n",
        "scaler = MinMaxScaler().fit(X_train)\n",
        "X_train = pd.DataFrame(scaler.transform(X_train),columns = X_train.columns)\n",
        "#PCA\n",
        "pca = PCA(n_components=0.85) #85% of variance explained\n",
        "PC_train = pca.fit_transform(X_train)\n",
        "\n",
        "#transoform test set\n",
        "X_test = pd.DataFrame(scaler.transform(X_test),columns = X_test.columns)\n",
        "PC_test = pca.transform(X_test)\n",
        "\n",
        "\n",
        "#principalDf = pd.DataFrame(data = principalComponents)\n",
        "pca.n_components_\n"
      ],
      "metadata": {
        "colab": {
          "base_uri": "https://localhost:8080/"
        },
        "id": "OVoE78vt6LoJ",
        "outputId": "987da7ab-b025-4fe9-c76f-3c69a4b523bc"
      },
      "execution_count": 37,
      "outputs": [
        {
          "output_type": "execute_result",
          "data": {
            "text/plain": [
              "10"
            ]
          },
          "metadata": {},
          "execution_count": 37
        }
      ]
    },
    {
      "cell_type": "code",
      "source": [
        "#select dependant var\n",
        "def dependant(train,test,cols,var):\n",
        "  y_train = train[cols[var]]\n",
        "  y_test = test[cols[var]]\n",
        "\n",
        "  # convert to one columns labeles\n",
        "  label_encoder = LabelEncoder()\n",
        "  y_train = y_train.idxmax(axis=1)\n",
        "  y_test = y_test.idxmax(axis=1)\n",
        "  label_encoder.fit(y_train)\n",
        "  y_train = label_encoder.transform(y_train)\n",
        "  y_test = label_encoder.transform(y_test)\n",
        "\n",
        "\n",
        "\n",
        "  return y_train,y_test,label_encoder"
      ],
      "metadata": {
        "id": "1WErj5te6EH-"
      },
      "execution_count": 40,
      "outputs": []
    },
    {
      "cell_type": "markdown",
      "source": [
        "#Dependant variable: Age category"
      ],
      "metadata": {
        "id": "lSDyFwdfAHUF"
      }
    },
    {
      "cell_type": "code",
      "source": [
        "y_train,y_test, le = dependant(y_all_tr,y_all_ts,socio_cols,'age')\n",
        "#to get back labels\n",
        "#le.inverse_transform(y_train)"
      ],
      "metadata": {
        "id": "c1UZjzfpAGyG"
      },
      "execution_count": 42,
      "outputs": []
    },
    {
      "cell_type": "markdown",
      "source": [
        "## RF"
      ],
      "metadata": {
        "id": "RlSX_u2dARUP"
      }
    },
    {
      "cell_type": "code",
      "source": [
        "#feature_names = mobility.iloc[:,:-1].columns\n",
        "forest_age = RandomForestClassifier(n_estimators=200, criterion='gini',\\\n",
        "                                    min_samples_split=5, min_samples_leaf=2,\\\n",
        "                                    max_features='auto', bootstrap=True,\\\n",
        "                                    n_jobs=-1, random_state=42)\n",
        "\n",
        "forest_age.fit(PC_train,y_train)\n",
        "y_pred = forest_age.predict(PC_test)\n",
        "\n",
        "from sklearn.metrics import confusion_matrix\n",
        "print(confusion_matrix(y_test, y_pred))\n",
        "from sklearn import metrics\n",
        "print(metrics.accuracy_score(y_test, y_pred))\n",
        "# # define the model evaluation procedure\n",
        "# cv = RepeatedStratifiedKFold(n_splits=10, n_repeats=3, random_state=1)\n",
        "# # evaluate the model and collect the scores\n",
        "# n_scores = cross_val_score(forest, X_train, y_train, scoring='accuracy', cv=cv, n_jobs=-1)\n",
        "# # report the model performance\n",
        "# print('Mean Accuracy: %.3f (%.3f)' % (mean(n_scores), std(n_scores)))\n",
        "\n",
        "\n"
      ],
      "metadata": {
        "colab": {
          "base_uri": "https://localhost:8080/"
        },
        "id": "aZRK3i55tyIT",
        "outputId": "94981bb7-e5ae-49b8-ac4c-649d96bd7439"
      },
      "execution_count": 43,
      "outputs": [
        {
          "output_type": "stream",
          "name": "stdout",
          "text": [
            "[[  0   0   0  11   1   0]\n",
            " [  0   0   5  47   1   0]\n",
            " [  0   0   7  88  16   1]\n",
            " [  0   0   3  87  15   1]\n",
            " [  0   0  11  98  14   6]\n",
            " [  0   0  18 143  26  13]]\n",
            "0.1977124183006536\n"
          ]
        }
      ]
    },
    {
      "cell_type": "code",
      "source": [
        "from sklearn.model_selection import GridSearchCV\n",
        "\n",
        "# Create the parameter grid based on the results of random search \n",
        "param_grid = {\n",
        "    'max_depth': [10,15],\n",
        "    'max_features': [2,4],\n",
        "    'min_samples_leaf': [1, 5],\n",
        "    'min_samples_split': [2,5],\n",
        "    'n_estimators': [100, 200, 500]\n",
        "}\n",
        "# Create a based model\n",
        "rf = RandomForestClassifier()\n",
        "# Instantiate the grid search model\n",
        "grid_search = GridSearchCV(estimator = rf, param_grid = param_grid, \n",
        "                          cv = 8, n_jobs = -1, verbose = 5)\n",
        "\n",
        "# Fit the grid search to the data\n",
        "grid_search.fit(PC_train,y_train)"
      ],
      "metadata": {
        "colab": {
          "base_uri": "https://localhost:8080/"
        },
        "id": "TY7-q-dnFSG2",
        "outputId": "5376d3cd-f82e-4063-f498-d44bc07607fd"
      },
      "execution_count": null,
      "outputs": [
        {
          "output_type": "stream",
          "name": "stdout",
          "text": [
            "Fitting 8 folds for each of 384 candidates, totalling 3072 fits\n"
          ]
        }
      ]
    },
    {
      "cell_type": "code",
      "source": [
        "samp = socio[income]\n",
        "samp['TripEnd_B01ID_9'] = mobility['TripEnd_B01ID_9'] #most important\n",
        "samp['TripStart_B01ID_4'] = mobility['TripStart_B01ID_4'] #least important"
      ],
      "metadata": {
        "colab": {
          "base_uri": "https://localhost:8080/"
        },
        "id": "VMytNHw44NXp",
        "outputId": "ddc83ee3-6bde-49fd-e06b-87ea2268ed20"
      },
      "execution_count": null,
      "outputs": [
        {
          "output_type": "stream",
          "name": "stderr",
          "text": [
            "/usr/local/lib/python3.7/dist-packages/ipykernel_launcher.py:2: SettingWithCopyWarning: \n",
            "A value is trying to be set on a copy of a slice from a DataFrame.\n",
            "Try using .loc[row_indexer,col_indexer] = value instead\n",
            "\n",
            "See the caveats in the documentation: https://pandas.pydata.org/pandas-docs/stable/user_guide/indexing.html#returning-a-view-versus-a-copy\n",
            "  \n",
            "/usr/local/lib/python3.7/dist-packages/ipykernel_launcher.py:3: SettingWithCopyWarning: \n",
            "A value is trying to be set on a copy of a slice from a DataFrame.\n",
            "Try using .loc[row_indexer,col_indexer] = value instead\n",
            "\n",
            "See the caveats in the documentation: https://pandas.pydata.org/pandas-docs/stable/user_guide/indexing.html#returning-a-view-versus-a-copy\n",
            "  This is separate from the ipykernel package so we can avoid doing imports until\n"
          ]
        }
      ]
    },
    {
      "cell_type": "code",
      "source": [
        "#sample of the most important factor for predictin income\n",
        "#avg number of trips for lower income\n",
        "samp[samp['IndIncome2002_B02ID_1']==1]['TripEnd_B01ID_9'].mean()"
      ],
      "metadata": {
        "colab": {
          "base_uri": "https://localhost:8080/"
        },
        "id": "Fap1mZPp458j",
        "outputId": "5d1827d1-d302-4cc5-dac1-f3b4b26a227b"
      },
      "execution_count": null,
      "outputs": [
        {
          "output_type": "execute_result",
          "data": {
            "text/plain": [
              "1.3994252873563218"
            ]
          },
          "metadata": {},
          "execution_count": 494
        }
      ]
    },
    {
      "cell_type": "code",
      "source": [
        "#avg number of trips for middle income\n",
        "\n",
        "samp[samp['IndIncome2002_B02ID_2']==1]['TripEnd_B01ID_9'].mean()"
      ],
      "metadata": {
        "colab": {
          "base_uri": "https://localhost:8080/"
        },
        "id": "oTU1mFrU5ZCJ",
        "outputId": "12a78a08-b027-4712-abd2-648d911cf878"
      },
      "execution_count": null,
      "outputs": [
        {
          "output_type": "execute_result",
          "data": {
            "text/plain": [
              "1.6370967741935485"
            ]
          },
          "metadata": {},
          "execution_count": 495
        }
      ]
    },
    {
      "cell_type": "code",
      "source": [
        "#avg number of trips for higher income\n",
        "samp[samp['IndIncome2002_B02ID_3']==1]['TripEnd_B01ID_9'].mean()"
      ],
      "metadata": {
        "colab": {
          "base_uri": "https://localhost:8080/"
        },
        "id": "OgSSxn085brM",
        "outputId": "51240389-ba9c-44a6-c003-b314d4dc415f"
      },
      "execution_count": null,
      "outputs": [
        {
          "output_type": "execute_result",
          "data": {
            "text/plain": [
              "1.7831715210355987"
            ]
          },
          "metadata": {},
          "execution_count": 496
        }
      ]
    },
    {
      "cell_type": "code",
      "source": [
        "#sample of the least important factor for predicting income\n",
        "#avg number of trips for lower income\n",
        "\n",
        "samp[samp['IndIncome2002_B02ID_1']==1]['TripStart_B01ID_4'].mean()"
      ],
      "metadata": {
        "colab": {
          "base_uri": "https://localhost:8080/"
        },
        "id": "RJo1hRp96qHb",
        "outputId": "afd87895-427d-4c97-ba18-d06f51a27514"
      },
      "execution_count": null,
      "outputs": [
        {
          "output_type": "execute_result",
          "data": {
            "text/plain": [
              "0.004310344827586207"
            ]
          },
          "metadata": {},
          "execution_count": 497
        }
      ]
    },
    {
      "cell_type": "code",
      "source": [
        "#avg number of trips for middle income\n",
        "\n",
        "samp[samp['IndIncome2002_B02ID_2']==1]['TripStart_B01ID_4'].mean()"
      ],
      "metadata": {
        "colab": {
          "base_uri": "https://localhost:8080/"
        },
        "id": "XvhziK7k64Az",
        "outputId": "756c9a7d-f642-4ef3-8518-d61df16063db"
      },
      "execution_count": null,
      "outputs": [
        {
          "output_type": "execute_result",
          "data": {
            "text/plain": [
              "0.004032258064516129"
            ]
          },
          "metadata": {},
          "execution_count": 498
        }
      ]
    },
    {
      "cell_type": "code",
      "source": [
        "#avg number of trips for higher income\n",
        "samp[samp['IndIncome2002_B02ID_3']==1]['TripStart_B01ID_4'].mean()"
      ],
      "metadata": {
        "colab": {
          "base_uri": "https://localhost:8080/"
        },
        "id": "u48nMKhz7J3_",
        "outputId": "810686e6-a88b-4395-8e0d-b5158c233d88"
      },
      "execution_count": null,
      "outputs": [
        {
          "output_type": "execute_result",
          "data": {
            "text/plain": [
              "0.003236245954692557"
            ]
          },
          "metadata": {},
          "execution_count": 499
        }
      ]
    },
    {
      "cell_type": "code",
      "source": [
        "from sklearn.linear_model import LogisticRegression\n",
        "model = LogisticRegression(multi_class='multinomial', solver='lbfgs')\n",
        "# define the model evaluation procedure\n",
        "cv = RepeatedStratifiedKFold(n_splits=10, n_repeats=3, random_state=1)\n",
        "# evaluate the model and collect the scores\n",
        "n_scores = cross_val_score(model, x, y, scoring='accuracy', cv=cv, n_jobs=-1)\n",
        "# report the model performance\n",
        "print('Mean Accuracy: %.3f' % (mean(n_scores)))"
      ],
      "metadata": {
        "colab": {
          "base_uri": "https://localhost:8080/"
        },
        "id": "y1czvn3x0b-a",
        "outputId": "4ecd2a2f-f6ec-49c0-db9d-40bb63d7a8d7"
      },
      "execution_count": null,
      "outputs": [
        {
          "output_type": "stream",
          "name": "stdout",
          "text": [
            "Mean Accuracy: 0.579\n"
          ]
        }
      ]
    }
  ]
}