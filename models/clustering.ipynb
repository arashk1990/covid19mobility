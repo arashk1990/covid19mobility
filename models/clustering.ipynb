{
  "nbformat": 4,
  "nbformat_minor": 0,
  "metadata": {
    "colab": {
      "name": "clustering.ipynb",
      "provenance": [],
      "collapsed_sections": [],
      "mount_file_id": "https://github.com/arashk1990/covid19mobility/blob/main/models/clustering.ipynb",
      "authorship_tag": "ABX9TyPCPsIduLXzUM+Q+3hPLxWu"
    },
    "kernelspec": {
      "name": "python3",
      "display_name": "Python 3"
    },
    "language_info": {
      "name": "python"
    }
  },
  "cells": [
    {
      "cell_type": "code",
      "execution_count": 1,
      "metadata": {
        "id": "WrfjwOkBgiLv",
        "outputId": "2a805af0-46d4-493e-94c1-50e7891aef7d",
        "colab": {
          "base_uri": "https://localhost:8080/"
        }
      },
      "outputs": [
        {
          "output_type": "stream",
          "name": "stdout",
          "text": [
            "Looking in indexes: https://pypi.org/simple, https://us-python.pkg.dev/colab-wheels/public/simple/\n",
            "Collecting kneed\n",
            "  Downloading kneed-0.8.1-py2.py3-none-any.whl (10 kB)\n",
            "Requirement already satisfied: numpy>=1.14.2 in /usr/local/lib/python3.7/dist-packages (from kneed) (1.21.6)\n",
            "Requirement already satisfied: scipy>=1.0.0 in /usr/local/lib/python3.7/dist-packages (from kneed) (1.7.3)\n",
            "Installing collected packages: kneed\n",
            "Successfully installed kneed-0.8.1\n"
          ]
        }
      ],
      "source": [
        "!pip install kneed\n",
        "import pandas as pd\n",
        "import sklearn\n",
        "import numpy as np\n",
        "from sklearn.cluster import KMeans\n",
        "from sklearn.preprocessing import MinMaxScaler\n",
        "from sklearn.decomposition import PCA\n",
        "from sklearn.metrics import silhouette_score\n",
        "#from yellowbrick.cluster import SilhouetteVisualizer\n",
        "import matplotlib.pyplot as plt\n",
        "from kneed import KneeLocator\n",
        "import scipy.stats as stats\n"
      ]
    },
    {
      "cell_type": "code",
      "source": [
        "NTS_dummy = pd.read_csv('/content/drive/MyDrive/socio_pred/UKDA-5340-tab/NTS_v2.csv')\n",
        "NTS_dummy.shape"
      ],
      "metadata": {
        "colab": {
          "base_uri": "https://localhost:8080/"
        },
        "id": "O4amB0NH8pdi",
        "outputId": "2899a9a4-5abd-42fd-9289-663917e17dc7"
      },
      "execution_count": 2,
      "outputs": [
        {
          "output_type": "execute_result",
          "data": {
            "text/plain": [
              "(2445, 174)"
            ]
          },
          "metadata": {},
          "execution_count": 2
        }
      ]
    },
    {
      "cell_type": "code",
      "source": [
        "# replace NA with zero\n",
        "#na occurs for std of users with one trip, or count of users with no weekend trip\n",
        "NTS_dummy = NTS_dummy.fillna(0)"
      ],
      "metadata": {
        "id": "cvB65xJc60ba"
      },
      "execution_count": 3,
      "outputs": []
    },
    {
      "cell_type": "code",
      "source": [
        "mobility = NTS_dummy.iloc[:,51:]\n",
        "socio = NTS_dummy.drop(columns = ['IndividualID','SurveyYear']).iloc[:,0:49]"
      ],
      "metadata": {
        "id": "6KCdH3-wnPw7"
      },
      "execution_count": 4,
      "outputs": []
    },
    {
      "cell_type": "code",
      "source": [
        "socio_cols = {'age' : socio.columns[0:6],\n",
        "'sex' : socio.columns[6:8],\n",
        "'marital' : socio.columns[8:10],\n",
        "'income': socio.columns[10:13],\n",
        "'work': socio.columns[13:16],\n",
        "'hhincome': socio.columns[16:19],\n",
        "'hh_struc': socio.columns[19:25],\n",
        "'hh_work': socio.columns[25:28],\n",
        "'hh_socialclass': socio.columns[28:34],\n",
        "'urban_rural': socio.columns[34:36],\n",
        "'region':socio.columns[36:49]}"
      ],
      "metadata": {
        "id": "UMeNnwUCQSmw"
      },
      "execution_count": 5,
      "outputs": []
    },
    {
      "cell_type": "markdown",
      "source": [
        "## K-means Clustering"
      ],
      "metadata": {
        "id": "iAvqXFaFnCXE"
      }
    },
    {
      "cell_type": "code",
      "source": [
        "#normalize\n",
        "x = mobility\n",
        "scaler = MinMaxScaler()\n",
        "x = scaler.fit_transform(x)\n",
        "#pca\n",
        "#keep 80% of variance explained by selected components\n",
        "pca = PCA(n_components=0.80)\n",
        "principalComponents = pca.fit_transform(x)\n",
        "pca.n_components_\n",
        "#9 components are selected"
      ],
      "metadata": {
        "colab": {
          "base_uri": "https://localhost:8080/"
        },
        "id": "SXLCOQ0lnBdA",
        "outputId": "8151bb9d-4ae1-44db-ccba-d4b6a8d7b184"
      },
      "execution_count": 7,
      "outputs": [
        {
          "output_type": "execute_result",
          "data": {
            "text/plain": [
              "9"
            ]
          },
          "metadata": {},
          "execution_count": 7
        }
      ]
    },
    {
      "cell_type": "markdown",
      "source": [
        "#component big contributers\n"
      ],
      "metadata": {
        "id": "vmh0lHNrZO9o"
      }
    },
    {
      "cell_type": "code",
      "source": [
        "#TOP 10 vars \n",
        "#PC1\n",
        "pd.DataFrame(pca.components_,columns=mobility.columns).iloc[0,:]\\\n",
        ".sort_values(ascending=False,key=abs)[0:10]\n",
        "# PC1: NOT having shorter travel times and distances, percentage and std"
      ],
      "metadata": {
        "colab": {
          "base_uri": "https://localhost:8080/"
        },
        "id": "E3PvC_JWCNKm",
        "outputId": "b6a80722-f394-4766-fdcc-eff899c18f88"
      },
      "execution_count": 9,
      "outputs": [
        {
          "output_type": "execute_result",
          "data": {
            "text/plain": [
              "%_travel_short_wk     -0.255928\n",
              "%_time_short_wk       -0.249681\n",
              "%_travel_short        -0.232220\n",
              "%_time_short          -0.226694\n",
              "std_time_short_wk     -0.225946\n",
              "std_travel_short_wk   -0.217906\n",
              "%_end_offpeak_wk      -0.204147\n",
              "%_travel_mid_wk        0.202410\n",
              "%_start_offpeak_wk    -0.198838\n",
              "std_time_short        -0.194920\n",
              "Name: 0, dtype: float64"
            ]
          },
          "metadata": {},
          "execution_count": 9
        }
      ]
    },
    {
      "cell_type": "code",
      "source": [
        "#PC2\n",
        "pd.DataFrame(pca.components_,columns=mobility.columns).iloc[1,:]\\\n",
        ".sort_values(ascending=False,key =abs)[:10]\n",
        "#NOT doing trips regularly during the morning peak \n",
        "#high percentage of offpeak trips"
      ],
      "metadata": {
        "colab": {
          "base_uri": "https://localhost:8080/"
        },
        "id": "X4CotS03Izw1",
        "outputId": "d2840485-d5d3-4bbe-fd77-1c55a9578ac0"
      },
      "execution_count": 10,
      "outputs": [
        {
          "output_type": "execute_result",
          "data": {
            "text/plain": [
              "std_end_morningpeak_wk     -0.228051\n",
              "std_start_morningpeak_wk   -0.209846\n",
              "%_end_offpeak_wk            0.201388\n",
              "%_start_offpeak_wk          0.200031\n",
              "std_end_morningpeak        -0.199445\n",
              "std_start_eveningpeak_wk   -0.190909\n",
              "%_end_offpeak               0.190377\n",
              "%_start_offpeak             0.190114\n",
              "std_start_morningpeak      -0.179956\n",
              "std_end_eveningpeak_wk     -0.164677\n",
              "Name: 1, dtype: float64"
            ]
          },
          "metadata": {},
          "execution_count": 10
        }
      ]
    },
    {
      "cell_type": "code",
      "source": [
        "#PC3\n",
        "pd.DataFrame(pca.components_,columns=mobility.columns).iloc[2,:]\\\n",
        ".sort_values(ascending=False,key=abs)[:10]\n",
        "#often having long trip distance and travel \n"
      ],
      "metadata": {
        "colab": {
          "base_uri": "https://localhost:8080/"
        },
        "id": "l0tRgQ5wPZ-g",
        "outputId": "90c51750-ad6a-4959-d0a0-7af04c268e9f"
      },
      "execution_count": 21,
      "outputs": [
        {
          "output_type": "execute_result",
          "data": {
            "text/plain": [
              "std_time_long               0.274842\n",
              "std_time_long_wk            0.271837\n",
              "std_travel_long             0.266657\n",
              "std_travel_long_wk          0.261571\n",
              "std_end_night_wk            0.181912\n",
              "std_end_night               0.170730\n",
              "std_end_morningpeak_wk     -0.157150\n",
              "std_end_morningpeak        -0.152129\n",
              "%_time_long_wk              0.151031\n",
              "std_start_morningpeak_wk   -0.149868\n",
              "Name: 2, dtype: float64"
            ]
          },
          "metadata": {},
          "execution_count": 21
        }
      ]
    },
    {
      "cell_type": "code",
      "source": [
        "#PC4\n",
        "pd.DataFrame(pca.components_,columns=mobility.columns).iloc[3,:]\\\n",
        ".sort_values(ascending=False,key=abs)[:10]\n",
        "#Not having mid-range trips, more inclined to short trips not happening offpeak"
      ],
      "metadata": {
        "colab": {
          "base_uri": "https://localhost:8080/"
        },
        "id": "ItLRYXqJPtA3",
        "outputId": "afd823f3-4a16-4762-8466-cb4049f7c73b"
      },
      "execution_count": 12,
      "outputs": [
        {
          "output_type": "execute_result",
          "data": {
            "text/plain": [
              "%_time_mid_wk              -0.286693\n",
              "%_travel_mid_wk            -0.280170\n",
              "%_time_mid                 -0.234851\n",
              "%_travel_mid               -0.229922\n",
              "std_end_offpeak_wk         -0.192447\n",
              "std_start_offpeak_wk       -0.190252\n",
              "std_travel_mid_wk          -0.181709\n",
              "std_start_morningpeak_wk   -0.178880\n",
              "%_time_short_wk             0.175349\n",
              "std_time_mid_wk            -0.174590\n",
              "Name: 3, dtype: float64"
            ]
          },
          "metadata": {},
          "execution_count": 12
        }
      ]
    },
    {
      "cell_type": "code",
      "source": [
        "#PC5\n",
        "pd.DataFrame(pca.components_,columns=mobility.columns).iloc[4,:]\\\n",
        ".sort_values(ascending=False,key=abs)[:10]\n",
        "#Often having long trips happening at morning or early morning"
      ],
      "metadata": {
        "colab": {
          "base_uri": "https://localhost:8080/"
        },
        "id": "8yp9t_nBQFiL",
        "outputId": "e5f939bc-da49-4db6-c6b0-eed094e76703"
      },
      "execution_count": 30,
      "outputs": [
        {
          "output_type": "execute_result",
          "data": {
            "text/plain": [
              "std_start_night_wk   -0.240159\n",
              "std_start_night      -0.226148\n",
              "std_time_long         0.221821\n",
              "std_travel_long       0.219701\n",
              "%_time_mid_wk        -0.209111\n",
              "std_end_night_wk     -0.203022\n",
              "std_time_long_wk      0.202647\n",
              "std_travel_long_wk    0.201726\n",
              "%_time_long_wk        0.196240\n",
              "std_end_night        -0.193962\n",
              "Name: 4, dtype: float64"
            ]
          },
          "metadata": {},
          "execution_count": 30
        }
      ]
    },
    {
      "cell_type": "code",
      "source": [
        "#PC6\n",
        "pd.DataFrame(pca.components_,columns=mobility.columns).iloc[5,:]\\\n",
        ".sort_values(ascending=False,key=abs)[:10]\n",
        "#often night trips, not evening peak "
      ],
      "metadata": {
        "colab": {
          "base_uri": "https://localhost:8080/"
        },
        "id": "EkiFDPI2QULP",
        "outputId": "2e0b5ed8-c8df-49fa-cbfd-f5348115c217"
      },
      "execution_count": 33,
      "outputs": [
        {
          "output_type": "execute_result",
          "data": {
            "text/plain": [
              "std_end_eveningpeak_wk     -0.268081\n",
              "std_end_night_wk            0.244712\n",
              "std_end_night               0.236276\n",
              "std_start_night_wk          0.231143\n",
              "std_end_eveningpeak        -0.230149\n",
              "std_start_eveningpeak_wk   -0.229581\n",
              "std_start_night             0.225512\n",
              "std_start_eveningpeak      -0.199384\n",
              "%_end_eveningpeak_wk       -0.192261\n",
              "%_end_eveningpeak          -0.161743\n",
              "Name: 5, dtype: float64"
            ]
          },
          "metadata": {},
          "execution_count": 33
        }
      ]
    },
    {
      "cell_type": "code",
      "source": [
        "#PC7\n",
        "pd.DataFrame(pca.components_,columns=mobility.columns).iloc[6,:]\\\n",
        ".sort_values(ascending=False,key=abs)[:10]\n",
        "#often early in the morning travelers "
      ],
      "metadata": {
        "colab": {
          "base_uri": "https://localhost:8080/"
        },
        "id": "bPzygAtkQfxL",
        "outputId": "f58ba640-92ab-4f55-d9f4-5c5da50a2352"
      },
      "execution_count": 34,
      "outputs": [
        {
          "output_type": "execute_result",
          "data": {
            "text/plain": [
              "std_start_earlymorning_wk      0.323354\n",
              "std_start_earlymorning         0.312439\n",
              "std_end_earlymorning_wk        0.236875\n",
              "std_end_earlymorning           0.234977\n",
              "std_end_eveningpeak_wk        -0.217096\n",
              "std_start_eveningpeak_wk      -0.197797\n",
              "std_end_offpeak_wk            -0.190907\n",
              "std_end_eveningpeak           -0.186999\n",
              "Count_start_earlymorning_wk    0.177423\n",
              "Count_start_earlymorning       0.175193\n",
              "Name: 6, dtype: float64"
            ]
          },
          "metadata": {},
          "execution_count": 34
        }
      ]
    },
    {
      "cell_type": "code",
      "source": [
        "#PC8\n",
        "pd.DataFrame(pca.components_,columns=mobility.columns).iloc[7,:]\\\n",
        ".sort_values(ascending=False,key=abs)[:10]\n",
        "#often offpeak and early morning travelers"
      ],
      "metadata": {
        "colab": {
          "base_uri": "https://localhost:8080/"
        },
        "id": "xMttbMhPQwXH",
        "outputId": "748a666f-c1e2-429d-b0bd-123f1e27f18c"
      },
      "execution_count": 37,
      "outputs": [
        {
          "output_type": "execute_result",
          "data": {
            "text/plain": [
              "std_start_offpeak_wk         0.362342\n",
              "std_end_offpeak_wk           0.351864\n",
              "std_start_earlymorning_wk    0.244127\n",
              "std_start_earlymorning       0.228613\n",
              "std_start_offpeak            0.196821\n",
              "std_end_earlymorning_wk      0.189764\n",
              "std_end_offpeak              0.189637\n",
              "std_travel_mid              -0.180916\n",
              "std_end_earlymorning         0.179225\n",
              "std_time_mid                -0.171659\n",
              "Name: 7, dtype: float64"
            ]
          },
          "metadata": {},
          "execution_count": 37
        }
      ]
    },
    {
      "cell_type": "code",
      "source": [
        "#PC9\n",
        "pd.DataFrame(pca.components_,columns=mobility.columns).iloc[8,:]\\\n",
        ".sort_values(ascending=False,key=abs)[:10]\n",
        "#often offpeak/evening peak travelers + high number of trips"
      ],
      "metadata": {
        "colab": {
          "base_uri": "https://localhost:8080/"
        },
        "id": "StFzpLczQ6cP",
        "outputId": "e22fc8e0-0af9-4159-aa29-c61312c28bc6"
      },
      "execution_count": 39,
      "outputs": [
        {
          "output_type": "execute_result",
          "data": {
            "text/plain": [
              "std_end_offpeak_wk           -0.278305\n",
              "std_start_offpeak_wk         -0.270132\n",
              "std_end_offpeak              -0.252600\n",
              "std_start_offpeak            -0.248318\n",
              "Count_Weekday_Trips           0.219420\n",
              "Total Number of Trips         0.213733\n",
              "Count_start_eveningpeak_wk    0.188308\n",
              "Count_end_eveningpeak         0.186049\n",
              "Count_end_eveningpeak_wk      0.183731\n",
              "Count_start_offpeak           0.182076\n",
              "Name: 8, dtype: float64"
            ]
          },
          "metadata": {},
          "execution_count": 39
        }
      ]
    },
    {
      "cell_type": "code",
      "source": [
        "# number of clusters\n",
        " \n",
        "def elbow(pcs):\n",
        "\n",
        "  kmeans_kwargs = {\n",
        "      \"init\": \"random\",\n",
        "      \"n_init\": 10,\n",
        "      \"max_iter\": 300,\n",
        "      \"random_state\": 42,\n",
        "  }\n",
        "\n",
        "  # A list holds the SSE values for each k\n",
        "  sse = []\n",
        "  #fig, ax = plt.subplots(10, 2, figsize=(15,16))\n",
        "\n",
        "  max_cluster = min(20,pcs.shape[0])\n",
        "  for k in range(2, max_cluster):\n",
        "      kmeans = KMeans(n_clusters=k, **kmeans_kwargs)\n",
        "      kmeans.fit(pcs)\n",
        "      cluster_labels = kmeans.fit_predict(pcs)\n",
        "      silhouette_avg = silhouette_score(pcs, cluster_labels)\n",
        "      print(\n",
        "        \"For n_clusters =\",\n",
        "        k,\n",
        "        \"The average silhouette_score is :\",\n",
        "        silhouette_avg,\n",
        "    )\n",
        "      sse.append(kmeans.inertia_)\n",
        "      # q, mod = divmod(k, 2)\n",
        "      # '''\n",
        "      # Create SilhouetteVisualizer instance with KMeans instance\n",
        "      # Fit the visualizer\n",
        "      # '''\n",
        "      # visualizer = SilhouetteVisualizer(kmeans, colors='yellowbrick', ax=ax[q-1][mod])\n",
        "      # visualizer.fit(features)\n",
        "\n",
        "  plt.style.use(\"fivethirtyeight\")\n",
        "  plt.plot(range(2, max_cluster), sse)\n",
        "  plt.xticks(range(2, max_cluster,5))\n",
        "  plt.xlabel(\"Number of Clusters\")\n",
        "  plt.ylabel(\"SSE\")\n",
        "  plt.show()\n",
        "\n",
        "  kl = KneeLocator(\n",
        "    range(2, max_cluster), sse, curve=\"convex\", direction=\"decreasing\"\n",
        "  )\n",
        "  print('Number of clusters is:',  kl.elbow)\n",
        "  return \n",
        "\n",
        "elbow(principalComponents)"
      ],
      "metadata": {
        "colab": {
          "base_uri": "https://localhost:8080/",
          "height": 634
        },
        "id": "Qcv9PMhYpfkA",
        "outputId": "79052be3-e1c2-40b4-ad55-638e494621a4"
      },
      "execution_count": null,
      "outputs": [
        {
          "output_type": "stream",
          "name": "stdout",
          "text": [
            "For n_clusters = 2 The average silhouette_score is : 0.1878106005544528\n",
            "For n_clusters = 3 The average silhouette_score is : 0.1440826099279285\n",
            "For n_clusters = 4 The average silhouette_score is : 0.15936090738638917\n",
            "For n_clusters = 5 The average silhouette_score is : 0.15945247854070488\n",
            "For n_clusters = 6 The average silhouette_score is : 0.1597185634596219\n",
            "For n_clusters = 7 The average silhouette_score is : 0.15081268478941828\n",
            "For n_clusters = 8 The average silhouette_score is : 0.1483809020508164\n",
            "For n_clusters = 9 The average silhouette_score is : 0.15443975595137244\n",
            "For n_clusters = 10 The average silhouette_score is : 0.1542645308998341\n",
            "For n_clusters = 11 The average silhouette_score is : 0.15409602550009585\n",
            "For n_clusters = 12 The average silhouette_score is : 0.1546961774166107\n",
            "For n_clusters = 13 The average silhouette_score is : 0.15048875122265398\n",
            "For n_clusters = 14 The average silhouette_score is : 0.15171737844956412\n",
            "For n_clusters = 15 The average silhouette_score is : 0.15751936791938526\n",
            "For n_clusters = 16 The average silhouette_score is : 0.15382369615324828\n",
            "For n_clusters = 17 The average silhouette_score is : 0.15354088385371145\n",
            "For n_clusters = 18 The average silhouette_score is : 0.15298104103057078\n",
            "For n_clusters = 19 The average silhouette_score is : 0.15760731577714562\n"
          ]
        },
        {
          "output_type": "display_data",
          "data": {
            "text/plain": [
              "<Figure size 432x288 with 1 Axes>"
            ],
            "image/png": "[encoded data removed]"
          },
          "metadata": {}
        },
        {
          "output_type": "stream",
          "name": "stdout",
          "text": [
            "Number of clusters is: 7\n"
          ]
        }
      ]
    },
    {
      "cell_type": "code",
      "source": [
        "#kmeans function\n",
        "def kplot(pcs,k):\n",
        "\n",
        "  kmeans_kwargs = {\n",
        "    \"init\": \"random\",\n",
        "    \"n_init\": 10,\n",
        "    \"max_iter\": 300,\n",
        "    \"random_state\": 42,\n",
        "  }\n",
        "\n",
        "  kmeans = KMeans(n_clusters=k, **kmeans_kwargs)\n",
        "  kmeans.fit(pcs)\n",
        "  cluster_labels = kmeans.fit_predict(pcs)\n",
        "  df = pd.DataFrame(pcs)\n",
        "  df['label'] = kmeans.labels_\n",
        "  \n",
        "  return df,kmeans.cluster_centers_"
      ],
      "metadata": {
        "id": "5YeFRZDQhJ8J"
      },
      "execution_count": null,
      "outputs": []
    },
    {
      "cell_type": "code",
      "source": [
        "pc_df,centers = kplot(principalComponents,7)"
      ],
      "metadata": {
        "id": "ziNbzhtc3aTt"
      },
      "execution_count": null,
      "outputs": []
    },
    {
      "cell_type": "code",
      "source": [
        "pd.DataFrame(centers)\n"
      ],
      "metadata": {
        "colab": {
          "base_uri": "https://localhost:8080/",
          "height": 269
        },
        "id": "krI0ONLwCW_S",
        "outputId": "70d6e001-e5dd-45fd-e80e-d43522369d28"
      },
      "execution_count": null,
      "outputs": [
        {
          "output_type": "execute_result",
          "data": {
            "text/plain": [
              "          0         1         2         3         4         5         6  \\\n",
              "0  0.516403 -0.218523  0.903160  0.026749  0.769171  0.007133 -0.033005   \n",
              "1 -0.116205 -0.926587 -0.289647 -0.123099 -0.123112 -0.109946  0.080829   \n",
              "2  1.490771 -0.066409 -0.526263 -0.108091 -0.114422  0.076900 -0.087767   \n",
              "3 -0.822181  0.192913 -0.682750  1.062520  0.295471  0.193082 -0.254733   \n",
              "4  0.728130  1.524652 -0.076431  0.037864 -0.198465  0.091179  0.014556   \n",
              "5 -0.950834  0.529812 -0.114437 -0.391633  0.137458 -0.177128  0.138729   \n",
              "6 -0.461601 -0.067410  0.500109  0.018418 -0.657809  0.109531 -0.027862   \n",
              "\n",
              "          7         8  \n",
              "0  0.052410 -0.022667  \n",
              "1 -0.068739  0.081823  \n",
              "2 -0.033059  0.008646  \n",
              "3  0.332856 -0.036984  \n",
              "4  0.113691  0.045595  \n",
              "5 -0.191242 -0.006227  \n",
              "6  0.012686 -0.102663  "
            ],
            "text/html": [
              "\n",
              "  <div id=\"df-c5ff0348-60e9-4196-a2f3-70b434520a5a\">\n",
              "    <div class=\"colab-df-container\">\n",
              "      <div>\n",
              "<style scoped>\n",
              "    .dataframe tbody tr th:only-of-type {\n",
              "        vertical-align: middle;\n",
              "    }\n",
              "\n",
              "    .dataframe tbody tr th {\n",
              "        vertical-align: top;\n",
              "    }\n",
              "\n",
              "    .dataframe thead th {\n",
              "        text-align: right;\n",
              "    }\n",
              "</style>\n",
              "<table border=\"1\" class=\"dataframe\">\n",
              "  <thead>\n",
              "    <tr style=\"text-align: right;\">\n",
              "      <th></th>\n",
              "      <th>0</th>\n",
              "      <th>1</th>\n",
              "      <th>2</th>\n",
              "      <th>3</th>\n",
              "      <th>4</th>\n",
              "      <th>5</th>\n",
              "      <th>6</th>\n",
              "      <th>7</th>\n",
              "      <th>8</th>\n",
              "    </tr>\n",
              "  </thead>\n",
              "  <tbody>\n",
              "    <tr>\n",
              "      <th>0</th>\n",
              "      <td>0.516403</td>\n",
              "      <td>-0.218523</td>\n",
              "      <td>0.903160</td>\n",
              "      <td>0.026749</td>\n",
              "      <td>0.769171</td>\n",
              "      <td>0.007133</td>\n",
              "      <td>-0.033005</td>\n",
              "      <td>0.052410</td>\n",
              "      <td>-0.022667</td>\n",
              "    </tr>\n",
              "    <tr>\n",
              "      <th>1</th>\n",
              "      <td>-0.116205</td>\n",
              "      <td>-0.926587</td>\n",
              "      <td>-0.289647</td>\n",
              "      <td>-0.123099</td>\n",
              "      <td>-0.123112</td>\n",
              "      <td>-0.109946</td>\n",
              "      <td>0.080829</td>\n",
              "      <td>-0.068739</td>\n",
              "      <td>0.081823</td>\n",
              "    </tr>\n",
              "    <tr>\n",
              "      <th>2</th>\n",
              "      <td>1.490771</td>\n",
              "      <td>-0.066409</td>\n",
              "      <td>-0.526263</td>\n",
              "      <td>-0.108091</td>\n",
              "      <td>-0.114422</td>\n",
              "      <td>0.076900</td>\n",
              "      <td>-0.087767</td>\n",
              "      <td>-0.033059</td>\n",
              "      <td>0.008646</td>\n",
              "    </tr>\n",
              "    <tr>\n",
              "      <th>3</th>\n",
              "      <td>-0.822181</td>\n",
              "      <td>0.192913</td>\n",
              "      <td>-0.682750</td>\n",
              "      <td>1.062520</td>\n",
              "      <td>0.295471</td>\n",
              "      <td>0.193082</td>\n",
              "      <td>-0.254733</td>\n",
              "      <td>0.332856</td>\n",
              "      <td>-0.036984</td>\n",
              "    </tr>\n",
              "    <tr>\n",
              "      <th>4</th>\n",
              "      <td>0.728130</td>\n",
              "      <td>1.524652</td>\n",
              "      <td>-0.076431</td>\n",
              "      <td>0.037864</td>\n",
              "      <td>-0.198465</td>\n",
              "      <td>0.091179</td>\n",
              "      <td>0.014556</td>\n",
              "      <td>0.113691</td>\n",
              "      <td>0.045595</td>\n",
              "    </tr>\n",
              "    <tr>\n",
              "      <th>5</th>\n",
              "      <td>-0.950834</td>\n",
              "      <td>0.529812</td>\n",
              "      <td>-0.114437</td>\n",
              "      <td>-0.391633</td>\n",
              "      <td>0.137458</td>\n",
              "      <td>-0.177128</td>\n",
              "      <td>0.138729</td>\n",
              "      <td>-0.191242</td>\n",
              "      <td>-0.006227</td>\n",
              "    </tr>\n",
              "    <tr>\n",
              "      <th>6</th>\n",
              "      <td>-0.461601</td>\n",
              "      <td>-0.067410</td>\n",
              "      <td>0.500109</td>\n",
              "      <td>0.018418</td>\n",
              "      <td>-0.657809</td>\n",
              "      <td>0.109531</td>\n",
              "      <td>-0.027862</td>\n",
              "      <td>0.012686</td>\n",
              "      <td>-0.102663</td>\n",
              "    </tr>\n",
              "  </tbody>\n",
              "</table>\n",
              "</div>\n",
              "      <button class=\"colab-df-convert\" onclick=\"convertToInteractive('df-c5ff0348-60e9-4196-a2f3-70b434520a5a')\"\n",
              "              title=\"Convert this dataframe to an interactive table.\"\n",
              "              style=\"display:none;\">\n",
              "        \n",
              "  <svg xmlns=\"http://www.w3.org/2000/svg\" height=\"24px\"viewBox=\"0 0 24 24\"\n",
              "       width=\"24px\">\n",
              "    <path d=\"M0 0h24v24H0V0z\" fill=\"none\"/>\n",
              "    <path d=\"M18.56 5.44l.94 2.06.94-2.06 2.06-.94-2.06-.94-.94-2.06-.94 2.06-2.06.94zm-11 1L8.5 8.5l.94-2.06 2.06-.94-2.06-.94L8.5 2.5l-.94 2.06-2.06.94zm10 10l.94 2.06.94-2.06 2.06-.94-2.06-.94-.94-2.06-.94 2.06-2.06.94z\"/><path d=\"M17.41 7.96l-1.37-1.37c-.4-.4-.92-.59-1.43-.59-.52 0-1.04.2-1.43.59L10.3 9.45l-7.72 7.72c-.78.78-.78 2.05 0 2.83L4 21.41c.39.39.9.59 1.41.59.51 0 1.02-.2 1.41-.59l7.78-7.78 2.81-2.81c.8-.78.8-2.07 0-2.86zM5.41 20L4 18.59l7.72-7.72 1.47 1.35L5.41 20z\"/>\n",
              "  </svg>\n",
              "      </button>\n",
              "      \n",
              "  <style>\n",
              "    .colab-df-container {\n",
              "      display:flex;\n",
              "      flex-wrap:wrap;\n",
              "      gap: 12px;\n",
              "    }\n",
              "\n",
              "    .colab-df-convert {\n",
              "      background-color: #E8F0FE;\n",
              "      border: none;\n",
              "      border-radius: 50%;\n",
              "      cursor: pointer;\n",
              "      display: none;\n",
              "      fill: #1967D2;\n",
              "      height: 32px;\n",
              "      padding: 0 0 0 0;\n",
              "      width: 32px;\n",
              "    }\n",
              "\n",
              "    .colab-df-convert:hover {\n",
              "      background-color: #E2EBFA;\n",
              "      box-shadow: 0px 1px 2px rgba(60, 64, 67, 0.3), 0px 1px 3px 1px rgba(60, 64, 67, 0.15);\n",
              "      fill: #174EA6;\n",
              "    }\n",
              "\n",
              "    [theme=dark] .colab-df-convert {\n",
              "      background-color: #3B4455;\n",
              "      fill: #D2E3FC;\n",
              "    }\n",
              "\n",
              "    [theme=dark] .colab-df-convert:hover {\n",
              "      background-color: #434B5C;\n",
              "      box-shadow: 0px 1px 3px 1px rgba(0, 0, 0, 0.15);\n",
              "      filter: drop-shadow(0px 1px 2px rgba(0, 0, 0, 0.3));\n",
              "      fill: #FFFFFF;\n",
              "    }\n",
              "  </style>\n",
              "\n",
              "      <script>\n",
              "        const buttonEl =\n",
              "          document.querySelector('#df-c5ff0348-60e9-4196-a2f3-70b434520a5a button.colab-df-convert');\n",
              "        buttonEl.style.display =\n",
              "          google.colab.kernel.accessAllowed ? 'block' : 'none';\n",
              "\n",
              "        async function convertToInteractive(key) {\n",
              "          const element = document.querySelector('#df-c5ff0348-60e9-4196-a2f3-70b434520a5a');\n",
              "          const dataTable =\n",
              "            await google.colab.kernel.invokeFunction('convertToInteractive',\n",
              "                                                     [key], {});\n",
              "          if (!dataTable) return;\n",
              "\n",
              "          const docLinkHtml = 'Like what you see? Visit the ' +\n",
              "            '<a target=\"_blank\" href=https://colab.research.google.com/notebooks/data_table.ipynb>data table notebook</a>'\n",
              "            + ' to learn more about interactive tables.';\n",
              "          element.innerHTML = '';\n",
              "          dataTable['output_type'] = 'display_data';\n",
              "          await google.colab.output.renderOutput(dataTable, element);\n",
              "          const docLink = document.createElement('div');\n",
              "          docLink.innerHTML = docLinkHtml;\n",
              "          element.appendChild(docLink);\n",
              "        }\n",
              "      </script>\n",
              "    </div>\n",
              "  </div>\n",
              "  "
            ]
          },
          "metadata": {},
          "execution_count": 78
        }
      ]
    },
    {
      "cell_type": "markdown",
      "source": [
        "#CLUSTER PROFILES\n",
        "CLUSTER 0: users with longer trips at morning peak\n",
        "\n",
        "CLUSTER 1: users with short trips at morning peak,\n",
        "\n",
        "CLUSTER 2: users with mid-range trips at morning peak, occasional mid-range trips\n",
        "\n",
        "CLUSTER 3: users with short trips,evening peak and night\n",
        "\n",
        "CLUSTER 4: users with mid-range evening peak/night/offpeak trips. \n",
        "\n",
        "CLUSTER 5: users with short trips and mid-range trips, early morning\n",
        "\n",
        "CLUSTER 6: users with short trips at morning peak, and occasional long trips"
      ],
      "metadata": {
        "id": "IXCPbBJFWeQw"
      }
    },
    {
      "cell_type": "code",
      "source": [
        "pc_df.groupby('label').size()"
      ],
      "metadata": {
        "colab": {
          "base_uri": "https://localhost:8080/"
        },
        "id": "PelFODyDrtJI",
        "outputId": "ff5abb56-f770-4f86-80cf-e6d24bc6a7f0"
      },
      "execution_count": null,
      "outputs": [
        {
          "output_type": "execute_result",
          "data": {
            "text/plain": [
              "label\n",
              "0    366\n",
              "1    543\n",
              "2    290\n",
              "3    216\n",
              "4    245\n",
              "5    402\n",
              "6    383\n",
              "dtype: int64"
            ]
          },
          "metadata": {},
          "execution_count": 89
        }
      ]
    },
    {
      "cell_type": "code",
      "source": [
        "socio['label'] = pc_df['label']"
      ],
      "metadata": {
        "id": "HBb-EAqL1UhS"
      },
      "execution_count": null,
      "outputs": []
    },
    {
      "cell_type": "code",
      "source": [
        "fig = plt.figure(figsize=(15,10))\n",
        "fig.suptitle(f\"Number of Clusters: {7}\", fontsize=16)\n",
        "fte_colors = {\n",
        "    0: \"red\",\n",
        "    1: \"green\",\n",
        "    2: \"blue\",\n",
        "    3: 'orange',\n",
        "    4: 'yellow',\n",
        "    5:'black',\n",
        "    6: ''\n",
        "}\n",
        "# The k-means plot\n",
        "km_colors = [fte_colors[label] for label in kmeans.labels_]\n",
        "if f==3:\n",
        "  ax1 = fig.add_subplot(projection='3d')\n",
        "  ax1.scatter(features[:,0],features[:,1],features[:,2],c=km_colors,s=50)\n",
        "  ax1.set_zlabel('Neutrality (normalized)',fontsize =12)\n",
        "\n",
        "  for i in range(len(df.index)):\n",
        "    ax1.text(features[i,0], features[i,1],features[i,2],\\\n",
        "            str(df.index[i]), fontfamily='sans-serif', fontsize=15, color='darkslategrey')\n",
        "    ax1.tick_params(axis='z', labelsize= 10)\n",
        "\n",
        "else:\n",
        "    ax1 = fig.add_subplot()\n",
        "    ax1.scatter(features[:,0],features[:,1],c=km_colors,s=50)\n",
        "    for i in range(len(df.index)):\n",
        "      ax1.text(features[i,0], features[i,1],str(df.index[i])\\\n",
        "                , fontfamily='sans-serif', fontsize=20, color='darkslategrey')\n",
        "\n",
        "ax1.set_xlabel('Negativity (normalized)',fontsize =12)\n",
        "ax1.set_ylabel('Positivity (normalized)',fontsize =12)\n",
        "ax1.tick_params(axis='x', labelsize= 10)\n",
        "ax1.tick_params(axis='y', labelsize= 10)"
      ],
      "metadata": {
        "id": "S38cDVXL3P_o"
      },
      "execution_count": null,
      "outputs": []
    },
    {
      "cell_type": "markdown",
      "source": [
        "Location based analysis"
      ],
      "metadata": {
        "id": "NvEgL25VC3YO"
      }
    },
    {
      "cell_type": "code",
      "source": [
        "#London\n",
        "reg_names = ['Northern, Metropolitan', 'Northern, Non-metropolitan',\\\n",
        "                  'Yorkshire / Humberside, Metropolitan','Yorkshire / Humberside, Non-metropolitan',\\\n",
        "                  'East Midlands','East Anglia','South East (no london)','London Boroughs',\\\n",
        "                  'South West','West Midlands, Metropolitan','West Midlands, Non-metropolitan',\\\n",
        "                  'North West, Metropolitan','North West, Non-metropolitan']\n",
        "for i in range(1,14):\n",
        "  reg = f'PSUStatsReg_B01ID_{i}' \n",
        "  print(reg_names[i-1],': ',socio[socio[reg]==1].groupby('label').size()/socio[socio[reg]==1]\\\n",
        "        .shape[0]*100)\n",
        "  "
      ],
      "metadata": {
        "id": "UnUQYVYECWqN",
        "outputId": "26218e80-ea1b-45a0-bebf-02b3db6ee573",
        "colab": {
          "base_uri": "https://localhost:8080/"
        }
      },
      "execution_count": null,
      "outputs": [
        {
          "output_type": "stream",
          "name": "stdout",
          "text": [
            "Northern, Metropolitan :  label\n",
            "0     5.555556\n",
            "1    13.888889\n",
            "2    27.777778\n",
            "3     5.555556\n",
            "4    11.111111\n",
            "5    16.666667\n",
            "6    19.444444\n",
            "dtype: float64\n",
            "Northern, Non-metropolitan :  label\n",
            "0    10.0\n",
            "1    23.0\n",
            "2    15.0\n",
            "3     6.0\n",
            "4    11.0\n",
            "5    18.0\n",
            "6    17.0\n",
            "dtype: float64\n",
            "Yorkshire / Humberside, Metropolitan :  label\n",
            "0    17.073171\n",
            "1    26.219512\n",
            "2     9.146341\n",
            "3     8.536585\n",
            "4     8.536585\n",
            "5    15.243902\n",
            "6    15.243902\n",
            "dtype: float64\n",
            "Yorkshire / Humberside, Non-metropolitan :  label\n",
            "0    15.730337\n",
            "1    23.595506\n",
            "2    11.235955\n",
            "3     8.988764\n",
            "4     6.741573\n",
            "5    19.101124\n",
            "6    14.606742\n",
            "dtype: float64\n",
            "East Midlands :  label\n",
            "0    17.757009\n",
            "1    21.962617\n",
            "2     7.476636\n",
            "3     6.542056\n",
            "4     7.476636\n",
            "5    20.560748\n",
            "6    18.224299\n",
            "dtype: float64\n",
            "East Anglia :  label\n",
            "0    11.206897\n",
            "1    26.724138\n",
            "2     7.758621\n",
            "3    14.655172\n",
            "4     6.034483\n",
            "5    18.965517\n",
            "6    14.655172\n",
            "dtype: float64\n",
            "South East (no london) :  label\n",
            "0    15.569823\n",
            "1    20.706260\n",
            "2    10.272873\n",
            "3     9.309791\n",
            "4     8.346709\n",
            "5    17.977528\n",
            "6    17.817014\n",
            "dtype: float64\n",
            "London Boroughs :  label\n",
            "0    20.547945\n",
            "1    11.415525\n",
            "2    23.744292\n",
            "3     5.022831\n",
            "4    16.438356\n",
            "5    10.958904\n",
            "6    11.872146\n",
            "dtype: float64\n",
            "South West :  label\n",
            "0    16.000000\n",
            "1    21.090909\n",
            "2     9.090909\n",
            "3     9.090909\n",
            "4    13.454545\n",
            "5    17.818182\n",
            "6    13.454545\n",
            "dtype: float64\n",
            "West Midlands, Metropolitan :  label\n",
            "0     6.593407\n",
            "1    34.065934\n",
            "2    10.989011\n",
            "3     8.791209\n",
            "4     4.395604\n",
            "5    15.384615\n",
            "6    19.780220\n",
            "dtype: float64\n",
            "West Midlands, Non-metropolitan :  label\n",
            "0    11.794872\n",
            "1    21.538462\n",
            "2    10.769231\n",
            "3    10.256410\n",
            "4    12.307692\n",
            "5    16.410256\n",
            "6    16.923077\n",
            "dtype: float64\n",
            "North West, Metropolitan :  label\n",
            "0    13.829787\n",
            "1    27.127660\n",
            "2    15.425532\n",
            "3     8.510638\n",
            "4    13.829787\n",
            "5    13.297872\n",
            "6     7.978723\n",
            "dtype: float64\n",
            "North West, Non-metropolitan :  label\n",
            "0    14.814815\n",
            "1    27.407407\n",
            "2    10.370370\n",
            "3    12.592593\n",
            "4     5.925926\n",
            "5    10.370370\n",
            "6    18.518519\n",
            "dtype: float64\n"
          ]
        }
      ]
    },
    {
      "cell_type": "markdown",
      "source": [
        "NOTES from location stats:\n",
        "- in all locations except for London and Northern Metropolitan, morning-peak short trip people are dominant, in london, mid-range morning peak group are dominant, probably because of the longer distances for travel in London\n",
        "- "
      ],
      "metadata": {
        "id": "IawcC49aFFed"
      }
    },
    {
      "cell_type": "code",
      "source": [
        "#NON-London \n",
        "socio[socio['PSUStatsReg_B01ID_8']==0].groupby('label').size()/2226*100"
      ],
      "metadata": {
        "id": "I7xo-oRfDLg5",
        "outputId": "b7ddbb7c-b4df-47fc-b5c7-c47532c0c8aa",
        "colab": {
          "base_uri": "https://localhost:8080/"
        }
      },
      "execution_count": null,
      "outputs": [
        {
          "output_type": "execute_result",
          "data": {
            "text/plain": [
              "label\n",
              "0    14.420485\n",
              "1    23.270440\n",
              "2    10.691824\n",
              "3     9.209344\n",
              "4     9.389039\n",
              "5    16.981132\n",
              "6    16.037736\n",
              "dtype: float64"
            ]
          },
          "metadata": {},
          "execution_count": 102
        }
      ]
    },
    {
      "cell_type": "markdown",
      "source": [
        "## Statistical Test for clusters\n"
      ],
      "metadata": {
        "id": "MwVOHpACVP0N"
      }
    },
    {
      "cell_type": "code",
      "source": [
        "def chi2stat(df,var):\n",
        "  df = df.groupby('label').sum()[var]\n",
        "  #for chi2 test, min freq should be at least 5\n",
        "  var2 = (df>4).all()[(df>4).all()==True].index \n",
        "  \n",
        "  chi2 = stats.chi2_contingency(df[var2])\n",
        "  if len(var2)<2:\n",
        "    print('Not enough data')\n",
        "  print('P_value: ',chi2[1])\n",
        "  return\n"
      ],
      "metadata": {
        "id": "fgwPr9Atf3Rr"
      },
      "execution_count": null,
      "outputs": []
    },
    {
      "cell_type": "code",
      "source": [
        "vars = socio_cols.keys()\n",
        "\n",
        "for v in vars:\n",
        "  print(v)\n",
        "  chi2stat(socio,socio_cols[v])\n",
        "  print('-----')\n",
        "  "
      ],
      "metadata": {
        "colab": {
          "base_uri": "https://localhost:8080/"
        },
        "id": "Qtm3FJdylO3f",
        "outputId": "a1f940a1-318a-4dcf-a83d-3a9164eb1f16"
      },
      "execution_count": null,
      "outputs": [
        {
          "output_type": "stream",
          "name": "stdout",
          "text": [
            "age\n",
            "P_value:  7.305968765295918e-68\n",
            "-----\n",
            "sex\n",
            "P_value:  1.280448958884307e-11\n",
            "-----\n",
            "marital\n",
            "P_value:  2.5239564778155158e-05\n",
            "-----\n",
            "income\n",
            "P_value:  6.338109325342751e-38\n",
            "-----\n",
            "work\n",
            "P_value:  5.690094862607322e-121\n",
            "-----\n",
            "hhincome\n",
            "P_value:  2.8875854286259003e-32\n",
            "-----\n",
            "hh_struc\n",
            "P_value:  1.0641789622009953e-27\n",
            "-----\n",
            "hh_work\n",
            "P_value:  1.7353118037814107e-68\n",
            "-----\n",
            "hh_socialclass\n",
            "P_value:  3.3465896031434087e-69\n",
            "-----\n",
            "urban_rural\n",
            "P_value:  0.005074731917657885\n",
            "-----\n",
            "region\n",
            "P_value:  7.487249962759098e-09\n",
            "-----\n"
          ]
        }
      ]
    },
    {
      "cell_type": "markdown",
      "source": [
        "All sociodemographic variables are significantly different among clusters"
      ],
      "metadata": {
        "id": "EWthUGZ41oG2"
      }
    },
    {
      "cell_type": "markdown",
      "source": [
        "# COMPARE Sociodemographics among clusters"
      ],
      "metadata": {
        "id": "eTl2-v1M5C8S"
      }
    },
    {
      "cell_type": "code",
      "source": [
        "#AGE\n",
        "# convert dummy to mean of band\n",
        "tmp_df = pd.DataFrame()\n",
        "tmp_df['age_band'] = socio[socio_cols['age']].idxmax(axis=1)\n",
        "\n",
        "age_dict = {'Age_B04ID_4':\t18.5, \n",
        "'Age_B04ID_5':\t25,\n",
        "'Age_B04ID_6':\t35,\n",
        "'Age_B04ID_7':\t45,\n",
        "'Age_B04ID_8':\t55,\n",
        "'Age_B04ID_9':\t65}\n",
        "for n in age_dict.keys():\n",
        "  socio.loc[tmp_df[\"age_band\"] == n, \"AGE\"] = age_dict[n]\n",
        "\n"
      ],
      "metadata": {
        "id": "vkTXJ9qmBoMA"
      },
      "execution_count": null,
      "outputs": []
    },
    {
      "cell_type": "code",
      "source": [
        "socio[['AGE','label']].groupby('label').mean()"
      ],
      "metadata": {
        "id": "pp_9taDR8QmV",
        "outputId": "3e2ec687-f2a9-4400-a719-05ad0952cd89",
        "colab": {
          "base_uri": "https://localhost:8080/",
          "height": 300
        }
      },
      "execution_count": null,
      "outputs": [
        {
          "output_type": "execute_result",
          "data": {
            "text/plain": [
              "             AGE\n",
              "label           \n",
              "0      48.527322\n",
              "1      44.818600\n",
              "2      44.462069\n",
              "3      51.854167\n",
              "4      52.771429\n",
              "5      57.206468\n",
              "6      52.142298"
            ],
            "text/html": [
              "\n",
              "  <div id=\"df-9e04cdbe-778c-4d6a-ba5a-5b8592f0b86f\">\n",
              "    <div class=\"colab-df-container\">\n",
              "      <div>\n",
              "<style scoped>\n",
              "    .dataframe tbody tr th:only-of-type {\n",
              "        vertical-align: middle;\n",
              "    }\n",
              "\n",
              "    .dataframe tbody tr th {\n",
              "        vertical-align: top;\n",
              "    }\n",
              "\n",
              "    .dataframe thead th {\n",
              "        text-align: right;\n",
              "    }\n",
              "</style>\n",
              "<table border=\"1\" class=\"dataframe\">\n",
              "  <thead>\n",
              "    <tr style=\"text-align: right;\">\n",
              "      <th></th>\n",
              "      <th>AGE</th>\n",
              "    </tr>\n",
              "    <tr>\n",
              "      <th>label</th>\n",
              "      <th></th>\n",
              "    </tr>\n",
              "  </thead>\n",
              "  <tbody>\n",
              "    <tr>\n",
              "      <th>0</th>\n",
              "      <td>48.527322</td>\n",
              "    </tr>\n",
              "    <tr>\n",
              "      <th>1</th>\n",
              "      <td>44.818600</td>\n",
              "    </tr>\n",
              "    <tr>\n",
              "      <th>2</th>\n",
              "      <td>44.462069</td>\n",
              "    </tr>\n",
              "    <tr>\n",
              "      <th>3</th>\n",
              "      <td>51.854167</td>\n",
              "    </tr>\n",
              "    <tr>\n",
              "      <th>4</th>\n",
              "      <td>52.771429</td>\n",
              "    </tr>\n",
              "    <tr>\n",
              "      <th>5</th>\n",
              "      <td>57.206468</td>\n",
              "    </tr>\n",
              "    <tr>\n",
              "      <th>6</th>\n",
              "      <td>52.142298</td>\n",
              "    </tr>\n",
              "  </tbody>\n",
              "</table>\n",
              "</div>\n",
              "      <button class=\"colab-df-convert\" onclick=\"convertToInteractive('df-9e04cdbe-778c-4d6a-ba5a-5b8592f0b86f')\"\n",
              "              title=\"Convert this dataframe to an interactive table.\"\n",
              "              style=\"display:none;\">\n",
              "        \n",
              "  <svg xmlns=\"http://www.w3.org/2000/svg\" height=\"24px\"viewBox=\"0 0 24 24\"\n",
              "       width=\"24px\">\n",
              "    <path d=\"M0 0h24v24H0V0z\" fill=\"none\"/>\n",
              "    <path d=\"M18.56 5.44l.94 2.06.94-2.06 2.06-.94-2.06-.94-.94-2.06-.94 2.06-2.06.94zm-11 1L8.5 8.5l.94-2.06 2.06-.94-2.06-.94L8.5 2.5l-.94 2.06-2.06.94zm10 10l.94 2.06.94-2.06 2.06-.94-2.06-.94-.94-2.06-.94 2.06-2.06.94z\"/><path d=\"M17.41 7.96l-1.37-1.37c-.4-.4-.92-.59-1.43-.59-.52 0-1.04.2-1.43.59L10.3 9.45l-7.72 7.72c-.78.78-.78 2.05 0 2.83L4 21.41c.39.39.9.59 1.41.59.51 0 1.02-.2 1.41-.59l7.78-7.78 2.81-2.81c.8-.78.8-2.07 0-2.86zM5.41 20L4 18.59l7.72-7.72 1.47 1.35L5.41 20z\"/>\n",
              "  </svg>\n",
              "      </button>\n",
              "      \n",
              "  <style>\n",
              "    .colab-df-container {\n",
              "      display:flex;\n",
              "      flex-wrap:wrap;\n",
              "      gap: 12px;\n",
              "    }\n",
              "\n",
              "    .colab-df-convert {\n",
              "      background-color: #E8F0FE;\n",
              "      border: none;\n",
              "      border-radius: 50%;\n",
              "      cursor: pointer;\n",
              "      display: none;\n",
              "      fill: #1967D2;\n",
              "      height: 32px;\n",
              "      padding: 0 0 0 0;\n",
              "      width: 32px;\n",
              "    }\n",
              "\n",
              "    .colab-df-convert:hover {\n",
              "      background-color: #E2EBFA;\n",
              "      box-shadow: 0px 1px 2px rgba(60, 64, 67, 0.3), 0px 1px 3px 1px rgba(60, 64, 67, 0.15);\n",
              "      fill: #174EA6;\n",
              "    }\n",
              "\n",
              "    [theme=dark] .colab-df-convert {\n",
              "      background-color: #3B4455;\n",
              "      fill: #D2E3FC;\n",
              "    }\n",
              "\n",
              "    [theme=dark] .colab-df-convert:hover {\n",
              "      background-color: #434B5C;\n",
              "      box-shadow: 0px 1px 3px 1px rgba(0, 0, 0, 0.15);\n",
              "      filter: drop-shadow(0px 1px 2px rgba(0, 0, 0, 0.3));\n",
              "      fill: #FFFFFF;\n",
              "    }\n",
              "  </style>\n",
              "\n",
              "      <script>\n",
              "        const buttonEl =\n",
              "          document.querySelector('#df-9e04cdbe-778c-4d6a-ba5a-5b8592f0b86f button.colab-df-convert');\n",
              "        buttonEl.style.display =\n",
              "          google.colab.kernel.accessAllowed ? 'block' : 'none';\n",
              "\n",
              "        async function convertToInteractive(key) {\n",
              "          const element = document.querySelector('#df-9e04cdbe-778c-4d6a-ba5a-5b8592f0b86f');\n",
              "          const dataTable =\n",
              "            await google.colab.kernel.invokeFunction('convertToInteractive',\n",
              "                                                     [key], {});\n",
              "          if (!dataTable) return;\n",
              "\n",
              "          const docLinkHtml = 'Like what you see? Visit the ' +\n",
              "            '<a target=\"_blank\" href=https://colab.research.google.com/notebooks/data_table.ipynb>data table notebook</a>'\n",
              "            + ' to learn more about interactive tables.';\n",
              "          element.innerHTML = '';\n",
              "          dataTable['output_type'] = 'display_data';\n",
              "          await google.colab.output.renderOutput(dataTable, element);\n",
              "          const docLink = document.createElement('div');\n",
              "          docLink.innerHTML = docLinkHtml;\n",
              "          element.appendChild(docLink);\n",
              "        }\n",
              "      </script>\n",
              "    </div>\n",
              "  </div>\n",
              "  "
            ]
          },
          "metadata": {},
          "execution_count": 111
        }
      ]
    },
    {
      "cell_type": "code",
      "source": [
        "a = socio[['AGE','label']].groupby('label').mean()\n",
        "fig = plt.figure()\n",
        "ax = fig.add_axes([0,0,1,1])\n",
        "labels = a.index\n",
        "var = a.AGE\n",
        "ax.bar(labels,var)\n",
        "ax.set_title('average age per mobility label')\n",
        "plt.show()\n",
        "\n",
        "# cluster 1 and 2, with morning peak short and mid-range trips the youngest cluster\n",
        "# cluster 5 with no morning peak, but early morning (4 to 7 am) oldest"
      ],
      "metadata": {
        "id": "4JouDonULjLC",
        "outputId": "673ca67b-5340-4854-86ec-ba8a326cb9be",
        "colab": {
          "base_uri": "https://localhost:8080/",
          "height": 357
        }
      },
      "execution_count": null,
      "outputs": [
        {
          "output_type": "display_data",
          "data": {
            "text/plain": [
              "<Figure size 432x288 with 1 Axes>"
            ],
            "image/png": "[encoded data removed]"
          },
          "metadata": {}
        }
      ]
    },
    {
      "cell_type": "code",
      "source": [
        "socio[['AGE','label']].groupby('label').median()"
      ],
      "metadata": {
        "id": "3z5ifXecFH2V",
        "outputId": "a9ab5cb6-8c6b-44a5-9326-176b7bd7bbde",
        "colab": {
          "base_uri": "https://localhost:8080/",
          "height": 300
        }
      },
      "execution_count": null,
      "outputs": [
        {
          "output_type": "execute_result",
          "data": {
            "text/plain": [
              "        AGE\n",
              "label      \n",
              "0      65.0\n",
              "1      55.0\n",
              "2      55.0\n",
              "3      45.0\n",
              "4      45.0\n",
              "5      55.0\n",
              "6      65.0"
            ],
            "text/html": [
              "\n",
              "  <div id=\"df-a680af80-4535-4cac-84d9-8d82fa5218b3\">\n",
              "    <div class=\"colab-df-container\">\n",
              "      <div>\n",
              "<style scoped>\n",
              "    .dataframe tbody tr th:only-of-type {\n",
              "        vertical-align: middle;\n",
              "    }\n",
              "\n",
              "    .dataframe tbody tr th {\n",
              "        vertical-align: top;\n",
              "    }\n",
              "\n",
              "    .dataframe thead th {\n",
              "        text-align: right;\n",
              "    }\n",
              "</style>\n",
              "<table border=\"1\" class=\"dataframe\">\n",
              "  <thead>\n",
              "    <tr style=\"text-align: right;\">\n",
              "      <th></th>\n",
              "      <th>AGE</th>\n",
              "    </tr>\n",
              "    <tr>\n",
              "      <th>label</th>\n",
              "      <th></th>\n",
              "    </tr>\n",
              "  </thead>\n",
              "  <tbody>\n",
              "    <tr>\n",
              "      <th>0</th>\n",
              "      <td>65.0</td>\n",
              "    </tr>\n",
              "    <tr>\n",
              "      <th>1</th>\n",
              "      <td>55.0</td>\n",
              "    </tr>\n",
              "    <tr>\n",
              "      <th>2</th>\n",
              "      <td>55.0</td>\n",
              "    </tr>\n",
              "    <tr>\n",
              "      <th>3</th>\n",
              "      <td>45.0</td>\n",
              "    </tr>\n",
              "    <tr>\n",
              "      <th>4</th>\n",
              "      <td>45.0</td>\n",
              "    </tr>\n",
              "    <tr>\n",
              "      <th>5</th>\n",
              "      <td>55.0</td>\n",
              "    </tr>\n",
              "    <tr>\n",
              "      <th>6</th>\n",
              "      <td>65.0</td>\n",
              "    </tr>\n",
              "  </tbody>\n",
              "</table>\n",
              "</div>\n",
              "      <button class=\"colab-df-convert\" onclick=\"convertToInteractive('df-a680af80-4535-4cac-84d9-8d82fa5218b3')\"\n",
              "              title=\"Convert this dataframe to an interactive table.\"\n",
              "              style=\"display:none;\">\n",
              "        \n",
              "  <svg xmlns=\"http://www.w3.org/2000/svg\" height=\"24px\"viewBox=\"0 0 24 24\"\n",
              "       width=\"24px\">\n",
              "    <path d=\"M0 0h24v24H0V0z\" fill=\"none\"/>\n",
              "    <path d=\"M18.56 5.44l.94 2.06.94-2.06 2.06-.94-2.06-.94-.94-2.06-.94 2.06-2.06.94zm-11 1L8.5 8.5l.94-2.06 2.06-.94-2.06-.94L8.5 2.5l-.94 2.06-2.06.94zm10 10l.94 2.06.94-2.06 2.06-.94-2.06-.94-.94-2.06-.94 2.06-2.06.94z\"/><path d=\"M17.41 7.96l-1.37-1.37c-.4-.4-.92-.59-1.43-.59-.52 0-1.04.2-1.43.59L10.3 9.45l-7.72 7.72c-.78.78-.78 2.05 0 2.83L4 21.41c.39.39.9.59 1.41.59.51 0 1.02-.2 1.41-.59l7.78-7.78 2.81-2.81c.8-.78.8-2.07 0-2.86zM5.41 20L4 18.59l7.72-7.72 1.47 1.35L5.41 20z\"/>\n",
              "  </svg>\n",
              "      </button>\n",
              "      \n",
              "  <style>\n",
              "    .colab-df-container {\n",
              "      display:flex;\n",
              "      flex-wrap:wrap;\n",
              "      gap: 12px;\n",
              "    }\n",
              "\n",
              "    .colab-df-convert {\n",
              "      background-color: #E8F0FE;\n",
              "      border: none;\n",
              "      border-radius: 50%;\n",
              "      cursor: pointer;\n",
              "      display: none;\n",
              "      fill: #1967D2;\n",
              "      height: 32px;\n",
              "      padding: 0 0 0 0;\n",
              "      width: 32px;\n",
              "    }\n",
              "\n",
              "    .colab-df-convert:hover {\n",
              "      background-color: #E2EBFA;\n",
              "      box-shadow: 0px 1px 2px rgba(60, 64, 67, 0.3), 0px 1px 3px 1px rgba(60, 64, 67, 0.15);\n",
              "      fill: #174EA6;\n",
              "    }\n",
              "\n",
              "    [theme=dark] .colab-df-convert {\n",
              "      background-color: #3B4455;\n",
              "      fill: #D2E3FC;\n",
              "    }\n",
              "\n",
              "    [theme=dark] .colab-df-convert:hover {\n",
              "      background-color: #434B5C;\n",
              "      box-shadow: 0px 1px 3px 1px rgba(0, 0, 0, 0.15);\n",
              "      filter: drop-shadow(0px 1px 2px rgba(0, 0, 0, 0.3));\n",
              "      fill: #FFFFFF;\n",
              "    }\n",
              "  </style>\n",
              "\n",
              "      <script>\n",
              "        const buttonEl =\n",
              "          document.querySelector('#df-a680af80-4535-4cac-84d9-8d82fa5218b3 button.colab-df-convert');\n",
              "        buttonEl.style.display =\n",
              "          google.colab.kernel.accessAllowed ? 'block' : 'none';\n",
              "\n",
              "        async function convertToInteractive(key) {\n",
              "          const element = document.querySelector('#df-a680af80-4535-4cac-84d9-8d82fa5218b3');\n",
              "          const dataTable =\n",
              "            await google.colab.kernel.invokeFunction('convertToInteractive',\n",
              "                                                     [key], {});\n",
              "          if (!dataTable) return;\n",
              "\n",
              "          const docLinkHtml = 'Like what you see? Visit the ' +\n",
              "            '<a target=\"_blank\" href=https://colab.research.google.com/notebooks/data_table.ipynb>data table notebook</a>'\n",
              "            + ' to learn more about interactive tables.';\n",
              "          element.innerHTML = '';\n",
              "          dataTable['output_type'] = 'display_data';\n",
              "          await google.colab.output.renderOutput(dataTable, element);\n",
              "          const docLink = document.createElement('div');\n",
              "          docLink.innerHTML = docLinkHtml;\n",
              "          element.appendChild(docLink);\n",
              "        }\n",
              "      </script>\n",
              "    </div>\n",
              "  </div>\n",
              "  "
            ]
          },
          "metadata": {},
          "execution_count": 38
        }
      ]
    },
    {
      "cell_type": "code",
      "source": [
        "a = socio[['AGE','label']].groupby('label').median()\n",
        "fig = plt.figure()\n",
        "ax = fig.add_axes([0,0,1,1])\n",
        "labels = a.index\n",
        "var = a.AGE\n",
        "ax.bar(labels,var)\n",
        "ax.set_title('median age per mobility label')\n",
        "plt.show()"
      ],
      "metadata": {
        "id": "Jp_UKNxpMEB5",
        "outputId": "13338024-c758-4125-b688-7c058b9ac7c5",
        "colab": {
          "base_uri": "https://localhost:8080/",
          "height": 357
        }
      },
      "execution_count": null,
      "outputs": [
        {
          "output_type": "display_data",
          "data": {
            "text/plain": [
              "<Figure size 432x288 with 1 Axes>"
            ],
            "image/png": "[encoded data removed]"
          },
          "metadata": {}
        }
      ]
    },
    {
      "cell_type": "code",
      "source": [
        "#income\n",
        "# convert dummy to mean of band\n",
        "tmp_df = pd.DataFrame()\n",
        "tmp_df['income_band'] = socio[socio_cols['income']].idxmax(axis=1)\n",
        "\n",
        "income_dict = {'IndIncome2002_B02ID_1':\t12.5, \n",
        "'IndIncome2002_B02ID_2':\t37.5,\n",
        "'IndIncome2002_B02ID_3':\t62.5}\n",
        "for n in income_dict.keys():\n",
        "  socio.loc[tmp_df[\"income_band\"] == n, \"INCOME\"] = income_dict[n]\n",
        "\n",
        "socio[['INCOME','label']].groupby('label').mean()\n"
      ],
      "metadata": {
        "id": "zaU0LSeq5CLs",
        "outputId": "5e79a4fd-f879-430e-f68b-3f575f089984",
        "colab": {
          "base_uri": "https://localhost:8080/",
          "height": 300
        }
      },
      "execution_count": null,
      "outputs": [
        {
          "output_type": "execute_result",
          "data": {
            "text/plain": [
              "          INCOME\n",
              "label           \n",
              "0      33.879781\n",
              "1      28.798343\n",
              "2      30.086207\n",
              "3      22.685185\n",
              "4      22.091837\n",
              "5      20.895522\n",
              "6      23.857702"
            ],
            "text/html": [
              "\n",
              "  <div id=\"df-7a4e2993-d0a0-437d-9ccb-5b8598e54979\">\n",
              "    <div class=\"colab-df-container\">\n",
              "      <div>\n",
              "<style scoped>\n",
              "    .dataframe tbody tr th:only-of-type {\n",
              "        vertical-align: middle;\n",
              "    }\n",
              "\n",
              "    .dataframe tbody tr th {\n",
              "        vertical-align: top;\n",
              "    }\n",
              "\n",
              "    .dataframe thead th {\n",
              "        text-align: right;\n",
              "    }\n",
              "</style>\n",
              "<table border=\"1\" class=\"dataframe\">\n",
              "  <thead>\n",
              "    <tr style=\"text-align: right;\">\n",
              "      <th></th>\n",
              "      <th>INCOME</th>\n",
              "    </tr>\n",
              "    <tr>\n",
              "      <th>label</th>\n",
              "      <th></th>\n",
              "    </tr>\n",
              "  </thead>\n",
              "  <tbody>\n",
              "    <tr>\n",
              "      <th>0</th>\n",
              "      <td>33.879781</td>\n",
              "    </tr>\n",
              "    <tr>\n",
              "      <th>1</th>\n",
              "      <td>28.798343</td>\n",
              "    </tr>\n",
              "    <tr>\n",
              "      <th>2</th>\n",
              "      <td>30.086207</td>\n",
              "    </tr>\n",
              "    <tr>\n",
              "      <th>3</th>\n",
              "      <td>22.685185</td>\n",
              "    </tr>\n",
              "    <tr>\n",
              "      <th>4</th>\n",
              "      <td>22.091837</td>\n",
              "    </tr>\n",
              "    <tr>\n",
              "      <th>5</th>\n",
              "      <td>20.895522</td>\n",
              "    </tr>\n",
              "    <tr>\n",
              "      <th>6</th>\n",
              "      <td>23.857702</td>\n",
              "    </tr>\n",
              "  </tbody>\n",
              "</table>\n",
              "</div>\n",
              "      <button class=\"colab-df-convert\" onclick=\"convertToInteractive('df-7a4e2993-d0a0-437d-9ccb-5b8598e54979')\"\n",
              "              title=\"Convert this dataframe to an interactive table.\"\n",
              "              style=\"display:none;\">\n",
              "        \n",
              "  <svg xmlns=\"http://www.w3.org/2000/svg\" height=\"24px\"viewBox=\"0 0 24 24\"\n",
              "       width=\"24px\">\n",
              "    <path d=\"M0 0h24v24H0V0z\" fill=\"none\"/>\n",
              "    <path d=\"M18.56 5.44l.94 2.06.94-2.06 2.06-.94-2.06-.94-.94-2.06-.94 2.06-2.06.94zm-11 1L8.5 8.5l.94-2.06 2.06-.94-2.06-.94L8.5 2.5l-.94 2.06-2.06.94zm10 10l.94 2.06.94-2.06 2.06-.94-2.06-.94-.94-2.06-.94 2.06-2.06.94z\"/><path d=\"M17.41 7.96l-1.37-1.37c-.4-.4-.92-.59-1.43-.59-.52 0-1.04.2-1.43.59L10.3 9.45l-7.72 7.72c-.78.78-.78 2.05 0 2.83L4 21.41c.39.39.9.59 1.41.59.51 0 1.02-.2 1.41-.59l7.78-7.78 2.81-2.81c.8-.78.8-2.07 0-2.86zM5.41 20L4 18.59l7.72-7.72 1.47 1.35L5.41 20z\"/>\n",
              "  </svg>\n",
              "      </button>\n",
              "      \n",
              "  <style>\n",
              "    .colab-df-container {\n",
              "      display:flex;\n",
              "      flex-wrap:wrap;\n",
              "      gap: 12px;\n",
              "    }\n",
              "\n",
              "    .colab-df-convert {\n",
              "      background-color: #E8F0FE;\n",
              "      border: none;\n",
              "      border-radius: 50%;\n",
              "      cursor: pointer;\n",
              "      display: none;\n",
              "      fill: #1967D2;\n",
              "      height: 32px;\n",
              "      padding: 0 0 0 0;\n",
              "      width: 32px;\n",
              "    }\n",
              "\n",
              "    .colab-df-convert:hover {\n",
              "      background-color: #E2EBFA;\n",
              "      box-shadow: 0px 1px 2px rgba(60, 64, 67, 0.3), 0px 1px 3px 1px rgba(60, 64, 67, 0.15);\n",
              "      fill: #174EA6;\n",
              "    }\n",
              "\n",
              "    [theme=dark] .colab-df-convert {\n",
              "      background-color: #3B4455;\n",
              "      fill: #D2E3FC;\n",
              "    }\n",
              "\n",
              "    [theme=dark] .colab-df-convert:hover {\n",
              "      background-color: #434B5C;\n",
              "      box-shadow: 0px 1px 3px 1px rgba(0, 0, 0, 0.15);\n",
              "      filter: drop-shadow(0px 1px 2px rgba(0, 0, 0, 0.3));\n",
              "      fill: #FFFFFF;\n",
              "    }\n",
              "  </style>\n",
              "\n",
              "      <script>\n",
              "        const buttonEl =\n",
              "          document.querySelector('#df-7a4e2993-d0a0-437d-9ccb-5b8598e54979 button.colab-df-convert');\n",
              "        buttonEl.style.display =\n",
              "          google.colab.kernel.accessAllowed ? 'block' : 'none';\n",
              "\n",
              "        async function convertToInteractive(key) {\n",
              "          const element = document.querySelector('#df-7a4e2993-d0a0-437d-9ccb-5b8598e54979');\n",
              "          const dataTable =\n",
              "            await google.colab.kernel.invokeFunction('convertToInteractive',\n",
              "                                                     [key], {});\n",
              "          if (!dataTable) return;\n",
              "\n",
              "          const docLinkHtml = 'Like what you see? Visit the ' +\n",
              "            '<a target=\"_blank\" href=https://colab.research.google.com/notebooks/data_table.ipynb>data table notebook</a>'\n",
              "            + ' to learn more about interactive tables.';\n",
              "          element.innerHTML = '';\n",
              "          dataTable['output_type'] = 'display_data';\n",
              "          await google.colab.output.renderOutput(dataTable, element);\n",
              "          const docLink = document.createElement('div');\n",
              "          docLink.innerHTML = docLinkHtml;\n",
              "          element.appendChild(docLink);\n",
              "        }\n",
              "      </script>\n",
              "    </div>\n",
              "  </div>\n",
              "  "
            ]
          },
          "metadata": {},
          "execution_count": 114
        }
      ]
    },
    {
      "cell_type": "code",
      "source": [
        "a = socio[['INCOME','label']].groupby('label').mean()\n",
        "fig = plt.figure()\n",
        "ax = fig.add_axes([0,0,1,1])\n",
        "labels = a.index\n",
        "var = a.INCOME\n",
        "ax.bar(labels,var)\n",
        "ax.set_title('average income per mobility label')\n",
        "plt.show()\n",
        "#cluster 0 (long trips) richest, 5 lowest income (early morning) "
      ],
      "metadata": {
        "id": "5MSGykSRRHDw",
        "outputId": "8fac477d-7a50-48fb-ecc2-cb8a1c79e2cb",
        "colab": {
          "base_uri": "https://localhost:8080/",
          "height": 357
        }
      },
      "execution_count": null,
      "outputs": [
        {
          "output_type": "display_data",
          "data": {
            "text/plain": [
              "<Figure size 432x288 with 1 Axes>"
            ],
            "image/png": "[encoded data removed]"
          },
          "metadata": {}
        }
      ]
    },
    {
      "cell_type": "code",
      "source": [
        "socio[['INCOME','label']].groupby('label').median()\n"
      ],
      "metadata": {
        "id": "QdXvI7aOQxrn",
        "outputId": "1aad3853-242a-4d7c-db15-0bb8b8d96326",
        "colab": {
          "base_uri": "https://localhost:8080/",
          "height": 300
        }
      },
      "execution_count": null,
      "outputs": [
        {
          "output_type": "execute_result",
          "data": {
            "text/plain": [
              "       INCOME\n",
              "label        \n",
              "0        37.5\n",
              "1        37.5\n",
              "2        37.5\n",
              "3        12.5\n",
              "4        12.5\n",
              "5        12.5\n",
              "6        12.5"
            ],
            "text/html": [
              "\n",
              "  <div id=\"df-275b2018-9a78-4408-9ec5-9a4c91b055e2\">\n",
              "    <div class=\"colab-df-container\">\n",
              "      <div>\n",
              "<style scoped>\n",
              "    .dataframe tbody tr th:only-of-type {\n",
              "        vertical-align: middle;\n",
              "    }\n",
              "\n",
              "    .dataframe tbody tr th {\n",
              "        vertical-align: top;\n",
              "    }\n",
              "\n",
              "    .dataframe thead th {\n",
              "        text-align: right;\n",
              "    }\n",
              "</style>\n",
              "<table border=\"1\" class=\"dataframe\">\n",
              "  <thead>\n",
              "    <tr style=\"text-align: right;\">\n",
              "      <th></th>\n",
              "      <th>INCOME</th>\n",
              "    </tr>\n",
              "    <tr>\n",
              "      <th>label</th>\n",
              "      <th></th>\n",
              "    </tr>\n",
              "  </thead>\n",
              "  <tbody>\n",
              "    <tr>\n",
              "      <th>0</th>\n",
              "      <td>37.5</td>\n",
              "    </tr>\n",
              "    <tr>\n",
              "      <th>1</th>\n",
              "      <td>37.5</td>\n",
              "    </tr>\n",
              "    <tr>\n",
              "      <th>2</th>\n",
              "      <td>37.5</td>\n",
              "    </tr>\n",
              "    <tr>\n",
              "      <th>3</th>\n",
              "      <td>12.5</td>\n",
              "    </tr>\n",
              "    <tr>\n",
              "      <th>4</th>\n",
              "      <td>12.5</td>\n",
              "    </tr>\n",
              "    <tr>\n",
              "      <th>5</th>\n",
              "      <td>12.5</td>\n",
              "    </tr>\n",
              "    <tr>\n",
              "      <th>6</th>\n",
              "      <td>12.5</td>\n",
              "    </tr>\n",
              "  </tbody>\n",
              "</table>\n",
              "</div>\n",
              "      <button class=\"colab-df-convert\" onclick=\"convertToInteractive('df-275b2018-9a78-4408-9ec5-9a4c91b055e2')\"\n",
              "              title=\"Convert this dataframe to an interactive table.\"\n",
              "              style=\"display:none;\">\n",
              "        \n",
              "  <svg xmlns=\"http://www.w3.org/2000/svg\" height=\"24px\"viewBox=\"0 0 24 24\"\n",
              "       width=\"24px\">\n",
              "    <path d=\"M0 0h24v24H0V0z\" fill=\"none\"/>\n",
              "    <path d=\"M18.56 5.44l.94 2.06.94-2.06 2.06-.94-2.06-.94-.94-2.06-.94 2.06-2.06.94zm-11 1L8.5 8.5l.94-2.06 2.06-.94-2.06-.94L8.5 2.5l-.94 2.06-2.06.94zm10 10l.94 2.06.94-2.06 2.06-.94-2.06-.94-.94-2.06-.94 2.06-2.06.94z\"/><path d=\"M17.41 7.96l-1.37-1.37c-.4-.4-.92-.59-1.43-.59-.52 0-1.04.2-1.43.59L10.3 9.45l-7.72 7.72c-.78.78-.78 2.05 0 2.83L4 21.41c.39.39.9.59 1.41.59.51 0 1.02-.2 1.41-.59l7.78-7.78 2.81-2.81c.8-.78.8-2.07 0-2.86zM5.41 20L4 18.59l7.72-7.72 1.47 1.35L5.41 20z\"/>\n",
              "  </svg>\n",
              "      </button>\n",
              "      \n",
              "  <style>\n",
              "    .colab-df-container {\n",
              "      display:flex;\n",
              "      flex-wrap:wrap;\n",
              "      gap: 12px;\n",
              "    }\n",
              "\n",
              "    .colab-df-convert {\n",
              "      background-color: #E8F0FE;\n",
              "      border: none;\n",
              "      border-radius: 50%;\n",
              "      cursor: pointer;\n",
              "      display: none;\n",
              "      fill: #1967D2;\n",
              "      height: 32px;\n",
              "      padding: 0 0 0 0;\n",
              "      width: 32px;\n",
              "    }\n",
              "\n",
              "    .colab-df-convert:hover {\n",
              "      background-color: #E2EBFA;\n",
              "      box-shadow: 0px 1px 2px rgba(60, 64, 67, 0.3), 0px 1px 3px 1px rgba(60, 64, 67, 0.15);\n",
              "      fill: #174EA6;\n",
              "    }\n",
              "\n",
              "    [theme=dark] .colab-df-convert {\n",
              "      background-color: #3B4455;\n",
              "      fill: #D2E3FC;\n",
              "    }\n",
              "\n",
              "    [theme=dark] .colab-df-convert:hover {\n",
              "      background-color: #434B5C;\n",
              "      box-shadow: 0px 1px 3px 1px rgba(0, 0, 0, 0.15);\n",
              "      filter: drop-shadow(0px 1px 2px rgba(0, 0, 0, 0.3));\n",
              "      fill: #FFFFFF;\n",
              "    }\n",
              "  </style>\n",
              "\n",
              "      <script>\n",
              "        const buttonEl =\n",
              "          document.querySelector('#df-275b2018-9a78-4408-9ec5-9a4c91b055e2 button.colab-df-convert');\n",
              "        buttonEl.style.display =\n",
              "          google.colab.kernel.accessAllowed ? 'block' : 'none';\n",
              "\n",
              "        async function convertToInteractive(key) {\n",
              "          const element = document.querySelector('#df-275b2018-9a78-4408-9ec5-9a4c91b055e2');\n",
              "          const dataTable =\n",
              "            await google.colab.kernel.invokeFunction('convertToInteractive',\n",
              "                                                     [key], {});\n",
              "          if (!dataTable) return;\n",
              "\n",
              "          const docLinkHtml = 'Like what you see? Visit the ' +\n",
              "            '<a target=\"_blank\" href=https://colab.research.google.com/notebooks/data_table.ipynb>data table notebook</a>'\n",
              "            + ' to learn more about interactive tables.';\n",
              "          element.innerHTML = '';\n",
              "          dataTable['output_type'] = 'display_data';\n",
              "          await google.colab.output.renderOutput(dataTable, element);\n",
              "          const docLink = document.createElement('div');\n",
              "          docLink.innerHTML = docLinkHtml;\n",
              "          element.appendChild(docLink);\n",
              "        }\n",
              "      </script>\n",
              "    </div>\n",
              "  </div>\n",
              "  "
            ]
          },
          "metadata": {},
          "execution_count": 116
        }
      ]
    },
    {
      "cell_type": "code",
      "source": [
        "a = socio[['INCOME','label']].groupby('label').mean()\n",
        "fig = plt.figure()\n",
        "ax = fig.add_axes([0,0,1,1])\n",
        "labels = a.index\n",
        "var = a.INCOME\n",
        "ax.bar(labels,var)\n",
        "ax.set_title('median income per mobility label')\n",
        "plt.show()"
      ],
      "metadata": {
        "id": "7gTL8xBERW70",
        "outputId": "5072e4e9-fbba-48d5-881c-7aa2a29594b7",
        "colab": {
          "base_uri": "https://localhost:8080/",
          "height": 357
        }
      },
      "execution_count": null,
      "outputs": [
        {
          "output_type": "display_data",
          "data": {
            "text/plain": [
              "<Figure size 432x288 with 1 Axes>"
            ],
            "image/png": "[encoded data removed]"
          },
          "metadata": {}
        }
      ]
    },
    {
      "cell_type": "code",
      "source": [
        "def mrg(var):\n",
        "  lst = list(socio_cols[var])\n",
        "  lst.append('label')\n",
        "  return socio[lst].groupby('label').sum()"
      ],
      "metadata": {
        "id": "jkr3WxeSaU98"
      },
      "execution_count": null,
      "outputs": []
    },
    {
      "cell_type": "code",
      "source": [
        "#GENDER\n",
        "pops = mrg('sex').sum(axis=1)\n",
        "perc = mrg('sex')['Sex_B01ID_1']/pops*100\n",
        "fig = plt.figure()\n",
        "ax = fig.add_axes([0,0,1,1])\n",
        "labels = perc.index\n",
        "var = perc\n",
        "ax.bar(labels,var)\n",
        "ax.set_title('MALE % per mobility label')\n",
        "plt.show()"
      ],
      "metadata": {
        "id": "wY3oOh9qVjb2",
        "outputId": "936e797e-8612-4025-d294-d5fd829ef575",
        "colab": {
          "base_uri": "https://localhost:8080/",
          "height": 357
        }
      },
      "execution_count": null,
      "outputs": [
        {
          "output_type": "display_data",
          "data": {
            "text/plain": [
              "<Figure size 432x288 with 1 Axes>"
            ],
            "image/png": "[encoded data removed]"
          },
          "metadata": {}
        }
      ]
    },
    {
      "cell_type": "code",
      "source": [
        "#marital\n",
        "pops = mrg('marital').sum(axis=1)\n",
        "perc = mrg('marital')['married']/pops*100\n",
        "fig = plt.figure()\n",
        "ax = fig.add_axes([0,0,1,1])\n",
        "labels = perc.index\n",
        "var = perc\n",
        "ax.bar(labels,var)\n",
        "ax.set_title('Married % per mobility label')\n",
        "plt.show()"
      ],
      "metadata": {
        "id": "6Svt0_7ybBBn",
        "outputId": "21f4ce4a-8ec0-4d0d-c5e3-d1aced30d521",
        "colab": {
          "base_uri": "https://localhost:8080/",
          "height": 357
        }
      },
      "execution_count": null,
      "outputs": [
        {
          "output_type": "display_data",
          "data": {
            "text/plain": [
              "<Figure size 432x288 with 1 Axes>"
            ],
            "image/png": "[encoded data removed]"
          },
          "metadata": {}
        }
      ]
    },
    {
      "cell_type": "code",
      "source": [
        "#urban rural\n",
        "pops = mrg('urban_rural').sum(axis=1)\n",
        "perc = mrg('urban_rural')['Settlement2011EW_B03ID_1']/pops*100\n",
        "fig = plt.figure()\n",
        "ax = fig.add_axes([0,0,1,1])\n",
        "labels = perc.index\n",
        "var = perc\n",
        "ax.bar(labels,var)\n",
        "ax.set_title('Urban % per mobility label')\n",
        "plt.show()"
      ],
      "metadata": {
        "id": "7fJCfZs8lmlA",
        "outputId": "536e009e-b857-4e97-97d4-85f7a495e401",
        "colab": {
          "base_uri": "https://localhost:8080/",
          "height": 357
        }
      },
      "execution_count": null,
      "outputs": [
        {
          "output_type": "display_data",
          "data": {
            "text/plain": [
              "<Figure size 432x288 with 1 Axes>"
            ],
            "image/png": "[encoded data removed]"
          },
          "metadata": {}
        }
      ]
    },
    {
      "cell_type": "code",
      "source": [
        "#region\n",
        "pops = mrg('region').sum(axis=1)\n",
        "r1 = mrg('region')['PSUStatsReg_B01ID_1']/pops*100\n",
        "r2 = mrg('region')['PSUStatsReg_B01ID_2']/pops*100\n",
        "r3 = mrg('region')['PSUStatsReg_B01ID_3']/pops*100\n",
        "r4 = mrg('region')['PSUStatsReg_B01ID_4']/pops*100\n",
        "r5 = mrg('region')['PSUStatsReg_B01ID_5']/pops*100\n",
        "r6 = mrg('region')['PSUStatsReg_B01ID_6']/pops*100\n",
        "r7 = mrg('region')['PSUStatsReg_B01ID_7']/pops*100\n",
        "r8 = mrg('region')['PSUStatsReg_B01ID_8']/pops*100\n",
        "r9 = mrg('region')['PSUStatsReg_B01ID_9']/pops*100\n",
        "r10 = mrg('region')['PSUStatsReg_B01ID_10']/pops*100\n",
        "r11 = mrg('region')['PSUStatsReg_B01ID_11']/pops*100\n",
        "r12 = mrg('region')['PSUStatsReg_B01ID_12']/pops*100\n",
        "r13 = mrg('region')['PSUStatsReg_B01ID_13']/pops*100\n",
        "\n",
        "\n",
        "fig = plt.figure()\n",
        "ax = fig.add_axes([0,0,1,1])\n",
        "labels = r1.index\n",
        "\n",
        "\n",
        "ax.bar(labels, r1, color='b')\n",
        "ax.bar(labels, r2,bottom=r1, color='g')\n",
        "ax.bar(labels, r3,bottom=r1+r2, color='r')\n",
        "ax.bar(labels, r4,bottom=r1+r2+r3, color='c')\n",
        "ax.bar(labels, r5,bottom=r1+r2+r3+r4, color='m')\n",
        "ax.bar(labels, r6,bottom=r1+r2+r3+r4+r5, color='y')\n",
        "ax.bar(labels, r7,bottom=r1+r2+r3+r4+r5+r6, color='k')\n",
        "ax.bar(labels, r8,bottom=r1+r2++r3+r4+r5+r6+r7, color='w')\n",
        "ax.bar(labels, r9,bottom=r1+r2+r3+r4+r5+r6+r7+r8, color='violet')\n",
        "ax.bar(labels, r10,bottom=r1+r2+r3+r4+r5+r6+r7+r8+r9, color='lightgreen')\n",
        "ax.bar(labels, r11,bottom=r1+r2+r3+r4+r5+r6+r7+r8+r9+r10, color='peru')\n",
        "ax.bar(labels, r12,bottom=r1+r2+r3+r4+r5+r6+r7+r8+r9+r10+r11, color='orange')\n",
        "ax.bar(labels, r13,bottom=r1+r2+r3+r4+r5+r6+r7+r8+r9+r10+r11+r12, color='silver')\n",
        "\n",
        "\n",
        "ax.set_ylabel('%')\n",
        "ax.set_title('Region')\n",
        "ax.legend(labels=['Northern, Metropolitan', 'Northern, Non-metropolitan',\\\n",
        "                  'Yorkshire / Humberside, Metropolitan','Yorkshire / Humberside, Non-metropolitan',\\\n",
        "                  'East Midlands','East Anglia','South East (no london)','London Boroughs',\\\n",
        "                  'South West','West Midlands, Metropolitan','West Midlands, Non-metropolitan',\\\n",
        "                  'North West, Metropolitan','North West, Non-metropolitan'],loc=(1.04, 0))\n",
        "plt.show()\n",
        "\n",
        "\n"
      ],
      "metadata": {
        "colab": {
          "base_uri": "https://localhost:8080/",
          "height": 357
        },
        "id": "_RzA0nmxKa3u",
        "outputId": "2c0efc42-6279-47f6-ccfe-bfc1f6bcaa97"
      },
      "execution_count": null,
      "outputs": [
        {
          "output_type": "display_data",
          "data": {
            "text/plain": [
              "<Figure size 432x288 with 1 Axes>"
            ],
            "image/png": "[encoded data removed]"
          },
          "metadata": {}
        }
      ]
    },
    {
      "cell_type": "code",
      "source": [
        "#work\n",
        "pops = mrg('work').sum(axis=1)\n",
        "full = mrg('work')['fulltime']/pops*100\n",
        "part = mrg('work')['parttime']/pops*100\n",
        "nowork = mrg('work')['not_working']/pops*100\n",
        "\n",
        "fig = plt.figure()\n",
        "ax = fig.add_axes([0,0,1,1])\n",
        "labels = full.index\n",
        "\n",
        "\n",
        "ax.bar(labels, full, color='b')\n",
        "ax.bar(labels, part,bottom=full, color='g')\n",
        "ax.bar(labels, nowork,bottom=part+full, color='r')\n",
        "\n",
        "ax.set_ylabel('%')\n",
        "ax.set_title('Employment status')\n",
        "ax.legend(labels=['FULL TIME%', 'PART TIME %', 'NOT WORKING'])\n",
        "plt.show()"
      ],
      "metadata": {
        "id": "hcxTzGWxbRis",
        "outputId": "83c95e0a-8db2-41b6-ce27-1df183abca76",
        "colab": {
          "base_uri": "https://localhost:8080/",
          "height": 357
        }
      },
      "execution_count": null,
      "outputs": [
        {
          "output_type": "display_data",
          "data": {
            "text/plain": [
              "<Figure size 432x288 with 1 Axes>"
            ],
            "image/png": "[encoded data removed]"
          },
          "metadata": {}
        }
      ]
    },
    {
      "cell_type": "code",
      "source": [
        "#household structure\n",
        "pops = mrg('hh_struc').sum(axis=1)\n",
        "single = mrg('hh_struc')['HHoldStruct_B02ID_1']/pops*100\n",
        "two_adult = mrg('hh_struc')['HHoldStruct_B02ID_2']/pops*100\n",
        "three_adult = mrg('hh_struc')['HHoldStruct_B02ID_3']/pops*100\n",
        "single_parent_child = mrg('hh_struc')['HHoldStruct_B02ID_4']/pops*100\n",
        "two_parents_child = mrg('hh_struc')['HHoldStruct_B02ID_5']/pops*100\n",
        "three_adults_child = mrg('hh_struc')['HHoldStruct_B02ID_6']/pops*100\n",
        "\n",
        "fig = plt.figure()\n",
        "ax = fig.add_axes([0,0,1,1])\n",
        "labels = full.index\n",
        "\n",
        "\n",
        "ax.bar(labels, single, color='b')\n",
        "ax.bar(labels, two_adult,bottom=single, color='g')\n",
        "ax.bar(labels, three_adult,bottom=two_adult+single, color='r')\n",
        "ax.bar(labels, single_parent_child,bottom=two_adult+single+three_adult, color='orange')\n",
        "ax.bar(labels, two_parents_child,bottom=two_adult+single+three_adult+\\\n",
        "       single_parent_child, color='cyan')\n",
        "ax.bar(labels, three_adults_child,bottom=two_adult+single+\\\n",
        "       three_adult+single_parent_child+two_parents_child, color='y')\n",
        "\n",
        "ax.set_ylabel('%')\n",
        "ax.set_title('Household Structure')\n",
        "\n",
        "ax.legend(labels=['Single adult%', '2 adults %', '3 adults or more',\\\n",
        "                  'Single parent family','2 adults, 1 child or more',\\\n",
        "                  '3 adults or more, 1 child or more'],loc=(1.04, 0))\n",
        "plt.show()"
      ],
      "metadata": {
        "id": "HWGplZlclFuJ",
        "outputId": "f6ce8e24-95b3-4e6d-de31-5e6246f608ac",
        "colab": {
          "base_uri": "https://localhost:8080/",
          "height": 357
        }
      },
      "execution_count": null,
      "outputs": [
        {
          "output_type": "display_data",
          "data": {
            "text/plain": [
              "<Figure size 432x288 with 1 Axes>"
            ],
            "image/png": "[encoded data removed]"
          },
          "metadata": {}
        }
      ]
    },
    {
      "cell_type": "code",
      "source": [
        "#social class \n",
        "pops = mrg('hh_socialclass').sum(axis=1)\n",
        "single = mrg('hh_socialclass')['HRPSEGWorkStat_B01ID_1']/pops*100\n",
        "two_adult = mrg('hh_socialclass')['HRPSEGWorkStat_B01ID_2']/pops*100\n",
        "three_adult = mrg('hh_socialclass')['HRPSEGWorkStat_B01ID_3']/pops*100\n",
        "single_parent_child = mrg('hh_socialclass')['HRPSEGWorkStat_B01ID_4']/pops*100\n",
        "two_parents_child = mrg('hh_socialclass')['HRPSEGWorkStat_B01ID_5']/pops*100\n",
        "three_adults_child = mrg('hh_socialclass')['HRPSEGWorkStat_B01ID_6']/pops*100\n",
        "\n",
        "fig = plt.figure()\n",
        "ax = fig.add_axes([0,0,1,1])\n",
        "labels = full.index\n",
        "\n",
        "\n",
        "ax.bar(labels, single, color='b')\n",
        "ax.bar(labels, two_adult,bottom=single, color='g')\n",
        "ax.bar(labels, three_adult,bottom=two_adult+single, color='r')\n",
        "ax.bar(labels, single_parent_child,bottom=two_adult+single+three_adult, color='orange')\n",
        "ax.bar(labels, two_parents_child,bottom=two_adult+single+three_adult+\\\n",
        "       single_parent_child, color='cyan')\n",
        "ax.bar(labels, three_adults_child,bottom=two_adult+single+\\\n",
        "       three_adult+single_parent_child+two_parents_child, color='y')\n",
        "\n",
        "ax.set_ylabel('%')\n",
        "ax.set_title('Socio Economic Group')\n",
        "\n",
        "ax.legend(labels=['Professional / managerial%', 'Clerical %', 'Skilled manual',\\\n",
        "                  'Other manual and other / missing SEGs','Retired / permanently sick',\\\n",
        "                  'Other economically inactive'],loc=(1.04, 0))\n",
        "plt.show()"
      ],
      "metadata": {
        "id": "OagMxHIMbFk_",
        "outputId": "289f77a9-8966-4bae-9d6f-3cfa7cfda515",
        "colab": {
          "base_uri": "https://localhost:8080/",
          "height": 357
        }
      },
      "execution_count": null,
      "outputs": [
        {
          "output_type": "display_data",
          "data": {
            "text/plain": [
              "<Figure size 432x288 with 1 Axes>"
            ],
            "image/png": "[encoded data removed]"
          },
          "metadata": {}
        }
      ]
    },
    {
      "cell_type": "code",
      "source": [
        "socio.columns"
      ],
      "metadata": {
        "id": "E4QEAn7tQqQS",
        "outputId": "d2e0327b-c688-47d0-dafa-170400354cec",
        "colab": {
          "base_uri": "https://localhost:8080/"
        }
      },
      "execution_count": null,
      "outputs": [
        {
          "output_type": "execute_result",
          "data": {
            "text/plain": [
              "Index(['Age_B04ID_4', 'Age_B04ID_5', 'Age_B04ID_6', 'Age_B04ID_7',\n",
              "       'Age_B04ID_8', 'Age_B04ID_9', 'Sex_B01ID_1', 'Sex_B01ID_2', 'married',\n",
              "       'not_married', 'IndIncome2002_B02ID_1', 'IndIncome2002_B02ID_2',\n",
              "       'IndIncome2002_B02ID_3', 'fulltime', 'parttime', 'not_working',\n",
              "       'HHIncome2002_B02ID_1', 'HHIncome2002_B02ID_2', 'HHIncome2002_B02ID_3',\n",
              "       'HHoldStruct_B02ID_1', 'HHoldStruct_B02ID_2', 'HHoldStruct_B02ID_3',\n",
              "       'HHoldStruct_B02ID_4', 'HHoldStruct_B02ID_5', 'HHoldStruct_B02ID_6',\n",
              "       'hh_fulltime', 'hh_parttime', 'hh_not_working',\n",
              "       'HRPSEGWorkStat_B01ID_1', 'HRPSEGWorkStat_B01ID_2',\n",
              "       'HRPSEGWorkStat_B01ID_3', 'HRPSEGWorkStat_B01ID_4',\n",
              "       'HRPSEGWorkStat_B01ID_5', 'HRPSEGWorkStat_B01ID_6',\n",
              "       'Settlement2011EW_B03ID_1', 'Settlement2011EW_B03ID_2',\n",
              "       'PSUStatsReg_B01ID_1', 'PSUStatsReg_B01ID_2', 'PSUStatsReg_B01ID_3',\n",
              "       'PSUStatsReg_B01ID_4', 'PSUStatsReg_B01ID_5', 'PSUStatsReg_B01ID_6',\n",
              "       'PSUStatsReg_B01ID_7', 'PSUStatsReg_B01ID_8', 'PSUStatsReg_B01ID_9',\n",
              "       'PSUStatsReg_B01ID_10', 'PSUStatsReg_B01ID_11', 'PSUStatsReg_B01ID_12',\n",
              "       'PSUStatsReg_B01ID_13', 'label', 'AGE', 'INCOME'],\n",
              "      dtype='object')"
            ]
          },
          "metadata": {},
          "execution_count": 128
        }
      ]
    },
    {
      "cell_type": "code",
      "source": [
        "NTS_dummy['labels'] = pc_df['label']\n",
        "NTS_dummy.to_csv('/content/drive/MyDrive/socio_pred/UKDA-5340-tab/NTS_v3.csv')\n"
      ],
      "metadata": {
        "id": "F9q4Dm9Z3gSX"
      },
      "execution_count": null,
      "outputs": []
    },
    {
      "cell_type": "code",
      "source": [
        "#mobility.corr().style.background_gradient(cmap='coolwarm')"
      ],
      "metadata": {
        "id": "eoNrncUmlXo8"
      },
      "execution_count": null,
      "outputs": []
    }
  ]
}