{
  "nbformat": 4,
  "nbformat_minor": 0,
  "metadata": {
    "colab": {
      "name": "survey.ipynb",
      "provenance": [],
      "collapsed_sections": [],
      "mount_file_id": "1kv-DaWpueFkWui7i0F0YU8sQXnRyDW-a",
      "authorship_tag": "ABX9TyOboni0geEBfD/xuY43xby2",
      "include_colab_link": true
    },
    "kernelspec": {
      "name": "python3",
      "display_name": "Python 3"
    },
    "language_info": {
      "name": "python"
    }
  },
  "cells": [
    {
      "cell_type": "markdown",
      "metadata": {
        "id": "view-in-github",
        "colab_type": "text"
      },
      "source": [
        "<a href=\"https://colab.research.google.com/github/arashk1990/covid19mobility/blob/main/survey.ipynb\" target=\"_parent\"><img src=\"https://colab.research.google.com/assets/colab-badge.svg\" alt=\"Open In Colab\"/></a>"
      ]
    },
    {
      "cell_type": "code",
      "execution_count": 1,
      "metadata": {
        "id": "wmfCrPaD2PNy"
      },
      "outputs": [],
      "source": [
        "import pandas as pd"
      ]
    },
    {
      "cell_type": "code",
      "source": [
        "def read_tab(var):\n",
        "  dir = f'/content/drive/MyDrive/socio_pred/UKDA-5340-tab/tab/{var}_eul_2002-2020.tab'\n",
        "  df = pd.read_csv(dir,sep='\\t')\n",
        "  #select surveys after 2018\n",
        "  if 'SurveyYear' in df.columns:\n",
        "    df = df[df['SurveyYear']>2018]\n",
        "  return df"
      ],
      "metadata": {
        "id": "ZH4ceBL02k_P"
      },
      "execution_count": 2,
      "outputs": []
    },
    {
      "cell_type": "code",
      "source": [
        "#indev = read_tab('indev')\n",
        "#stage = read_tab('stage')"
      ],
      "metadata": {
        "id": "zCPty9i28dgN"
      },
      "execution_count": null,
      "outputs": []
    },
    {
      "cell_type": "code",
      "source": [
        "#select the relevant vars\n",
        "#PSU\n",
        "psu = read_tab('psu')\n",
        "psu = psu[['PSUID','SurveyYear','PSUStatsReg_B01ID']]"
      ],
      "metadata": {
        "id": "XMBWbDVexCA2"
      },
      "execution_count": 3,
      "outputs": []
    },
    {
      "cell_type": "code",
      "source": [
        "#Trip\n",
        "trip = read_tab('trip')\n",
        "\n",
        "cols_trip = ['TripID','DayID','IndividualID','HouseholdID','PSUID',\\\n",
        "             'SeriesCall_B01ID','ShortWalkTrip_B01ID','NumStages_B01ID',\\\n",
        "             'MainMode_B04ID','TripPurpose_B04ID','TripStart_B01ID',\\\n",
        "             'TripStart_B02ID','TripEnd_B01ID','TripEnd_B02ID',\\\n",
        "             'TripDisIncSW_B01ID','TripDisExSW_B01ID','TripTotalTime_B01ID',\\\n",
        "             'TripTravTime_B01ID','TripOrigGOR_B02ID','TripDestGOR_B02ID']\n",
        "\n",
        "trip = trip[cols_trip]  \n",
        "trip.shape"
      ],
      "metadata": {
        "colab": {
          "base_uri": "https://localhost:8080/"
        },
        "id": "Oc1U5GumMcq1",
        "outputId": "a2e5c52a-f2d0-4faf-9f3a-147bf9d6b65a"
      },
      "execution_count": 4,
      "outputs": [
        {
          "output_type": "stream",
          "name": "stderr",
          "text": [
            "/usr/local/lib/python3.7/dist-packages/ipykernel_launcher.py:2: DtypeWarning: Columns (37,40,43,45,46) have mixed types.Specify dtype option on import or set low_memory=False.\n",
            "  \n"
          ]
        },
        {
          "output_type": "execute_result",
          "data": {
            "text/plain": [
              "(277460, 20)"
            ]
          },
          "metadata": {},
          "execution_count": 4
        }
      ]
    },
    {
      "cell_type": "code",
      "source": [
        "#filter trips\n",
        "# no shortwalk trips \n",
        "trip = trip[trip['ShortWalkTrip_B01ID']==2]"
      ],
      "metadata": {
        "id": "r2KN8EhuNlYb"
      },
      "execution_count": 5,
      "outputs": []
    },
    {
      "cell_type": "code",
      "source": [
        "#Household\n",
        "household = read_tab('household')\n",
        "\n",
        "cols_houshold = ['HouseholdID','PSUID','TWSDay','TWSMonth','TWSYear',\\\n",
        "                 'TWSMonth_B01ID','TWSWeekday_B01ID','TWEMonth_B01ID',\\\n",
        "                 'TWEWeekday_B01ID','HHIncome2002_B02ID','Ten1_B02ID',\\\n",
        "                 'HHoldGOR_B02ID','HHoldStruct_B02ID','HRPWorkStat_B02ID',\\\n",
        "                 'HRPEmpStat_B01ID','HRPSEGWorkStat_B01ID','HHoldEmploy_B01ID',\n",
        "                 'WalkBus_B01ID','WalkRail_B01ID','BusRail_B01ID','Settlement2011EW_B03ID',\\\n",
        "                 'HHoldOAClass2011_B03ID','HHIncQDS2020Eng_B01ID','HHIncQIS2020Eng_B01ID']\n",
        "household = household[cols_houshold]"
      ],
      "metadata": {
        "colab": {
          "base_uri": "https://localhost:8080/"
        },
        "id": "rVgRMGWR7KGD",
        "outputId": "9dc58853-4ce2-43d4-f0c8-d8fdf9e19e12"
      },
      "execution_count": 6,
      "outputs": [
        {
          "output_type": "stream",
          "name": "stderr",
          "text": [
            "/usr/local/lib/python3.7/dist-packages/ipykernel_launcher.py:2: DtypeWarning: Columns (17,34,35,36,37,39,44,49,50,89) have mixed types.Specify dtype option on import or set low_memory=False.\n",
            "  \n"
          ]
        }
      ]
    },
    {
      "cell_type": "code",
      "source": [
        "household.shape"
      ],
      "metadata": {
        "colab": {
          "base_uri": "https://localhost:8080/"
        },
        "id": "UCP53yUw7n8B",
        "outputId": "f7e0c6b2-2b37-4fa4-dd24-1d204377d88c"
      },
      "execution_count": null,
      "outputs": [
        {
          "output_type": "execute_result",
          "data": {
            "text/plain": [
              "(9839, 24)"
            ]
          },
          "metadata": {},
          "execution_count": 82
        }
      ]
    },
    {
      "cell_type": "code",
      "source": [
        "# household filters:\n",
        "# exclude 'DEAD' rows\n",
        "household = household[household['TWSMonth_B01ID']>0]\n",
        "#Nov, Dec 2019, Jan and Feb 2020\n",
        "household=household[((household['TWSMonth_B01ID'] <3) & (household['TWSYear']==2020))\\\n",
        "          | ((household['TWSMonth_B01ID'] >10) & (household['TWSYear']==2019))]\n",
        "\n",
        "household.shape"
      ],
      "metadata": {
        "colab": {
          "base_uri": "https://localhost:8080/"
        },
        "id": "sA2Mu7-n5jqC",
        "outputId": "cabb1f2d-2540-4af8-b82b-3296fcf69490"
      },
      "execution_count": 7,
      "outputs": [
        {
          "output_type": "execute_result",
          "data": {
            "text/plain": [
              "(2192, 24)"
            ]
          },
          "metadata": {},
          "execution_count": 7
        }
      ]
    },
    {
      "cell_type": "code",
      "source": [
        "#trip filter\n",
        "# is from selected hh \n",
        "trip = trip[trip['HouseholdID'].isin(household['HouseholdID'])]\n",
        "trip.shape\n",
        "\n",
        "#filter hou"
      ],
      "metadata": {
        "colab": {
          "base_uri": "https://localhost:8080/"
        },
        "id": "87JMY7ZoTmkN",
        "outputId": "7d70ef75-1f3c-45aa-ad61-7f5aaac18992"
      },
      "execution_count": 8,
      "outputs": [
        {
          "output_type": "execute_result",
          "data": {
            "text/plain": [
              "(66252, 20)"
            ]
          },
          "metadata": {},
          "execution_count": 8
        }
      ]
    },
    {
      "cell_type": "code",
      "source": [
        "#Individual\n",
        "individual = read_tab('individual')\n",
        "\n",
        "cols_ind = ['IndividualID','HouseholdID','PSUID','VehicleID','Age_B04ID',\n",
        " 'Sex_B01ID','MarStat_B01ID','EthGroupTS_B02ID','EdAttn3_B01ID',\n",
        " 'CarAccess_B01ID','DrivLic_B02ID','IndIncome2002_B02ID',\\\n",
        " 'WkPlace_B01ID','EcoStat_B02ID','SC_B01ID','OftHome_B01ID','BusOut_B01ID',\\\n",
        " 'Educ_B01ID','WkMuch_B01ID','OwnPhone_B01ID']\n",
        "individual = individual[cols_ind]\n"
      ],
      "metadata": {
        "colab": {
          "base_uri": "https://localhost:8080/"
        },
        "id": "N3qZLOHf8GV-",
        "outputId": "4426f919-8aef-4ff1-8a71-68fd522bc12a"
      },
      "execution_count": 9,
      "outputs": [
        {
          "output_type": "stream",
          "name": "stderr",
          "text": [
            "/usr/local/lib/python3.7/dist-packages/ipykernel_launcher.py:2: DtypeWarning: Columns (57) have mixed types.Specify dtype option on import or set low_memory=False.\n",
            "  \n"
          ]
        }
      ]
    },
    {
      "cell_type": "code",
      "source": [
        "individual.shape"
      ],
      "metadata": {
        "colab": {
          "base_uri": "https://localhost:8080/"
        },
        "id": "gZmdqp8vGFaX",
        "outputId": "b0e45b21-eceb-45f3-9d97-bce558aaf1e5"
      },
      "execution_count": 10,
      "outputs": [
        {
          "output_type": "execute_result",
          "data": {
            "text/plain": [
              "(22767, 20)"
            ]
          },
          "metadata": {},
          "execution_count": 10
        }
      ]
    },
    {
      "cell_type": "code",
      "source": [
        "#individual filters\n",
        "# is from selected hh \n",
        "individual = individual[individual['HouseholdID'].isin(household['HouseholdID'])]\n",
        "individual.shape"
      ],
      "metadata": {
        "colab": {
          "base_uri": "https://localhost:8080/"
        },
        "id": "fpAFM0NEE5yD",
        "outputId": "c218d16e-3f69-446d-9ef7-dbef0b9b40f3"
      },
      "execution_count": 11,
      "outputs": [
        {
          "output_type": "execute_result",
          "data": {
            "text/plain": [
              "(5240, 20)"
            ]
          },
          "metadata": {},
          "execution_count": 11
        }
      ]
    },
    {
      "cell_type": "code",
      "source": [
        "#Vehicle\n",
        "vehicle = read_tab('vehicle')\n",
        "\n",
        "cols_veh = ['VehicleID','HouseholdID'\t,'PSUID'\t,'IndividualID','VehNo',\\\n",
        "            'VehAvail_B01ID','VehComMile_B01ID','VehBusMile_B01ID',\\\n",
        "             'VehPriMile_B01ID']\n",
        "vehicle = vehicle[cols_veh]\n",
        "\n",
        "# is from selected hh \n",
        "\n",
        "vehicle = vehicle[vehicle['HouseholdID'].isin(household['HouseholdID'])]\n"
      ],
      "metadata": {
        "id": "rja4D7_hHMC_"
      },
      "execution_count": 12,
      "outputs": []
    },
    {
      "cell_type": "code",
      "source": [
        "#Day\n",
        "day = read_tab('day')\n",
        "\n",
        "cols_day = ['DayID','IndividualID','HouseholdID','PSUID','TravelWeekDay_B01ID',\\\n",
        "            'TravelWeekDay_B02ID','TravelWeekDay_B03ID','TravelDayType_B01ID']\n",
        "day = day[cols_day]\n",
        "# is from selected hh \n",
        "day = day[day['HouseholdID'].isin(household['HouseholdID'])]\n",
        "day.shape"
      ],
      "metadata": {
        "colab": {
          "base_uri": "https://localhost:8080/"
        },
        "id": "V5RiedGsLr7I",
        "outputId": "db95cbca-0ce5-435b-8aed-818e186b6f1a"
      },
      "execution_count": 13,
      "outputs": [
        {
          "output_type": "execute_result",
          "data": {
            "text/plain": [
              "(32949, 8)"
            ]
          },
          "metadata": {},
          "execution_count": 13
        }
      ]
    },
    {
      "cell_type": "code",
      "source": [
        "#merge with day \n",
        "trip_day = trip.merge(day, left_on='DayID', right_on='DayID', how='inner',suffixes=('', '_y'))\n",
        "\n",
        "trip_day.drop(trip_day.filter(regex='_y$').columns, axis=1, inplace=True)\n"
      ],
      "metadata": {
        "id": "VQSfXMd7QQ-l"
      },
      "execution_count": 14,
      "outputs": []
    },
    {
      "cell_type": "code",
      "source": [
        "#merge with individual\n",
        "trip_day_ind = trip_day.merge(individual, left_on='IndividualID', right_on='IndividualID', how='inner',suffixes=('', '_y'))\n",
        "\n",
        "trip_day_ind.drop(trip_day_ind.filter(regex='_y$').columns, axis=1, inplace=True)"
      ],
      "metadata": {
        "id": "AzxArVmapJq_"
      },
      "execution_count": 15,
      "outputs": []
    },
    {
      "cell_type": "code",
      "source": [
        "#merge with hh\n",
        "trip_day_ind_hh = trip_day_ind.merge(household, left_on='HouseholdID', right_on='HouseholdID', how='inner',suffixes=('', '_y'))\n",
        "\n",
        "trip_day_ind_hh.drop(trip_day_ind_hh.filter(regex='_y$').columns, axis=1, inplace=True)"
      ],
      "metadata": {
        "id": "SD8fjn7zptxJ"
      },
      "execution_count": 16,
      "outputs": []
    },
    {
      "cell_type": "code",
      "source": [
        "#merge with PSU\n",
        "trip_day_ind_hh_psu = trip_day_ind_hh.merge(psu, left_on='PSUID', right_on='PSUID', how='inner',suffixes=('', '_y'))\n",
        "\n",
        "trip_day_ind_hh_psu.drop(trip_day_ind_hh_psu.filter(regex='_y$').columns, axis=1, inplace=True)"
      ],
      "metadata": {
        "id": "QWkIhvU6qL_b"
      },
      "execution_count": 17,
      "outputs": []
    },
    {
      "cell_type": "code",
      "source": [
        "#merge with vehicle\n",
        "all_tabs = trip_day_ind_hh_psu.merge(vehicle, left_on='VehicleID', right_on='VehicleID', how='inner',suffixes=('', '_y'))\n",
        "\n",
        "all_tabs.drop(all_tabs.filter(regex='_y$').columns, axis=1, inplace=True)"
      ],
      "metadata": {
        "id": "JKn8jft2rw8B"
      },
      "execution_count": 18,
      "outputs": []
    },
    {
      "cell_type": "code",
      "source": [
        "#drop irrelivant columns\n",
        "#to keep things simple, only some of the vars are kept\n",
        "all_tabs.drop(columns=['DayID','ShortWalkTrip_B01ID','HouseholdID','PSUID',\\\n",
        "                       'SeriesCall_B01ID','MainMode_B04ID','TripPurpose_B04ID',\\\n",
        "                       'TripStart_B02ID','TripEnd_B02ID','TripOrigGOR_B02ID',\\\n",
        "                       'TripDestGOR_B02ID','TravelWeekDay_B02ID','TravelDayType_B01ID',\\\n",
        "                       'VehicleID','TWEWeekday_B01ID','TWSDay', 'TWSMonth',\\\n",
        "                       'TWSYear','TWSWeekday_B01ID','HHoldGOR_B02ID',\n",
        "                       'WalkBus_B01ID', 'WalkRail_B01ID','BusRail_B01ID',\\\n",
        "                       'VehNo', 'VehComMile_B01ID','VehBusMile_B01ID',\\\n",
        "                       'VehPriMile_B01ID','NumStages_B01ID'],inplace=True)"
      ],
      "metadata": {
        "id": "BM97q8sksaqN"
      },
      "execution_count": 19,
      "outputs": []
    },
    {
      "cell_type": "code",
      "source": [
        "all_tabs.columns"
      ],
      "metadata": {
        "colab": {
          "base_uri": "https://localhost:8080/"
        },
        "id": "TrAM-H9isM79",
        "outputId": "6b378e37-3ef9-4ba4-829a-b85a1521a8e5"
      },
      "execution_count": 20,
      "outputs": [
        {
          "output_type": "execute_result",
          "data": {
            "text/plain": [
              "Index(['TripID', 'IndividualID', 'TripStart_B01ID', 'TripEnd_B01ID',\n",
              "       'TripDisIncSW_B01ID', 'TripDisExSW_B01ID', 'TripTotalTime_B01ID',\n",
              "       'TripTravTime_B01ID', 'TravelWeekDay_B01ID', 'TravelWeekDay_B03ID',\n",
              "       'Age_B04ID', 'Sex_B01ID', 'MarStat_B01ID', 'EthGroupTS_B02ID',\n",
              "       'EdAttn3_B01ID', 'CarAccess_B01ID', 'DrivLic_B02ID',\n",
              "       'IndIncome2002_B02ID', 'WkPlace_B01ID', 'EcoStat_B02ID', 'SC_B01ID',\n",
              "       'OftHome_B01ID', 'BusOut_B01ID', 'Educ_B01ID', 'WkMuch_B01ID',\n",
              "       'OwnPhone_B01ID', 'TWSMonth_B01ID', 'TWEMonth_B01ID',\n",
              "       'HHIncome2002_B02ID', 'Ten1_B02ID', 'HHoldStruct_B02ID',\n",
              "       'HRPWorkStat_B02ID', 'HRPEmpStat_B01ID', 'HRPSEGWorkStat_B01ID',\n",
              "       'HHoldEmploy_B01ID', 'Settlement2011EW_B03ID', 'HHoldOAClass2011_B03ID',\n",
              "       'HHIncQDS2020Eng_B01ID', 'HHIncQIS2020Eng_B01ID', 'SurveyYear',\n",
              "       'PSUStatsReg_B01ID', 'VehAvail_B01ID'],\n",
              "      dtype='object')"
            ]
          },
          "metadata": {},
          "execution_count": 20
        }
      ]
    },
    {
      "cell_type": "markdown",
      "source": [
        "Dealing with Missing values"
      ],
      "metadata": {
        "id": "oNrQVqW21OgU"
      }
    },
    {
      "cell_type": "code",
      "source": [
        "#columns with negative values(missing in NTS data)\n",
        "missing_cols = all_tabs[all_tabs<=0].any()[all_tabs[all_tabs<=0].any()==True].index\n",
        "missing_cols"
      ],
      "metadata": {
        "colab": {
          "base_uri": "https://localhost:8080/"
        },
        "id": "f2sLXgWlxcX8",
        "outputId": "ee9e96b4-d48c-4ef2-c67a-ee8f3915e2fe"
      },
      "execution_count": 21,
      "outputs": [
        {
          "output_type": "execute_result",
          "data": {
            "text/plain": [
              "Index(['TripStart_B01ID', 'TripEnd_B01ID', 'EdAttn3_B01ID', 'WkPlace_B01ID',\n",
              "       'EcoStat_B02ID', 'SC_B01ID', 'OftHome_B01ID', 'BusOut_B01ID',\n",
              "       'Educ_B01ID', 'WkMuch_B01ID', 'OwnPhone_B01ID', 'Ten1_B02ID',\n",
              "       'HHoldStruct_B02ID', 'HRPWorkStat_B02ID', 'HRPEmpStat_B01ID',\n",
              "       'HHoldOAClass2011_B03ID', 'HHIncQDS2020Eng_B01ID',\n",
              "       'HHIncQIS2020Eng_B01ID'],\n",
              "      dtype='object')"
            ]
          },
          "metadata": {},
          "execution_count": 21
        }
      ]
    },
    {
      "cell_type": "code",
      "source": [
        "for c in missing_cols:\n",
        "  print(all_tabs[c].value_counts())"
      ],
      "metadata": {
        "colab": {
          "base_uri": "https://localhost:8080/"
        },
        "id": "1QIu_jHj2io0",
        "outputId": "216cac43-d71b-47e4-f49e-29e69b0b6e3a"
      },
      "execution_count": 22,
      "outputs": [
        {
          "output_type": "stream",
          "name": "stdout",
          "text": [
            " 16    3873\n",
            " 9     3804\n",
            " 17    3644\n",
            " 18    3470\n",
            " 12    3421\n",
            " 13    3328\n",
            " 11    3295\n",
            " 15    3224\n",
            " 14    2863\n",
            " 10    2744\n",
            " 19    2568\n",
            " 8     2476\n",
            " 20    1740\n",
            " 21    1043\n",
            " 7      935\n",
            " 22     766\n",
            "-8      674\n",
            " 23     561\n",
            " 6      358\n",
            " 24     327\n",
            " 5       96\n",
            " 1       80\n",
            " 2       37\n",
            " 3       24\n",
            " 4       12\n",
            "Name: TripStart_B01ID, dtype: int64\n",
            " 9     3937\n",
            " 16    3846\n",
            " 18    3546\n",
            " 13    3364\n",
            " 17    3358\n",
            " 12    3320\n",
            " 11    3266\n",
            " 15    3117\n",
            " 19    2989\n",
            " 10    2965\n",
            " 14    2896\n",
            " 20    2214\n",
            " 8     1709\n",
            " 21    1210\n",
            " 22     819\n",
            "-8      747\n",
            " 23     614\n",
            " 7      573\n",
            " 24     398\n",
            " 6      215\n",
            " 1      125\n",
            " 2       50\n",
            " 5       48\n",
            " 3       19\n",
            " 4       18\n",
            "Name: TripEnd_B01ID, dtype: int64\n",
            "-9    45363\n",
            "Name: EdAttn3_B01ID, dtype: int64\n",
            " 1    22676\n",
            "-9    13808\n",
            " 3     4881\n",
            " 2     2262\n",
            " 4     1724\n",
            "-8       12\n",
            "Name: WkPlace_B01ID, dtype: int64\n",
            " 1    23868\n",
            " 4    11026\n",
            " 2     7687\n",
            " 6     2169\n",
            " 5      407\n",
            " 3      201\n",
            "-9        5\n",
            "Name: EcoStat_B02ID, dtype: int64\n",
            " 2    18729\n",
            " 3     8426\n",
            " 4     6516\n",
            " 5     5494\n",
            " 1     3262\n",
            "-8     1117\n",
            "-9     1050\n",
            " 6      710\n",
            " 7       59\n",
            "Name: SC_B01ID, dtype: int64\n",
            " 7    21506\n",
            "-9    15544\n",
            " 2     2836\n",
            " 4     1620\n",
            " 1     1193\n",
            " 5      944\n",
            " 6      853\n",
            " 3      804\n",
            "-8       63\n",
            "Name: OftHome_B01ID, dtype: int64\n",
            "-9    43720\n",
            " 2     1501\n",
            " 1      142\n",
            "Name: BusOut_B01ID, dtype: int64\n",
            "-10    45363\n",
            "Name: Educ_B01ID, dtype: int64\n",
            "-9    39899\n",
            " 3     3335\n",
            " 2     1462\n",
            " 1      667\n",
            "Name: WkMuch_B01ID, dtype: int64\n",
            "-10    45363\n",
            "Name: OwnPhone_B01ID, dtype: int64\n",
            " 1    37796\n",
            " 2     7434\n",
            " 3      112\n",
            "-8       21\n",
            "Name: Ten1_B02ID, dtype: int64\n",
            " 2    16255\n",
            " 5    10861\n",
            " 3     7682\n",
            " 1     4629\n",
            " 6     4250\n",
            " 4     1102\n",
            "-8      584\n",
            "Name: HHoldStruct_B02ID, dtype: int64\n",
            " 1    25446\n",
            " 3    11602\n",
            " 2     6136\n",
            " 4     2174\n",
            "-9        5\n",
            "Name: HRPWorkStat_B02ID, dtype: int64\n",
            " 3    33190\n",
            " 1     6468\n",
            " 2     4835\n",
            " 4      794\n",
            "-8       76\n",
            "Name: HRPEmpStat_B01ID, dtype: int64\n",
            "-10    45363\n",
            "Name: HHoldOAClass2011_B03ID, dtype: int64\n",
            "-10    30601\n",
            " 5      3513\n",
            " 4      3156\n",
            " 3      3063\n",
            " 2      2872\n",
            " 1      2158\n",
            "Name: HHIncQDS2020Eng_B01ID, dtype: int64\n",
            "-10    30601\n",
            " 5      3513\n",
            " 4      3156\n",
            " 3      3063\n",
            " 2      2872\n",
            " 1      2158\n",
            "Name: HHIncQIS2020Eng_B01ID, dtype: int64\n"
          ]
        }
      ]
    },
    {
      "cell_type": "code",
      "source": [
        "#vars with many missing data\n",
        "miss_all = ['EdAttn3_B01ID','WkPlace_B01ID','OftHome_B01ID','BusOut_B01ID',\\\n",
        "            'Educ_B01ID','WkMuch_B01ID','HHoldOAClass2011_B03ID',\n",
        "            'HHIncQDS2020Eng_B01ID','HHIncQIS2020Eng_B01ID','OwnPhone_B01ID']\n",
        "\n",
        "all_tabs.drop(columns=miss_all,inplace=True)\n",
        "#vars with few missing data\n",
        "miss_few = ['TripStart_B01ID','TripEnd_B01ID','EcoStat_B02ID','SC_B01ID','Ten1_B02ID',\\\n",
        "            'HHoldStruct_B02ID',\n",
        "            'HRPWorkStat_B02ID','HRPEmpStat_B01ID']\n",
        "for c in miss_few:\n",
        "  all_tabs = all_tabs[all_tabs[c]>0]\n",
        "\n",
        "#remaining after deleting missing values\n",
        "all_tabs.shape\n"
      ],
      "metadata": {
        "colab": {
          "base_uri": "https://localhost:8080/"
        },
        "id": "_btDPTy72956",
        "outputId": "bc83e4ed-3f60-4a4d-ca8e-7b8911aa77c6"
      },
      "execution_count": 23,
      "outputs": [
        {
          "output_type": "execute_result",
          "data": {
            "text/plain": [
              "(41839, 32)"
            ]
          },
          "metadata": {},
          "execution_count": 23
        }
      ]
    },
    {
      "cell_type": "markdown",
      "source": [
        "Dealing with categorical vars"
      ],
      "metadata": {
        "id": "ZfUN6IFy91zn"
      }
    },
    {
      "cell_type": "code",
      "source": [
        "noncat_cols = ['TripID', 'IndividualID','SurveyYear']\n",
        "all_tabs_dummy = all_tabs \n",
        "for c in all_tabs.columns:\n",
        "  if c not in noncat_cols:\n",
        "    c_dummy = pd.get_dummies(all_tabs[c],prefix=c)\n",
        "    all_tabs_dummy = pd.concat([all_tabs_dummy,c_dummy], axis=1)\n",
        "    all_tabs_dummy.drop(columns = c,inplace=True)\n"
      ],
      "metadata": {
        "id": "clofuo8V91EB"
      },
      "execution_count": 24,
      "outputs": []
    },
    {
      "cell_type": "code",
      "source": [
        "ind_gp = all_tabs_dummy.groupby('IndividualID')\n",
        "individual_tab = pd.DataFrame()\n",
        "individual_tab ['Individual ID'] = ind_gp.size().index\n",
        "individual_tab ['Total Number of Trips'] = ind_gp.size().values\n",
        "mobility_sum = pd.DataFrame(ind_gp.sum().iloc[:,2:111]).reset_index().iloc[:,1:]\n",
        "socio = ind_gp.mean().iloc[:,111:].reset_index().iloc[:,1:]\n",
        "ids = ind_gp.mean().iloc[:,0:2].reset_index().iloc[:,1:]\n",
        "\n",
        "NTS_dummy = pd.concat([individual_tab,ids,mobility_sum,socio], axis=1)\n",
        "\n"
      ],
      "metadata": {
        "id": "Sgky-BZhMlTz"
      },
      "execution_count": 25,
      "outputs": []
    },
    {
      "cell_type": "code",
      "source": [
        "socio.shape"
      ],
      "metadata": {
        "colab": {
          "base_uri": "https://localhost:8080/"
        },
        "id": "eiNdDsbypuOB",
        "outputId": "40b87eb9-65d3-45c0-ffa1-49d27d7ab7f3"
      },
      "execution_count": 26,
      "outputs": [
        {
          "output_type": "execute_result",
          "data": {
            "text/plain": [
              "(2445, 99)"
            ]
          },
          "metadata": {},
          "execution_count": 26
        }
      ]
    },
    {
      "cell_type": "code",
      "source": [
        "NTS_dummy"
      ],
      "metadata": {
        "colab": {
          "base_uri": "https://localhost:8080/",
          "height": 540
        },
        "id": "8lZwuspMcWoo",
        "outputId": "73f88fcd-da72-41cb-e74e-0d90e88e10a7"
      },
      "execution_count": null,
      "outputs": [
        {
          "output_type": "execute_result",
          "data": {
            "text/plain": [
              "      Individual ID  Total Number of Trips        TripID  SurveyYear  \\\n",
              "0        2019011363                     16  2.019149e+09      2019.0   \n",
              "1        2019011428                     18  2.019150e+09      2019.0   \n",
              "2        2019011564                     23  2.019152e+09      2019.0   \n",
              "3        2019011569                     15  2.019152e+09      2019.0   \n",
              "4        2019011570                     13  2.019152e+09      2019.0   \n",
              "...             ...                    ...           ...         ...   \n",
              "2440     2020001977                     30  2.020026e+09      2020.0   \n",
              "2441     2020002004                     15  2.020026e+09      2020.0   \n",
              "2442     2020002009                      8  2.020026e+09      2020.0   \n",
              "2443     2020002010                      6  2.020026e+09      2020.0   \n",
              "2444     2020002011                     10  2.020026e+09      2020.0   \n",
              "\n",
              "      TripStart_B01ID_1  TripStart_B01ID_2  TripStart_B01ID_3  \\\n",
              "0                     0                  0                  0   \n",
              "1                     0                  0                  0   \n",
              "2                     0                  0                  0   \n",
              "3                     0                  0                  0   \n",
              "4                     0                  0                  0   \n",
              "...                 ...                ...                ...   \n",
              "2440                  4                  0                  0   \n",
              "2441                  0                  0                  0   \n",
              "2442                  0                  0                  0   \n",
              "2443                  0                  0                  0   \n",
              "2444                  0                  0                  0   \n",
              "\n",
              "      TripStart_B01ID_4  TripStart_B01ID_5  TripStart_B01ID_6  ...  \\\n",
              "0                     0                  0                  0  ...   \n",
              "1                     0                  0                  0  ...   \n",
              "2                     0                  0                  0  ...   \n",
              "3                     0                  0                  0  ...   \n",
              "4                     0                  0                  0  ...   \n",
              "...                 ...                ...                ...  ...   \n",
              "2440                  0                  0                  0  ...   \n",
              "2441                  0                  0                  0  ...   \n",
              "2442                  0                  0                  0  ...   \n",
              "2443                  0                  0                  0  ...   \n",
              "2444                  0                  0                  0  ...   \n",
              "\n",
              "      PSUStatsReg_B01ID_6  PSUStatsReg_B01ID_7  PSUStatsReg_B01ID_8  \\\n",
              "0                     0.0                  1.0                  0.0   \n",
              "1                     0.0                  1.0                  0.0   \n",
              "2                     0.0                  0.0                  0.0   \n",
              "3                     0.0                  0.0                  0.0   \n",
              "4                     0.0                  0.0                  0.0   \n",
              "...                   ...                  ...                  ...   \n",
              "2440                  1.0                  0.0                  0.0   \n",
              "2441                  0.0                  0.0                  0.0   \n",
              "2442                  0.0                  0.0                  0.0   \n",
              "2443                  0.0                  0.0                  0.0   \n",
              "2444                  0.0                  0.0                  0.0   \n",
              "\n",
              "      PSUStatsReg_B01ID_9  PSUStatsReg_B01ID_10  PSUStatsReg_B01ID_11  \\\n",
              "0                     0.0                   0.0                   0.0   \n",
              "1                     0.0                   0.0                   0.0   \n",
              "2                     0.0                   0.0                   0.0   \n",
              "3                     0.0                   0.0                   0.0   \n",
              "4                     0.0                   0.0                   0.0   \n",
              "...                   ...                   ...                   ...   \n",
              "2440                  0.0                   0.0                   0.0   \n",
              "2441                  0.0                   0.0                   0.0   \n",
              "2442                  0.0                   0.0                   0.0   \n",
              "2443                  0.0                   0.0                   0.0   \n",
              "2444                  0.0                   0.0                   0.0   \n",
              "\n",
              "      PSUStatsReg_B01ID_12  PSUStatsReg_B01ID_13  VehAvail_B01ID_1  \\\n",
              "0                      0.0                   0.0               1.0   \n",
              "1                      0.0                   0.0               1.0   \n",
              "2                      0.0                   1.0               1.0   \n",
              "3                      0.0                   1.0               1.0   \n",
              "4                      0.0                   1.0               1.0   \n",
              "...                    ...                   ...               ...   \n",
              "2440                   0.0                   0.0               1.0   \n",
              "2441                   0.0                   1.0               1.0   \n",
              "2442                   0.0                   1.0               1.0   \n",
              "2443                   0.0                   1.0               1.0   \n",
              "2444                   0.0                   1.0               1.0   \n",
              "\n",
              "      VehAvail_B01ID_2  \n",
              "0                  0.0  \n",
              "1                  0.0  \n",
              "2                  0.0  \n",
              "3                  0.0  \n",
              "4                  0.0  \n",
              "...                ...  \n",
              "2440               0.0  \n",
              "2441               0.0  \n",
              "2442               0.0  \n",
              "2443               0.0  \n",
              "2444               0.0  \n",
              "\n",
              "[2445 rows x 212 columns]"
            ],
            "text/html": [
              "\n",
              "  <div id=\"df-84468031-da70-43ec-9753-af09ff1f160f\">\n",
              "    <div class=\"colab-df-container\">\n",
              "      <div>\n",
              "<style scoped>\n",
              "    .dataframe tbody tr th:only-of-type {\n",
              "        vertical-align: middle;\n",
              "    }\n",
              "\n",
              "    .dataframe tbody tr th {\n",
              "        vertical-align: top;\n",
              "    }\n",
              "\n",
              "    .dataframe thead th {\n",
              "        text-align: right;\n",
              "    }\n",
              "</style>\n",
              "<table border=\"1\" class=\"dataframe\">\n",
              "  <thead>\n",
              "    <tr style=\"text-align: right;\">\n",
              "      <th></th>\n",
              "      <th>Individual ID</th>\n",
              "      <th>Total Number of Trips</th>\n",
              "      <th>TripID</th>\n",
              "      <th>SurveyYear</th>\n",
              "      <th>TripStart_B01ID_1</th>\n",
              "      <th>TripStart_B01ID_2</th>\n",
              "      <th>TripStart_B01ID_3</th>\n",
              "      <th>TripStart_B01ID_4</th>\n",
              "      <th>TripStart_B01ID_5</th>\n",
              "      <th>TripStart_B01ID_6</th>\n",
              "      <th>...</th>\n",
              "      <th>PSUStatsReg_B01ID_6</th>\n",
              "      <th>PSUStatsReg_B01ID_7</th>\n",
              "      <th>PSUStatsReg_B01ID_8</th>\n",
              "      <th>PSUStatsReg_B01ID_9</th>\n",
              "      <th>PSUStatsReg_B01ID_10</th>\n",
              "      <th>PSUStatsReg_B01ID_11</th>\n",
              "      <th>PSUStatsReg_B01ID_12</th>\n",
              "      <th>PSUStatsReg_B01ID_13</th>\n",
              "      <th>VehAvail_B01ID_1</th>\n",
              "      <th>VehAvail_B01ID_2</th>\n",
              "    </tr>\n",
              "  </thead>\n",
              "  <tbody>\n",
              "    <tr>\n",
              "      <th>0</th>\n",
              "      <td>2019011363</td>\n",
              "      <td>16</td>\n",
              "      <td>2.019149e+09</td>\n",
              "      <td>2019.0</td>\n",
              "      <td>0</td>\n",
              "      <td>0</td>\n",
              "      <td>0</td>\n",
              "      <td>0</td>\n",
              "      <td>0</td>\n",
              "      <td>0</td>\n",
              "      <td>...</td>\n",
              "      <td>0.0</td>\n",
              "      <td>1.0</td>\n",
              "      <td>0.0</td>\n",
              "      <td>0.0</td>\n",
              "      <td>0.0</td>\n",
              "      <td>0.0</td>\n",
              "      <td>0.0</td>\n",
              "      <td>0.0</td>\n",
              "      <td>1.0</td>\n",
              "      <td>0.0</td>\n",
              "    </tr>\n",
              "    <tr>\n",
              "      <th>1</th>\n",
              "      <td>2019011428</td>\n",
              "      <td>18</td>\n",
              "      <td>2.019150e+09</td>\n",
              "      <td>2019.0</td>\n",
              "      <td>0</td>\n",
              "      <td>0</td>\n",
              "      <td>0</td>\n",
              "      <td>0</td>\n",
              "      <td>0</td>\n",
              "      <td>0</td>\n",
              "      <td>...</td>\n",
              "      <td>0.0</td>\n",
              "      <td>1.0</td>\n",
              "      <td>0.0</td>\n",
              "      <td>0.0</td>\n",
              "      <td>0.0</td>\n",
              "      <td>0.0</td>\n",
              "      <td>0.0</td>\n",
              "      <td>0.0</td>\n",
              "      <td>1.0</td>\n",
              "      <td>0.0</td>\n",
              "    </tr>\n",
              "    <tr>\n",
              "      <th>2</th>\n",
              "      <td>2019011564</td>\n",
              "      <td>23</td>\n",
              "      <td>2.019152e+09</td>\n",
              "      <td>2019.0</td>\n",
              "      <td>0</td>\n",
              "      <td>0</td>\n",
              "      <td>0</td>\n",
              "      <td>0</td>\n",
              "      <td>0</td>\n",
              "      <td>0</td>\n",
              "      <td>...</td>\n",
              "      <td>0.0</td>\n",
              "      <td>0.0</td>\n",
              "      <td>0.0</td>\n",
              "      <td>0.0</td>\n",
              "      <td>0.0</td>\n",
              "      <td>0.0</td>\n",
              "      <td>0.0</td>\n",
              "      <td>1.0</td>\n",
              "      <td>1.0</td>\n",
              "      <td>0.0</td>\n",
              "    </tr>\n",
              "    <tr>\n",
              "      <th>3</th>\n",
              "      <td>2019011569</td>\n",
              "      <td>15</td>\n",
              "      <td>2.019152e+09</td>\n",
              "      <td>2019.0</td>\n",
              "      <td>0</td>\n",
              "      <td>0</td>\n",
              "      <td>0</td>\n",
              "      <td>0</td>\n",
              "      <td>0</td>\n",
              "      <td>0</td>\n",
              "      <td>...</td>\n",
              "      <td>0.0</td>\n",
              "      <td>0.0</td>\n",
              "      <td>0.0</td>\n",
              "      <td>0.0</td>\n",
              "      <td>0.0</td>\n",
              "      <td>0.0</td>\n",
              "      <td>0.0</td>\n",
              "      <td>1.0</td>\n",
              "      <td>1.0</td>\n",
              "      <td>0.0</td>\n",
              "    </tr>\n",
              "    <tr>\n",
              "      <th>4</th>\n",
              "      <td>2019011570</td>\n",
              "      <td>13</td>\n",
              "      <td>2.019152e+09</td>\n",
              "      <td>2019.0</td>\n",
              "      <td>0</td>\n",
              "      <td>0</td>\n",
              "      <td>0</td>\n",
              "      <td>0</td>\n",
              "      <td>0</td>\n",
              "      <td>0</td>\n",
              "      <td>...</td>\n",
              "      <td>0.0</td>\n",
              "      <td>0.0</td>\n",
              "      <td>0.0</td>\n",
              "      <td>0.0</td>\n",
              "      <td>0.0</td>\n",
              "      <td>0.0</td>\n",
              "      <td>0.0</td>\n",
              "      <td>1.0</td>\n",
              "      <td>1.0</td>\n",
              "      <td>0.0</td>\n",
              "    </tr>\n",
              "    <tr>\n",
              "      <th>...</th>\n",
              "      <td>...</td>\n",
              "      <td>...</td>\n",
              "      <td>...</td>\n",
              "      <td>...</td>\n",
              "      <td>...</td>\n",
              "      <td>...</td>\n",
              "      <td>...</td>\n",
              "      <td>...</td>\n",
              "      <td>...</td>\n",
              "      <td>...</td>\n",
              "      <td>...</td>\n",
              "      <td>...</td>\n",
              "      <td>...</td>\n",
              "      <td>...</td>\n",
              "      <td>...</td>\n",
              "      <td>...</td>\n",
              "      <td>...</td>\n",
              "      <td>...</td>\n",
              "      <td>...</td>\n",
              "      <td>...</td>\n",
              "      <td>...</td>\n",
              "    </tr>\n",
              "    <tr>\n",
              "      <th>2440</th>\n",
              "      <td>2020001977</td>\n",
              "      <td>30</td>\n",
              "      <td>2.020026e+09</td>\n",
              "      <td>2020.0</td>\n",
              "      <td>4</td>\n",
              "      <td>0</td>\n",
              "      <td>0</td>\n",
              "      <td>0</td>\n",
              "      <td>0</td>\n",
              "      <td>0</td>\n",
              "      <td>...</td>\n",
              "      <td>1.0</td>\n",
              "      <td>0.0</td>\n",
              "      <td>0.0</td>\n",
              "      <td>0.0</td>\n",
              "      <td>0.0</td>\n",
              "      <td>0.0</td>\n",
              "      <td>0.0</td>\n",
              "      <td>0.0</td>\n",
              "      <td>1.0</td>\n",
              "      <td>0.0</td>\n",
              "    </tr>\n",
              "    <tr>\n",
              "      <th>2441</th>\n",
              "      <td>2020002004</td>\n",
              "      <td>15</td>\n",
              "      <td>2.020026e+09</td>\n",
              "      <td>2020.0</td>\n",
              "      <td>0</td>\n",
              "      <td>0</td>\n",
              "      <td>0</td>\n",
              "      <td>0</td>\n",
              "      <td>0</td>\n",
              "      <td>0</td>\n",
              "      <td>...</td>\n",
              "      <td>0.0</td>\n",
              "      <td>0.0</td>\n",
              "      <td>0.0</td>\n",
              "      <td>0.0</td>\n",
              "      <td>0.0</td>\n",
              "      <td>0.0</td>\n",
              "      <td>0.0</td>\n",
              "      <td>1.0</td>\n",
              "      <td>1.0</td>\n",
              "      <td>0.0</td>\n",
              "    </tr>\n",
              "    <tr>\n",
              "      <th>2442</th>\n",
              "      <td>2020002009</td>\n",
              "      <td>8</td>\n",
              "      <td>2.020026e+09</td>\n",
              "      <td>2020.0</td>\n",
              "      <td>0</td>\n",
              "      <td>0</td>\n",
              "      <td>0</td>\n",
              "      <td>0</td>\n",
              "      <td>0</td>\n",
              "      <td>0</td>\n",
              "      <td>...</td>\n",
              "      <td>0.0</td>\n",
              "      <td>0.0</td>\n",
              "      <td>0.0</td>\n",
              "      <td>0.0</td>\n",
              "      <td>0.0</td>\n",
              "      <td>0.0</td>\n",
              "      <td>0.0</td>\n",
              "      <td>1.0</td>\n",
              "      <td>1.0</td>\n",
              "      <td>0.0</td>\n",
              "    </tr>\n",
              "    <tr>\n",
              "      <th>2443</th>\n",
              "      <td>2020002010</td>\n",
              "      <td>6</td>\n",
              "      <td>2.020026e+09</td>\n",
              "      <td>2020.0</td>\n",
              "      <td>0</td>\n",
              "      <td>0</td>\n",
              "      <td>0</td>\n",
              "      <td>0</td>\n",
              "      <td>0</td>\n",
              "      <td>0</td>\n",
              "      <td>...</td>\n",
              "      <td>0.0</td>\n",
              "      <td>0.0</td>\n",
              "      <td>0.0</td>\n",
              "      <td>0.0</td>\n",
              "      <td>0.0</td>\n",
              "      <td>0.0</td>\n",
              "      <td>0.0</td>\n",
              "      <td>1.0</td>\n",
              "      <td>1.0</td>\n",
              "      <td>0.0</td>\n",
              "    </tr>\n",
              "    <tr>\n",
              "      <th>2444</th>\n",
              "      <td>2020002011</td>\n",
              "      <td>10</td>\n",
              "      <td>2.020026e+09</td>\n",
              "      <td>2020.0</td>\n",
              "      <td>0</td>\n",
              "      <td>0</td>\n",
              "      <td>0</td>\n",
              "      <td>0</td>\n",
              "      <td>0</td>\n",
              "      <td>0</td>\n",
              "      <td>...</td>\n",
              "      <td>0.0</td>\n",
              "      <td>0.0</td>\n",
              "      <td>0.0</td>\n",
              "      <td>0.0</td>\n",
              "      <td>0.0</td>\n",
              "      <td>0.0</td>\n",
              "      <td>0.0</td>\n",
              "      <td>1.0</td>\n",
              "      <td>1.0</td>\n",
              "      <td>0.0</td>\n",
              "    </tr>\n",
              "  </tbody>\n",
              "</table>\n",
              "<p>2445 rows × 212 columns</p>\n",
              "</div>\n",
              "      <button class=\"colab-df-convert\" onclick=\"convertToInteractive('df-84468031-da70-43ec-9753-af09ff1f160f')\"\n",
              "              title=\"Convert this dataframe to an interactive table.\"\n",
              "              style=\"display:none;\">\n",
              "        \n",
              "  <svg xmlns=\"http://www.w3.org/2000/svg\" height=\"24px\"viewBox=\"0 0 24 24\"\n",
              "       width=\"24px\">\n",
              "    <path d=\"M0 0h24v24H0V0z\" fill=\"none\"/>\n",
              "    <path d=\"M18.56 5.44l.94 2.06.94-2.06 2.06-.94-2.06-.94-.94-2.06-.94 2.06-2.06.94zm-11 1L8.5 8.5l.94-2.06 2.06-.94-2.06-.94L8.5 2.5l-.94 2.06-2.06.94zm10 10l.94 2.06.94-2.06 2.06-.94-2.06-.94-.94-2.06-.94 2.06-2.06.94z\"/><path d=\"M17.41 7.96l-1.37-1.37c-.4-.4-.92-.59-1.43-.59-.52 0-1.04.2-1.43.59L10.3 9.45l-7.72 7.72c-.78.78-.78 2.05 0 2.83L4 21.41c.39.39.9.59 1.41.59.51 0 1.02-.2 1.41-.59l7.78-7.78 2.81-2.81c.8-.78.8-2.07 0-2.86zM5.41 20L4 18.59l7.72-7.72 1.47 1.35L5.41 20z\"/>\n",
              "  </svg>\n",
              "      </button>\n",
              "      \n",
              "  <style>\n",
              "    .colab-df-container {\n",
              "      display:flex;\n",
              "      flex-wrap:wrap;\n",
              "      gap: 12px;\n",
              "    }\n",
              "\n",
              "    .colab-df-convert {\n",
              "      background-color: #E8F0FE;\n",
              "      border: none;\n",
              "      border-radius: 50%;\n",
              "      cursor: pointer;\n",
              "      display: none;\n",
              "      fill: #1967D2;\n",
              "      height: 32px;\n",
              "      padding: 0 0 0 0;\n",
              "      width: 32px;\n",
              "    }\n",
              "\n",
              "    .colab-df-convert:hover {\n",
              "      background-color: #E2EBFA;\n",
              "      box-shadow: 0px 1px 2px rgba(60, 64, 67, 0.3), 0px 1px 3px 1px rgba(60, 64, 67, 0.15);\n",
              "      fill: #174EA6;\n",
              "    }\n",
              "\n",
              "    [theme=dark] .colab-df-convert {\n",
              "      background-color: #3B4455;\n",
              "      fill: #D2E3FC;\n",
              "    }\n",
              "\n",
              "    [theme=dark] .colab-df-convert:hover {\n",
              "      background-color: #434B5C;\n",
              "      box-shadow: 0px 1px 3px 1px rgba(0, 0, 0, 0.15);\n",
              "      filter: drop-shadow(0px 1px 2px rgba(0, 0, 0, 0.3));\n",
              "      fill: #FFFFFF;\n",
              "    }\n",
              "  </style>\n",
              "\n",
              "      <script>\n",
              "        const buttonEl =\n",
              "          document.querySelector('#df-84468031-da70-43ec-9753-af09ff1f160f button.colab-df-convert');\n",
              "        buttonEl.style.display =\n",
              "          google.colab.kernel.accessAllowed ? 'block' : 'none';\n",
              "\n",
              "        async function convertToInteractive(key) {\n",
              "          const element = document.querySelector('#df-84468031-da70-43ec-9753-af09ff1f160f');\n",
              "          const dataTable =\n",
              "            await google.colab.kernel.invokeFunction('convertToInteractive',\n",
              "                                                     [key], {});\n",
              "          if (!dataTable) return;\n",
              "\n",
              "          const docLinkHtml = 'Like what you see? Visit the ' +\n",
              "            '<a target=\"_blank\" href=https://colab.research.google.com/notebooks/data_table.ipynb>data table notebook</a>'\n",
              "            + ' to learn more about interactive tables.';\n",
              "          element.innerHTML = '';\n",
              "          dataTable['output_type'] = 'display_data';\n",
              "          await google.colab.output.renderOutput(dataTable, element);\n",
              "          const docLink = document.createElement('div');\n",
              "          docLink.innerHTML = docLinkHtml;\n",
              "          element.appendChild(docLink);\n",
              "        }\n",
              "      </script>\n",
              "    </div>\n",
              "  </div>\n",
              "  "
            ]
          },
          "metadata": {},
          "execution_count": 138
        }
      ]
    },
    {
      "cell_type": "code",
      "source": [
        "NTS_dummy.to_csv('/content/drive/MyDrive/socio_pred/UKDA-5340-tab/NTS_dummy.csv',\\\n",
        "                 index=False)\n"
      ],
      "metadata": {
        "id": "20Y50SVcrCfx"
      },
      "execution_count": null,
      "outputs": []
    },
    {
      "cell_type": "code",
      "source": [
        "# Convert to part of the days:\n",
        "#Early morning    5 to 8 am\n",
        "#morning 8 a.m. to 11 a.m\n",
        "#Late morning     11 am to 12pm\n",
        "#afternoon 12 pm to 5 pm\n",
        "#Evening     5 pm to 9 pm\n",
        "#Night         9 pm to 5 am\n",
        "\n",
        "\n",
        "\n"
      ],
      "metadata": {
        "id": "iNPWG310lBZy"
      },
      "execution_count": null,
      "outputs": []
    },
    {
      "cell_type": "code",
      "source": [
        ""
      ],
      "metadata": {
        "id": "zxo7966s0QXz"
      },
      "execution_count": null,
      "outputs": []
    },
    {
      "cell_type": "code",
      "source": [
        ""
      ],
      "metadata": {
        "id": "Ccc4ItLyzgCk"
      },
      "execution_count": null,
      "outputs": []
    }
  ]
}