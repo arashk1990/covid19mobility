{
  "nbformat": 4,
  "nbformat_minor": 0,
  "metadata": {
    "colab": {
      "name": "clustering.ipynb",
      "provenance": [],
      "collapsed_sections": [],
      "mount_file_id": "https://github.com/arashk1990/covid19mobility/blob/main/models/clustering.ipynb",
      "authorship_tag": "ABX9TyNoEcLxKtSmoK1Ir8WPJCFG"
    },
    "kernelspec": {
      "name": "python3",
      "display_name": "Python 3"
    },
    "language_info": {
      "name": "python"
    }
  },
  "cells": [
    {
      "cell_type": "code",
      "execution_count": 3,
      "metadata": {
        "id": "WrfjwOkBgiLv",
        "outputId": "ba798835-02cb-423f-ee4d-c774e601d265",
        "colab": {
          "base_uri": "https://localhost:8080/"
        }
      },
      "outputs": [
        {
          "output_type": "stream",
          "name": "stdout",
          "text": [
            "Looking in indexes: https://pypi.org/simple, https://us-python.pkg.dev/colab-wheels/public/simple/\n",
            "Collecting kneed\n",
            "  Downloading kneed-0.8.1-py2.py3-none-any.whl (10 kB)\n",
            "Requirement already satisfied: scipy>=1.0.0 in /usr/local/lib/python3.7/dist-packages (from kneed) (1.7.3)\n",
            "Requirement already satisfied: numpy>=1.14.2 in /usr/local/lib/python3.7/dist-packages (from kneed) (1.21.6)\n",
            "Installing collected packages: kneed\n",
            "Successfully installed kneed-0.8.1\n"
          ]
        }
      ],
      "source": [
        "!pip install kneed\n",
        "import pandas as pd\n",
        "import sklearn\n",
        "import numpy as np\n",
        "from sklearn.cluster import KMeans\n",
        "from sklearn.preprocessing import MinMaxScaler\n",
        "from sklearn.decomposition import PCA\n",
        "from sklearn.metrics import silhouette_score\n",
        "#from yellowbrick.cluster import SilhouetteVisualizer\n",
        "import matplotlib.pyplot as plt\n",
        "from kneed import KneeLocator\n",
        "import scipy.stats as stats\n"
      ]
    },
    {
      "cell_type": "code",
      "source": [
        "NTS_dummy = pd.read_csv('/content/drive/MyDrive/socio_pred/UKDA-5340-tab/NTS_v2.csv')\n",
        "NTS_dummy.shape"
      ],
      "metadata": {
        "colab": {
          "base_uri": "https://localhost:8080/"
        },
        "id": "O4amB0NH8pdi",
        "outputId": "379e624e-335b-49e4-99d1-ccd0b74d38bf"
      },
      "execution_count": 4,
      "outputs": [
        {
          "output_type": "execute_result",
          "data": {
            "text/plain": [
              "(2445, 174)"
            ]
          },
          "metadata": {},
          "execution_count": 4
        }
      ]
    },
    {
      "cell_type": "code",
      "source": [
        "# replace NA with zero\n",
        "#na occurs for std of users with one trip, or count of users with no weekend trip\n",
        "NTS_dummy = NTS_dummy.fillna(0)"
      ],
      "metadata": {
        "id": "cvB65xJc60ba"
      },
      "execution_count": 5,
      "outputs": []
    },
    {
      "cell_type": "code",
      "source": [
        "mobility = NTS_dummy.iloc[:,51:]\n",
        "socio = NTS_dummy.drop(columns = ['IndividualID','SurveyYear']).iloc[:,0:49]"
      ],
      "metadata": {
        "id": "6KCdH3-wnPw7"
      },
      "execution_count": 6,
      "outputs": []
    },
    {
      "cell_type": "code",
      "source": [
        "socio_cols = {'age' : socio.columns[0:6],\n",
        "'sex' : socio.columns[6:8],\n",
        "'marital' : socio.columns[8:10],\n",
        "'income': socio.columns[10:13],\n",
        "'work': socio.columns[13:16],\n",
        "'hhincome': socio.columns[16:19],\n",
        "'hh_struc': socio.columns[19:25],\n",
        "'hh_work': socio.columns[25:28],\n",
        "'hh_socialclass': socio.columns[28:34],\n",
        "'urban_rural': socio.columns[34:36],\n",
        "'region':socio.columns[36:49]}"
      ],
      "metadata": {
        "id": "UMeNnwUCQSmw"
      },
      "execution_count": 7,
      "outputs": []
    },
    {
      "cell_type": "markdown",
      "source": [
        "## K-means Clustering"
      ],
      "metadata": {
        "id": "iAvqXFaFnCXE"
      }
    },
    {
      "cell_type": "code",
      "source": [
        "#normalize\n",
        "x = mobility\n",
        "scaler = MinMaxScaler()\n",
        "x = scaler.fit_transform(x)\n",
        "#pca\n",
        "#keep 85% of variance explained by selected components\n",
        "pca = PCA(n_components=0.80)\n",
        "principalComponents = pca.fit_transform(x)\n",
        "pca.n_components_\n",
        "#12 components are selected"
      ],
      "metadata": {
        "colab": {
          "base_uri": "https://localhost:8080/"
        },
        "id": "SXLCOQ0lnBdA",
        "outputId": "0b78c343-28e2-4a45-fe81-df79536cbea6"
      },
      "execution_count": 54,
      "outputs": [
        {
          "output_type": "execute_result",
          "data": {
            "text/plain": [
              "9"
            ]
          },
          "metadata": {},
          "execution_count": 54
        }
      ]
    },
    {
      "cell_type": "code",
      "source": [
        "pd.DataFrame(principalComponents)"
      ],
      "metadata": {
        "colab": {
          "base_uri": "https://localhost:8080/",
          "height": 424
        },
        "id": "EJ_vTN9FD9PT",
        "outputId": "eafbc096-07ed-4589-d6af-0d56b564c182"
      },
      "execution_count": 83,
      "outputs": [
        {
          "output_type": "execute_result",
          "data": {
            "text/plain": [
              "             0         1         2         3         4         5         6  \\\n",
              "0     0.433323 -0.448948 -0.749918 -0.709838 -0.086891 -0.640586 -0.126142   \n",
              "1    -0.703868  0.245957 -1.494279  0.988143  0.941267  0.278714 -0.751627   \n",
              "2     0.118961 -1.064025  0.655979  0.003376 -0.420408  0.556576  0.010147   \n",
              "3     0.699355 -1.271432  0.783697  1.429020  0.885066 -0.279343  0.292363   \n",
              "4     0.539601 -1.474594  0.689921  0.662095  1.237305  0.605200  0.388145   \n",
              "...        ...       ...       ...       ...       ...       ...       ...   \n",
              "2440 -1.029328 -0.317266 -0.330438  0.506568  0.487155 -0.235773 -0.501195   \n",
              "2441 -0.904174  0.055883 -0.426293  1.222464 -0.147205  0.304509 -0.733886   \n",
              "2442 -0.167760  0.155549  0.941593  0.753111  1.303717 -0.046995 -0.811736   \n",
              "2443  0.788752  0.511427  0.298805  1.106295  1.068143  0.110079 -1.081623   \n",
              "2444  0.458344 -0.337243  0.991913  0.173945  1.387201 -0.098394 -0.568676   \n",
              "\n",
              "             7         8  \n",
              "0    -0.241830 -0.339744  \n",
              "1     1.009392 -0.192041  \n",
              "2    -0.270633 -0.016619  \n",
              "3    -0.433254  0.433595  \n",
              "4    -0.805201  0.373102  \n",
              "...        ...       ...  \n",
              "2440  0.470267  0.087867  \n",
              "2441  0.555383 -0.360998  \n",
              "2442  0.214991 -0.362477  \n",
              "2443  0.527354 -0.585350  \n",
              "2444 -0.078706 -0.425055  \n",
              "\n",
              "[2445 rows x 9 columns]"
            ],
            "text/html": [
              "\n",
              "  <div id=\"df-952a3f2e-a10d-4180-8bec-2ba793072a83\">\n",
              "    <div class=\"colab-df-container\">\n",
              "      <div>\n",
              "<style scoped>\n",
              "    .dataframe tbody tr th:only-of-type {\n",
              "        vertical-align: middle;\n",
              "    }\n",
              "\n",
              "    .dataframe tbody tr th {\n",
              "        vertical-align: top;\n",
              "    }\n",
              "\n",
              "    .dataframe thead th {\n",
              "        text-align: right;\n",
              "    }\n",
              "</style>\n",
              "<table border=\"1\" class=\"dataframe\">\n",
              "  <thead>\n",
              "    <tr style=\"text-align: right;\">\n",
              "      <th></th>\n",
              "      <th>0</th>\n",
              "      <th>1</th>\n",
              "      <th>2</th>\n",
              "      <th>3</th>\n",
              "      <th>4</th>\n",
              "      <th>5</th>\n",
              "      <th>6</th>\n",
              "      <th>7</th>\n",
              "      <th>8</th>\n",
              "    </tr>\n",
              "  </thead>\n",
              "  <tbody>\n",
              "    <tr>\n",
              "      <th>0</th>\n",
              "      <td>0.433323</td>\n",
              "      <td>-0.448948</td>\n",
              "      <td>-0.749918</td>\n",
              "      <td>-0.709838</td>\n",
              "      <td>-0.086891</td>\n",
              "      <td>-0.640586</td>\n",
              "      <td>-0.126142</td>\n",
              "      <td>-0.241830</td>\n",
              "      <td>-0.339744</td>\n",
              "    </tr>\n",
              "    <tr>\n",
              "      <th>1</th>\n",
              "      <td>-0.703868</td>\n",
              "      <td>0.245957</td>\n",
              "      <td>-1.494279</td>\n",
              "      <td>0.988143</td>\n",
              "      <td>0.941267</td>\n",
              "      <td>0.278714</td>\n",
              "      <td>-0.751627</td>\n",
              "      <td>1.009392</td>\n",
              "      <td>-0.192041</td>\n",
              "    </tr>\n",
              "    <tr>\n",
              "      <th>2</th>\n",
              "      <td>0.118961</td>\n",
              "      <td>-1.064025</td>\n",
              "      <td>0.655979</td>\n",
              "      <td>0.003376</td>\n",
              "      <td>-0.420408</td>\n",
              "      <td>0.556576</td>\n",
              "      <td>0.010147</td>\n",
              "      <td>-0.270633</td>\n",
              "      <td>-0.016619</td>\n",
              "    </tr>\n",
              "    <tr>\n",
              "      <th>3</th>\n",
              "      <td>0.699355</td>\n",
              "      <td>-1.271432</td>\n",
              "      <td>0.783697</td>\n",
              "      <td>1.429020</td>\n",
              "      <td>0.885066</td>\n",
              "      <td>-0.279343</td>\n",
              "      <td>0.292363</td>\n",
              "      <td>-0.433254</td>\n",
              "      <td>0.433595</td>\n",
              "    </tr>\n",
              "    <tr>\n",
              "      <th>4</th>\n",
              "      <td>0.539601</td>\n",
              "      <td>-1.474594</td>\n",
              "      <td>0.689921</td>\n",
              "      <td>0.662095</td>\n",
              "      <td>1.237305</td>\n",
              "      <td>0.605200</td>\n",
              "      <td>0.388145</td>\n",
              "      <td>-0.805201</td>\n",
              "      <td>0.373102</td>\n",
              "    </tr>\n",
              "    <tr>\n",
              "      <th>...</th>\n",
              "      <td>...</td>\n",
              "      <td>...</td>\n",
              "      <td>...</td>\n",
              "      <td>...</td>\n",
              "      <td>...</td>\n",
              "      <td>...</td>\n",
              "      <td>...</td>\n",
              "      <td>...</td>\n",
              "      <td>...</td>\n",
              "    </tr>\n",
              "    <tr>\n",
              "      <th>2440</th>\n",
              "      <td>-1.029328</td>\n",
              "      <td>-0.317266</td>\n",
              "      <td>-0.330438</td>\n",
              "      <td>0.506568</td>\n",
              "      <td>0.487155</td>\n",
              "      <td>-0.235773</td>\n",
              "      <td>-0.501195</td>\n",
              "      <td>0.470267</td>\n",
              "      <td>0.087867</td>\n",
              "    </tr>\n",
              "    <tr>\n",
              "      <th>2441</th>\n",
              "      <td>-0.904174</td>\n",
              "      <td>0.055883</td>\n",
              "      <td>-0.426293</td>\n",
              "      <td>1.222464</td>\n",
              "      <td>-0.147205</td>\n",
              "      <td>0.304509</td>\n",
              "      <td>-0.733886</td>\n",
              "      <td>0.555383</td>\n",
              "      <td>-0.360998</td>\n",
              "    </tr>\n",
              "    <tr>\n",
              "      <th>2442</th>\n",
              "      <td>-0.167760</td>\n",
              "      <td>0.155549</td>\n",
              "      <td>0.941593</td>\n",
              "      <td>0.753111</td>\n",
              "      <td>1.303717</td>\n",
              "      <td>-0.046995</td>\n",
              "      <td>-0.811736</td>\n",
              "      <td>0.214991</td>\n",
              "      <td>-0.362477</td>\n",
              "    </tr>\n",
              "    <tr>\n",
              "      <th>2443</th>\n",
              "      <td>0.788752</td>\n",
              "      <td>0.511427</td>\n",
              "      <td>0.298805</td>\n",
              "      <td>1.106295</td>\n",
              "      <td>1.068143</td>\n",
              "      <td>0.110079</td>\n",
              "      <td>-1.081623</td>\n",
              "      <td>0.527354</td>\n",
              "      <td>-0.585350</td>\n",
              "    </tr>\n",
              "    <tr>\n",
              "      <th>2444</th>\n",
              "      <td>0.458344</td>\n",
              "      <td>-0.337243</td>\n",
              "      <td>0.991913</td>\n",
              "      <td>0.173945</td>\n",
              "      <td>1.387201</td>\n",
              "      <td>-0.098394</td>\n",
              "      <td>-0.568676</td>\n",
              "      <td>-0.078706</td>\n",
              "      <td>-0.425055</td>\n",
              "    </tr>\n",
              "  </tbody>\n",
              "</table>\n",
              "<p>2445 rows × 9 columns</p>\n",
              "</div>\n",
              "      <button class=\"colab-df-convert\" onclick=\"convertToInteractive('df-952a3f2e-a10d-4180-8bec-2ba793072a83')\"\n",
              "              title=\"Convert this dataframe to an interactive table.\"\n",
              "              style=\"display:none;\">\n",
              "        \n",
              "  <svg xmlns=\"http://www.w3.org/2000/svg\" height=\"24px\"viewBox=\"0 0 24 24\"\n",
              "       width=\"24px\">\n",
              "    <path d=\"M0 0h24v24H0V0z\" fill=\"none\"/>\n",
              "    <path d=\"M18.56 5.44l.94 2.06.94-2.06 2.06-.94-2.06-.94-.94-2.06-.94 2.06-2.06.94zm-11 1L8.5 8.5l.94-2.06 2.06-.94-2.06-.94L8.5 2.5l-.94 2.06-2.06.94zm10 10l.94 2.06.94-2.06 2.06-.94-2.06-.94-.94-2.06-.94 2.06-2.06.94z\"/><path d=\"M17.41 7.96l-1.37-1.37c-.4-.4-.92-.59-1.43-.59-.52 0-1.04.2-1.43.59L10.3 9.45l-7.72 7.72c-.78.78-.78 2.05 0 2.83L4 21.41c.39.39.9.59 1.41.59.51 0 1.02-.2 1.41-.59l7.78-7.78 2.81-2.81c.8-.78.8-2.07 0-2.86zM5.41 20L4 18.59l7.72-7.72 1.47 1.35L5.41 20z\"/>\n",
              "  </svg>\n",
              "      </button>\n",
              "      \n",
              "  <style>\n",
              "    .colab-df-container {\n",
              "      display:flex;\n",
              "      flex-wrap:wrap;\n",
              "      gap: 12px;\n",
              "    }\n",
              "\n",
              "    .colab-df-convert {\n",
              "      background-color: #E8F0FE;\n",
              "      border: none;\n",
              "      border-radius: 50%;\n",
              "      cursor: pointer;\n",
              "      display: none;\n",
              "      fill: #1967D2;\n",
              "      height: 32px;\n",
              "      padding: 0 0 0 0;\n",
              "      width: 32px;\n",
              "    }\n",
              "\n",
              "    .colab-df-convert:hover {\n",
              "      background-color: #E2EBFA;\n",
              "      box-shadow: 0px 1px 2px rgba(60, 64, 67, 0.3), 0px 1px 3px 1px rgba(60, 64, 67, 0.15);\n",
              "      fill: #174EA6;\n",
              "    }\n",
              "\n",
              "    [theme=dark] .colab-df-convert {\n",
              "      background-color: #3B4455;\n",
              "      fill: #D2E3FC;\n",
              "    }\n",
              "\n",
              "    [theme=dark] .colab-df-convert:hover {\n",
              "      background-color: #434B5C;\n",
              "      box-shadow: 0px 1px 3px 1px rgba(0, 0, 0, 0.15);\n",
              "      filter: drop-shadow(0px 1px 2px rgba(0, 0, 0, 0.3));\n",
              "      fill: #FFFFFF;\n",
              "    }\n",
              "  </style>\n",
              "\n",
              "      <script>\n",
              "        const buttonEl =\n",
              "          document.querySelector('#df-952a3f2e-a10d-4180-8bec-2ba793072a83 button.colab-df-convert');\n",
              "        buttonEl.style.display =\n",
              "          google.colab.kernel.accessAllowed ? 'block' : 'none';\n",
              "\n",
              "        async function convertToInteractive(key) {\n",
              "          const element = document.querySelector('#df-952a3f2e-a10d-4180-8bec-2ba793072a83');\n",
              "          const dataTable =\n",
              "            await google.colab.kernel.invokeFunction('convertToInteractive',\n",
              "                                                     [key], {});\n",
              "          if (!dataTable) return;\n",
              "\n",
              "          const docLinkHtml = 'Like what you see? Visit the ' +\n",
              "            '<a target=\"_blank\" href=https://colab.research.google.com/notebooks/data_table.ipynb>data table notebook</a>'\n",
              "            + ' to learn more about interactive tables.';\n",
              "          element.innerHTML = '';\n",
              "          dataTable['output_type'] = 'display_data';\n",
              "          await google.colab.output.renderOutput(dataTable, element);\n",
              "          const docLink = document.createElement('div');\n",
              "          docLink.innerHTML = docLinkHtml;\n",
              "          element.appendChild(docLink);\n",
              "        }\n",
              "      </script>\n",
              "    </div>\n",
              "  </div>\n",
              "  "
            ]
          },
          "metadata": {},
          "execution_count": 83
        }
      ]
    },
    {
      "cell_type": "code",
      "source": [
        "#component big contributers\n",
        "#TOP 10 vars \n",
        "#PC1\n",
        "pd.DataFrame(pca.components_,columns=mobility.columns).iloc[0,:]\\\n",
        ".sort_values(ascending=False,key=abs)[0:10]\n",
        "# PC1: NOT having shorter travel times and distances, percentage and std"
      ],
      "metadata": {
        "colab": {
          "base_uri": "https://localhost:8080/"
        },
        "id": "E3PvC_JWCNKm",
        "outputId": "97cf0221-f444-4052-b804-133837bc4dc7"
      },
      "execution_count": 84,
      "outputs": [
        {
          "output_type": "execute_result",
          "data": {
            "text/plain": [
              "%_travel_short_wk     -0.255928\n",
              "%_time_short_wk       -0.249681\n",
              "%_travel_short        -0.232220\n",
              "%_time_short          -0.226694\n",
              "std_time_short_wk     -0.225946\n",
              "std_travel_short_wk   -0.217906\n",
              "%_end_offpeak_wk      -0.204147\n",
              "%_travel_mid_wk        0.202410\n",
              "%_start_offpeak_wk    -0.198838\n",
              "std_time_short        -0.194920\n",
              "Name: 0, dtype: float64"
            ]
          },
          "metadata": {},
          "execution_count": 84
        }
      ]
    },
    {
      "cell_type": "code",
      "source": [
        "#PC2\n",
        "pd.DataFrame(pca.components_,columns=mobility.columns).iloc[1,:]\\\n",
        ".sort_values(ascending=False,key =abs)[:10]\n",
        "#NOT doing trips regularly during the morning peak (low std: either no trips or daily trips)\n",
        "#high percentage of offpeak trips"
      ],
      "metadata": {
        "colab": {
          "base_uri": "https://localhost:8080/"
        },
        "id": "X4CotS03Izw1",
        "outputId": "f6130aa0-55a9-4fa6-9acc-b127f1af28c9"
      },
      "execution_count": 86,
      "outputs": [
        {
          "output_type": "execute_result",
          "data": {
            "text/plain": [
              "std_end_morningpeak_wk     -0.228051\n",
              "std_start_morningpeak_wk   -0.209846\n",
              "%_end_offpeak_wk            0.201388\n",
              "%_start_offpeak_wk          0.200031\n",
              "std_end_morningpeak        -0.199445\n",
              "std_start_eveningpeak_wk   -0.190909\n",
              "%_end_offpeak               0.190377\n",
              "%_start_offpeak             0.190114\n",
              "std_start_morningpeak      -0.179956\n",
              "std_end_eveningpeak_wk     -0.164677\n",
              "Name: 1, dtype: float64"
            ]
          },
          "metadata": {},
          "execution_count": 86
        }
      ]
    },
    {
      "cell_type": "code",
      "source": [
        "#PC3\n",
        "pd.DataFrame(pca.components_,columns=mobility.columns).iloc[2,:]\\\n",
        ".sort_values(ascending=False,key=abs)[:10]\n",
        "#ocassional long trip distance and travel \n"
      ],
      "metadata": {
        "colab": {
          "base_uri": "https://localhost:8080/"
        },
        "id": "l0tRgQ5wPZ-g",
        "outputId": "78f8a2b1-0856-4f89-a3b4-6f49ae9e9429"
      },
      "execution_count": 87,
      "outputs": [
        {
          "output_type": "execute_result",
          "data": {
            "text/plain": [
              "std_time_long               0.274842\n",
              "std_time_long_wk            0.271837\n",
              "std_travel_long             0.266657\n",
              "std_travel_long_wk          0.261571\n",
              "std_end_night_wk            0.181912\n",
              "std_end_night               0.170730\n",
              "std_end_morningpeak_wk     -0.157150\n",
              "std_end_morningpeak        -0.152129\n",
              "%_time_long_wk              0.151031\n",
              "std_start_morningpeak_wk   -0.149868\n",
              "Name: 2, dtype: float64"
            ]
          },
          "metadata": {},
          "execution_count": 87
        }
      ]
    },
    {
      "cell_type": "code",
      "source": [
        "#PC4\n",
        "pd.DataFrame(pca.components_,columns=mobility.columns).iloc[3,:]\\\n",
        ".sort_values(ascending=False,key=abs)[:10]\n",
        "#Not having mid-range trips, "
      ],
      "metadata": {
        "colab": {
          "base_uri": "https://localhost:8080/"
        },
        "id": "ItLRYXqJPtA3",
        "outputId": "59973f6e-532e-4238-d44e-ee9702f71a1a"
      },
      "execution_count": 88,
      "outputs": [
        {
          "output_type": "execute_result",
          "data": {
            "text/plain": [
              "%_time_mid_wk              -0.286693\n",
              "%_travel_mid_wk            -0.280170\n",
              "%_time_mid                 -0.234851\n",
              "%_travel_mid               -0.229922\n",
              "std_end_offpeak_wk         -0.192447\n",
              "std_start_offpeak_wk       -0.190252\n",
              "std_travel_mid_wk          -0.181709\n",
              "std_start_morningpeak_wk   -0.178880\n",
              "%_time_short_wk             0.175349\n",
              "std_time_mid_wk            -0.174590\n",
              "Name: 3, dtype: float64"
            ]
          },
          "metadata": {},
          "execution_count": 88
        }
      ]
    },
    {
      "cell_type": "code",
      "source": [
        "#PC5\n",
        "pd.DataFrame(pca.components_,columns=mobility.columns).iloc[4,:].abs()\\\n",
        ".sort_values(ascending=False)[:10]\n",
        "#ocassional long night trips "
      ],
      "metadata": {
        "colab": {
          "base_uri": "https://localhost:8080/"
        },
        "id": "8yp9t_nBQFiL",
        "outputId": "d240058b-dc28-4fd9-b06d-ae3288463021"
      },
      "execution_count": 61,
      "outputs": [
        {
          "output_type": "execute_result",
          "data": {
            "text/plain": [
              "std_start_night_wk    0.240159\n",
              "std_start_night       0.226148\n",
              "std_time_long         0.221821\n",
              "std_travel_long       0.219701\n",
              "%_time_mid_wk         0.209111\n",
              "std_end_night_wk      0.203022\n",
              "std_time_long_wk      0.202647\n",
              "std_travel_long_wk    0.201726\n",
              "%_time_long_wk        0.196240\n",
              "std_end_night         0.193962\n",
              "Name: 4, dtype: float64"
            ]
          },
          "metadata": {},
          "execution_count": 61
        }
      ]
    },
    {
      "cell_type": "code",
      "source": [
        "#PC6\n",
        "pd.DataFrame(pca.components_,columns=mobility.columns).iloc[5,:].abs()\\\n",
        ".sort_values(ascending=False)[:10]\n",
        "#occasional evening and night peak trips, "
      ],
      "metadata": {
        "colab": {
          "base_uri": "https://localhost:8080/"
        },
        "id": "EkiFDPI2QULP",
        "outputId": "2809415b-c9a2-4037-d188-c9cf8e21bade"
      },
      "execution_count": 62,
      "outputs": [
        {
          "output_type": "execute_result",
          "data": {
            "text/plain": [
              "std_end_eveningpeak_wk      0.268081\n",
              "std_end_night_wk            0.244712\n",
              "std_end_night               0.236276\n",
              "std_start_night_wk          0.231143\n",
              "std_end_eveningpeak         0.230149\n",
              "std_start_eveningpeak_wk    0.229581\n",
              "std_start_night             0.225512\n",
              "std_start_eveningpeak       0.199384\n",
              "%_end_eveningpeak_wk        0.192261\n",
              "%_end_eveningpeak           0.161743\n",
              "Name: 5, dtype: float64"
            ]
          },
          "metadata": {},
          "execution_count": 62
        }
      ]
    },
    {
      "cell_type": "code",
      "source": [
        "#PC7\n",
        "pd.DataFrame(pca.components_,columns=mobility.columns).iloc[6,:].abs()\\\n",
        ".sort_values(ascending=False)[:10]\n",
        "#occasional early in the morning travelers "
      ],
      "metadata": {
        "colab": {
          "base_uri": "https://localhost:8080/"
        },
        "id": "bPzygAtkQfxL",
        "outputId": "028ac4d9-2ec1-4d24-ff11-b5c33bd4c95e"
      },
      "execution_count": 63,
      "outputs": [
        {
          "output_type": "execute_result",
          "data": {
            "text/plain": [
              "std_start_earlymorning_wk      0.323354\n",
              "std_start_earlymorning         0.312439\n",
              "std_end_earlymorning_wk        0.236875\n",
              "std_end_earlymorning           0.234977\n",
              "std_end_eveningpeak_wk         0.217096\n",
              "std_start_eveningpeak_wk       0.197797\n",
              "std_end_offpeak_wk             0.190907\n",
              "std_end_eveningpeak            0.186999\n",
              "Count_start_earlymorning_wk    0.177423\n",
              "Count_start_earlymorning       0.175193\n",
              "Name: 6, dtype: float64"
            ]
          },
          "metadata": {},
          "execution_count": 63
        }
      ]
    },
    {
      "cell_type": "code",
      "source": [
        "#PC8\n",
        "pd.DataFrame(pca.components_,columns=mobility.columns).iloc[7,:].abs()\\\n",
        ".sort_values(ascending=False)[:10]\n",
        "#occasional offpeak and early morning travelers"
      ],
      "metadata": {
        "colab": {
          "base_uri": "https://localhost:8080/"
        },
        "id": "xMttbMhPQwXH",
        "outputId": "ce29b9fb-f44b-4b7a-b19d-7942127a1a23"
      },
      "execution_count": 64,
      "outputs": [
        {
          "output_type": "execute_result",
          "data": {
            "text/plain": [
              "std_start_offpeak_wk         0.362342\n",
              "std_end_offpeak_wk           0.351864\n",
              "std_start_earlymorning_wk    0.244127\n",
              "std_start_earlymorning       0.228613\n",
              "std_start_offpeak            0.196821\n",
              "std_end_earlymorning_wk      0.189764\n",
              "std_end_offpeak              0.189637\n",
              "std_travel_mid               0.180916\n",
              "std_end_earlymorning         0.179225\n",
              "std_time_mid                 0.171659\n",
              "Name: 7, dtype: float64"
            ]
          },
          "metadata": {},
          "execution_count": 64
        }
      ]
    },
    {
      "cell_type": "code",
      "source": [
        "#PC9\n",
        "pd.DataFrame(pca.components_,columns=mobility.columns).iloc[8,:].abs()\\\n",
        ".sort_values(ascending=False)[:10]\n",
        "#occasional offpeak travelers + high number of trips"
      ],
      "metadata": {
        "colab": {
          "base_uri": "https://localhost:8080/"
        },
        "id": "StFzpLczQ6cP",
        "outputId": "ac1cf9d7-ed4f-4c94-ef4c-41ef67a4367f"
      },
      "execution_count": 65,
      "outputs": [
        {
          "output_type": "execute_result",
          "data": {
            "text/plain": [
              "std_end_offpeak_wk            0.278305\n",
              "std_start_offpeak_wk          0.270132\n",
              "std_end_offpeak               0.252600\n",
              "std_start_offpeak             0.248318\n",
              "Count_Weekday_Trips           0.219420\n",
              "Total Number of Trips         0.213733\n",
              "Count_start_eveningpeak_wk    0.188308\n",
              "Count_end_eveningpeak         0.186049\n",
              "Count_end_eveningpeak_wk      0.183731\n",
              "Count_start_offpeak           0.182076\n",
              "Name: 8, dtype: float64"
            ]
          },
          "metadata": {},
          "execution_count": 65
        }
      ]
    },
    {
      "cell_type": "code",
      "source": [
        "# number of clusters\n",
        " \n",
        "def elbow(pcs):\n",
        "\n",
        "  kmeans_kwargs = {\n",
        "      \"init\": \"random\",\n",
        "      \"n_init\": 10,\n",
        "      \"max_iter\": 300,\n",
        "      \"random_state\": 42,\n",
        "  }\n",
        "\n",
        "  # A list holds the SSE values for each k\n",
        "  sse = []\n",
        "  #fig, ax = plt.subplots(10, 2, figsize=(15,16))\n",
        "\n",
        "  max_cluster = min(20,pcs.shape[0])\n",
        "  for k in range(2, max_cluster):\n",
        "      kmeans = KMeans(n_clusters=k, **kmeans_kwargs)\n",
        "      kmeans.fit(pcs)\n",
        "      cluster_labels = kmeans.fit_predict(pcs)\n",
        "      silhouette_avg = silhouette_score(pcs, cluster_labels)\n",
        "      print(\n",
        "        \"For n_clusters =\",\n",
        "        k,\n",
        "        \"The average silhouette_score is :\",\n",
        "        silhouette_avg,\n",
        "    )\n",
        "      sse.append(kmeans.inertia_)\n",
        "      # q, mod = divmod(k, 2)\n",
        "      # '''\n",
        "      # Create SilhouetteVisualizer instance with KMeans instance\n",
        "      # Fit the visualizer\n",
        "      # '''\n",
        "      # visualizer = SilhouetteVisualizer(kmeans, colors='yellowbrick', ax=ax[q-1][mod])\n",
        "      # visualizer.fit(features)\n",
        "\n",
        "  plt.style.use(\"fivethirtyeight\")\n",
        "  plt.plot(range(2, max_cluster), sse)\n",
        "  plt.xticks(range(2, max_cluster,5))\n",
        "  plt.xlabel(\"Number of Clusters\")\n",
        "  plt.ylabel(\"SSE\")\n",
        "  plt.show()\n",
        "\n",
        "  kl = KneeLocator(\n",
        "    range(2, max_cluster), sse, curve=\"convex\", direction=\"decreasing\"\n",
        "  )\n",
        "  print('Number of clusters is:',  kl.elbow)\n",
        "  return \n",
        "\n",
        "elbow(principalComponents)"
      ],
      "metadata": {
        "colab": {
          "base_uri": "https://localhost:8080/",
          "height": 634
        },
        "id": "Qcv9PMhYpfkA",
        "outputId": "79052be3-e1c2-40b4-ad55-638e494621a4"
      },
      "execution_count": 67,
      "outputs": [
        {
          "output_type": "stream",
          "name": "stdout",
          "text": [
            "For n_clusters = 2 The average silhouette_score is : 0.1878106005544528\n",
            "For n_clusters = 3 The average silhouette_score is : 0.1440826099279285\n",
            "For n_clusters = 4 The average silhouette_score is : 0.15936090738638917\n",
            "For n_clusters = 5 The average silhouette_score is : 0.15945247854070488\n",
            "For n_clusters = 6 The average silhouette_score is : 0.1597185634596219\n",
            "For n_clusters = 7 The average silhouette_score is : 0.15081268478941828\n",
            "For n_clusters = 8 The average silhouette_score is : 0.1483809020508164\n",
            "For n_clusters = 9 The average silhouette_score is : 0.15443975595137244\n",
            "For n_clusters = 10 The average silhouette_score is : 0.1542645308998341\n",
            "For n_clusters = 11 The average silhouette_score is : 0.15409602550009585\n",
            "For n_clusters = 12 The average silhouette_score is : 0.1546961774166107\n",
            "For n_clusters = 13 The average silhouette_score is : 0.15048875122265398\n",
            "For n_clusters = 14 The average silhouette_score is : 0.15171737844956412\n",
            "For n_clusters = 15 The average silhouette_score is : 0.15751936791938526\n",
            "For n_clusters = 16 The average silhouette_score is : 0.15382369615324828\n",
            "For n_clusters = 17 The average silhouette_score is : 0.15354088385371145\n",
            "For n_clusters = 18 The average silhouette_score is : 0.15298104103057078\n",
            "For n_clusters = 19 The average silhouette_score is : 0.15760731577714562\n"
          ]
        },
        {
          "output_type": "display_data",
          "data": {
            "text/plain": [
              "<Figure size 432x288 with 1 Axes>"
            ],
            "image/png": "[encoded data removed]"
          },
          "metadata": {}
        },
        {
          "output_type": "stream",
          "name": "stdout",
          "text": [
            "Number of clusters is: 7\n"
          ]
        }
      ]
    },
    {
      "cell_type": "code",
      "source": [
        "#kmeans function\n",
        "def kplot(pcs,k):\n",
        "\n",
        "  kmeans_kwargs = {\n",
        "    \"init\": \"random\",\n",
        "    \"n_init\": 10,\n",
        "    \"max_iter\": 300,\n",
        "    \"random_state\": 42,\n",
        "  }\n",
        "\n",
        "  kmeans = KMeans(n_clusters=k, **kmeans_kwargs)\n",
        "  kmeans.fit(pcs)\n",
        "  cluster_labels = kmeans.fit_predict(pcs)\n",
        "  df = pd.DataFrame(pcs)\n",
        "  df['label'] = kmeans.labels_\n",
        "  \n",
        "  return df,kmeans.cluster_centers_"
      ],
      "metadata": {
        "id": "5YeFRZDQhJ8J"
      },
      "execution_count": 72,
      "outputs": []
    },
    {
      "cell_type": "code",
      "source": [
        "pc_df,centers = kplot(principalComponents,7)"
      ],
      "metadata": {
        "id": "ziNbzhtc3aTt"
      },
      "execution_count": 73,
      "outputs": []
    },
    {
      "cell_type": "code",
      "source": [
        "pd.DataFrame(centers)\n"
      ],
      "metadata": {
        "id": "krI0ONLwCW_S",
        "outputId": "70d6e001-e5dd-45fd-e80e-d43522369d28",
        "colab": {
          "base_uri": "https://localhost:8080/",
          "height": 269
        }
      },
      "execution_count": 78,
      "outputs": [
        {
          "output_type": "execute_result",
          "data": {
            "text/plain": [
              "          0         1         2         3         4         5         6  \\\n",
              "0  0.516403 -0.218523  0.903160  0.026749  0.769171  0.007133 -0.033005   \n",
              "1 -0.116205 -0.926587 -0.289647 -0.123099 -0.123112 -0.109946  0.080829   \n",
              "2  1.490771 -0.066409 -0.526263 -0.108091 -0.114422  0.076900 -0.087767   \n",
              "3 -0.822181  0.192913 -0.682750  1.062520  0.295471  0.193082 -0.254733   \n",
              "4  0.728130  1.524652 -0.076431  0.037864 -0.198465  0.091179  0.014556   \n",
              "5 -0.950834  0.529812 -0.114437 -0.391633  0.137458 -0.177128  0.138729   \n",
              "6 -0.461601 -0.067410  0.500109  0.018418 -0.657809  0.109531 -0.027862   \n",
              "\n",
              "          7         8  \n",
              "0  0.052410 -0.022667  \n",
              "1 -0.068739  0.081823  \n",
              "2 -0.033059  0.008646  \n",
              "3  0.332856 -0.036984  \n",
              "4  0.113691  0.045595  \n",
              "5 -0.191242 -0.006227  \n",
              "6  0.012686 -0.102663  "
            ],
            "text/html": [
              "\n",
              "  <div id=\"df-c5ff0348-60e9-4196-a2f3-70b434520a5a\">\n",
              "    <div class=\"colab-df-container\">\n",
              "      <div>\n",
              "<style scoped>\n",
              "    .dataframe tbody tr th:only-of-type {\n",
              "        vertical-align: middle;\n",
              "    }\n",
              "\n",
              "    .dataframe tbody tr th {\n",
              "        vertical-align: top;\n",
              "    }\n",
              "\n",
              "    .dataframe thead th {\n",
              "        text-align: right;\n",
              "    }\n",
              "</style>\n",
              "<table border=\"1\" class=\"dataframe\">\n",
              "  <thead>\n",
              "    <tr style=\"text-align: right;\">\n",
              "      <th></th>\n",
              "      <th>0</th>\n",
              "      <th>1</th>\n",
              "      <th>2</th>\n",
              "      <th>3</th>\n",
              "      <th>4</th>\n",
              "      <th>5</th>\n",
              "      <th>6</th>\n",
              "      <th>7</th>\n",
              "      <th>8</th>\n",
              "    </tr>\n",
              "  </thead>\n",
              "  <tbody>\n",
              "    <tr>\n",
              "      <th>0</th>\n",
              "      <td>0.516403</td>\n",
              "      <td>-0.218523</td>\n",
              "      <td>0.903160</td>\n",
              "      <td>0.026749</td>\n",
              "      <td>0.769171</td>\n",
              "      <td>0.007133</td>\n",
              "      <td>-0.033005</td>\n",
              "      <td>0.052410</td>\n",
              "      <td>-0.022667</td>\n",
              "    </tr>\n",
              "    <tr>\n",
              "      <th>1</th>\n",
              "      <td>-0.116205</td>\n",
              "      <td>-0.926587</td>\n",
              "      <td>-0.289647</td>\n",
              "      <td>-0.123099</td>\n",
              "      <td>-0.123112</td>\n",
              "      <td>-0.109946</td>\n",
              "      <td>0.080829</td>\n",
              "      <td>-0.068739</td>\n",
              "      <td>0.081823</td>\n",
              "    </tr>\n",
              "    <tr>\n",
              "      <th>2</th>\n",
              "      <td>1.490771</td>\n",
              "      <td>-0.066409</td>\n",
              "      <td>-0.526263</td>\n",
              "      <td>-0.108091</td>\n",
              "      <td>-0.114422</td>\n",
              "      <td>0.076900</td>\n",
              "      <td>-0.087767</td>\n",
              "      <td>-0.033059</td>\n",
              "      <td>0.008646</td>\n",
              "    </tr>\n",
              "    <tr>\n",
              "      <th>3</th>\n",
              "      <td>-0.822181</td>\n",
              "      <td>0.192913</td>\n",
              "      <td>-0.682750</td>\n",
              "      <td>1.062520</td>\n",
              "      <td>0.295471</td>\n",
              "      <td>0.193082</td>\n",
              "      <td>-0.254733</td>\n",
              "      <td>0.332856</td>\n",
              "      <td>-0.036984</td>\n",
              "    </tr>\n",
              "    <tr>\n",
              "      <th>4</th>\n",
              "      <td>0.728130</td>\n",
              "      <td>1.524652</td>\n",
              "      <td>-0.076431</td>\n",
              "      <td>0.037864</td>\n",
              "      <td>-0.198465</td>\n",
              "      <td>0.091179</td>\n",
              "      <td>0.014556</td>\n",
              "      <td>0.113691</td>\n",
              "      <td>0.045595</td>\n",
              "    </tr>\n",
              "    <tr>\n",
              "      <th>5</th>\n",
              "      <td>-0.950834</td>\n",
              "      <td>0.529812</td>\n",
              "      <td>-0.114437</td>\n",
              "      <td>-0.391633</td>\n",
              "      <td>0.137458</td>\n",
              "      <td>-0.177128</td>\n",
              "      <td>0.138729</td>\n",
              "      <td>-0.191242</td>\n",
              "      <td>-0.006227</td>\n",
              "    </tr>\n",
              "    <tr>\n",
              "      <th>6</th>\n",
              "      <td>-0.461601</td>\n",
              "      <td>-0.067410</td>\n",
              "      <td>0.500109</td>\n",
              "      <td>0.018418</td>\n",
              "      <td>-0.657809</td>\n",
              "      <td>0.109531</td>\n",
              "      <td>-0.027862</td>\n",
              "      <td>0.012686</td>\n",
              "      <td>-0.102663</td>\n",
              "    </tr>\n",
              "  </tbody>\n",
              "</table>\n",
              "</div>\n",
              "      <button class=\"colab-df-convert\" onclick=\"convertToInteractive('df-c5ff0348-60e9-4196-a2f3-70b434520a5a')\"\n",
              "              title=\"Convert this dataframe to an interactive table.\"\n",
              "              style=\"display:none;\">\n",
              "        \n",
              "  <svg xmlns=\"http://www.w3.org/2000/svg\" height=\"24px\"viewBox=\"0 0 24 24\"\n",
              "       width=\"24px\">\n",
              "    <path d=\"M0 0h24v24H0V0z\" fill=\"none\"/>\n",
              "    <path d=\"M18.56 5.44l.94 2.06.94-2.06 2.06-.94-2.06-.94-.94-2.06-.94 2.06-2.06.94zm-11 1L8.5 8.5l.94-2.06 2.06-.94-2.06-.94L8.5 2.5l-.94 2.06-2.06.94zm10 10l.94 2.06.94-2.06 2.06-.94-2.06-.94-.94-2.06-.94 2.06-2.06.94z\"/><path d=\"M17.41 7.96l-1.37-1.37c-.4-.4-.92-.59-1.43-.59-.52 0-1.04.2-1.43.59L10.3 9.45l-7.72 7.72c-.78.78-.78 2.05 0 2.83L4 21.41c.39.39.9.59 1.41.59.51 0 1.02-.2 1.41-.59l7.78-7.78 2.81-2.81c.8-.78.8-2.07 0-2.86zM5.41 20L4 18.59l7.72-7.72 1.47 1.35L5.41 20z\"/>\n",
              "  </svg>\n",
              "      </button>\n",
              "      \n",
              "  <style>\n",
              "    .colab-df-container {\n",
              "      display:flex;\n",
              "      flex-wrap:wrap;\n",
              "      gap: 12px;\n",
              "    }\n",
              "\n",
              "    .colab-df-convert {\n",
              "      background-color: #E8F0FE;\n",
              "      border: none;\n",
              "      border-radius: 50%;\n",
              "      cursor: pointer;\n",
              "      display: none;\n",
              "      fill: #1967D2;\n",
              "      height: 32px;\n",
              "      padding: 0 0 0 0;\n",
              "      width: 32px;\n",
              "    }\n",
              "\n",
              "    .colab-df-convert:hover {\n",
              "      background-color: #E2EBFA;\n",
              "      box-shadow: 0px 1px 2px rgba(60, 64, 67, 0.3), 0px 1px 3px 1px rgba(60, 64, 67, 0.15);\n",
              "      fill: #174EA6;\n",
              "    }\n",
              "\n",
              "    [theme=dark] .colab-df-convert {\n",
              "      background-color: #3B4455;\n",
              "      fill: #D2E3FC;\n",
              "    }\n",
              "\n",
              "    [theme=dark] .colab-df-convert:hover {\n",
              "      background-color: #434B5C;\n",
              "      box-shadow: 0px 1px 3px 1px rgba(0, 0, 0, 0.15);\n",
              "      filter: drop-shadow(0px 1px 2px rgba(0, 0, 0, 0.3));\n",
              "      fill: #FFFFFF;\n",
              "    }\n",
              "  </style>\n",
              "\n",
              "      <script>\n",
              "        const buttonEl =\n",
              "          document.querySelector('#df-c5ff0348-60e9-4196-a2f3-70b434520a5a button.colab-df-convert');\n",
              "        buttonEl.style.display =\n",
              "          google.colab.kernel.accessAllowed ? 'block' : 'none';\n",
              "\n",
              "        async function convertToInteractive(key) {\n",
              "          const element = document.querySelector('#df-c5ff0348-60e9-4196-a2f3-70b434520a5a');\n",
              "          const dataTable =\n",
              "            await google.colab.kernel.invokeFunction('convertToInteractive',\n",
              "                                                     [key], {});\n",
              "          if (!dataTable) return;\n",
              "\n",
              "          const docLinkHtml = 'Like what you see? Visit the ' +\n",
              "            '<a target=\"_blank\" href=https://colab.research.google.com/notebooks/data_table.ipynb>data table notebook</a>'\n",
              "            + ' to learn more about interactive tables.';\n",
              "          element.innerHTML = '';\n",
              "          dataTable['output_type'] = 'display_data';\n",
              "          await google.colab.output.renderOutput(dataTable, element);\n",
              "          const docLink = document.createElement('div');\n",
              "          docLink.innerHTML = docLinkHtml;\n",
              "          element.appendChild(docLink);\n",
              "        }\n",
              "      </script>\n",
              "    </div>\n",
              "  </div>\n",
              "  "
            ]
          },
          "metadata": {},
          "execution_count": 78
        }
      ]
    },
    {
      "cell_type": "markdown",
      "source": [
        "#CLUSTER PROFILES\n",
        "CLUSTER 0: "
      ],
      "metadata": {
        "id": "IXCPbBJFWeQw"
      }
    },
    {
      "cell_type": "code",
      "source": [
        "pc_df.groupby('label').size()"
      ],
      "metadata": {
        "colab": {
          "base_uri": "https://localhost:8080/"
        },
        "id": "PelFODyDrtJI",
        "outputId": "156c9602-35b6-44af-ce5a-6f84303020a4"
      },
      "execution_count": 70,
      "outputs": [
        {
          "output_type": "execute_result",
          "data": {
            "text/plain": [
              "label\n",
              "0    366\n",
              "1    543\n",
              "2    290\n",
              "3    216\n",
              "4    245\n",
              "5    402\n",
              "6    383\n",
              "dtype: int64"
            ]
          },
          "metadata": {},
          "execution_count": 70
        }
      ]
    },
    {
      "cell_type": "code",
      "source": [
        "pc_df"
      ],
      "metadata": {
        "id": "dXAttH0A_HRi",
        "outputId": "1f839168-883c-49a6-89f5-5993cb25ead9",
        "colab": {
          "base_uri": "https://localhost:8080/",
          "height": 424
        }
      },
      "execution_count": 71,
      "outputs": [
        {
          "output_type": "execute_result",
          "data": {
            "text/plain": [
              "             0         1         2         3         4         5         6  \\\n",
              "0     0.433323 -0.448948 -0.749918 -0.709838 -0.086891 -0.640586 -0.126142   \n",
              "1    -0.703868  0.245957 -1.494279  0.988143  0.941267  0.278714 -0.751627   \n",
              "2     0.118961 -1.064025  0.655979  0.003376 -0.420408  0.556576  0.010147   \n",
              "3     0.699355 -1.271432  0.783697  1.429020  0.885066 -0.279343  0.292363   \n",
              "4     0.539601 -1.474594  0.689921  0.662095  1.237305  0.605200  0.388145   \n",
              "...        ...       ...       ...       ...       ...       ...       ...   \n",
              "2440 -1.029328 -0.317266 -0.330438  0.506568  0.487155 -0.235773 -0.501195   \n",
              "2441 -0.904174  0.055883 -0.426293  1.222464 -0.147205  0.304509 -0.733886   \n",
              "2442 -0.167760  0.155549  0.941593  0.753111  1.303717 -0.046995 -0.811736   \n",
              "2443  0.788752  0.511427  0.298805  1.106295  1.068143  0.110079 -1.081623   \n",
              "2444  0.458344 -0.337243  0.991913  0.173945  1.387201 -0.098394 -0.568676   \n",
              "\n",
              "             7         8  label  \n",
              "0    -0.241830 -0.339744      1  \n",
              "1     1.009392 -0.192041      3  \n",
              "2    -0.270633 -0.016619      1  \n",
              "3    -0.433254  0.433595      0  \n",
              "4    -0.805201  0.373102      0  \n",
              "...        ...       ...    ...  \n",
              "2440  0.470267  0.087867      3  \n",
              "2441  0.555383 -0.360998      3  \n",
              "2442  0.214991 -0.362477      0  \n",
              "2443  0.527354 -0.585350      0  \n",
              "2444 -0.078706 -0.425055      0  \n",
              "\n",
              "[2445 rows x 10 columns]"
            ],
            "text/html": [
              "\n",
              "  <div id=\"df-1c1fbac7-2cb4-4168-9587-b775b401a429\">\n",
              "    <div class=\"colab-df-container\">\n",
              "      <div>\n",
              "<style scoped>\n",
              "    .dataframe tbody tr th:only-of-type {\n",
              "        vertical-align: middle;\n",
              "    }\n",
              "\n",
              "    .dataframe tbody tr th {\n",
              "        vertical-align: top;\n",
              "    }\n",
              "\n",
              "    .dataframe thead th {\n",
              "        text-align: right;\n",
              "    }\n",
              "</style>\n",
              "<table border=\"1\" class=\"dataframe\">\n",
              "  <thead>\n",
              "    <tr style=\"text-align: right;\">\n",
              "      <th></th>\n",
              "      <th>0</th>\n",
              "      <th>1</th>\n",
              "      <th>2</th>\n",
              "      <th>3</th>\n",
              "      <th>4</th>\n",
              "      <th>5</th>\n",
              "      <th>6</th>\n",
              "      <th>7</th>\n",
              "      <th>8</th>\n",
              "      <th>label</th>\n",
              "    </tr>\n",
              "  </thead>\n",
              "  <tbody>\n",
              "    <tr>\n",
              "      <th>0</th>\n",
              "      <td>0.433323</td>\n",
              "      <td>-0.448948</td>\n",
              "      <td>-0.749918</td>\n",
              "      <td>-0.709838</td>\n",
              "      <td>-0.086891</td>\n",
              "      <td>-0.640586</td>\n",
              "      <td>-0.126142</td>\n",
              "      <td>-0.241830</td>\n",
              "      <td>-0.339744</td>\n",
              "      <td>1</td>\n",
              "    </tr>\n",
              "    <tr>\n",
              "      <th>1</th>\n",
              "      <td>-0.703868</td>\n",
              "      <td>0.245957</td>\n",
              "      <td>-1.494279</td>\n",
              "      <td>0.988143</td>\n",
              "      <td>0.941267</td>\n",
              "      <td>0.278714</td>\n",
              "      <td>-0.751627</td>\n",
              "      <td>1.009392</td>\n",
              "      <td>-0.192041</td>\n",
              "      <td>3</td>\n",
              "    </tr>\n",
              "    <tr>\n",
              "      <th>2</th>\n",
              "      <td>0.118961</td>\n",
              "      <td>-1.064025</td>\n",
              "      <td>0.655979</td>\n",
              "      <td>0.003376</td>\n",
              "      <td>-0.420408</td>\n",
              "      <td>0.556576</td>\n",
              "      <td>0.010147</td>\n",
              "      <td>-0.270633</td>\n",
              "      <td>-0.016619</td>\n",
              "      <td>1</td>\n",
              "    </tr>\n",
              "    <tr>\n",
              "      <th>3</th>\n",
              "      <td>0.699355</td>\n",
              "      <td>-1.271432</td>\n",
              "      <td>0.783697</td>\n",
              "      <td>1.429020</td>\n",
              "      <td>0.885066</td>\n",
              "      <td>-0.279343</td>\n",
              "      <td>0.292363</td>\n",
              "      <td>-0.433254</td>\n",
              "      <td>0.433595</td>\n",
              "      <td>0</td>\n",
              "    </tr>\n",
              "    <tr>\n",
              "      <th>4</th>\n",
              "      <td>0.539601</td>\n",
              "      <td>-1.474594</td>\n",
              "      <td>0.689921</td>\n",
              "      <td>0.662095</td>\n",
              "      <td>1.237305</td>\n",
              "      <td>0.605200</td>\n",
              "      <td>0.388145</td>\n",
              "      <td>-0.805201</td>\n",
              "      <td>0.373102</td>\n",
              "      <td>0</td>\n",
              "    </tr>\n",
              "    <tr>\n",
              "      <th>...</th>\n",
              "      <td>...</td>\n",
              "      <td>...</td>\n",
              "      <td>...</td>\n",
              "      <td>...</td>\n",
              "      <td>...</td>\n",
              "      <td>...</td>\n",
              "      <td>...</td>\n",
              "      <td>...</td>\n",
              "      <td>...</td>\n",
              "      <td>...</td>\n",
              "    </tr>\n",
              "    <tr>\n",
              "      <th>2440</th>\n",
              "      <td>-1.029328</td>\n",
              "      <td>-0.317266</td>\n",
              "      <td>-0.330438</td>\n",
              "      <td>0.506568</td>\n",
              "      <td>0.487155</td>\n",
              "      <td>-0.235773</td>\n",
              "      <td>-0.501195</td>\n",
              "      <td>0.470267</td>\n",
              "      <td>0.087867</td>\n",
              "      <td>3</td>\n",
              "    </tr>\n",
              "    <tr>\n",
              "      <th>2441</th>\n",
              "      <td>-0.904174</td>\n",
              "      <td>0.055883</td>\n",
              "      <td>-0.426293</td>\n",
              "      <td>1.222464</td>\n",
              "      <td>-0.147205</td>\n",
              "      <td>0.304509</td>\n",
              "      <td>-0.733886</td>\n",
              "      <td>0.555383</td>\n",
              "      <td>-0.360998</td>\n",
              "      <td>3</td>\n",
              "    </tr>\n",
              "    <tr>\n",
              "      <th>2442</th>\n",
              "      <td>-0.167760</td>\n",
              "      <td>0.155549</td>\n",
              "      <td>0.941593</td>\n",
              "      <td>0.753111</td>\n",
              "      <td>1.303717</td>\n",
              "      <td>-0.046995</td>\n",
              "      <td>-0.811736</td>\n",
              "      <td>0.214991</td>\n",
              "      <td>-0.362477</td>\n",
              "      <td>0</td>\n",
              "    </tr>\n",
              "    <tr>\n",
              "      <th>2443</th>\n",
              "      <td>0.788752</td>\n",
              "      <td>0.511427</td>\n",
              "      <td>0.298805</td>\n",
              "      <td>1.106295</td>\n",
              "      <td>1.068143</td>\n",
              "      <td>0.110079</td>\n",
              "      <td>-1.081623</td>\n",
              "      <td>0.527354</td>\n",
              "      <td>-0.585350</td>\n",
              "      <td>0</td>\n",
              "    </tr>\n",
              "    <tr>\n",
              "      <th>2444</th>\n",
              "      <td>0.458344</td>\n",
              "      <td>-0.337243</td>\n",
              "      <td>0.991913</td>\n",
              "      <td>0.173945</td>\n",
              "      <td>1.387201</td>\n",
              "      <td>-0.098394</td>\n",
              "      <td>-0.568676</td>\n",
              "      <td>-0.078706</td>\n",
              "      <td>-0.425055</td>\n",
              "      <td>0</td>\n",
              "    </tr>\n",
              "  </tbody>\n",
              "</table>\n",
              "<p>2445 rows × 10 columns</p>\n",
              "</div>\n",
              "      <button class=\"colab-df-convert\" onclick=\"convertToInteractive('df-1c1fbac7-2cb4-4168-9587-b775b401a429')\"\n",
              "              title=\"Convert this dataframe to an interactive table.\"\n",
              "              style=\"display:none;\">\n",
              "        \n",
              "  <svg xmlns=\"http://www.w3.org/2000/svg\" height=\"24px\"viewBox=\"0 0 24 24\"\n",
              "       width=\"24px\">\n",
              "    <path d=\"M0 0h24v24H0V0z\" fill=\"none\"/>\n",
              "    <path d=\"M18.56 5.44l.94 2.06.94-2.06 2.06-.94-2.06-.94-.94-2.06-.94 2.06-2.06.94zm-11 1L8.5 8.5l.94-2.06 2.06-.94-2.06-.94L8.5 2.5l-.94 2.06-2.06.94zm10 10l.94 2.06.94-2.06 2.06-.94-2.06-.94-.94-2.06-.94 2.06-2.06.94z\"/><path d=\"M17.41 7.96l-1.37-1.37c-.4-.4-.92-.59-1.43-.59-.52 0-1.04.2-1.43.59L10.3 9.45l-7.72 7.72c-.78.78-.78 2.05 0 2.83L4 21.41c.39.39.9.59 1.41.59.51 0 1.02-.2 1.41-.59l7.78-7.78 2.81-2.81c.8-.78.8-2.07 0-2.86zM5.41 20L4 18.59l7.72-7.72 1.47 1.35L5.41 20z\"/>\n",
              "  </svg>\n",
              "      </button>\n",
              "      \n",
              "  <style>\n",
              "    .colab-df-container {\n",
              "      display:flex;\n",
              "      flex-wrap:wrap;\n",
              "      gap: 12px;\n",
              "    }\n",
              "\n",
              "    .colab-df-convert {\n",
              "      background-color: #E8F0FE;\n",
              "      border: none;\n",
              "      border-radius: 50%;\n",
              "      cursor: pointer;\n",
              "      display: none;\n",
              "      fill: #1967D2;\n",
              "      height: 32px;\n",
              "      padding: 0 0 0 0;\n",
              "      width: 32px;\n",
              "    }\n",
              "\n",
              "    .colab-df-convert:hover {\n",
              "      background-color: #E2EBFA;\n",
              "      box-shadow: 0px 1px 2px rgba(60, 64, 67, 0.3), 0px 1px 3px 1px rgba(60, 64, 67, 0.15);\n",
              "      fill: #174EA6;\n",
              "    }\n",
              "\n",
              "    [theme=dark] .colab-df-convert {\n",
              "      background-color: #3B4455;\n",
              "      fill: #D2E3FC;\n",
              "    }\n",
              "\n",
              "    [theme=dark] .colab-df-convert:hover {\n",
              "      background-color: #434B5C;\n",
              "      box-shadow: 0px 1px 3px 1px rgba(0, 0, 0, 0.15);\n",
              "      filter: drop-shadow(0px 1px 2px rgba(0, 0, 0, 0.3));\n",
              "      fill: #FFFFFF;\n",
              "    }\n",
              "  </style>\n",
              "\n",
              "      <script>\n",
              "        const buttonEl =\n",
              "          document.querySelector('#df-1c1fbac7-2cb4-4168-9587-b775b401a429 button.colab-df-convert');\n",
              "        buttonEl.style.display =\n",
              "          google.colab.kernel.accessAllowed ? 'block' : 'none';\n",
              "\n",
              "        async function convertToInteractive(key) {\n",
              "          const element = document.querySelector('#df-1c1fbac7-2cb4-4168-9587-b775b401a429');\n",
              "          const dataTable =\n",
              "            await google.colab.kernel.invokeFunction('convertToInteractive',\n",
              "                                                     [key], {});\n",
              "          if (!dataTable) return;\n",
              "\n",
              "          const docLinkHtml = 'Like what you see? Visit the ' +\n",
              "            '<a target=\"_blank\" href=https://colab.research.google.com/notebooks/data_table.ipynb>data table notebook</a>'\n",
              "            + ' to learn more about interactive tables.';\n",
              "          element.innerHTML = '';\n",
              "          dataTable['output_type'] = 'display_data';\n",
              "          await google.colab.output.renderOutput(dataTable, element);\n",
              "          const docLink = document.createElement('div');\n",
              "          docLink.innerHTML = docLinkHtml;\n",
              "          element.appendChild(docLink);\n",
              "        }\n",
              "      </script>\n",
              "    </div>\n",
              "  </div>\n",
              "  "
            ]
          },
          "metadata": {},
          "execution_count": 71
        }
      ]
    },
    {
      "cell_type": "code",
      "source": [
        "socio['label'] = pc_df['label']"
      ],
      "metadata": {
        "id": "HBb-EAqL1UhS"
      },
      "execution_count": 32,
      "outputs": []
    },
    {
      "cell_type": "markdown",
      "source": [
        "## Statistical Test for clusters\n"
      ],
      "metadata": {
        "id": "MwVOHpACVP0N"
      }
    },
    {
      "cell_type": "code",
      "source": [
        "def chi2stat(df,var):\n",
        "  df = df.groupby('label').sum()[var]\n",
        "  #for chi2 test, min freq should be at least 5\n",
        "  var2 = (df>4).all()[(df>4).all()==True].index \n",
        "  \n",
        "  chi2 = stats.chi2_contingency(df[var2])\n",
        "  if len(var2)<2:\n",
        "    print('Not enough data')\n",
        "  print('P_value: ',chi2[1])\n",
        "  return\n"
      ],
      "metadata": {
        "id": "fgwPr9Atf3Rr"
      },
      "execution_count": 33,
      "outputs": []
    },
    {
      "cell_type": "code",
      "source": [
        "vars = socio_cols.keys()\n",
        "\n",
        "for v in vars:\n",
        "  print(v)\n",
        "  chi2stat(socio,socio_cols[v])\n",
        "  print('-----')\n",
        "  "
      ],
      "metadata": {
        "colab": {
          "base_uri": "https://localhost:8080/"
        },
        "id": "Qtm3FJdylO3f",
        "outputId": "a1f940a1-318a-4dcf-a83d-3a9164eb1f16"
      },
      "execution_count": 34,
      "outputs": [
        {
          "output_type": "stream",
          "name": "stdout",
          "text": [
            "age\n",
            "P_value:  7.305968765295918e-68\n",
            "-----\n",
            "sex\n",
            "P_value:  1.280448958884307e-11\n",
            "-----\n",
            "marital\n",
            "P_value:  2.5239564778155158e-05\n",
            "-----\n",
            "income\n",
            "P_value:  6.338109325342751e-38\n",
            "-----\n",
            "work\n",
            "P_value:  5.690094862607322e-121\n",
            "-----\n",
            "hhincome\n",
            "P_value:  2.8875854286259003e-32\n",
            "-----\n",
            "hh_struc\n",
            "P_value:  1.0641789622009953e-27\n",
            "-----\n",
            "hh_work\n",
            "P_value:  1.7353118037814107e-68\n",
            "-----\n",
            "hh_socialclass\n",
            "P_value:  3.3465896031434087e-69\n",
            "-----\n",
            "urban_rural\n",
            "P_value:  0.005074731917657885\n",
            "-----\n",
            "region\n",
            "P_value:  7.487249962759098e-09\n",
            "-----\n"
          ]
        }
      ]
    },
    {
      "cell_type": "markdown",
      "source": [
        "All sociodemographic variables are significantly different among clusters"
      ],
      "metadata": {
        "id": "EWthUGZ41oG2"
      }
    },
    {
      "cell_type": "markdown",
      "source": [
        "# COMPARE Sociodemographics among clusters"
      ],
      "metadata": {
        "id": "eTl2-v1M5C8S"
      }
    },
    {
      "cell_type": "code",
      "source": [
        "#AGE\n",
        "# convert dummy to mean of band\n",
        "tmp_df = pd.DataFrame()\n",
        "tmp_df['age_band'] = socio[socio_cols['age']].idxmax(axis=1)\n",
        "\n",
        "age_dict = {'Age_B04ID_4':\t18.5, \n",
        "'Age_B04ID_5':\t25,\n",
        "'Age_B04ID_6':\t35,\n",
        "'Age_B04ID_7':\t45,\n",
        "'Age_B04ID_8':\t55,\n",
        "'Age_B04ID_9':\t65}\n",
        "for n in age_dict.keys():\n",
        "  socio.loc[tmp_df[\"age_band\"] == n, \"AGE\"] = age_dict[n]\n",
        "\n"
      ],
      "metadata": {
        "id": "vkTXJ9qmBoMA"
      },
      "execution_count": 35,
      "outputs": []
    },
    {
      "cell_type": "code",
      "source": [
        "socio[['AGE','label']].groupby('label').mean()"
      ],
      "metadata": {
        "id": "pp_9taDR8QmV",
        "outputId": "0af31b36-fd44-4457-ac82-c1893d9096b4",
        "colab": {
          "base_uri": "https://localhost:8080/",
          "height": 300
        }
      },
      "execution_count": 36,
      "outputs": [
        {
          "output_type": "execute_result",
          "data": {
            "text/plain": [
              "             AGE\n",
              "label           \n",
              "0      55.802998\n",
              "1      51.325806\n",
              "2      53.183750\n",
              "3      44.877966\n",
              "4      43.768245\n",
              "5      48.405759\n",
              "6      53.887029"
            ],
            "text/html": [
              "\n",
              "  <div id=\"df-6e1bce55-4373-4a23-9169-cfab9b7f70b2\">\n",
              "    <div class=\"colab-df-container\">\n",
              "      <div>\n",
              "<style scoped>\n",
              "    .dataframe tbody tr th:only-of-type {\n",
              "        vertical-align: middle;\n",
              "    }\n",
              "\n",
              "    .dataframe tbody tr th {\n",
              "        vertical-align: top;\n",
              "    }\n",
              "\n",
              "    .dataframe thead th {\n",
              "        text-align: right;\n",
              "    }\n",
              "</style>\n",
              "<table border=\"1\" class=\"dataframe\">\n",
              "  <thead>\n",
              "    <tr style=\"text-align: right;\">\n",
              "      <th></th>\n",
              "      <th>AGE</th>\n",
              "    </tr>\n",
              "    <tr>\n",
              "      <th>label</th>\n",
              "      <th></th>\n",
              "    </tr>\n",
              "  </thead>\n",
              "  <tbody>\n",
              "    <tr>\n",
              "      <th>0</th>\n",
              "      <td>55.802998</td>\n",
              "    </tr>\n",
              "    <tr>\n",
              "      <th>1</th>\n",
              "      <td>51.325806</td>\n",
              "    </tr>\n",
              "    <tr>\n",
              "      <th>2</th>\n",
              "      <td>53.183750</td>\n",
              "    </tr>\n",
              "    <tr>\n",
              "      <th>3</th>\n",
              "      <td>44.877966</td>\n",
              "    </tr>\n",
              "    <tr>\n",
              "      <th>4</th>\n",
              "      <td>43.768245</td>\n",
              "    </tr>\n",
              "    <tr>\n",
              "      <th>5</th>\n",
              "      <td>48.405759</td>\n",
              "    </tr>\n",
              "    <tr>\n",
              "      <th>6</th>\n",
              "      <td>53.887029</td>\n",
              "    </tr>\n",
              "  </tbody>\n",
              "</table>\n",
              "</div>\n",
              "      <button class=\"colab-df-convert\" onclick=\"convertToInteractive('df-6e1bce55-4373-4a23-9169-cfab9b7f70b2')\"\n",
              "              title=\"Convert this dataframe to an interactive table.\"\n",
              "              style=\"display:none;\">\n",
              "        \n",
              "  <svg xmlns=\"http://www.w3.org/2000/svg\" height=\"24px\"viewBox=\"0 0 24 24\"\n",
              "       width=\"24px\">\n",
              "    <path d=\"M0 0h24v24H0V0z\" fill=\"none\"/>\n",
              "    <path d=\"M18.56 5.44l.94 2.06.94-2.06 2.06-.94-2.06-.94-.94-2.06-.94 2.06-2.06.94zm-11 1L8.5 8.5l.94-2.06 2.06-.94-2.06-.94L8.5 2.5l-.94 2.06-2.06.94zm10 10l.94 2.06.94-2.06 2.06-.94-2.06-.94-.94-2.06-.94 2.06-2.06.94z\"/><path d=\"M17.41 7.96l-1.37-1.37c-.4-.4-.92-.59-1.43-.59-.52 0-1.04.2-1.43.59L10.3 9.45l-7.72 7.72c-.78.78-.78 2.05 0 2.83L4 21.41c.39.39.9.59 1.41.59.51 0 1.02-.2 1.41-.59l7.78-7.78 2.81-2.81c.8-.78.8-2.07 0-2.86zM5.41 20L4 18.59l7.72-7.72 1.47 1.35L5.41 20z\"/>\n",
              "  </svg>\n",
              "      </button>\n",
              "      \n",
              "  <style>\n",
              "    .colab-df-container {\n",
              "      display:flex;\n",
              "      flex-wrap:wrap;\n",
              "      gap: 12px;\n",
              "    }\n",
              "\n",
              "    .colab-df-convert {\n",
              "      background-color: #E8F0FE;\n",
              "      border: none;\n",
              "      border-radius: 50%;\n",
              "      cursor: pointer;\n",
              "      display: none;\n",
              "      fill: #1967D2;\n",
              "      height: 32px;\n",
              "      padding: 0 0 0 0;\n",
              "      width: 32px;\n",
              "    }\n",
              "\n",
              "    .colab-df-convert:hover {\n",
              "      background-color: #E2EBFA;\n",
              "      box-shadow: 0px 1px 2px rgba(60, 64, 67, 0.3), 0px 1px 3px 1px rgba(60, 64, 67, 0.15);\n",
              "      fill: #174EA6;\n",
              "    }\n",
              "\n",
              "    [theme=dark] .colab-df-convert {\n",
              "      background-color: #3B4455;\n",
              "      fill: #D2E3FC;\n",
              "    }\n",
              "\n",
              "    [theme=dark] .colab-df-convert:hover {\n",
              "      background-color: #434B5C;\n",
              "      box-shadow: 0px 1px 3px 1px rgba(0, 0, 0, 0.15);\n",
              "      filter: drop-shadow(0px 1px 2px rgba(0, 0, 0, 0.3));\n",
              "      fill: #FFFFFF;\n",
              "    }\n",
              "  </style>\n",
              "\n",
              "      <script>\n",
              "        const buttonEl =\n",
              "          document.querySelector('#df-6e1bce55-4373-4a23-9169-cfab9b7f70b2 button.colab-df-convert');\n",
              "        buttonEl.style.display =\n",
              "          google.colab.kernel.accessAllowed ? 'block' : 'none';\n",
              "\n",
              "        async function convertToInteractive(key) {\n",
              "          const element = document.querySelector('#df-6e1bce55-4373-4a23-9169-cfab9b7f70b2');\n",
              "          const dataTable =\n",
              "            await google.colab.kernel.invokeFunction('convertToInteractive',\n",
              "                                                     [key], {});\n",
              "          if (!dataTable) return;\n",
              "\n",
              "          const docLinkHtml = 'Like what you see? Visit the ' +\n",
              "            '<a target=\"_blank\" href=https://colab.research.google.com/notebooks/data_table.ipynb>data table notebook</a>'\n",
              "            + ' to learn more about interactive tables.';\n",
              "          element.innerHTML = '';\n",
              "          dataTable['output_type'] = 'display_data';\n",
              "          await google.colab.output.renderOutput(dataTable, element);\n",
              "          const docLink = document.createElement('div');\n",
              "          docLink.innerHTML = docLinkHtml;\n",
              "          element.appendChild(docLink);\n",
              "        }\n",
              "      </script>\n",
              "    </div>\n",
              "  </div>\n",
              "  "
            ]
          },
          "metadata": {},
          "execution_count": 36
        }
      ]
    },
    {
      "cell_type": "code",
      "source": [
        "a = socio[['AGE','label']].groupby('label').mean()\n",
        "fig = plt.figure()\n",
        "ax = fig.add_axes([0,0,1,1])\n",
        "labels = a.index\n",
        "var = a.AGE\n",
        "ax.bar(labels,var)\n",
        "ax.set_title('average age per mobility label')\n",
        "plt.show()"
      ],
      "metadata": {
        "id": "4JouDonULjLC",
        "outputId": "49ec64c0-8154-4a4d-b138-d18f6b602cf8",
        "colab": {
          "base_uri": "https://localhost:8080/",
          "height": 357
        }
      },
      "execution_count": 37,
      "outputs": [
        {
          "output_type": "display_data",
          "data": {
            "text/plain": [
              "<Figure size 432x288 with 1 Axes>"
            ],
            "image/png": "[encoded data removed]"
          },
          "metadata": {}
        }
      ]
    },
    {
      "cell_type": "code",
      "source": [
        "socio[['AGE','label']].groupby('label').median()"
      ],
      "metadata": {
        "id": "3z5ifXecFH2V",
        "outputId": "a9ab5cb6-8c6b-44a5-9326-176b7bd7bbde",
        "colab": {
          "base_uri": "https://localhost:8080/",
          "height": 300
        }
      },
      "execution_count": 38,
      "outputs": [
        {
          "output_type": "execute_result",
          "data": {
            "text/plain": [
              "        AGE\n",
              "label      \n",
              "0      65.0\n",
              "1      55.0\n",
              "2      55.0\n",
              "3      45.0\n",
              "4      45.0\n",
              "5      55.0\n",
              "6      65.0"
            ],
            "text/html": [
              "\n",
              "  <div id=\"df-a680af80-4535-4cac-84d9-8d82fa5218b3\">\n",
              "    <div class=\"colab-df-container\">\n",
              "      <div>\n",
              "<style scoped>\n",
              "    .dataframe tbody tr th:only-of-type {\n",
              "        vertical-align: middle;\n",
              "    }\n",
              "\n",
              "    .dataframe tbody tr th {\n",
              "        vertical-align: top;\n",
              "    }\n",
              "\n",
              "    .dataframe thead th {\n",
              "        text-align: right;\n",
              "    }\n",
              "</style>\n",
              "<table border=\"1\" class=\"dataframe\">\n",
              "  <thead>\n",
              "    <tr style=\"text-align: right;\">\n",
              "      <th></th>\n",
              "      <th>AGE</th>\n",
              "    </tr>\n",
              "    <tr>\n",
              "      <th>label</th>\n",
              "      <th></th>\n",
              "    </tr>\n",
              "  </thead>\n",
              "  <tbody>\n",
              "    <tr>\n",
              "      <th>0</th>\n",
              "      <td>65.0</td>\n",
              "    </tr>\n",
              "    <tr>\n",
              "      <th>1</th>\n",
              "      <td>55.0</td>\n",
              "    </tr>\n",
              "    <tr>\n",
              "      <th>2</th>\n",
              "      <td>55.0</td>\n",
              "    </tr>\n",
              "    <tr>\n",
              "      <th>3</th>\n",
              "      <td>45.0</td>\n",
              "    </tr>\n",
              "    <tr>\n",
              "      <th>4</th>\n",
              "      <td>45.0</td>\n",
              "    </tr>\n",
              "    <tr>\n",
              "      <th>5</th>\n",
              "      <td>55.0</td>\n",
              "    </tr>\n",
              "    <tr>\n",
              "      <th>6</th>\n",
              "      <td>65.0</td>\n",
              "    </tr>\n",
              "  </tbody>\n",
              "</table>\n",
              "</div>\n",
              "      <button class=\"colab-df-convert\" onclick=\"convertToInteractive('df-a680af80-4535-4cac-84d9-8d82fa5218b3')\"\n",
              "              title=\"Convert this dataframe to an interactive table.\"\n",
              "              style=\"display:none;\">\n",
              "        \n",
              "  <svg xmlns=\"http://www.w3.org/2000/svg\" height=\"24px\"viewBox=\"0 0 24 24\"\n",
              "       width=\"24px\">\n",
              "    <path d=\"M0 0h24v24H0V0z\" fill=\"none\"/>\n",
              "    <path d=\"M18.56 5.44l.94 2.06.94-2.06 2.06-.94-2.06-.94-.94-2.06-.94 2.06-2.06.94zm-11 1L8.5 8.5l.94-2.06 2.06-.94-2.06-.94L8.5 2.5l-.94 2.06-2.06.94zm10 10l.94 2.06.94-2.06 2.06-.94-2.06-.94-.94-2.06-.94 2.06-2.06.94z\"/><path d=\"M17.41 7.96l-1.37-1.37c-.4-.4-.92-.59-1.43-.59-.52 0-1.04.2-1.43.59L10.3 9.45l-7.72 7.72c-.78.78-.78 2.05 0 2.83L4 21.41c.39.39.9.59 1.41.59.51 0 1.02-.2 1.41-.59l7.78-7.78 2.81-2.81c.8-.78.8-2.07 0-2.86zM5.41 20L4 18.59l7.72-7.72 1.47 1.35L5.41 20z\"/>\n",
              "  </svg>\n",
              "      </button>\n",
              "      \n",
              "  <style>\n",
              "    .colab-df-container {\n",
              "      display:flex;\n",
              "      flex-wrap:wrap;\n",
              "      gap: 12px;\n",
              "    }\n",
              "\n",
              "    .colab-df-convert {\n",
              "      background-color: #E8F0FE;\n",
              "      border: none;\n",
              "      border-radius: 50%;\n",
              "      cursor: pointer;\n",
              "      display: none;\n",
              "      fill: #1967D2;\n",
              "      height: 32px;\n",
              "      padding: 0 0 0 0;\n",
              "      width: 32px;\n",
              "    }\n",
              "\n",
              "    .colab-df-convert:hover {\n",
              "      background-color: #E2EBFA;\n",
              "      box-shadow: 0px 1px 2px rgba(60, 64, 67, 0.3), 0px 1px 3px 1px rgba(60, 64, 67, 0.15);\n",
              "      fill: #174EA6;\n",
              "    }\n",
              "\n",
              "    [theme=dark] .colab-df-convert {\n",
              "      background-color: #3B4455;\n",
              "      fill: #D2E3FC;\n",
              "    }\n",
              "\n",
              "    [theme=dark] .colab-df-convert:hover {\n",
              "      background-color: #434B5C;\n",
              "      box-shadow: 0px 1px 3px 1px rgba(0, 0, 0, 0.15);\n",
              "      filter: drop-shadow(0px 1px 2px rgba(0, 0, 0, 0.3));\n",
              "      fill: #FFFFFF;\n",
              "    }\n",
              "  </style>\n",
              "\n",
              "      <script>\n",
              "        const buttonEl =\n",
              "          document.querySelector('#df-a680af80-4535-4cac-84d9-8d82fa5218b3 button.colab-df-convert');\n",
              "        buttonEl.style.display =\n",
              "          google.colab.kernel.accessAllowed ? 'block' : 'none';\n",
              "\n",
              "        async function convertToInteractive(key) {\n",
              "          const element = document.querySelector('#df-a680af80-4535-4cac-84d9-8d82fa5218b3');\n",
              "          const dataTable =\n",
              "            await google.colab.kernel.invokeFunction('convertToInteractive',\n",
              "                                                     [key], {});\n",
              "          if (!dataTable) return;\n",
              "\n",
              "          const docLinkHtml = 'Like what you see? Visit the ' +\n",
              "            '<a target=\"_blank\" href=https://colab.research.google.com/notebooks/data_table.ipynb>data table notebook</a>'\n",
              "            + ' to learn more about interactive tables.';\n",
              "          element.innerHTML = '';\n",
              "          dataTable['output_type'] = 'display_data';\n",
              "          await google.colab.output.renderOutput(dataTable, element);\n",
              "          const docLink = document.createElement('div');\n",
              "          docLink.innerHTML = docLinkHtml;\n",
              "          element.appendChild(docLink);\n",
              "        }\n",
              "      </script>\n",
              "    </div>\n",
              "  </div>\n",
              "  "
            ]
          },
          "metadata": {},
          "execution_count": 38
        }
      ]
    },
    {
      "cell_type": "code",
      "source": [
        "a = socio[['AGE','label']].groupby('label').median()\n",
        "fig = plt.figure()\n",
        "ax = fig.add_axes([0,0,1,1])\n",
        "labels = a.index\n",
        "var = a.AGE\n",
        "ax.bar(labels,var)\n",
        "ax.set_title('median age per mobility label')\n",
        "plt.show()"
      ],
      "metadata": {
        "id": "Jp_UKNxpMEB5",
        "outputId": "efcc6fdf-543f-4574-b251-06b31c20f442",
        "colab": {
          "base_uri": "https://localhost:8080/",
          "height": 357
        }
      },
      "execution_count": 39,
      "outputs": [
        {
          "output_type": "display_data",
          "data": {
            "text/plain": [
              "<Figure size 432x288 with 1 Axes>"
            ],
            "image/png": "[encoded data removed]"
          },
          "metadata": {}
        }
      ]
    },
    {
      "cell_type": "code",
      "source": [
        "#income\n",
        "# convert dummy to mean of band\n",
        "tmp_df = pd.DataFrame()\n",
        "tmp_df['income_band'] = socio[socio_cols['income']].idxmax(axis=1)\n",
        "\n",
        "income_dict = {'IndIncome2002_B02ID_1':\t12.5, \n",
        "'IndIncome2002_B02ID_2':\t37.5,\n",
        "'IndIncome2002_B02ID_3':\t62.5}\n",
        "for n in income_dict.keys():\n",
        "  socio.loc[tmp_df[\"income_band\"] == n, \"INCOME\"] = income_dict[n]\n",
        "\n",
        "socio[['INCOME','label']].groupby('label').mean()\n"
      ],
      "metadata": {
        "id": "zaU0LSeq5CLs",
        "outputId": "d7633342-0d45-4145-ae82-f2beaf90e653",
        "colab": {
          "base_uri": "https://localhost:8080/",
          "height": 300
        }
      },
      "execution_count": 40,
      "outputs": [
        {
          "output_type": "execute_result",
          "data": {
            "text/plain": [
              "          INCOME\n",
              "label           \n",
              "0      21.600642\n",
              "1      24.274194\n",
              "2      21.812500\n",
              "3      29.533898\n",
              "4      29.758383\n",
              "5      34.293194\n",
              "6      21.495816"
            ],
            "text/html": [
              "\n",
              "  <div id=\"df-0ee33b2f-d2b3-4e47-bd67-0884f2513038\">\n",
              "    <div class=\"colab-df-container\">\n",
              "      <div>\n",
              "<style scoped>\n",
              "    .dataframe tbody tr th:only-of-type {\n",
              "        vertical-align: middle;\n",
              "    }\n",
              "\n",
              "    .dataframe tbody tr th {\n",
              "        vertical-align: top;\n",
              "    }\n",
              "\n",
              "    .dataframe thead th {\n",
              "        text-align: right;\n",
              "    }\n",
              "</style>\n",
              "<table border=\"1\" class=\"dataframe\">\n",
              "  <thead>\n",
              "    <tr style=\"text-align: right;\">\n",
              "      <th></th>\n",
              "      <th>INCOME</th>\n",
              "    </tr>\n",
              "    <tr>\n",
              "      <th>label</th>\n",
              "      <th></th>\n",
              "    </tr>\n",
              "  </thead>\n",
              "  <tbody>\n",
              "    <tr>\n",
              "      <th>0</th>\n",
              "      <td>21.600642</td>\n",
              "    </tr>\n",
              "    <tr>\n",
              "      <th>1</th>\n",
              "      <td>24.274194</td>\n",
              "    </tr>\n",
              "    <tr>\n",
              "      <th>2</th>\n",
              "      <td>21.812500</td>\n",
              "    </tr>\n",
              "    <tr>\n",
              "      <th>3</th>\n",
              "      <td>29.533898</td>\n",
              "    </tr>\n",
              "    <tr>\n",
              "      <th>4</th>\n",
              "      <td>29.758383</td>\n",
              "    </tr>\n",
              "    <tr>\n",
              "      <th>5</th>\n",
              "      <td>34.293194</td>\n",
              "    </tr>\n",
              "    <tr>\n",
              "      <th>6</th>\n",
              "      <td>21.495816</td>\n",
              "    </tr>\n",
              "  </tbody>\n",
              "</table>\n",
              "</div>\n",
              "      <button class=\"colab-df-convert\" onclick=\"convertToInteractive('df-0ee33b2f-d2b3-4e47-bd67-0884f2513038')\"\n",
              "              title=\"Convert this dataframe to an interactive table.\"\n",
              "              style=\"display:none;\">\n",
              "        \n",
              "  <svg xmlns=\"http://www.w3.org/2000/svg\" height=\"24px\"viewBox=\"0 0 24 24\"\n",
              "       width=\"24px\">\n",
              "    <path d=\"M0 0h24v24H0V0z\" fill=\"none\"/>\n",
              "    <path d=\"M18.56 5.44l.94 2.06.94-2.06 2.06-.94-2.06-.94-.94-2.06-.94 2.06-2.06.94zm-11 1L8.5 8.5l.94-2.06 2.06-.94-2.06-.94L8.5 2.5l-.94 2.06-2.06.94zm10 10l.94 2.06.94-2.06 2.06-.94-2.06-.94-.94-2.06-.94 2.06-2.06.94z\"/><path d=\"M17.41 7.96l-1.37-1.37c-.4-.4-.92-.59-1.43-.59-.52 0-1.04.2-1.43.59L10.3 9.45l-7.72 7.72c-.78.78-.78 2.05 0 2.83L4 21.41c.39.39.9.59 1.41.59.51 0 1.02-.2 1.41-.59l7.78-7.78 2.81-2.81c.8-.78.8-2.07 0-2.86zM5.41 20L4 18.59l7.72-7.72 1.47 1.35L5.41 20z\"/>\n",
              "  </svg>\n",
              "      </button>\n",
              "      \n",
              "  <style>\n",
              "    .colab-df-container {\n",
              "      display:flex;\n",
              "      flex-wrap:wrap;\n",
              "      gap: 12px;\n",
              "    }\n",
              "\n",
              "    .colab-df-convert {\n",
              "      background-color: #E8F0FE;\n",
              "      border: none;\n",
              "      border-radius: 50%;\n",
              "      cursor: pointer;\n",
              "      display: none;\n",
              "      fill: #1967D2;\n",
              "      height: 32px;\n",
              "      padding: 0 0 0 0;\n",
              "      width: 32px;\n",
              "    }\n",
              "\n",
              "    .colab-df-convert:hover {\n",
              "      background-color: #E2EBFA;\n",
              "      box-shadow: 0px 1px 2px rgba(60, 64, 67, 0.3), 0px 1px 3px 1px rgba(60, 64, 67, 0.15);\n",
              "      fill: #174EA6;\n",
              "    }\n",
              "\n",
              "    [theme=dark] .colab-df-convert {\n",
              "      background-color: #3B4455;\n",
              "      fill: #D2E3FC;\n",
              "    }\n",
              "\n",
              "    [theme=dark] .colab-df-convert:hover {\n",
              "      background-color: #434B5C;\n",
              "      box-shadow: 0px 1px 3px 1px rgba(0, 0, 0, 0.15);\n",
              "      filter: drop-shadow(0px 1px 2px rgba(0, 0, 0, 0.3));\n",
              "      fill: #FFFFFF;\n",
              "    }\n",
              "  </style>\n",
              "\n",
              "      <script>\n",
              "        const buttonEl =\n",
              "          document.querySelector('#df-0ee33b2f-d2b3-4e47-bd67-0884f2513038 button.colab-df-convert');\n",
              "        buttonEl.style.display =\n",
              "          google.colab.kernel.accessAllowed ? 'block' : 'none';\n",
              "\n",
              "        async function convertToInteractive(key) {\n",
              "          const element = document.querySelector('#df-0ee33b2f-d2b3-4e47-bd67-0884f2513038');\n",
              "          const dataTable =\n",
              "            await google.colab.kernel.invokeFunction('convertToInteractive',\n",
              "                                                     [key], {});\n",
              "          if (!dataTable) return;\n",
              "\n",
              "          const docLinkHtml = 'Like what you see? Visit the ' +\n",
              "            '<a target=\"_blank\" href=https://colab.research.google.com/notebooks/data_table.ipynb>data table notebook</a>'\n",
              "            + ' to learn more about interactive tables.';\n",
              "          element.innerHTML = '';\n",
              "          dataTable['output_type'] = 'display_data';\n",
              "          await google.colab.output.renderOutput(dataTable, element);\n",
              "          const docLink = document.createElement('div');\n",
              "          docLink.innerHTML = docLinkHtml;\n",
              "          element.appendChild(docLink);\n",
              "        }\n",
              "      </script>\n",
              "    </div>\n",
              "  </div>\n",
              "  "
            ]
          },
          "metadata": {},
          "execution_count": 40
        }
      ]
    },
    {
      "cell_type": "code",
      "source": [
        "a = socio[['INCOME','label']].groupby('label').mean()\n",
        "fig = plt.figure()\n",
        "ax = fig.add_axes([0,0,1,1])\n",
        "labels = a.index\n",
        "var = a.INCOME\n",
        "ax.bar(labels,var)\n",
        "ax.set_title('average income per mobility label')\n",
        "plt.show()"
      ],
      "metadata": {
        "id": "5MSGykSRRHDw",
        "outputId": "13fa5bdd-4f81-4277-a802-d65f82954031",
        "colab": {
          "base_uri": "https://localhost:8080/",
          "height": 357
        }
      },
      "execution_count": 41,
      "outputs": [
        {
          "output_type": "display_data",
          "data": {
            "text/plain": [
              "<Figure size 432x288 with 1 Axes>"
            ],
            "image/png": "[encoded data removed]"
          },
          "metadata": {}
        }
      ]
    },
    {
      "cell_type": "code",
      "source": [
        "socio[['INCOME','label']].groupby('label').median()\n"
      ],
      "metadata": {
        "id": "QdXvI7aOQxrn",
        "outputId": "94cd7254-8f0e-401a-9057-ed2532c8df85",
        "colab": {
          "base_uri": "https://localhost:8080/",
          "height": 300
        }
      },
      "execution_count": 42,
      "outputs": [
        {
          "output_type": "execute_result",
          "data": {
            "text/plain": [
              "       INCOME\n",
              "label        \n",
              "0        12.5\n",
              "1        12.5\n",
              "2        12.5\n",
              "3        37.5\n",
              "4        37.5\n",
              "5        37.5\n",
              "6        12.5"
            ],
            "text/html": [
              "\n",
              "  <div id=\"df-03b3f51a-52cf-4eaa-a8f2-fabd527b0557\">\n",
              "    <div class=\"colab-df-container\">\n",
              "      <div>\n",
              "<style scoped>\n",
              "    .dataframe tbody tr th:only-of-type {\n",
              "        vertical-align: middle;\n",
              "    }\n",
              "\n",
              "    .dataframe tbody tr th {\n",
              "        vertical-align: top;\n",
              "    }\n",
              "\n",
              "    .dataframe thead th {\n",
              "        text-align: right;\n",
              "    }\n",
              "</style>\n",
              "<table border=\"1\" class=\"dataframe\">\n",
              "  <thead>\n",
              "    <tr style=\"text-align: right;\">\n",
              "      <th></th>\n",
              "      <th>INCOME</th>\n",
              "    </tr>\n",
              "    <tr>\n",
              "      <th>label</th>\n",
              "      <th></th>\n",
              "    </tr>\n",
              "  </thead>\n",
              "  <tbody>\n",
              "    <tr>\n",
              "      <th>0</th>\n",
              "      <td>12.5</td>\n",
              "    </tr>\n",
              "    <tr>\n",
              "      <th>1</th>\n",
              "      <td>12.5</td>\n",
              "    </tr>\n",
              "    <tr>\n",
              "      <th>2</th>\n",
              "      <td>12.5</td>\n",
              "    </tr>\n",
              "    <tr>\n",
              "      <th>3</th>\n",
              "      <td>37.5</td>\n",
              "    </tr>\n",
              "    <tr>\n",
              "      <th>4</th>\n",
              "      <td>37.5</td>\n",
              "    </tr>\n",
              "    <tr>\n",
              "      <th>5</th>\n",
              "      <td>37.5</td>\n",
              "    </tr>\n",
              "    <tr>\n",
              "      <th>6</th>\n",
              "      <td>12.5</td>\n",
              "    </tr>\n",
              "  </tbody>\n",
              "</table>\n",
              "</div>\n",
              "      <button class=\"colab-df-convert\" onclick=\"convertToInteractive('df-03b3f51a-52cf-4eaa-a8f2-fabd527b0557')\"\n",
              "              title=\"Convert this dataframe to an interactive table.\"\n",
              "              style=\"display:none;\">\n",
              "        \n",
              "  <svg xmlns=\"http://www.w3.org/2000/svg\" height=\"24px\"viewBox=\"0 0 24 24\"\n",
              "       width=\"24px\">\n",
              "    <path d=\"M0 0h24v24H0V0z\" fill=\"none\"/>\n",
              "    <path d=\"M18.56 5.44l.94 2.06.94-2.06 2.06-.94-2.06-.94-.94-2.06-.94 2.06-2.06.94zm-11 1L8.5 8.5l.94-2.06 2.06-.94-2.06-.94L8.5 2.5l-.94 2.06-2.06.94zm10 10l.94 2.06.94-2.06 2.06-.94-2.06-.94-.94-2.06-.94 2.06-2.06.94z\"/><path d=\"M17.41 7.96l-1.37-1.37c-.4-.4-.92-.59-1.43-.59-.52 0-1.04.2-1.43.59L10.3 9.45l-7.72 7.72c-.78.78-.78 2.05 0 2.83L4 21.41c.39.39.9.59 1.41.59.51 0 1.02-.2 1.41-.59l7.78-7.78 2.81-2.81c.8-.78.8-2.07 0-2.86zM5.41 20L4 18.59l7.72-7.72 1.47 1.35L5.41 20z\"/>\n",
              "  </svg>\n",
              "      </button>\n",
              "      \n",
              "  <style>\n",
              "    .colab-df-container {\n",
              "      display:flex;\n",
              "      flex-wrap:wrap;\n",
              "      gap: 12px;\n",
              "    }\n",
              "\n",
              "    .colab-df-convert {\n",
              "      background-color: #E8F0FE;\n",
              "      border: none;\n",
              "      border-radius: 50%;\n",
              "      cursor: pointer;\n",
              "      display: none;\n",
              "      fill: #1967D2;\n",
              "      height: 32px;\n",
              "      padding: 0 0 0 0;\n",
              "      width: 32px;\n",
              "    }\n",
              "\n",
              "    .colab-df-convert:hover {\n",
              "      background-color: #E2EBFA;\n",
              "      box-shadow: 0px 1px 2px rgba(60, 64, 67, 0.3), 0px 1px 3px 1px rgba(60, 64, 67, 0.15);\n",
              "      fill: #174EA6;\n",
              "    }\n",
              "\n",
              "    [theme=dark] .colab-df-convert {\n",
              "      background-color: #3B4455;\n",
              "      fill: #D2E3FC;\n",
              "    }\n",
              "\n",
              "    [theme=dark] .colab-df-convert:hover {\n",
              "      background-color: #434B5C;\n",
              "      box-shadow: 0px 1px 3px 1px rgba(0, 0, 0, 0.15);\n",
              "      filter: drop-shadow(0px 1px 2px rgba(0, 0, 0, 0.3));\n",
              "      fill: #FFFFFF;\n",
              "    }\n",
              "  </style>\n",
              "\n",
              "      <script>\n",
              "        const buttonEl =\n",
              "          document.querySelector('#df-03b3f51a-52cf-4eaa-a8f2-fabd527b0557 button.colab-df-convert');\n",
              "        buttonEl.style.display =\n",
              "          google.colab.kernel.accessAllowed ? 'block' : 'none';\n",
              "\n",
              "        async function convertToInteractive(key) {\n",
              "          const element = document.querySelector('#df-03b3f51a-52cf-4eaa-a8f2-fabd527b0557');\n",
              "          const dataTable =\n",
              "            await google.colab.kernel.invokeFunction('convertToInteractive',\n",
              "                                                     [key], {});\n",
              "          if (!dataTable) return;\n",
              "\n",
              "          const docLinkHtml = 'Like what you see? Visit the ' +\n",
              "            '<a target=\"_blank\" href=https://colab.research.google.com/notebooks/data_table.ipynb>data table notebook</a>'\n",
              "            + ' to learn more about interactive tables.';\n",
              "          element.innerHTML = '';\n",
              "          dataTable['output_type'] = 'display_data';\n",
              "          await google.colab.output.renderOutput(dataTable, element);\n",
              "          const docLink = document.createElement('div');\n",
              "          docLink.innerHTML = docLinkHtml;\n",
              "          element.appendChild(docLink);\n",
              "        }\n",
              "      </script>\n",
              "    </div>\n",
              "  </div>\n",
              "  "
            ]
          },
          "metadata": {},
          "execution_count": 42
        }
      ]
    },
    {
      "cell_type": "code",
      "source": [
        "a = socio[['INCOME','label']].groupby('label').mean()\n",
        "fig = plt.figure()\n",
        "ax = fig.add_axes([0,0,1,1])\n",
        "labels = a.index\n",
        "var = a.INCOME\n",
        "ax.bar(labels,var)\n",
        "ax.set_title('median income per mobility label')\n",
        "plt.show()"
      ],
      "metadata": {
        "id": "7gTL8xBERW70",
        "outputId": "8b587f27-d51e-4a38-c4f0-a3ad4b6143dd",
        "colab": {
          "base_uri": "https://localhost:8080/",
          "height": 357
        }
      },
      "execution_count": 43,
      "outputs": [
        {
          "output_type": "display_data",
          "data": {
            "text/plain": [
              "<Figure size 432x288 with 1 Axes>"
            ],
            "image/png": "[encoded data removed]"
          },
          "metadata": {}
        }
      ]
    },
    {
      "cell_type": "code",
      "source": [
        "def mrg(var):\n",
        "  lst = list(socio_cols[var])\n",
        "  lst.append('label')\n",
        "  return socio[lst].groupby('label').sum()"
      ],
      "metadata": {
        "id": "jkr3WxeSaU98"
      },
      "execution_count": 44,
      "outputs": []
    },
    {
      "cell_type": "code",
      "source": [
        "#GENDER\n",
        "pops = mrg('sex').sum(axis=1)\n",
        "perc = mrg('sex')['Sex_B01ID_1']/pops*100\n",
        "fig = plt.figure()\n",
        "ax = fig.add_axes([0,0,1,1])\n",
        "labels = perc.index\n",
        "var = perc\n",
        "ax.bar(labels,var)\n",
        "ax.set_title('MALE % per mobility label')\n",
        "plt.show()"
      ],
      "metadata": {
        "id": "wY3oOh9qVjb2",
        "outputId": "e21fd4f9-a884-4919-89ea-400b04f414d3",
        "colab": {
          "base_uri": "https://localhost:8080/",
          "height": 357
        }
      },
      "execution_count": 45,
      "outputs": [
        {
          "output_type": "display_data",
          "data": {
            "text/plain": [
              "<Figure size 432x288 with 1 Axes>"
            ],
            "image/png": "[encoded data removed]"
          },
          "metadata": {}
        }
      ]
    },
    {
      "cell_type": "code",
      "source": [
        "#marital\n",
        "pops = mrg('marital').sum(axis=1)\n",
        "perc = mrg('marital')['married']/pops*100\n",
        "fig = plt.figure()\n",
        "ax = fig.add_axes([0,0,1,1])\n",
        "labels = perc.index\n",
        "var = perc\n",
        "ax.bar(labels,var)\n",
        "ax.set_title('Married % per mobility label')\n",
        "plt.show()"
      ],
      "metadata": {
        "id": "6Svt0_7ybBBn",
        "outputId": "e2ff3a74-5083-469a-abf4-0c9e9c21dfd8",
        "colab": {
          "base_uri": "https://localhost:8080/",
          "height": 357
        }
      },
      "execution_count": 46,
      "outputs": [
        {
          "output_type": "display_data",
          "data": {
            "text/plain": [
              "<Figure size 432x288 with 1 Axes>"
            ],
            "image/png": "[encoded data removed]"
          },
          "metadata": {}
        }
      ]
    },
    {
      "cell_type": "code",
      "source": [
        "#urban rural\n",
        "pops = mrg('urban_rural').sum(axis=1)\n",
        "perc = mrg('urban_rural')['Settlement2011EW_B03ID_1']/pops*100\n",
        "fig = plt.figure()\n",
        "ax = fig.add_axes([0,0,1,1])\n",
        "labels = perc.index\n",
        "var = perc\n",
        "ax.bar(labels,var)\n",
        "ax.set_title('Urban % per mobility label')\n",
        "plt.show()"
      ],
      "metadata": {
        "id": "7fJCfZs8lmlA",
        "outputId": "59a8299a-5b4a-4652-f231-3b1cfa97baac",
        "colab": {
          "base_uri": "https://localhost:8080/",
          "height": 357
        }
      },
      "execution_count": 47,
      "outputs": [
        {
          "output_type": "display_data",
          "data": {
            "text/plain": [
              "<Figure size 432x288 with 1 Axes>"
            ],
            "image/png": "[encoded data removed]"
          },
          "metadata": {}
        }
      ]
    },
    {
      "cell_type": "code",
      "source": [
        "mrg('region')['PSUStatsReg_B01ID_1']/pops*100"
      ],
      "metadata": {
        "colab": {
          "base_uri": "https://localhost:8080/"
        },
        "id": "JwtlOFjaKhge",
        "outputId": "8ec07839-2923-40d4-fc29-0a1cbd7de8f0"
      },
      "execution_count": 56,
      "outputs": [
        {
          "output_type": "execute_result",
          "data": {
            "text/plain": [
              "label\n",
              "0    1.927195\n",
              "1    1.290323\n",
              "2    1.000000\n",
              "3    4.067797\n",
              "4    0.788955\n",
              "5    0.523560\n",
              "6    1.255230\n",
              "dtype: float64"
            ]
          },
          "metadata": {},
          "execution_count": 56
        }
      ]
    },
    {
      "cell_type": "code",
      "source": [
        "#region\n",
        "pops = mrg('region').sum(axis=1)\n",
        "r1 = mrg('region')['PSUStatsReg_B01ID_1']/pops*100\n",
        "r2 = mrg('region')['PSUStatsReg_B01ID_2']/pops*100\n",
        "r3 = mrg('region')['PSUStatsReg_B01ID_3']/pops*100\n",
        "r4 = mrg('region')['PSUStatsReg_B01ID_4']/pops*100\n",
        "r5 = mrg('region')['PSUStatsReg_B01ID_5']/pops*100\n",
        "r6 = mrg('region')['PSUStatsReg_B01ID_6']/pops*100\n",
        "r7 = mrg('region')['PSUStatsReg_B01ID_7']/pops*100\n",
        "r8 = mrg('region')['PSUStatsReg_B01ID_8']/pops*100\n",
        "r9 = mrg('region')['PSUStatsReg_B01ID_9']/pops*100\n",
        "r10 = mrg('region')['PSUStatsReg_B01ID_10']/pops*100\n",
        "r11 = mrg('region')['PSUStatsReg_B01ID_11']/pops*100\n",
        "r12 = mrg('region')['PSUStatsReg_B01ID_12']/pops*100\n",
        "r13 = mrg('region')['PSUStatsReg_B01ID_13']/pops*100\n",
        "\n",
        "\n",
        "fig = plt.figure()\n",
        "ax = fig.add_axes([0,0,1,1])\n",
        "labels = r1.index\n",
        "\n",
        "\n",
        "ax.bar(labels, r1, color='b')\n",
        "ax.bar(labels, r2,bottom=r1, color='g')\n",
        "ax.bar(labels, r3,bottom=r1+r2, color='r')\n",
        "ax.bar(labels, r4,bottom=r1+r2+r3, color='c')\n",
        "ax.bar(labels, r5,bottom=r1+r2+r3+r4, color='m')\n",
        "ax.bar(labels, r6,bottom=r1+r2+r3+r4+r5, color='y')\n",
        "ax.bar(labels, r7,bottom=r1+r2+r3+r4+r5+r6, color='k')\n",
        "ax.bar(labels, r8,bottom=r1+r2++r3+r4+r5+r6+r7, color='w')\n",
        "ax.bar(labels, r9,bottom=r1+r2+r3+r4+r5+r6+r7+r8, color='violet')\n",
        "ax.bar(labels, r10,bottom=r1+r2+r3+r4+r5+r6+r7+r8+r9, color='lightgreen')\n",
        "ax.bar(labels, r11,bottom=r1+r2+r3+r4+r5+r6+r7+r8+r9+r10, color='peru')\n",
        "ax.bar(labels, r12,bottom=r1+r2+r3+r4+r5+r6+r7+r8+r9+r10+r11, color='orange')\n",
        "ax.bar(labels, r13,bottom=r1+r2+r3+r4+r5+r6+r7+r8+r9+r10+r11+r12, color='silver')\n",
        "\n",
        "\n",
        "ax.set_ylabel('%')\n",
        "ax.set_title('Region')\n",
        "ax.legend(labels=['Northern, Metropolitan', 'Northern, Non-metropolitan',\\\n",
        "                  'Yorkshire / Humberside, Metropolitan','Yorkshire / Humberside, Non-metropolitan',\\\n",
        "                  'East Midlands','East Anglia','South East (no london)','London Boroughs',\\\n",
        "                  'South West','West Midlands, Metropolitan','West Midlands, Non-metropolitan',\\\n",
        "                  'North West, Metropolitan','North West, Non-metropolitan'],loc=(1.04, 0))\n",
        "plt.show()\n",
        "\n",
        "\n"
      ],
      "metadata": {
        "colab": {
          "base_uri": "https://localhost:8080/",
          "height": 357
        },
        "id": "_RzA0nmxKa3u",
        "outputId": "1f03a19f-54f3-4f13-8756-578b94271d02"
      },
      "execution_count": 62,
      "outputs": [
        {
          "output_type": "display_data",
          "data": {
            "text/plain": [
              "<Figure size 432x288 with 1 Axes>"
            ],
            "image/png": "[encoded data removed]"
          },
          "metadata": {}
        }
      ]
    },
    {
      "cell_type": "code",
      "source": [
        "#work\n",
        "pops = mrg('work').sum(axis=1)\n",
        "full = mrg('work')['fulltime']/pops*100\n",
        "part = mrg('work')['parttime']/pops*100\n",
        "nowork = mrg('work')['not_working']/pops*100\n",
        "\n",
        "fig = plt.figure()\n",
        "ax = fig.add_axes([0,0,1,1])\n",
        "labels = full.index\n",
        "\n",
        "\n",
        "ax.bar(labels, full, color='b')\n",
        "ax.bar(labels, part,bottom=full, color='g')\n",
        "ax.bar(labels, nowork,bottom=part+full, color='r')\n",
        "\n",
        "ax.set_ylabel('%')\n",
        "ax.set_title('Employment status')\n",
        "ax.legend(labels=['FULL TIME%', 'PART TIME %', 'NOT WORKING'])\n",
        "plt.show()"
      ],
      "metadata": {
        "id": "hcxTzGWxbRis",
        "outputId": "62f826fc-ef50-46ea-b60c-2921d07e84e9",
        "colab": {
          "base_uri": "https://localhost:8080/",
          "height": 357
        }
      },
      "execution_count": 63,
      "outputs": [
        {
          "output_type": "display_data",
          "data": {
            "text/plain": [
              "<Figure size 432x288 with 1 Axes>"
            ],
            "image/png": "[encoded data removed]"
          },
          "metadata": {}
        }
      ]
    },
    {
      "cell_type": "code",
      "source": [
        "#household structure\n",
        "pops = mrg('hh_struc').sum(axis=1)\n",
        "single = mrg('hh_struc')['HHoldStruct_B02ID_1']/pops*100\n",
        "two_adult = mrg('hh_struc')['HHoldStruct_B02ID_2']/pops*100\n",
        "three_adult = mrg('hh_struc')['HHoldStruct_B02ID_3']/pops*100\n",
        "single_parent_child = mrg('hh_struc')['HHoldStruct_B02ID_4']/pops*100\n",
        "two_parents_child = mrg('hh_struc')['HHoldStruct_B02ID_5']/pops*100\n",
        "three_adults_child = mrg('hh_struc')['HHoldStruct_B02ID_6']/pops*100\n",
        "\n",
        "fig = plt.figure()\n",
        "ax = fig.add_axes([0,0,1,1])\n",
        "labels = full.index\n",
        "\n",
        "\n",
        "ax.bar(labels, single, color='b')\n",
        "ax.bar(labels, two_adult,bottom=single, color='g')\n",
        "ax.bar(labels, three_adult,bottom=two_adult+single, color='r')\n",
        "ax.bar(labels, single_parent_child,bottom=two_adult+single+three_adult, color='orange')\n",
        "ax.bar(labels, two_parents_child,bottom=two_adult+single+three_adult+\\\n",
        "       single_parent_child, color='cyan')\n",
        "ax.bar(labels, three_adults_child,bottom=two_adult+single+\\\n",
        "       three_adult+single_parent_child+two_parents_child, color='y')\n",
        "\n",
        "ax.set_ylabel('%')\n",
        "ax.set_title('Household Structure')\n",
        "\n",
        "ax.legend(labels=['Single adult%', '2 adults %', '3 adults or more',\\\n",
        "                  'Single parent family','2 adults, 1 child or more',\\\n",
        "                  '3 adults or more, 1 child or more'],loc=(1.04, 0))\n",
        "plt.show()"
      ],
      "metadata": {
        "id": "HWGplZlclFuJ",
        "outputId": "6b7871dc-a356-4d68-c048-915ecc56ca50",
        "colab": {
          "base_uri": "https://localhost:8080/",
          "height": 357
        }
      },
      "execution_count": 66,
      "outputs": [
        {
          "output_type": "display_data",
          "data": {
            "text/plain": [
              "<Figure size 432x288 with 1 Axes>"
            ],
            "image/png": "[encoded data removed]"
          },
          "metadata": {}
        }
      ]
    },
    {
      "cell_type": "code",
      "source": [
        "#social class \n",
        "pops = mrg('hh_socialclass').sum(axis=1)\n",
        "single = mrg('hh_socialclass')['HRPSEGWorkStat_B01ID_1']/pops*100\n",
        "two_adult = mrg('hh_socialclass')['HRPSEGWorkStat_B01ID_2']/pops*100\n",
        "three_adult = mrg('hh_socialclass')['HRPSEGWorkStat_B01ID_3']/pops*100\n",
        "single_parent_child = mrg('hh_socialclass')['HRPSEGWorkStat_B01ID_4']/pops*100\n",
        "two_parents_child = mrg('hh_socialclass')['HRPSEGWorkStat_B01ID_5']/pops*100\n",
        "three_adults_child = mrg('hh_socialclass')['HRPSEGWorkStat_B01ID_6']/pops*100\n",
        "\n",
        "fig = plt.figure()\n",
        "ax = fig.add_axes([0,0,1,1])\n",
        "labels = full.index\n",
        "\n",
        "\n",
        "ax.bar(labels, single, color='b')\n",
        "ax.bar(labels, two_adult,bottom=single, color='g')\n",
        "ax.bar(labels, three_adult,bottom=two_adult+single, color='r')\n",
        "ax.bar(labels, single_parent_child,bottom=two_adult+single+three_adult, color='orange')\n",
        "ax.bar(labels, two_parents_child,bottom=two_adult+single+three_adult+\\\n",
        "       single_parent_child, color='cyan')\n",
        "ax.bar(labels, three_adults_child,bottom=two_adult+single+\\\n",
        "       three_adult+single_parent_child+two_parents_child, color='y')\n",
        "\n",
        "ax.set_ylabel('%')\n",
        "ax.set_title('Socio Economic Group')\n",
        "\n",
        "ax.legend(labels=['Professional / managerial%', 'Clerical %', 'Skilled manual',\\\n",
        "                  'Other manual and other / missing SEGs','Retired / permanently sick',\\\n",
        "                  'Other economically inactive'],loc=(1.04, 0))\n",
        "plt.show()"
      ],
      "metadata": {
        "id": "OagMxHIMbFk_",
        "outputId": "5d748d38-4a56-47ff-92b0-983e44e6d9f0",
        "colab": {
          "base_uri": "https://localhost:8080/",
          "height": 357
        }
      },
      "execution_count": 65,
      "outputs": [
        {
          "output_type": "display_data",
          "data": {
            "text/plain": [
              "<Figure size 432x288 with 1 Axes>"
            ],
            "image/png": "[encoded data removed]"
          },
          "metadata": {}
        }
      ]
    },
    {
      "cell_type": "code",
      "source": [
        "socio.columns"
      ],
      "metadata": {
        "id": "E4QEAn7tQqQS",
        "outputId": "f3f38aa0-77e8-44ea-b9e0-bfbf3e85904d",
        "colab": {
          "base_uri": "https://localhost:8080/"
        }
      },
      "execution_count": null,
      "outputs": [
        {
          "output_type": "execute_result",
          "data": {
            "text/plain": [
              "Index(['Age_B04ID_4', 'Age_B04ID_5', 'Age_B04ID_6', 'Age_B04ID_7',\n",
              "       'Age_B04ID_8', 'Age_B04ID_9', 'Sex_B01ID_1', 'Sex_B01ID_2', 'married',\n",
              "       'not_married', 'IndIncome2002_B02ID_1', 'IndIncome2002_B02ID_2',\n",
              "       'IndIncome2002_B02ID_3', 'fulltime', 'parttime', 'not_working',\n",
              "       'HHIncome2002_B02ID_1', 'HHIncome2002_B02ID_2', 'HHIncome2002_B02ID_3',\n",
              "       'HHoldStruct_B02ID_1', 'HHoldStruct_B02ID_2', 'HHoldStruct_B02ID_3',\n",
              "       'HHoldStruct_B02ID_4', 'HHoldStruct_B02ID_5', 'HHoldStruct_B02ID_6',\n",
              "       'hh_fulltime', 'hh_parttime', 'hh_not_working',\n",
              "       'HRPSEGWorkStat_B01ID_1', 'HRPSEGWorkStat_B01ID_2',\n",
              "       'HRPSEGWorkStat_B01ID_3', 'HRPSEGWorkStat_B01ID_4',\n",
              "       'HRPSEGWorkStat_B01ID_5', 'HRPSEGWorkStat_B01ID_6',\n",
              "       'Settlement2011EW_B03ID_1', 'Settlement2011EW_B03ID_2', 'label', 'AGE',\n",
              "       'INCOME'],\n",
              "      dtype='object')"
            ]
          },
          "metadata": {},
          "execution_count": 150
        }
      ]
    },
    {
      "cell_type": "code",
      "source": [
        "NTS_dummy['labels'] = pc_df['label']\n",
        "NTS_dummy.to_csv('/content/drive/MyDrive/socio_pred/UKDA-5340-tab/NTS_v3.csv')\n"
      ],
      "metadata": {
        "id": "F9q4Dm9Z3gSX"
      },
      "execution_count": 67,
      "outputs": []
    },
    {
      "cell_type": "code",
      "source": [
        "#mobility.corr().style.background_gradient(cmap='coolwarm')"
      ],
      "metadata": {
        "id": "eoNrncUmlXo8"
      },
      "execution_count": null,
      "outputs": []
    }
  ]
}