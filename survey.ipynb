{
  "nbformat": 4,
  "nbformat_minor": 0,
  "metadata": {
    "colab": {
      "name": "survey.ipynb",
      "provenance": [],
      "collapsed_sections": [],
      "mount_file_id": "1kv-DaWpueFkWui7i0F0YU8sQXnRyDW-a",
      "authorship_tag": "ABX9TyPVa/TxPm4896c6l3wlJEuV"
    },
    "kernelspec": {
      "name": "python3",
      "display_name": "Python 3"
    },
    "language_info": {
      "name": "python"
    }
  },
  "cells": [
    {
      "cell_type": "code",
      "execution_count": 127,
      "metadata": {
        "id": "wmfCrPaD2PNy"
      },
      "outputs": [],
      "source": [
        "import pandas as pd"
      ]
    },
    {
      "cell_type": "code",
      "source": [
        "def read_tab(var):\n",
        "  dir = f'/content/drive/MyDrive/socio_pred/UKDA-5340-tab/tab/{var}_eul_2002-2020.tab'\n",
        "  df = pd.read_csv(dir,sep='\\t')\n",
        "  #select surveys after 2018\n",
        "  if 'SurveyYear' in df.columns:\n",
        "    df = df[df['SurveyYear']>2018]\n",
        "  return df"
      ],
      "metadata": {
        "id": "ZH4ceBL02k_P"
      },
      "execution_count": 128,
      "outputs": []
    },
    {
      "cell_type": "code",
      "source": [
        "#indev = read_tab('indev')\n",
        "#stage = read_tab('stage')"
      ],
      "metadata": {
        "id": "zCPty9i28dgN"
      },
      "execution_count": null,
      "outputs": []
    },
    {
      "cell_type": "code",
      "source": [
        "#select the relevant vars\n",
        "#PSU\n",
        "psu = read_tab('psu')\n",
        "psu = psu[['PSUID','SurveyYear','PSUStatsReg_B01ID']]"
      ],
      "metadata": {
        "id": "XMBWbDVexCA2"
      },
      "execution_count": 129,
      "outputs": []
    },
    {
      "cell_type": "code",
      "source": [
        "#Trip\n",
        "trip = read_tab('trip')\n",
        "\n",
        "cols_trip = ['TripID','DayID','IndividualID','HouseholdID','PSUID',\\\n",
        "             'SeriesCall_B01ID','ShortWalkTrip_B01ID','NumStages_B01ID',\\\n",
        "             'MainMode_B04ID','TripPurpose_B04ID','TripStart_B01ID',\\\n",
        "             'TripStart_B02ID','TripEnd_B01ID','TripEnd_B02ID',\\\n",
        "             'TripDisIncSW_B01ID','TripDisExSW_B01ID','TripTotalTime_B01ID',\\\n",
        "             'TripTravTime_B01ID','TripOrigGOR_B02ID','TripDestGOR_B02ID']\n",
        "\n",
        "trip = trip[cols_trip]  \n",
        "trip.shape"
      ],
      "metadata": {
        "colab": {
          "base_uri": "https://localhost:8080/"
        },
        "id": "Oc1U5GumMcq1",
        "outputId": "3bc60045-96f8-4633-99cb-cfc1849386ef"
      },
      "execution_count": 130,
      "outputs": [
        {
          "output_type": "stream",
          "name": "stderr",
          "text": [
            "/usr/local/lib/python3.7/dist-packages/ipykernel_launcher.py:2: DtypeWarning: Columns (37,40,43,45,46) have mixed types.Specify dtype option on import or set low_memory=False.\n",
            "  \n"
          ]
        },
        {
          "output_type": "execute_result",
          "data": {
            "text/plain": [
              "(277460, 20)"
            ]
          },
          "metadata": {},
          "execution_count": 130
        }
      ]
    },
    {
      "cell_type": "code",
      "source": [
        "#filter trips\n",
        "# no shortwalk trips \n",
        "trip = trip[trip['ShortWalkTrip_B01ID']==2]"
      ],
      "metadata": {
        "id": "r2KN8EhuNlYb"
      },
      "execution_count": 131,
      "outputs": []
    },
    {
      "cell_type": "code",
      "source": [
        "#Household\n",
        "household = read_tab('household')\n",
        "\n",
        "cols_houshold = ['HouseholdID','PSUID','TWSDay','TWSMonth','TWSYear',\\\n",
        "                 'TWSMonth_B01ID','TWSWeekday_B01ID','TWEMonth_B01ID',\\\n",
        "                 'TWEWeekday_B01ID','HHIncome2002_B02ID','Ten1_B02ID',\\\n",
        "                 'HHoldGOR_B02ID','HHoldStruct_B02ID','HRPWorkStat_B02ID',\\\n",
        "                 'HRPEmpStat_B01ID','HRPSEGWorkStat_B01ID','HHoldEmploy_B01ID',\n",
        "                 'WalkBus_B01ID','WalkRail_B01ID','BusRail_B01ID','Settlement2011EW_B03ID',\\\n",
        "                 'HHoldOAClass2011_B03ID','HHIncQDS2020Eng_B01ID','HHIncQIS2020Eng_B01ID']\n",
        "household = household[cols_houshold]\n",
        "household.shape"
      ],
      "metadata": {
        "colab": {
          "base_uri": "https://localhost:8080/"
        },
        "id": "rVgRMGWR7KGD",
        "outputId": "3db8d36b-6b80-4505-8bac-e2dd20d3604a"
      },
      "execution_count": 132,
      "outputs": [
        {
          "output_type": "stream",
          "name": "stderr",
          "text": [
            "/usr/local/lib/python3.7/dist-packages/ipykernel_launcher.py:2: DtypeWarning: Columns (17,34,35,36,37,39,44,49,50,89) have mixed types.Specify dtype option on import or set low_memory=False.\n",
            "  \n"
          ]
        },
        {
          "output_type": "execute_result",
          "data": {
            "text/plain": [
              "(9839, 24)"
            ]
          },
          "metadata": {},
          "execution_count": 132
        }
      ]
    },
    {
      "cell_type": "code",
      "source": [
        "# household filters:\n",
        "# exclude 'DEAD' rows\n",
        "household = household[household['TWSMonth_B01ID']>0]\n",
        "#Nov, Dec 2019, Jan and Feb 2020\n",
        "household=household[((household['TWSMonth_B01ID'] <3) & (household['TWSYear']==2020))\\\n",
        "          | ((household['TWSMonth_B01ID'] >10) & (household['TWSYear']==2019))]\n",
        "\n",
        "household.shape"
      ],
      "metadata": {
        "colab": {
          "base_uri": "https://localhost:8080/"
        },
        "id": "sA2Mu7-n5jqC",
        "outputId": "3a0b6129-d0e7-4b74-a4d7-def97a5ab5a9"
      },
      "execution_count": 133,
      "outputs": [
        {
          "output_type": "execute_result",
          "data": {
            "text/plain": [
              "(2192, 24)"
            ]
          },
          "metadata": {},
          "execution_count": 133
        }
      ]
    },
    {
      "cell_type": "code",
      "source": [
        "#trip filter\n",
        "# is from selected hh \n",
        "trip = trip[trip['HouseholdID'].isin(household['HouseholdID'])]\n",
        "trip.shape\n",
        "\n",
        "#filter hou"
      ],
      "metadata": {
        "colab": {
          "base_uri": "https://localhost:8080/"
        },
        "id": "87JMY7ZoTmkN",
        "outputId": "d2913e89-f743-43f2-fcc8-ea8c9100b4eb"
      },
      "execution_count": 134,
      "outputs": [
        {
          "output_type": "execute_result",
          "data": {
            "text/plain": [
              "(66252, 20)"
            ]
          },
          "metadata": {},
          "execution_count": 134
        }
      ]
    },
    {
      "cell_type": "code",
      "source": [
        "#Individual\n",
        "individual = read_tab('individual')\n",
        "\n",
        "cols_ind = ['IndividualID','HouseholdID','PSUID','VehicleID','Age_B04ID',\n",
        " 'Sex_B01ID','MarStat_B01ID','EthGroupTS_B02ID','EdAttn3_B01ID',\n",
        " 'CarAccess_B01ID','DrivLic_B02ID','IndIncome2002_B02ID',\\\n",
        " 'WkPlace_B01ID','EcoStat_B02ID','SC_B01ID','OftHome_B01ID','BusOut_B01ID',\\\n",
        " 'Educ_B01ID','WkMuch_B01ID','OwnPhone_B01ID']\n",
        "individual = individual[cols_ind]\n",
        "\n",
        "individual.shape"
      ],
      "metadata": {
        "colab": {
          "base_uri": "https://localhost:8080/"
        },
        "id": "N3qZLOHf8GV-",
        "outputId": "9ba0b55d-66e0-4bfd-c06a-8ff2e2c291ff"
      },
      "execution_count": 135,
      "outputs": [
        {
          "output_type": "stream",
          "name": "stderr",
          "text": [
            "/usr/local/lib/python3.7/dist-packages/ipykernel_launcher.py:2: DtypeWarning: Columns (57) have mixed types.Specify dtype option on import or set low_memory=False.\n",
            "  \n"
          ]
        },
        {
          "output_type": "execute_result",
          "data": {
            "text/plain": [
              "(22767, 20)"
            ]
          },
          "metadata": {},
          "execution_count": 135
        }
      ]
    },
    {
      "cell_type": "code",
      "source": [
        "#individual filters\n",
        "# is from selected hh \n",
        "individual = individual[individual['HouseholdID'].isin(household['HouseholdID'])]\n",
        "individual.shape"
      ],
      "metadata": {
        "colab": {
          "base_uri": "https://localhost:8080/"
        },
        "id": "fpAFM0NEE5yD",
        "outputId": "0741c15c-ee66-4d92-b9c6-a366399fae33"
      },
      "execution_count": 136,
      "outputs": [
        {
          "output_type": "execute_result",
          "data": {
            "text/plain": [
              "(5240, 20)"
            ]
          },
          "metadata": {},
          "execution_count": 136
        }
      ]
    },
    {
      "cell_type": "code",
      "source": [
        "#Vehicle\n",
        "vehicle = read_tab('vehicle')\n",
        "\n",
        "cols_veh = ['VehicleID','HouseholdID'\t,'PSUID'\t,'IndividualID','VehNo',\\\n",
        "            'VehAvail_B01ID','VehComMile_B01ID','VehBusMile_B01ID',\\\n",
        "             'VehPriMile_B01ID']\n",
        "vehicle = vehicle[cols_veh]\n",
        "\n",
        "# is from selected hh \n",
        "\n",
        "vehicle = vehicle[vehicle['HouseholdID'].isin(household['HouseholdID'])]\n",
        "\n",
        "#Day\n",
        "day = read_tab('day')\n",
        "\n",
        "cols_day = ['DayID','IndividualID','HouseholdID','PSUID','TravelWeekDay_B01ID',\\\n",
        "            'TravelWeekDay_B02ID','TravelWeekDay_B03ID','TravelDayType_B01ID']\n",
        "day = day[cols_day]\n",
        "# is from selected hh \n",
        "day = day[day['HouseholdID'].isin(household['HouseholdID'])]\n",
        "day.shape"
      ],
      "metadata": {
        "id": "rja4D7_hHMC_",
        "colab": {
          "base_uri": "https://localhost:8080/"
        },
        "outputId": "54a4476f-48d8-4fe7-f4e9-e9a5600d671b"
      },
      "execution_count": 137,
      "outputs": [
        {
          "output_type": "execute_result",
          "data": {
            "text/plain": [
              "(32949, 8)"
            ]
          },
          "metadata": {},
          "execution_count": 137
        }
      ]
    },
    {
      "cell_type": "code",
      "source": [
        "#merge with day \n",
        "trip_day = trip.merge(day, left_on='DayID', right_on='DayID', how='inner',suffixes=('', '_y'))\n",
        "\n",
        "trip_day.drop(trip_day.filter(regex='_y$').columns, axis=1, inplace=True)\n",
        "\n",
        "#merge with individual\n",
        "trip_day_ind = trip_day.merge(individual, left_on='IndividualID', right_on='IndividualID', how='inner',suffixes=('', '_y'))\n",
        "\n",
        "trip_day_ind.drop(trip_day_ind.filter(regex='_y$').columns, axis=1, inplace=True)\n",
        "#merge with hh\n",
        "trip_day_ind_hh = trip_day_ind.merge(household, left_on='HouseholdID', right_on='HouseholdID', how='inner',suffixes=('', '_y'))\n",
        "\n",
        "trip_day_ind_hh.drop(trip_day_ind_hh.filter(regex='_y$').columns, axis=1, inplace=True)\n",
        "#merge with PSU\n",
        "trip_day_ind_hh_psu = trip_day_ind_hh.merge(psu, left_on='PSUID', right_on='PSUID', how='inner',suffixes=('', '_y'))\n",
        "\n",
        "trip_day_ind_hh_psu.drop(trip_day_ind_hh_psu.filter(regex='_y$').columns, axis=1, inplace=True)\n",
        "#merge with vehicle\n",
        "all_tabs = trip_day_ind_hh_psu.merge(vehicle, left_on='VehicleID', right_on='VehicleID', how='inner',suffixes=('', '_y'))\n",
        "\n",
        "all_tabs.drop(all_tabs.filter(regex='_y$').columns, axis=1, inplace=True)\n",
        "\n",
        "#drop irrelivant columns\n",
        "#to keep things simple, only some of the vars are kept\n",
        "all_tabs.drop(columns=['DayID','ShortWalkTrip_B01ID','HouseholdID','PSUID',\\\n",
        "                       'SeriesCall_B01ID','MainMode_B04ID','TripPurpose_B04ID',\\\n",
        "                       'TripStart_B02ID','TripEnd_B02ID','TripOrigGOR_B02ID',\\\n",
        "                       'TripDestGOR_B02ID','TravelWeekDay_B02ID','TravelDayType_B01ID',\\\n",
        "                       'VehicleID','TWEWeekday_B01ID','TWSDay', 'TWSMonth',\\\n",
        "                       'TWSYear','TWSWeekday_B01ID','HHoldGOR_B02ID',\n",
        "                       'WalkBus_B01ID', 'WalkRail_B01ID','BusRail_B01ID',\\\n",
        "                       'VehNo', 'VehComMile_B01ID','VehBusMile_B01ID',\\\n",
        "                       'VehPriMile_B01ID','NumStages_B01ID'],inplace=True)"
      ],
      "metadata": {
        "id": "VQSfXMd7QQ-l"
      },
      "execution_count": 138,
      "outputs": []
    },
    {
      "cell_type": "code",
      "source": [
        "all_tabs.columns"
      ],
      "metadata": {
        "colab": {
          "base_uri": "https://localhost:8080/"
        },
        "id": "TrAM-H9isM79",
        "outputId": "16ef5c16-80a9-43ef-9198-4ada4a9a3fc9"
      },
      "execution_count": 139,
      "outputs": [
        {
          "output_type": "execute_result",
          "data": {
            "text/plain": [
              "Index(['TripID', 'IndividualID', 'TripStart_B01ID', 'TripEnd_B01ID',\n",
              "       'TripDisIncSW_B01ID', 'TripDisExSW_B01ID', 'TripTotalTime_B01ID',\n",
              "       'TripTravTime_B01ID', 'TravelWeekDay_B01ID', 'TravelWeekDay_B03ID',\n",
              "       'Age_B04ID', 'Sex_B01ID', 'MarStat_B01ID', 'EthGroupTS_B02ID',\n",
              "       'EdAttn3_B01ID', 'CarAccess_B01ID', 'DrivLic_B02ID',\n",
              "       'IndIncome2002_B02ID', 'WkPlace_B01ID', 'EcoStat_B02ID', 'SC_B01ID',\n",
              "       'OftHome_B01ID', 'BusOut_B01ID', 'Educ_B01ID', 'WkMuch_B01ID',\n",
              "       'OwnPhone_B01ID', 'TWSMonth_B01ID', 'TWEMonth_B01ID',\n",
              "       'HHIncome2002_B02ID', 'Ten1_B02ID', 'HHoldStruct_B02ID',\n",
              "       'HRPWorkStat_B02ID', 'HRPEmpStat_B01ID', 'HRPSEGWorkStat_B01ID',\n",
              "       'HHoldEmploy_B01ID', 'Settlement2011EW_B03ID', 'HHoldOAClass2011_B03ID',\n",
              "       'HHIncQDS2020Eng_B01ID', 'HHIncQIS2020Eng_B01ID', 'SurveyYear',\n",
              "       'PSUStatsReg_B01ID', 'VehAvail_B01ID'],\n",
              "      dtype='object')"
            ]
          },
          "metadata": {},
          "execution_count": 139
        }
      ]
    },
    {
      "cell_type": "markdown",
      "source": [
        "Dealing with Missing values"
      ],
      "metadata": {
        "id": "oNrQVqW21OgU"
      }
    },
    {
      "cell_type": "code",
      "source": [
        "#columns with negative values(missing in NTS data)\n",
        "missing_cols = all_tabs[all_tabs<=0].any()[all_tabs[all_tabs<=0].any()==True].index\n",
        "missing_cols"
      ],
      "metadata": {
        "colab": {
          "base_uri": "https://localhost:8080/"
        },
        "id": "f2sLXgWlxcX8",
        "outputId": "a011bca8-2af4-4526-d86a-3ed1ea852229"
      },
      "execution_count": 140,
      "outputs": [
        {
          "output_type": "execute_result",
          "data": {
            "text/plain": [
              "Index(['TripStart_B01ID', 'TripEnd_B01ID', 'EdAttn3_B01ID', 'WkPlace_B01ID',\n",
              "       'EcoStat_B02ID', 'SC_B01ID', 'OftHome_B01ID', 'BusOut_B01ID',\n",
              "       'Educ_B01ID', 'WkMuch_B01ID', 'OwnPhone_B01ID', 'Ten1_B02ID',\n",
              "       'HHoldStruct_B02ID', 'HRPWorkStat_B02ID', 'HRPEmpStat_B01ID',\n",
              "       'HHoldOAClass2011_B03ID', 'HHIncQDS2020Eng_B01ID',\n",
              "       'HHIncQIS2020Eng_B01ID'],\n",
              "      dtype='object')"
            ]
          },
          "metadata": {},
          "execution_count": 140
        }
      ]
    },
    {
      "cell_type": "code",
      "source": [
        "for c in missing_cols:\n",
        "  print(all_tabs[c].value_counts())"
      ],
      "metadata": {
        "colab": {
          "base_uri": "https://localhost:8080/"
        },
        "id": "1QIu_jHj2io0",
        "outputId": "f18077eb-8ca3-4090-e45c-ccfe7b8d22e7"
      },
      "execution_count": 141,
      "outputs": [
        {
          "output_type": "stream",
          "name": "stdout",
          "text": [
            " 16    3873\n",
            " 9     3804\n",
            " 17    3644\n",
            " 18    3470\n",
            " 12    3421\n",
            " 13    3328\n",
            " 11    3295\n",
            " 15    3224\n",
            " 14    2863\n",
            " 10    2744\n",
            " 19    2568\n",
            " 8     2476\n",
            " 20    1740\n",
            " 21    1043\n",
            " 7      935\n",
            " 22     766\n",
            "-8      674\n",
            " 23     561\n",
            " 6      358\n",
            " 24     327\n",
            " 5       96\n",
            " 1       80\n",
            " 2       37\n",
            " 3       24\n",
            " 4       12\n",
            "Name: TripStart_B01ID, dtype: int64\n",
            " 9     3937\n",
            " 16    3846\n",
            " 18    3546\n",
            " 13    3364\n",
            " 17    3358\n",
            " 12    3320\n",
            " 11    3266\n",
            " 15    3117\n",
            " 19    2989\n",
            " 10    2965\n",
            " 14    2896\n",
            " 20    2214\n",
            " 8     1709\n",
            " 21    1210\n",
            " 22     819\n",
            "-8      747\n",
            " 23     614\n",
            " 7      573\n",
            " 24     398\n",
            " 6      215\n",
            " 1      125\n",
            " 2       50\n",
            " 5       48\n",
            " 3       19\n",
            " 4       18\n",
            "Name: TripEnd_B01ID, dtype: int64\n",
            "-9    45363\n",
            "Name: EdAttn3_B01ID, dtype: int64\n",
            " 1    22676\n",
            "-9    13808\n",
            " 3     4881\n",
            " 2     2262\n",
            " 4     1724\n",
            "-8       12\n",
            "Name: WkPlace_B01ID, dtype: int64\n",
            " 1    23868\n",
            " 4    11026\n",
            " 2     7687\n",
            " 6     2169\n",
            " 5      407\n",
            " 3      201\n",
            "-9        5\n",
            "Name: EcoStat_B02ID, dtype: int64\n",
            " 2    18729\n",
            " 3     8426\n",
            " 4     6516\n",
            " 5     5494\n",
            " 1     3262\n",
            "-8     1117\n",
            "-9     1050\n",
            " 6      710\n",
            " 7       59\n",
            "Name: SC_B01ID, dtype: int64\n",
            " 7    21506\n",
            "-9    15544\n",
            " 2     2836\n",
            " 4     1620\n",
            " 1     1193\n",
            " 5      944\n",
            " 6      853\n",
            " 3      804\n",
            "-8       63\n",
            "Name: OftHome_B01ID, dtype: int64\n",
            "-9    43720\n",
            " 2     1501\n",
            " 1      142\n",
            "Name: BusOut_B01ID, dtype: int64\n",
            "-10    45363\n",
            "Name: Educ_B01ID, dtype: int64\n",
            "-9    39899\n",
            " 3     3335\n",
            " 2     1462\n",
            " 1      667\n",
            "Name: WkMuch_B01ID, dtype: int64\n",
            "-10    45363\n",
            "Name: OwnPhone_B01ID, dtype: int64\n",
            " 1    37796\n",
            " 2     7434\n",
            " 3      112\n",
            "-8       21\n",
            "Name: Ten1_B02ID, dtype: int64\n",
            " 2    16255\n",
            " 5    10861\n",
            " 3     7682\n",
            " 1     4629\n",
            " 6     4250\n",
            " 4     1102\n",
            "-8      584\n",
            "Name: HHoldStruct_B02ID, dtype: int64\n",
            " 1    25446\n",
            " 3    11602\n",
            " 2     6136\n",
            " 4     2174\n",
            "-9        5\n",
            "Name: HRPWorkStat_B02ID, dtype: int64\n",
            " 3    33190\n",
            " 1     6468\n",
            " 2     4835\n",
            " 4      794\n",
            "-8       76\n",
            "Name: HRPEmpStat_B01ID, dtype: int64\n",
            "-10    45363\n",
            "Name: HHoldOAClass2011_B03ID, dtype: int64\n",
            "-10    30601\n",
            " 5      3513\n",
            " 4      3156\n",
            " 3      3063\n",
            " 2      2872\n",
            " 1      2158\n",
            "Name: HHIncQDS2020Eng_B01ID, dtype: int64\n",
            "-10    30601\n",
            " 5      3513\n",
            " 4      3156\n",
            " 3      3063\n",
            " 2      2872\n",
            " 1      2158\n",
            "Name: HHIncQIS2020Eng_B01ID, dtype: int64\n"
          ]
        }
      ]
    },
    {
      "cell_type": "code",
      "source": [
        "#vars with many missing data\n",
        "miss_all = ['EdAttn3_B01ID','WkPlace_B01ID','OftHome_B01ID','BusOut_B01ID',\\\n",
        "            'Educ_B01ID','WkMuch_B01ID','HHoldOAClass2011_B03ID',\n",
        "            'HHIncQDS2020Eng_B01ID','HHIncQIS2020Eng_B01ID','OwnPhone_B01ID']\n",
        "\n",
        "all_tabs.drop(columns=miss_all,inplace=True)\n",
        "#vars with few missing data\n",
        "miss_few = ['TripStart_B01ID','TripEnd_B01ID','EcoStat_B02ID','SC_B01ID','Ten1_B02ID',\\\n",
        "            'HHoldStruct_B02ID',\n",
        "            'HRPWorkStat_B02ID','HRPEmpStat_B01ID']\n",
        "for c in miss_few:\n",
        "  all_tabs = all_tabs[all_tabs[c]>0]\n",
        "\n",
        "#remaining after deleting missing values\n",
        "all_tabs.shape\n"
      ],
      "metadata": {
        "colab": {
          "base_uri": "https://localhost:8080/"
        },
        "id": "_btDPTy72956",
        "outputId": "70386609-251e-48c1-e37e-c8cad60caac0"
      },
      "execution_count": 142,
      "outputs": [
        {
          "output_type": "execute_result",
          "data": {
            "text/plain": [
              "(41839, 32)"
            ]
          },
          "metadata": {},
          "execution_count": 142
        }
      ]
    },
    {
      "cell_type": "markdown",
      "source": [
        "Dealing with categorical vars"
      ],
      "metadata": {
        "id": "ZfUN6IFy91zn"
      }
    },
    {
      "cell_type": "code",
      "source": [
        "noncat_cols = ['TripID', 'IndividualID','SurveyYear']\n",
        "all_tabs_dummy = all_tabs \n",
        "for c in all_tabs.columns:\n",
        "  if c not in noncat_cols:\n",
        "    c_dummy = pd.get_dummies(all_tabs[c],prefix=c)\n",
        "    all_tabs_dummy = pd.concat([all_tabs_dummy,c_dummy], axis=1)\n",
        "    all_tabs_dummy.drop(columns = c,inplace=True)\n"
      ],
      "metadata": {
        "id": "clofuo8V91EB"
      },
      "execution_count": 143,
      "outputs": []
    },
    {
      "cell_type": "code",
      "source": [
        "#aggregate columns\n",
        "all_tabs_dummy.columns"
      ],
      "metadata": {
        "colab": {
          "base_uri": "https://localhost:8080/"
        },
        "id": "kz_gMHxfc5nD",
        "outputId": "9a9808c2-4f95-4d2e-9289-1c62267420f8"
      },
      "execution_count": 144,
      "outputs": [
        {
          "output_type": "execute_result",
          "data": {
            "text/plain": [
              "Index(['TripID', 'IndividualID', 'SurveyYear', 'TripStart_B01ID_1',\n",
              "       'TripStart_B01ID_2', 'TripStart_B01ID_3', 'TripStart_B01ID_4',\n",
              "       'TripStart_B01ID_5', 'TripStart_B01ID_6', 'TripStart_B01ID_7',\n",
              "       ...\n",
              "       'PSUStatsReg_B01ID_6', 'PSUStatsReg_B01ID_7', 'PSUStatsReg_B01ID_8',\n",
              "       'PSUStatsReg_B01ID_9', 'PSUStatsReg_B01ID_10', 'PSUStatsReg_B01ID_11',\n",
              "       'PSUStatsReg_B01ID_12', 'PSUStatsReg_B01ID_13', 'VehAvail_B01ID_1',\n",
              "       'VehAvail_B01ID_2'],\n",
              "      dtype='object', length=211)"
            ]
          },
          "metadata": {},
          "execution_count": 144
        }
      ]
    },
    {
      "cell_type": "code",
      "source": [
        "# definitions based on britannica\n",
        "# Night         9 pm to 4 am\n",
        "all_tabs_dummy['start_night'] = all_tabs_dummy.iloc[:,3:7].sum(axis=1)+\\\n",
        "all_tabs_dummy.iloc[:,24:27].sum(axis=1)\n",
        "#Evening     5 pm to 9 pm\n",
        "all_tabs_dummy['start_evening'] = all_tabs_dummy.iloc[:,20:24].sum(axis=1)\n",
        "#Afternoon     12 pm to 5 pm\n",
        "all_tabs_dummy['start_afternoon'] = all_tabs_dummy.iloc[:,15:20].sum(axis=1)\n",
        "#Morning     4 am to 12 pm\n",
        "all_tabs_dummy['start_morning'] = all_tabs_dummy.iloc[:,7:15].sum(axis=1)\n",
        "\n",
        "#trip ends\n",
        "# Night         9 pm to 4 am\n",
        "all_tabs_dummy['end_night'] = all_tabs_dummy.iloc[:,27:31].sum(axis=1)+\\\n",
        "all_tabs_dummy.iloc[:,48:51].sum(axis=1)\n",
        "#Evening     5 pm to 9 pm\n",
        "all_tabs_dummy['end_evening'] = all_tabs_dummy.iloc[:,44:48].sum(axis=1)\n",
        "#Afternoon     12 pm to 5 pm\n",
        "all_tabs_dummy['end_afternoon'] = all_tabs_dummy.iloc[:,39:44].sum(axis=1)\n",
        "#Morning     4 am to 12 pm\n",
        "all_tabs_dummy['end_morning'] = all_tabs_dummy.iloc[:,31:39].sum(axis=1)\n"
      ],
      "metadata": {
        "id": "Wv_I2gezejFi"
      },
      "execution_count": 145,
      "outputs": []
    },
    {
      "cell_type": "code",
      "source": [
        "#replace bands with band average\n",
        "#TripDisIncSW\n",
        "tmp_df = pd.DataFrame()\n",
        "tmp_df['dist_band'] = all_tabs_dummy.iloc[:,51:63].idxmax(axis=1)\n",
        "\n",
        "distInc = {'TripDisIncSW_B01ID_1':\t0.5, #miles\n",
        "'TripDisIncSW_B01ID_2':\t1.5,\n",
        "'TripDisIncSW_B01ID_3':\t2.5,\n",
        "'TripDisIncSW_B01ID_4':\t4,\n",
        "'TripDisIncSW_B01ID_5':\t7.5,\n",
        "'TripDisIncSW_B01ID_6':\t12.5,\n",
        "'TripDisIncSW_B01ID_7':\t20,\n",
        "'TripDisIncSW_B01ID_8':\t30,\n",
        "'TripDisIncSW_B01ID_9':\t42.5,\n",
        "'TripDisIncSW_B01ID_10':\t75,\n",
        "'TripDisIncSW_B01ID_11':\t150,\n",
        "'TripDisIncSW_B01ID_12':\t250}\n",
        "for n in distInc.keys():\n",
        "  all_tabs_dummy.loc[tmp_df[\"dist_band\"] == n, \"distance\"] = distInc[n]\n",
        "#replace bands with band average\n",
        "#TripDisExSW_B01ID\n",
        "\n",
        "tmp_df = pd.DataFrame()\n",
        "tmp_df['dist_band'] = all_tabs_dummy.iloc[:,63:75].idxmax(axis=1)\n",
        "\n",
        "distEx = {'TripDisExSW_B01ID_1':\t0.5, #miles\n",
        "'TripDisExSW_B01ID_2':\t1.5,\n",
        "'TripDisExSW_B01ID_3':\t2.5,\n",
        "'TripDisExSW_B01ID_4':\t4,\n",
        "'TripDisExSW_B01ID_5':\t7.5,\n",
        "'TripDisExSW_B01ID_6':\t12.5,\n",
        "'TripDisExSW_B01ID_7':\t20,\n",
        "'TripDisExSW_B01ID_8':\t30,\n",
        "'TripDisExSW_B01ID_9':\t42.5,\n",
        "'TripDisExSW_B01ID_10':\t75,\n",
        "'TripDisExSW_B01ID_11':\t150,\n",
        "'TripDisExSW_B01ID_12':\t250}\n",
        "for n in distEx.keys():\n",
        "  all_tabs_dummy.loc[tmp_df[\"dist_band\"] == n, \"distance_ex\"] = distEx[n]"
      ],
      "metadata": {
        "id": "EDII1Eb5-SWp"
      },
      "execution_count": 146,
      "outputs": []
    },
    {
      "cell_type": "code",
      "source": [
        "# merge total trip time\n",
        "# short         less than 15 \n",
        "all_tabs_dummy['time_short'] = all_tabs_dummy.iloc[:,75:78].sum(axis=1)\n",
        "# mid     15 min to 1 hr\n",
        "all_tabs_dummy['time_mid'] = all_tabs_dummy.iloc[:,78:81].sum(axis=1)\n",
        "#long     more than 1 hr\n",
        "all_tabs_dummy['time_long'] = all_tabs_dummy.iloc[:,81:89].sum(axis=1)\n",
        "\n",
        "# merge total travel time\n",
        "# short         less than 15 \n",
        "all_tabs_dummy['travel_short'] = all_tabs_dummy.iloc[:,89:92].sum(axis=1)\n",
        "# mid     15 min to 1 hr\n",
        "all_tabs_dummy['travel_mid'] = all_tabs_dummy.iloc[:,92:95].sum(axis=1)\n",
        "#long     more than 1 hr\n",
        "all_tabs_dummy['travel_long'] = all_tabs_dummy.iloc[:,95:103].sum(axis=1)"
      ],
      "metadata": {
        "id": "YMRgaSy6GWkL"
      },
      "execution_count": 147,
      "outputs": []
    },
    {
      "cell_type": "code",
      "source": [
        "#min and max speed\n",
        "duration_minmax={\n",
        "  1: [1,3],\n",
        "  2: [3,8],\n",
        "  3:\t[8,15], \n",
        "  4:\t[15, 30], \n",
        "  5:\t[30,45], \n",
        "  6:\t[45,60],\n",
        "  7:\t[60,90], \n",
        "  8:\t[90,120], \n",
        "  9:\t[120, 150], \n",
        "  10:\t[150, 180], \n",
        "  11:\t[180,240], \n",
        "  12:\t[240,300], \n",
        "  13:\t[300,360], \n",
        "  14:\t[360,420]}\n",
        "\n",
        "\n",
        "distEx_minmax = {'TripDisExSW_B01ID_1':\t[0.1,1], #miles\n",
        "'TripDisExSW_B01ID_2':\t[1,2],\n",
        "'TripDisExSW_B01ID_3':\t[2,3],\n",
        "'TripDisExSW_B01ID_4':\t[3,5],\n",
        "'TripDisExSW_B01ID_5':\t[5,10],\n",
        "'TripDisExSW_B01ID_6':\t[10,15],\n",
        "'TripDisExSW_B01ID_7':\t[15,25],\n",
        "'TripDisExSW_B01ID_8':\t[25,35],\n",
        "'TripDisExSW_B01ID_9':\t[35,50],\n",
        "'TripDisExSW_B01ID_10':\t[50,100],\n",
        "'TripDisExSW_B01ID_11':\t[100,200],\n",
        "'TripDisExSW_B01ID_12':\t[200,300]}\n",
        "tmp_df['time_band'] = all_tabs_dummy.iloc[:,75:89].idxmax(axis=1).str.replace\\\n",
        "('TripTotalTime_B01ID_','').astype(int)\n",
        "\n",
        "for key, value in distEx_minmax.items():\n",
        "  tmp_df.loc[tmp_df[\"dist_band\"] == key,'dist_min']=value[0]\n",
        "  tmp_df.loc[tmp_df[\"dist_band\"] == key,'dist_max']=value[1]\n",
        "for key, value in duration_minmax.items():\n",
        "  tmp_df.loc[tmp_df[\"time_band\"] == key,'time_min']=value[0]\n",
        "  tmp_df.loc[tmp_df[\"time_band\"] == key,'time_max']=value[1]"
      ],
      "metadata": {
        "id": "W55tIVj1uFyt"
      },
      "execution_count": 148,
      "outputs": []
    },
    {
      "cell_type": "code",
      "source": [
        "all_tabs_dummy['speed_max'] = tmp_df['dist_max']/tmp_df['time_min']*60 #mph\n",
        "all_tabs_dummy['speed_min'] = tmp_df['dist_min']/tmp_df['time_max']*60 #mph\n"
      ],
      "metadata": {
        "id": "EL2uTt7d0Eff"
      },
      "execution_count": 149,
      "outputs": []
    },
    {
      "cell_type": "code",
      "source": [
        "all_tabs_dummy.to_csv('/content/drive/MyDrive/socio_pred/UKDA-5340-tab/alltabs_dummy.csv',\\\n",
        "                 index=False)"
      ],
      "metadata": {
        "id": "KSNylmlH8Leq"
      },
      "execution_count": 150,
      "outputs": []
    },
    {
      "cell_type": "code",
      "source": [
        "ind_gp = all_tabs_dummy.groupby('IndividualID')\n",
        "ind_gp_weekday = all_tabs_dummy[all_tabs_dummy['TravelWeekDay_B03ID_1']==1]\\\n",
        ".groupby('IndividualID')\n",
        "\n",
        "\n",
        "#total sum\n",
        "mobility_sum_1 = pd.DataFrame(ind_gp.sum().iloc[:,109:110]).reset_index() #weekday\n",
        "mobility_sum_1.rename(columns = {'TravelWeekDay_B03ID_1':'Count_Weekday_Trips'},\\\n",
        "                                 inplace = True)\n",
        "\n",
        "mobility_sum_2 = pd.DataFrame(ind_gp.sum().iloc[:,210:226]).reset_index()\n",
        "mobility_sum_2.rename(columns = {'start_night':'Count_start_night',\\\n",
        "                                 'start_evening':'Count_start_evening',\\\n",
        "                                 'start_afternoon':'Count_start_afternoon',\\\n",
        "                                 'start_morning':'Count_start_morning',\\\n",
        "                                 'end_night':'Count_end_night',\\\n",
        "                                 'end_evening':'Count_end_evening',\\\n",
        "                                 'end_afternoon':'Count_end_afternoon',\\\n",
        "                                 'end_morning':'Count_end_morning',\\\n",
        "                                 'distance':'Total_Distance',\\\n",
        "                                 'distance_ex':'Total_Distance_ex',\\\n",
        "                                 'time_short':'Count_time_short',\\\n",
        "                                 'time_mid':'Count_time_mid',\\\n",
        "                                 'time_long':'Count_time_long',\\\n",
        "                                 'travel_short':'Count_travel_short',\\\n",
        "                                 'travel_mid':'Count_travel_mid',\\\n",
        "                                 'travel_long':'Count_travel_long'},\\\n",
        "                                 inplace = True)\n",
        "\n",
        "#weekday sum:\n",
        "mobility_sum_3 = pd.DataFrame(ind_gp_weekday.sum().iloc[:,210:226]).reset_index()\n",
        "mobility_sum_3.rename(columns = {'start_night':'Count_start_night_wk',\\\n",
        "                                 'start_evening':'Count_start_evening_wk',\\\n",
        "                                 'start_afternoon':'Count_start_afternoon_wk',\\\n",
        "                                 'start_morning':'Count_start_morning_wk',\\\n",
        "                                 'end_night':'Count_end_night_wk',\\\n",
        "                                 'end_evening':'Count_end_evening_wk',\\\n",
        "                                 'end_afternoon':'Count_end_afternoon_wk',\\\n",
        "                                 'end_morning':'Count_end_morning_wk',\\\n",
        "                                 'distance':'Total_Distance_wk',\\\n",
        "                                 'distance_ex':'Total_Distance_ex_wk',\\\n",
        "                                 'time_short':'Count_time_short_wk',\\\n",
        "                                 'time_mid':'Count_time_mid_wk',\\\n",
        "                                 'time_long':'Count_time_long_wk',\\\n",
        "                                 'travel_short':'Count_travel_short_wk',\\\n",
        "                                 'travel_mid':'Count_travel_mid_wk',\\\n",
        "                                 'travel_long':'Count_travel_long_wk'},\\\n",
        "                                 inplace = True)\n",
        "\n",
        "#total mean\n",
        "mobility_mean_1 = pd.DataFrame(ind_gp.mean().iloc[:,109:110]).reset_index() #weekday\n",
        "mobility_mean_1.rename(columns = {'TravelWeekDay_B03ID_1':'%_Weekday_Trips'},\\\n",
        "                                 inplace = True)\n",
        "mobility_mean_2 = pd.DataFrame(ind_gp.mean().iloc[:,210:]).reset_index()\n",
        "mobility_mean_2.rename(columns = {'start_night':'%_start_night',\\\n",
        "                                 'start_evening':'%_start_evening',\\\n",
        "                                 'start_afternoon':'%_start_afternoon',\\\n",
        "                                 'start_morning':'%_start_morning',\\\n",
        "                                 'end_night':'%_end_night',\\\n",
        "                                 'end_evening':'%_end_evening',\\\n",
        "                                 'end_afternoon':'%_end_afternoon',\\\n",
        "                                 'end_morning':'%_end_morning',\\\n",
        "                                 'distance':'avg_Distance',\\\n",
        "                                 'distance_ex':'avg_Distance_ex',\\\n",
        "                                 'time_short':'%_time_short',\\\n",
        "                                 'time_mid':'%_time_mid',\\\n",
        "                                 'time_long':'%_time_long',\\\n",
        "                                 'travel_short':'%_travel_short',\\\n",
        "                                 'travel_mid':'%_travel_mid',\\\n",
        "                                 'travel_long':'%_travel_long',\n",
        "                                  'speed_max':'avg_max_speed',\\\n",
        "                                  'speed_min':'avg_min_speed'},\\\n",
        "                                 inplace = True)\n",
        "#weekday mean:\n",
        "mobility_mean_3 = pd.DataFrame(ind_gp_weekday.mean().iloc[:,210:]).reset_index()\n",
        "mobility_mean_3.rename(columns = {'start_night':'%_start_night_wk',\\\n",
        "                                 'start_evening':'%_start_evening_wk',\\\n",
        "                                 'start_afternoon':'%_start_afternoon_wk',\\\n",
        "                                 'start_morning':'%_start_morning_wk',\\\n",
        "                                 'end_night':'%_end_night_wk',\\\n",
        "                                 'end_evening':'%_end_evening_wk',\\\n",
        "                                 'end_afternoon':'%_end_afternoon_wk',\\\n",
        "                                 'end_morning':'%_end_morning_wk',\\\n",
        "                                 'distance':'avg_Distance_wk',\\\n",
        "                                 'distance_ex':'avg_Distance_ex_wk',\\\n",
        "                                 'time_short':'%_time_short_wk',\\\n",
        "                                 'time_mid':'%_time_mid_wk',\\\n",
        "                                 'time_long':'%_time_long_wk',\\\n",
        "                                 'travel_short':'%_travel_short_wk',\\\n",
        "                                 'travel_mid':'%_travel_mid_wk',\\\n",
        "                                 'travel_long':'%_travel_long_wk',\\\n",
        "                                  'speed_max':'avg_max_speed_wk',\\\n",
        "                                  'speed_min':'avg_min_speed_wk'},\\\n",
        "                                 inplace = True)\n",
        "\n",
        "#total std\n",
        "mobility_std_2 = pd.DataFrame(ind_gp.std().iloc[:,210:]).reset_index()\n",
        "mobility_std_2.rename(columns = {'start_night':'std_start_night',\\\n",
        "                                 'start_evening':'std_start_evening',\\\n",
        "                                 'start_afternoon':'std_start_afternoon',\\\n",
        "                                 'start_morning':'std_start_morning',\\\n",
        "                                 'end_night':'std_end_night',\\\n",
        "                                 'end_evening':'std_end_evening',\\\n",
        "                                 'end_afternoon':'std_end_afternoon',\\\n",
        "                                 'end_morning':'std_end_morning',\\\n",
        "                                 'distance':'std_Distance',\\\n",
        "                                 'distance_ex':'std_Distance_ex',\\\n",
        "                                 'time_short':'std_time_short',\\\n",
        "                                 'time_mid':'std_time_mid',\\\n",
        "                                 'time_long':'std_time_long',\\\n",
        "                                 'travel_short':'std_travel_short',\\\n",
        "                                 'travel_mid':'std_travel_mid',\\\n",
        "                                 'travel_long':'std_travel_long',\\\n",
        "                                 'speed_max':'std_max_speed',\\\n",
        "                                 'speed_min':'std_min_speed'},\\\n",
        "                                 inplace = True)\n",
        "#weekday std:\n",
        "mobility_std_3 = pd.DataFrame(ind_gp_weekday.std().iloc[:,210:]).reset_index()\n",
        "\n",
        "mobility_std_3.rename(columns = {'start_night':'std_start_night_wk',\\\n",
        "                                 'start_evening':'std_start_evening_wk',\\\n",
        "                                 'start_afternoon':'std_start_afternoon_wk',\\\n",
        "                                 'start_morning':'std_start_morning_wk',\\\n",
        "                                 'end_night':'std_end_night_wk',\\\n",
        "                                 'end_evening':'std_end_evening_wk',\\\n",
        "                                 'end_afternoon':'std_end_afternoon_wk',\\\n",
        "                                 'end_morning':'std_end_morning_wk',\\\n",
        "                                 'distance':'std_Distance_wk',\\\n",
        "                                 'distance_ex':'std_Distance_ex_wk',\\\n",
        "                                 'time_short':'std_time_short_wk',\\\n",
        "                                 'time_mid':'std_time_mid_wk',\\\n",
        "                                 'time_long':'std_time_long_wk',\\\n",
        "                                 'travel_short':'std_travel_short_wk',\\\n",
        "                                 'travel_mid':'std_travel_mid_wk',\\\n",
        "                                 'travel_long':'std_travel_long_wk',\\\n",
        "                                 'speed_max':'std_max_speed_wk',\\\n",
        "                                 'speed_min':'std_min_speed_wk'},\\\n",
        "                                 inplace = True)\n",
        "\n",
        "\n",
        "\n"
      ],
      "metadata": {
        "id": "Sgky-BZhMlTz"
      },
      "execution_count": 152,
      "outputs": []
    },
    {
      "cell_type": "code",
      "source": [
        "from functools import reduce\n",
        "dfs = [mobility_sum_1, mobility_sum_2, mobility_sum_3,\\\n",
        "       mobility_mean_1, mobility_mean_2, mobility_mean_3,\\\n",
        "       mobility_std_2, mobility_std_3]\n",
        "\n",
        "mobility = reduce(lambda  left,right: pd.merge(left,right,left_on='IndividualID',\\\n",
        "                                          right_on='IndividualID',how='left'),dfs)\n",
        "\n"
      ],
      "metadata": {
        "id": "d_MPa2LqgX1N"
      },
      "execution_count": 153,
      "outputs": []
    },
    {
      "cell_type": "code",
      "source": [
        "socio = ind_gp.mean().iloc[:,111:210].reset_index()\n",
        "\n",
        "individual_tab = pd.DataFrame()\n",
        "individual_tab ['IndividualID'] = ind_gp.size().index\n",
        "individual_tab ['Total Number of Trips'] = ind_gp.size().values\n",
        "individual_tab ['SurveyYear'] = ind_gp.mean()['SurveyYear'].values"
      ],
      "metadata": {
        "id": "b8ryP0q12Ahn"
      },
      "execution_count": 154,
      "outputs": []
    },
    {
      "cell_type": "code",
      "source": [
        "dfs = [individual_tab,socio, mobility]\n",
        "\n",
        "NTS_dummy = reduce(lambda  left,right: pd.merge(left,right,left_on='IndividualID',\\\n",
        "                                          right_on='IndividualID',how='inner'),dfs)\n",
        "\n"
      ],
      "metadata": {
        "id": "uGDIMp4-1_GT"
      },
      "execution_count": 155,
      "outputs": []
    },
    {
      "cell_type": "code",
      "source": [
        "NTS_dummy"
      ],
      "metadata": {
        "colab": {
          "base_uri": "https://localhost:8080/",
          "height": 540
        },
        "id": "Ybyj_nZT7YZ0",
        "outputId": "0d7b0824-1d8c-4460-8c2a-5e8ca6e002b3"
      },
      "execution_count": 156,
      "outputs": [
        {
          "output_type": "execute_result",
          "data": {
            "text/plain": [
              "      IndividualID  Total Number of Trips  SurveyYear  Age_B04ID_4  \\\n",
              "0       2019011363                     16      2019.0          0.0   \n",
              "1       2019011428                     18      2019.0          0.0   \n",
              "2       2019011564                     23      2019.0          0.0   \n",
              "3       2019011569                     15      2019.0          0.0   \n",
              "4       2019011570                     13      2019.0          0.0   \n",
              "...            ...                    ...         ...          ...   \n",
              "2440    2020001977                     30      2020.0          0.0   \n",
              "2441    2020002004                     15      2020.0          0.0   \n",
              "2442    2020002009                      8      2020.0          0.0   \n",
              "2443    2020002010                      6      2020.0          0.0   \n",
              "2444    2020002011                     10      2020.0          0.0   \n",
              "\n",
              "      Age_B04ID_5  Age_B04ID_6  Age_B04ID_7  Age_B04ID_8  Age_B04ID_9  \\\n",
              "0             0.0          1.0          0.0          0.0          0.0   \n",
              "1             0.0          0.0          0.0          0.0          1.0   \n",
              "2             0.0          1.0          0.0          0.0          0.0   \n",
              "3             1.0          0.0          0.0          0.0          0.0   \n",
              "4             0.0          1.0          0.0          0.0          0.0   \n",
              "...           ...          ...          ...          ...          ...   \n",
              "2440          0.0          0.0          0.0          1.0          0.0   \n",
              "2441          0.0          0.0          1.0          0.0          0.0   \n",
              "2442          0.0          0.0          0.0          0.0          1.0   \n",
              "2443          0.0          0.0          0.0          0.0          1.0   \n",
              "2444          1.0          0.0          0.0          0.0          0.0   \n",
              "\n",
              "      Sex_B01ID_1  ...  std_Distance_wk  std_Distance_ex_wk  \\\n",
              "0             0.0  ...         0.000000            0.000000   \n",
              "1             0.0  ...         0.375534            0.375534   \n",
              "2             1.0  ...         5.543389            5.543389   \n",
              "3             0.0  ...        12.806946           12.806946   \n",
              "4             1.0  ...        35.543401           35.543401   \n",
              "...           ...  ...              ...                 ...   \n",
              "2440          1.0  ...         2.097409            2.097409   \n",
              "2441          0.0  ...         0.404520            0.404520   \n",
              "2442          0.0  ...        19.442222           19.442222   \n",
              "2443          1.0  ...         0.000000            0.000000   \n",
              "2444          1.0  ...        16.201852           16.201852   \n",
              "\n",
              "      std_time_short_wk  std_time_mid_wk  std_time_long_wk  \\\n",
              "0              0.452267         0.452267          0.000000   \n",
              "1              0.000000         0.000000          0.000000   \n",
              "2              0.500000         0.516398          0.341565   \n",
              "3              0.497245         0.000000          0.497245   \n",
              "4              0.492366         0.389249          0.522233   \n",
              "...                 ...              ...               ...   \n",
              "2440           0.229416         0.229416          0.000000   \n",
              "2441           0.000000         0.000000          0.000000   \n",
              "2442           0.462910         0.000000          0.462910   \n",
              "2443           0.000000         0.000000          0.000000   \n",
              "2444           0.000000         0.462910          0.462910   \n",
              "\n",
              "      std_travel_short_wk  std_travel_mid_wk  std_travel_long_wk  \\\n",
              "0                0.452267           0.452267            0.000000   \n",
              "1                0.000000           0.000000            0.000000   \n",
              "2                0.500000           0.516398            0.341565   \n",
              "3                0.497245           0.267261            0.513553   \n",
              "4                0.492366           0.389249            0.522233   \n",
              "...                   ...                ...                 ...   \n",
              "2440             0.229416           0.229416            0.000000   \n",
              "2441             0.000000           0.000000            0.000000   \n",
              "2442             0.462910           0.000000            0.462910   \n",
              "2443             0.000000           0.000000            0.000000   \n",
              "2444             0.000000           0.462910            0.462910   \n",
              "\n",
              "      std_max_speed_wk  std_min_speed_wk  \n",
              "0             4.748804          1.809068  \n",
              "1             8.946959          1.011156  \n",
              "2            10.389270          2.381934  \n",
              "3            27.412657          4.821794  \n",
              "4            25.349410          9.194265  \n",
              "...                ...               ...  \n",
              "2440         13.135873          4.762679  \n",
              "2441         10.202495          2.776730  \n",
              "2442          6.091238          7.373638  \n",
              "2443          4.303315          1.807392  \n",
              "2444          5.686939          3.305839  \n",
              "\n",
              "[2445 rows x 208 columns]"
            ],
            "text/html": [
              "\n",
              "  <div id=\"df-461deeb8-d8bf-406a-ac3d-ffcb4e318c8f\">\n",
              "    <div class=\"colab-df-container\">\n",
              "      <div>\n",
              "<style scoped>\n",
              "    .dataframe tbody tr th:only-of-type {\n",
              "        vertical-align: middle;\n",
              "    }\n",
              "\n",
              "    .dataframe tbody tr th {\n",
              "        vertical-align: top;\n",
              "    }\n",
              "\n",
              "    .dataframe thead th {\n",
              "        text-align: right;\n",
              "    }\n",
              "</style>\n",
              "<table border=\"1\" class=\"dataframe\">\n",
              "  <thead>\n",
              "    <tr style=\"text-align: right;\">\n",
              "      <th></th>\n",
              "      <th>IndividualID</th>\n",
              "      <th>Total Number of Trips</th>\n",
              "      <th>SurveyYear</th>\n",
              "      <th>Age_B04ID_4</th>\n",
              "      <th>Age_B04ID_5</th>\n",
              "      <th>Age_B04ID_6</th>\n",
              "      <th>Age_B04ID_7</th>\n",
              "      <th>Age_B04ID_8</th>\n",
              "      <th>Age_B04ID_9</th>\n",
              "      <th>Sex_B01ID_1</th>\n",
              "      <th>...</th>\n",
              "      <th>std_Distance_wk</th>\n",
              "      <th>std_Distance_ex_wk</th>\n",
              "      <th>std_time_short_wk</th>\n",
              "      <th>std_time_mid_wk</th>\n",
              "      <th>std_time_long_wk</th>\n",
              "      <th>std_travel_short_wk</th>\n",
              "      <th>std_travel_mid_wk</th>\n",
              "      <th>std_travel_long_wk</th>\n",
              "      <th>std_max_speed_wk</th>\n",
              "      <th>std_min_speed_wk</th>\n",
              "    </tr>\n",
              "  </thead>\n",
              "  <tbody>\n",
              "    <tr>\n",
              "      <th>0</th>\n",
              "      <td>2019011363</td>\n",
              "      <td>16</td>\n",
              "      <td>2019.0</td>\n",
              "      <td>0.0</td>\n",
              "      <td>0.0</td>\n",
              "      <td>1.0</td>\n",
              "      <td>0.0</td>\n",
              "      <td>0.0</td>\n",
              "      <td>0.0</td>\n",
              "      <td>0.0</td>\n",
              "      <td>...</td>\n",
              "      <td>0.000000</td>\n",
              "      <td>0.000000</td>\n",
              "      <td>0.452267</td>\n",
              "      <td>0.452267</td>\n",
              "      <td>0.000000</td>\n",
              "      <td>0.452267</td>\n",
              "      <td>0.452267</td>\n",
              "      <td>0.000000</td>\n",
              "      <td>4.748804</td>\n",
              "      <td>1.809068</td>\n",
              "    </tr>\n",
              "    <tr>\n",
              "      <th>1</th>\n",
              "      <td>2019011428</td>\n",
              "      <td>18</td>\n",
              "      <td>2019.0</td>\n",
              "      <td>0.0</td>\n",
              "      <td>0.0</td>\n",
              "      <td>0.0</td>\n",
              "      <td>0.0</td>\n",
              "      <td>0.0</td>\n",
              "      <td>1.0</td>\n",
              "      <td>0.0</td>\n",
              "      <td>...</td>\n",
              "      <td>0.375534</td>\n",
              "      <td>0.375534</td>\n",
              "      <td>0.000000</td>\n",
              "      <td>0.000000</td>\n",
              "      <td>0.000000</td>\n",
              "      <td>0.000000</td>\n",
              "      <td>0.000000</td>\n",
              "      <td>0.000000</td>\n",
              "      <td>8.946959</td>\n",
              "      <td>1.011156</td>\n",
              "    </tr>\n",
              "    <tr>\n",
              "      <th>2</th>\n",
              "      <td>2019011564</td>\n",
              "      <td>23</td>\n",
              "      <td>2019.0</td>\n",
              "      <td>0.0</td>\n",
              "      <td>0.0</td>\n",
              "      <td>1.0</td>\n",
              "      <td>0.0</td>\n",
              "      <td>0.0</td>\n",
              "      <td>0.0</td>\n",
              "      <td>1.0</td>\n",
              "      <td>...</td>\n",
              "      <td>5.543389</td>\n",
              "      <td>5.543389</td>\n",
              "      <td>0.500000</td>\n",
              "      <td>0.516398</td>\n",
              "      <td>0.341565</td>\n",
              "      <td>0.500000</td>\n",
              "      <td>0.516398</td>\n",
              "      <td>0.341565</td>\n",
              "      <td>10.389270</td>\n",
              "      <td>2.381934</td>\n",
              "    </tr>\n",
              "    <tr>\n",
              "      <th>3</th>\n",
              "      <td>2019011569</td>\n",
              "      <td>15</td>\n",
              "      <td>2019.0</td>\n",
              "      <td>0.0</td>\n",
              "      <td>1.0</td>\n",
              "      <td>0.0</td>\n",
              "      <td>0.0</td>\n",
              "      <td>0.0</td>\n",
              "      <td>0.0</td>\n",
              "      <td>0.0</td>\n",
              "      <td>...</td>\n",
              "      <td>12.806946</td>\n",
              "      <td>12.806946</td>\n",
              "      <td>0.497245</td>\n",
              "      <td>0.000000</td>\n",
              "      <td>0.497245</td>\n",
              "      <td>0.497245</td>\n",
              "      <td>0.267261</td>\n",
              "      <td>0.513553</td>\n",
              "      <td>27.412657</td>\n",
              "      <td>4.821794</td>\n",
              "    </tr>\n",
              "    <tr>\n",
              "      <th>4</th>\n",
              "      <td>2019011570</td>\n",
              "      <td>13</td>\n",
              "      <td>2019.0</td>\n",
              "      <td>0.0</td>\n",
              "      <td>0.0</td>\n",
              "      <td>1.0</td>\n",
              "      <td>0.0</td>\n",
              "      <td>0.0</td>\n",
              "      <td>0.0</td>\n",
              "      <td>1.0</td>\n",
              "      <td>...</td>\n",
              "      <td>35.543401</td>\n",
              "      <td>35.543401</td>\n",
              "      <td>0.492366</td>\n",
              "      <td>0.389249</td>\n",
              "      <td>0.522233</td>\n",
              "      <td>0.492366</td>\n",
              "      <td>0.389249</td>\n",
              "      <td>0.522233</td>\n",
              "      <td>25.349410</td>\n",
              "      <td>9.194265</td>\n",
              "    </tr>\n",
              "    <tr>\n",
              "      <th>...</th>\n",
              "      <td>...</td>\n",
              "      <td>...</td>\n",
              "      <td>...</td>\n",
              "      <td>...</td>\n",
              "      <td>...</td>\n",
              "      <td>...</td>\n",
              "      <td>...</td>\n",
              "      <td>...</td>\n",
              "      <td>...</td>\n",
              "      <td>...</td>\n",
              "      <td>...</td>\n",
              "      <td>...</td>\n",
              "      <td>...</td>\n",
              "      <td>...</td>\n",
              "      <td>...</td>\n",
              "      <td>...</td>\n",
              "      <td>...</td>\n",
              "      <td>...</td>\n",
              "      <td>...</td>\n",
              "      <td>...</td>\n",
              "      <td>...</td>\n",
              "    </tr>\n",
              "    <tr>\n",
              "      <th>2440</th>\n",
              "      <td>2020001977</td>\n",
              "      <td>30</td>\n",
              "      <td>2020.0</td>\n",
              "      <td>0.0</td>\n",
              "      <td>0.0</td>\n",
              "      <td>0.0</td>\n",
              "      <td>0.0</td>\n",
              "      <td>1.0</td>\n",
              "      <td>0.0</td>\n",
              "      <td>1.0</td>\n",
              "      <td>...</td>\n",
              "      <td>2.097409</td>\n",
              "      <td>2.097409</td>\n",
              "      <td>0.229416</td>\n",
              "      <td>0.229416</td>\n",
              "      <td>0.000000</td>\n",
              "      <td>0.229416</td>\n",
              "      <td>0.229416</td>\n",
              "      <td>0.000000</td>\n",
              "      <td>13.135873</td>\n",
              "      <td>4.762679</td>\n",
              "    </tr>\n",
              "    <tr>\n",
              "      <th>2441</th>\n",
              "      <td>2020002004</td>\n",
              "      <td>15</td>\n",
              "      <td>2020.0</td>\n",
              "      <td>0.0</td>\n",
              "      <td>0.0</td>\n",
              "      <td>0.0</td>\n",
              "      <td>1.0</td>\n",
              "      <td>0.0</td>\n",
              "      <td>0.0</td>\n",
              "      <td>0.0</td>\n",
              "      <td>...</td>\n",
              "      <td>0.404520</td>\n",
              "      <td>0.404520</td>\n",
              "      <td>0.000000</td>\n",
              "      <td>0.000000</td>\n",
              "      <td>0.000000</td>\n",
              "      <td>0.000000</td>\n",
              "      <td>0.000000</td>\n",
              "      <td>0.000000</td>\n",
              "      <td>10.202495</td>\n",
              "      <td>2.776730</td>\n",
              "    </tr>\n",
              "    <tr>\n",
              "      <th>2442</th>\n",
              "      <td>2020002009</td>\n",
              "      <td>8</td>\n",
              "      <td>2020.0</td>\n",
              "      <td>0.0</td>\n",
              "      <td>0.0</td>\n",
              "      <td>0.0</td>\n",
              "      <td>0.0</td>\n",
              "      <td>0.0</td>\n",
              "      <td>1.0</td>\n",
              "      <td>0.0</td>\n",
              "      <td>...</td>\n",
              "      <td>19.442222</td>\n",
              "      <td>19.442222</td>\n",
              "      <td>0.462910</td>\n",
              "      <td>0.000000</td>\n",
              "      <td>0.462910</td>\n",
              "      <td>0.462910</td>\n",
              "      <td>0.000000</td>\n",
              "      <td>0.462910</td>\n",
              "      <td>6.091238</td>\n",
              "      <td>7.373638</td>\n",
              "    </tr>\n",
              "    <tr>\n",
              "      <th>2443</th>\n",
              "      <td>2020002010</td>\n",
              "      <td>6</td>\n",
              "      <td>2020.0</td>\n",
              "      <td>0.0</td>\n",
              "      <td>0.0</td>\n",
              "      <td>0.0</td>\n",
              "      <td>0.0</td>\n",
              "      <td>0.0</td>\n",
              "      <td>1.0</td>\n",
              "      <td>1.0</td>\n",
              "      <td>...</td>\n",
              "      <td>0.000000</td>\n",
              "      <td>0.000000</td>\n",
              "      <td>0.000000</td>\n",
              "      <td>0.000000</td>\n",
              "      <td>0.000000</td>\n",
              "      <td>0.000000</td>\n",
              "      <td>0.000000</td>\n",
              "      <td>0.000000</td>\n",
              "      <td>4.303315</td>\n",
              "      <td>1.807392</td>\n",
              "    </tr>\n",
              "    <tr>\n",
              "      <th>2444</th>\n",
              "      <td>2020002011</td>\n",
              "      <td>10</td>\n",
              "      <td>2020.0</td>\n",
              "      <td>0.0</td>\n",
              "      <td>1.0</td>\n",
              "      <td>0.0</td>\n",
              "      <td>0.0</td>\n",
              "      <td>0.0</td>\n",
              "      <td>0.0</td>\n",
              "      <td>1.0</td>\n",
              "      <td>...</td>\n",
              "      <td>16.201852</td>\n",
              "      <td>16.201852</td>\n",
              "      <td>0.000000</td>\n",
              "      <td>0.462910</td>\n",
              "      <td>0.462910</td>\n",
              "      <td>0.000000</td>\n",
              "      <td>0.462910</td>\n",
              "      <td>0.462910</td>\n",
              "      <td>5.686939</td>\n",
              "      <td>3.305839</td>\n",
              "    </tr>\n",
              "  </tbody>\n",
              "</table>\n",
              "<p>2445 rows × 208 columns</p>\n",
              "</div>\n",
              "      <button class=\"colab-df-convert\" onclick=\"convertToInteractive('df-461deeb8-d8bf-406a-ac3d-ffcb4e318c8f')\"\n",
              "              title=\"Convert this dataframe to an interactive table.\"\n",
              "              style=\"display:none;\">\n",
              "        \n",
              "  <svg xmlns=\"http://www.w3.org/2000/svg\" height=\"24px\"viewBox=\"0 0 24 24\"\n",
              "       width=\"24px\">\n",
              "    <path d=\"M0 0h24v24H0V0z\" fill=\"none\"/>\n",
              "    <path d=\"M18.56 5.44l.94 2.06.94-2.06 2.06-.94-2.06-.94-.94-2.06-.94 2.06-2.06.94zm-11 1L8.5 8.5l.94-2.06 2.06-.94-2.06-.94L8.5 2.5l-.94 2.06-2.06.94zm10 10l.94 2.06.94-2.06 2.06-.94-2.06-.94-.94-2.06-.94 2.06-2.06.94z\"/><path d=\"M17.41 7.96l-1.37-1.37c-.4-.4-.92-.59-1.43-.59-.52 0-1.04.2-1.43.59L10.3 9.45l-7.72 7.72c-.78.78-.78 2.05 0 2.83L4 21.41c.39.39.9.59 1.41.59.51 0 1.02-.2 1.41-.59l7.78-7.78 2.81-2.81c.8-.78.8-2.07 0-2.86zM5.41 20L4 18.59l7.72-7.72 1.47 1.35L5.41 20z\"/>\n",
              "  </svg>\n",
              "      </button>\n",
              "      \n",
              "  <style>\n",
              "    .colab-df-container {\n",
              "      display:flex;\n",
              "      flex-wrap:wrap;\n",
              "      gap: 12px;\n",
              "    }\n",
              "\n",
              "    .colab-df-convert {\n",
              "      background-color: #E8F0FE;\n",
              "      border: none;\n",
              "      border-radius: 50%;\n",
              "      cursor: pointer;\n",
              "      display: none;\n",
              "      fill: #1967D2;\n",
              "      height: 32px;\n",
              "      padding: 0 0 0 0;\n",
              "      width: 32px;\n",
              "    }\n",
              "\n",
              "    .colab-df-convert:hover {\n",
              "      background-color: #E2EBFA;\n",
              "      box-shadow: 0px 1px 2px rgba(60, 64, 67, 0.3), 0px 1px 3px 1px rgba(60, 64, 67, 0.15);\n",
              "      fill: #174EA6;\n",
              "    }\n",
              "\n",
              "    [theme=dark] .colab-df-convert {\n",
              "      background-color: #3B4455;\n",
              "      fill: #D2E3FC;\n",
              "    }\n",
              "\n",
              "    [theme=dark] .colab-df-convert:hover {\n",
              "      background-color: #434B5C;\n",
              "      box-shadow: 0px 1px 3px 1px rgba(0, 0, 0, 0.15);\n",
              "      filter: drop-shadow(0px 1px 2px rgba(0, 0, 0, 0.3));\n",
              "      fill: #FFFFFF;\n",
              "    }\n",
              "  </style>\n",
              "\n",
              "      <script>\n",
              "        const buttonEl =\n",
              "          document.querySelector('#df-461deeb8-d8bf-406a-ac3d-ffcb4e318c8f button.colab-df-convert');\n",
              "        buttonEl.style.display =\n",
              "          google.colab.kernel.accessAllowed ? 'block' : 'none';\n",
              "\n",
              "        async function convertToInteractive(key) {\n",
              "          const element = document.querySelector('#df-461deeb8-d8bf-406a-ac3d-ffcb4e318c8f');\n",
              "          const dataTable =\n",
              "            await google.colab.kernel.invokeFunction('convertToInteractive',\n",
              "                                                     [key], {});\n",
              "          if (!dataTable) return;\n",
              "\n",
              "          const docLinkHtml = 'Like what you see? Visit the ' +\n",
              "            '<a target=\"_blank\" href=https://colab.research.google.com/notebooks/data_table.ipynb>data table notebook</a>'\n",
              "            + ' to learn more about interactive tables.';\n",
              "          element.innerHTML = '';\n",
              "          dataTable['output_type'] = 'display_data';\n",
              "          await google.colab.output.renderOutput(dataTable, element);\n",
              "          const docLink = document.createElement('div');\n",
              "          docLink.innerHTML = docLinkHtml;\n",
              "          element.appendChild(docLink);\n",
              "        }\n",
              "      </script>\n",
              "    </div>\n",
              "  </div>\n",
              "  "
            ]
          },
          "metadata": {},
          "execution_count": 156
        }
      ]
    },
    {
      "cell_type": "code",
      "source": [
        "NTS_dummy.to_csv('/content/drive/MyDrive/socio_pred/UKDA-5340-tab/NTS_dummy.csv',\\\n",
        "                 index=False)\n"
      ],
      "metadata": {
        "id": "20Y50SVcrCfx"
      },
      "execution_count": 157,
      "outputs": []
    }
  ]
}